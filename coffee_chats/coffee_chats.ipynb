{
 "cells": [
  {
   "cell_type": "markdown",
   "metadata": {},
   "source": [
    "# Coffee Chat Matching\n",
    "Let's do this. "
   ]
  },
  {
   "cell_type": "markdown",
   "metadata": {},
   "source": [
    "## 1. Set-up\n",
    "Run these steps for initial set-up. \n"
   ]
  },
  {
   "cell_type": "code",
   "execution_count": 43,
   "metadata": {},
   "outputs": [],
   "source": [
    "# libraries\n",
    "import pandas as pd\n",
    "import random \n",
    "import csv\n"
   ]
  },
  {
   "cell_type": "code",
   "execution_count": 23,
   "metadata": {},
   "outputs": [],
   "source": [
    "# create a list of ten names\n",
    "names = [\"Adam\", \"Bob\", \"Charlie\", \"David\", \"Eve\", \"Frank\", \"George\", \"Harry\", \"Ivan\", \"John\"]\n",
    "\n",
    "# create a list that has sets of names, each set has two names, and all pairs are in the list\n",
    "pairs = []\n",
    "for name in names: \n",
    "    for name2 in names:\n",
    "        if name != name2:\n",
    "            if {name, name2} not in pairs:\n",
    "                pairs.append({name, name2})\n",
    "\n",
    "# create a list of pairs and their rank\n",
    "pairs_rank = []\n",
    "for pair in pairs:\n",
    "    pairs_rank.append([pair, 0])\n",
    "\n",
    "# create a csv file with the pairs and their rank\n",
    "import csv\n",
    "with open(\"files/pairs.csv\", \"w\") as f:\n",
    "    writer = csv.writer(f)\n",
    "    writer.writerows(pairs_rank)\n",
    "\n",
    "# create an empty csv named \"exclusions\"\n",
    "with open(\"files/exclusions.csv\", \"w\") as f:\n",
    "    pass"
   ]
  },
  {
   "cell_type": "markdown",
   "metadata": {},
   "source": [
    "## 2. Weekly Matching"
   ]
  },
  {
   "cell_type": "code",
   "execution_count": 32,
   "metadata": {},
   "outputs": [],
   "source": [
    "# import the csv file \"pairs.csv\" and create a list of pairs and their rank\n",
    "import csv\n",
    "with open(\"files/pairs.csv\", \"r\") as f:\n",
    "    reader = csv.reader(f)\n",
    "    pairs_list = list(reader)\n",
    "\n",
    "# remove all the empty lists from the list\n",
    "pairs_list = [x for x in pairs_list if x != []]\n",
    "\n",
    "# create weekly list \n",
    "weekly_list = []\n",
    "\n",
    "\n"
   ]
  },
  {
   "cell_type": "code",
   "execution_count": 45,
   "metadata": {},
   "outputs": [
    {
     "name": "stdout",
     "output_type": "stream",
     "text": [
      "45\n"
     ]
    }
   ],
   "source": [
    "print(len(pairs_list))"
   ]
  },
  {
   "cell_type": "code",
   "execution_count": 25,
   "metadata": {},
   "outputs": [],
   "source": [
    "# create a dataframe with the pairs and their rank\n",
    "import pandas as pd\n",
    "df = pd.DataFrame(pairs_list, columns=[\"pair\", \"rank\"])\n",
    "\n"
   ]
  },
  {
   "cell_type": "code",
   "execution_count": 51,
   "metadata": {},
   "outputs": [],
   "source": [
    "# find the lowest rank\n",
    "lowest = df[\"rank\"].min()\n",
    "\n",
    "# find the number of pairs with the lowest rank\n",
    "lowest_count = df[df[\"rank\"] == lowest].count()\n",
    "\n",
    "# pick a random pair with the lowest rank\n",
    "import random\n",
    "first_pair = df[df[\"rank\"] == lowest].sample(1)\n",
    "# first_pair = first_pair[\"pair\"].values[0]\n"
   ]
  },
  {
   "cell_type": "code",
   "execution_count": 48,
   "metadata": {},
   "outputs": [
    {
     "name": "stdout",
     "output_type": "stream",
     "text": [
      "{'Bob', 'David'}\n"
     ]
    }
   ],
   "source": [
    "# 'first_pair' is a set of two names. Convert to a list of two names\n"
   ]
  },
  {
   "cell_type": "code",
   "execution_count": 55,
   "metadata": {},
   "outputs": [
    {
     "name": "stdout",
     "output_type": "stream",
     "text": [
      "'\n"
     ]
    }
   ],
   "source": [
    "# pick one element from the set 'first_pair'\n",
    "first_pair1 = first_pair[\"pair\"].values[0][1]\n",
    "print(first_pair1)"
   ]
  },
  {
   "cell_type": "code",
   "execution_count": 50,
   "metadata": {},
   "outputs": [
    {
     "name": "stdout",
     "output_type": "stream",
     "text": [
      "[\"'\"]\n"
     ]
    }
   ],
   "source": [
    "print(first_name)"
   ]
  },
  {
   "cell_type": "code",
   "execution_count": 41,
   "metadata": {},
   "outputs": [],
   "source": [
    "# create an empty weekly list\n",
    "weekly_list = []\n",
    "\n",
    "# add the first pair to the weekly list\n",
    "weekly_list.append(first_pair)\n",
    "\n"
   ]
  },
  {
   "cell_type": "code",
   "execution_count": 42,
   "metadata": {},
   "outputs": [
    {
     "name": "stdout",
     "output_type": "stream",
     "text": [
      "[\"{'Bob', 'David'}\"]\n"
     ]
    }
   ],
   "source": [
    "# print\n",
    "print(weekly_list)"
   ]
  },
  {
   "cell_type": "markdown",
   "metadata": {},
   "source": [
    "1. Find the lowest rank \n",
    "2. Randomly pick a pair with the lowest rank\n",
    "3. Add it to the weekly list\n",
    "4. Remove the names from the pair from the list of names\n",
    "5. Check the number of pairs left on the list. If > 0, continue process. If 0, end process."
   ]
  },
  {
   "cell_type": "code",
   "execution_count": null,
   "metadata": {},
   "outputs": [],
   "source": [
    "# definine 'coffee_list' as a function with the input being a csv file\n",
    "\n",
    "def coffee_list(csv_file):\n",
    "    \n",
    "    weekly_list = []\n",
    "    \n",
    "    # check the number of rows in the csv file\n",
    "    import csv\n",
    "    with open(csv_file, \"r\") as f:\n",
    "        reader = csv.reader(f)\n",
    "        pairs_list = list(reader)\n",
    "\n",
    "    # remove all the empty lists from the list\n",
    "    pairs_list = [x for x in pairs_list if x != []]\n",
    "\n",
    "    pairs_list_length = len(pairs_list)\n",
    "    \n",
    "    # \n",
    "    if pairs_list_length > 0: \n",
    "        # create a dataframe with the pairs and their rank\n",
    "        import pandas as pd\n",
    "        df = pd.DataFrame(pairs_list, columns=[\"pair\", \"rank\"])\n",
    "\n",
    "        # find the lowest rank\n",
    "        lowest = df[\"rank\"].min()\n",
    "\n",
    "        # find the number of pairs with the lowest rank\n",
    "        lowest_count = df[df[\"rank\"] == lowest].count()\n",
    "\n",
    "        # pick a random pair with the lowest rank\n",
    "        import random\n",
    "        first_pair = df[df[\"rank\"] == lowest].sample(1)\n",
    "        first_pair = first_pair[\"pair\"].values[0]\n",
    "\n",
    "        # add the first pair to the weekly list\n",
    "        weekly_list.append(first_pair)\n",
    "\n",
    "\n",
    "\n",
    "\n"
   ]
  }
 ],
 "metadata": {
  "kernelspec": {
   "display_name": "Python 3",
   "language": "python",
   "name": "python3"
  },
  "language_info": {
   "codemirror_mode": {
    "name": "ipython",
    "version": 3
   },
   "file_extension": ".py",
   "mimetype": "text/x-python",
   "name": "python",
   "nbconvert_exporter": "python",
   "pygments_lexer": "ipython3",
   "version": "3.12.0"
  }
 },
 "nbformat": 4,
 "nbformat_minor": 2
}
