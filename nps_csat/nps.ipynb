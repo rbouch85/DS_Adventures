{
 "cells": [
  {
   "cell_type": "markdown",
   "metadata": {},
   "source": [
    "# Part 1: Import libraries and create functions\n",
    "- sample_NPS_data: provide survey response size, promoter proportion, and detractor proportion and it returns a numpy array of responses\n",
    "- calc_NPS: takes a list and outputs the Net Promotor Score (NPS)\n",
    "- NPS_bootstrap: takes a list of survey responses and number of sampling iterations desired, and outputs a list of NPS scores from the bootstrapped samples. \n",
    "- NPS_hist: takes a list of bootstrapped NPS scores and returns a histogram to show the distribution. \n",
    "- NPS_density: takes a list of bootstrapped NPS scores and returns a density plot to show the distribution."
   ]
  },
  {
   "cell_type": "code",
   "execution_count": 3,
   "metadata": {},
   "outputs": [],
   "source": [
    "import numpy as np\n",
    "import pandas as pd\n",
    "import altair as alt"
   ]
  },
  {
   "cell_type": "code",
   "execution_count": 36,
   "metadata": {},
   "outputs": [],
   "source": [
    "# provide survey response size, promoter proportion, and detractor proportion\n",
    "# returns a numpy array of responses\n",
    "def sample_NPS_data(size, promoter_prop, detractor_prop):\n",
    "    assert promoter_prop + detractor_prop <= 1\n",
    "    assert promoter_prop >= 0\n",
    "    assert detractor_prop >= 0\n",
    "    assert size > 0\n",
    "    promoters = np.random.choice([10,9], int(round(size*promoter_prop,0)), p=[0.5,0.5])\n",
    "    detractors = np.random.choice([6,5,4,3,2,1,0], int(round(size*detractor_prop,0)), p=[1/7,1/7,1/7,1/7,1/7,1/7,1/7])\n",
    "    passives = np.random.choice([8,7], int(round(size*(1-promoter_prop-detractor_prop),0)), p=[0.5,0.5])\n",
    "    responses = np.concatenate((promoters, detractors, passives))\n",
    "    return responses"
   ]
  },
  {
   "cell_type": "code",
   "execution_count": 4,
   "metadata": {},
   "outputs": [],
   "source": [
    "def calc_NPS(list):\n",
    "    #print(list)\n",
    "    promotors = 0\n",
    "    detractors = 0 \n",
    "    passives = 0 \n",
    "    for sample in list:\n",
    "        if sample >= 9:\n",
    "            promotors += 1\n",
    "        elif sample <= 6:\n",
    "            detractors += 1\n",
    "        else:\n",
    "            passives += 1\n",
    "    denominator = promotors + detractors + passives\n",
    "    percent_promotors = promotors / denominator\n",
    "    percent_detractors = detractors / denominator\n",
    "    NPS = round((percent_promotors - percent_detractors)*100, 1)\n",
    "\n",
    "    return NPS"
   ]
  },
  {
   "cell_type": "code",
   "execution_count": 5,
   "metadata": {},
   "outputs": [],
   "source": [
    "def NPS_bootstrap(list, iterations):\n",
    "    size = len(list)\n",
    "    bootstrapped_list = []\n",
    "    for i in range(0,iterations):\n",
    "        bootstrapped_sample = np.random.choice(list, size)\n",
    "        #print(bootstrapped_sample)\n",
    "        bootstrapped_NPS = calc_NPS(bootstrapped_sample)\n",
    "        #print(bootstrapped_NPS)\n",
    "        bootstrapped_list.append(bootstrapped_NPS)\n",
    "        #print(bootstrapped_list)\n",
    "    return bootstrapped_list"
   ]
  },
  {
   "cell_type": "code",
   "execution_count": 6,
   "metadata": {},
   "outputs": [],
   "source": [
    "def NPS_hist(list):\n",
    "    df = pd.DataFrame(data = {\"tests\" : list})\n",
    "\n",
    "    bin_max = max(list)+10\n",
    "    bin_min = min(list) - 10\n",
    "\n",
    "    hist_chart = alt.Chart(df).mark_bar().encode(\n",
    "        alt.X(\"tests\", bin=alt.Bin(maxbins=40), \n",
    "            scale=alt.Scale(domain=[bin_min,bin_max])  \n",
    "        ),\n",
    "        y='count()'\n",
    "    )\n",
    "\n",
    "    return hist_chart"
   ]
  },
  {
   "cell_type": "code",
   "execution_count": 7,
   "metadata": {},
   "outputs": [],
   "source": [
    "def NPS_density(list):\n",
    "    df = pd.DataFrame(data = {\"tests\" : list})\n",
    "    mark_min = min(list) - 10\n",
    "    mark_max = max(list) + 10\n",
    "    density_chart = alt.Chart(df).transform_density(\n",
    "        density='tests',\n",
    "        as_=['tests', 'density'],\n",
    "        \n",
    "    ).mark_area(color=\"lightgray\").encode(\n",
    "        x=alt.X('tests', axis=alt.Axis(title=\"Population Distribution of Pickups\"),\n",
    "            scale=alt.Scale(domain=[mark_min,mark_max])),\n",
    "        y=alt.Y('density:Q', axis=alt.Axis(title=\"Density\"))\n",
    "    )\n",
    "\n",
    "    mean_chart = alt.Chart(df).mark_rule(color=\"black\", strokeDash=[1,1]).encode(\n",
    "        x=\"mean(tests)\"\n",
    "    )\n",
    "\n",
    "    chart = density_chart + mean_chart\n",
    "\n",
    "    return chart"
   ]
  },
  {
   "cell_type": "code",
   "execution_count": 8,
   "metadata": {},
   "outputs": [],
   "source": [
    "def CI_90(list):\n",
    "    p_05 = np.percentile(list,5)\n",
    "    p_95 = np.percentile(list,95)\n",
    "    diff = round(abs(p_95 - p_05),2)\n",
    "    return [p_05, p_95, diff]"
   ]
  },
  {
   "cell_type": "code",
   "execution_count": 9,
   "metadata": {},
   "outputs": [],
   "source": [
    "def CI_95(list):\n",
    "    p_025 = np.percentile(list,2.5)\n",
    "    p_975 = np.percentile(list,97.5)\n",
    "    diff = round(abs(p_975 - p_025),2)\n",
    "    return [p_025, p_975, diff]"
   ]
  },
  {
   "cell_type": "markdown",
   "metadata": {},
   "source": [
    "# Part 2: Testing"
   ]
  },
  {
   "cell_type": "code",
   "execution_count": 37,
   "metadata": {},
   "outputs": [],
   "source": [
    "responses_1000 = sample_NPS_data(1000, 0.5, 0.1)"
   ]
  },
  {
   "cell_type": "code",
   "execution_count": 40,
   "metadata": {},
   "outputs": [
    {
     "name": "stdout",
     "output_type": "stream",
     "text": [
      "[36.4, 43.5, 7.1]\n",
      "[35.8975, 44.2025, 8.3]\n"
     ]
    },
    {
     "data": {
      "text/html": [
       "\n",
       "<style>\n",
       "  #altair-viz-31c0be5883d04b229a63988de773dc94.vega-embed {\n",
       "    width: 100%;\n",
       "    display: flex;\n",
       "  }\n",
       "\n",
       "  #altair-viz-31c0be5883d04b229a63988de773dc94.vega-embed details,\n",
       "  #altair-viz-31c0be5883d04b229a63988de773dc94.vega-embed details summary {\n",
       "    position: relative;\n",
       "  }\n",
       "</style>\n",
       "<div id=\"altair-viz-31c0be5883d04b229a63988de773dc94\"></div>\n",
       "<script type=\"text/javascript\">\n",
       "  var VEGA_DEBUG = (typeof VEGA_DEBUG == \"undefined\") ? {} : VEGA_DEBUG;\n",
       "  (function(spec, embedOpt){\n",
       "    let outputDiv = document.currentScript.previousElementSibling;\n",
       "    if (outputDiv.id !== \"altair-viz-31c0be5883d04b229a63988de773dc94\") {\n",
       "      outputDiv = document.getElementById(\"altair-viz-31c0be5883d04b229a63988de773dc94\");\n",
       "    }\n",
       "    const paths = {\n",
       "      \"vega\": \"https://cdn.jsdelivr.net/npm/vega@5?noext\",\n",
       "      \"vega-lib\": \"https://cdn.jsdelivr.net/npm/vega-lib?noext\",\n",
       "      \"vega-lite\": \"https://cdn.jsdelivr.net/npm/vega-lite@5.16.3?noext\",\n",
       "      \"vega-embed\": \"https://cdn.jsdelivr.net/npm/vega-embed@6?noext\",\n",
       "    };\n",
       "\n",
       "    function maybeLoadScript(lib, version) {\n",
       "      var key = `${lib.replace(\"-\", \"\")}_version`;\n",
       "      return (VEGA_DEBUG[key] == version) ?\n",
       "        Promise.resolve(paths[lib]) :\n",
       "        new Promise(function(resolve, reject) {\n",
       "          var s = document.createElement('script');\n",
       "          document.getElementsByTagName(\"head\")[0].appendChild(s);\n",
       "          s.async = true;\n",
       "          s.onload = () => {\n",
       "            VEGA_DEBUG[key] = version;\n",
       "            return resolve(paths[lib]);\n",
       "          };\n",
       "          s.onerror = () => reject(`Error loading script: ${paths[lib]}`);\n",
       "          s.src = paths[lib];\n",
       "        });\n",
       "    }\n",
       "\n",
       "    function showError(err) {\n",
       "      outputDiv.innerHTML = `<div class=\"error\" style=\"color:red;\">${err}</div>`;\n",
       "      throw err;\n",
       "    }\n",
       "\n",
       "    function displayChart(vegaEmbed) {\n",
       "      vegaEmbed(outputDiv, spec, embedOpt)\n",
       "        .catch(err => showError(`Javascript Error: ${err.message}<br>This usually means there's a typo in your chart specification. See the javascript console for the full traceback.`));\n",
       "    }\n",
       "\n",
       "    if(typeof define === \"function\" && define.amd) {\n",
       "      requirejs.config({paths});\n",
       "      require([\"vega-embed\"], displayChart, err => showError(`Error loading script: ${err.message}`));\n",
       "    } else {\n",
       "      maybeLoadScript(\"vega\", \"5\")\n",
       "        .then(() => maybeLoadScript(\"vega-lite\", \"5.16.3\"))\n",
       "        .then(() => maybeLoadScript(\"vega-embed\", \"6\"))\n",
       "        .catch(showError)\n",
       "        .then(() => displayChart(vegaEmbed));\n",
       "    }\n",
       "  })({\"config\": {\"view\": {\"continuousWidth\": 300, \"continuousHeight\": 300}}, \"layer\": [{\"mark\": {\"type\": \"area\", \"color\": \"lightgray\"}, \"encoding\": {\"x\": {\"axis\": {\"title\": \"Population Distribution of Pickups\"}, \"field\": \"tests\", \"scale\": {\"domain\": [23.6, 56.7]}, \"type\": \"quantitative\"}, \"y\": {\"axis\": {\"title\": \"Density\"}, \"field\": \"density\", \"type\": \"quantitative\"}}, \"transform\": [{\"density\": \"tests\", \"as\": [\"tests\", \"density\"]}]}, {\"mark\": {\"type\": \"rule\", \"color\": \"black\", \"strokeDash\": [1, 1]}, \"encoding\": {\"x\": {\"aggregate\": \"mean\", \"field\": \"tests\", \"type\": \"quantitative\"}}}], \"data\": {\"name\": \"data-c918d808ccbb2a877c8eedc5a4be13db\"}, \"$schema\": \"https://vega.github.io/schema/vega-lite/v5.16.3.json\", \"datasets\": {\"data-c918d808ccbb2a877c8eedc5a4be13db\": [{\"tests\": 39.5}, {\"tests\": 39.8}, {\"tests\": 40.5}, {\"tests\": 38.0}, {\"tests\": 42.0}, {\"tests\": 39.6}, {\"tests\": 41.1}, {\"tests\": 41.3}, {\"tests\": 45.6}, {\"tests\": 42.8}, {\"tests\": 40.4}, {\"tests\": 38.9}, {\"tests\": 42.8}, {\"tests\": 40.5}, {\"tests\": 39.7}, {\"tests\": 37.3}, {\"tests\": 39.5}, {\"tests\": 39.9}, {\"tests\": 40.5}, {\"tests\": 40.2}, {\"tests\": 41.1}, {\"tests\": 43.6}, {\"tests\": 38.2}, {\"tests\": 39.1}, {\"tests\": 38.5}, {\"tests\": 41.0}, {\"tests\": 37.2}, {\"tests\": 40.0}, {\"tests\": 42.0}, {\"tests\": 41.2}, {\"tests\": 42.6}, {\"tests\": 40.1}, {\"tests\": 37.6}, {\"tests\": 36.0}, {\"tests\": 42.8}, {\"tests\": 44.7}, {\"tests\": 38.6}, {\"tests\": 40.0}, {\"tests\": 42.6}, {\"tests\": 40.1}, {\"tests\": 38.4}, {\"tests\": 42.7}, {\"tests\": 38.2}, {\"tests\": 41.8}, {\"tests\": 40.6}, {\"tests\": 41.6}, {\"tests\": 36.9}, {\"tests\": 38.6}, {\"tests\": 37.3}, {\"tests\": 38.0}, {\"tests\": 41.8}, {\"tests\": 39.8}, {\"tests\": 40.3}, {\"tests\": 39.8}, {\"tests\": 41.1}, {\"tests\": 39.9}, {\"tests\": 37.9}, {\"tests\": 38.5}, {\"tests\": 40.9}, {\"tests\": 40.9}, {\"tests\": 38.4}, {\"tests\": 40.6}, {\"tests\": 38.1}, {\"tests\": 39.6}, {\"tests\": 37.9}, {\"tests\": 38.1}, {\"tests\": 37.0}, {\"tests\": 40.8}, {\"tests\": 40.6}, {\"tests\": 36.4}, {\"tests\": 38.9}, {\"tests\": 42.3}, {\"tests\": 36.9}, {\"tests\": 43.0}, {\"tests\": 38.4}, {\"tests\": 42.1}, {\"tests\": 42.4}, {\"tests\": 37.6}, {\"tests\": 39.5}, {\"tests\": 36.7}, {\"tests\": 36.2}, {\"tests\": 36.6}, {\"tests\": 38.7}, {\"tests\": 44.0}, {\"tests\": 42.5}, {\"tests\": 40.8}, {\"tests\": 42.1}, {\"tests\": 40.2}, {\"tests\": 39.9}, {\"tests\": 37.9}, {\"tests\": 35.4}, {\"tests\": 38.2}, {\"tests\": 35.8}, {\"tests\": 40.8}, {\"tests\": 39.9}, {\"tests\": 39.3}, {\"tests\": 40.2}, {\"tests\": 36.2}, {\"tests\": 41.4}, {\"tests\": 37.7}, {\"tests\": 42.5}, {\"tests\": 37.9}, {\"tests\": 39.6}, {\"tests\": 40.6}, {\"tests\": 38.9}, {\"tests\": 40.7}, {\"tests\": 41.4}, {\"tests\": 37.4}, {\"tests\": 43.8}, {\"tests\": 40.5}, {\"tests\": 44.4}, {\"tests\": 41.4}, {\"tests\": 42.4}, {\"tests\": 34.3}, {\"tests\": 42.9}, {\"tests\": 42.4}, {\"tests\": 43.2}, {\"tests\": 41.0}, {\"tests\": 39.9}, {\"tests\": 38.5}, {\"tests\": 37.8}, {\"tests\": 39.2}, {\"tests\": 41.5}, {\"tests\": 38.9}, {\"tests\": 43.7}, {\"tests\": 39.7}, {\"tests\": 39.9}, {\"tests\": 41.8}, {\"tests\": 37.4}, {\"tests\": 41.8}, {\"tests\": 37.9}, {\"tests\": 41.0}, {\"tests\": 39.7}, {\"tests\": 40.2}, {\"tests\": 38.1}, {\"tests\": 37.6}, {\"tests\": 41.3}, {\"tests\": 42.2}, {\"tests\": 37.0}, {\"tests\": 39.7}, {\"tests\": 41.1}, {\"tests\": 39.7}, {\"tests\": 38.1}, {\"tests\": 39.2}, {\"tests\": 40.2}, {\"tests\": 39.2}, {\"tests\": 37.2}, {\"tests\": 41.8}, {\"tests\": 42.1}, {\"tests\": 37.7}, {\"tests\": 40.2}, {\"tests\": 38.9}, {\"tests\": 38.7}, {\"tests\": 39.8}, {\"tests\": 38.4}, {\"tests\": 43.0}, {\"tests\": 45.0}, {\"tests\": 41.4}, {\"tests\": 43.3}, {\"tests\": 40.3}, {\"tests\": 37.4}, {\"tests\": 40.5}, {\"tests\": 40.2}, {\"tests\": 40.9}, {\"tests\": 42.5}, {\"tests\": 41.0}, {\"tests\": 40.9}, {\"tests\": 40.8}, {\"tests\": 41.1}, {\"tests\": 43.1}, {\"tests\": 37.3}, {\"tests\": 41.0}, {\"tests\": 41.1}, {\"tests\": 37.0}, {\"tests\": 41.2}, {\"tests\": 42.9}, {\"tests\": 40.4}, {\"tests\": 42.4}, {\"tests\": 40.0}, {\"tests\": 39.7}, {\"tests\": 38.2}, {\"tests\": 44.7}, {\"tests\": 40.3}, {\"tests\": 38.2}, {\"tests\": 40.4}, {\"tests\": 41.4}, {\"tests\": 39.9}, {\"tests\": 38.7}, {\"tests\": 39.8}, {\"tests\": 43.7}, {\"tests\": 38.8}, {\"tests\": 38.8}, {\"tests\": 37.0}, {\"tests\": 38.9}, {\"tests\": 41.7}, {\"tests\": 40.9}, {\"tests\": 40.8}, {\"tests\": 39.2}, {\"tests\": 42.0}, {\"tests\": 41.2}, {\"tests\": 36.9}, {\"tests\": 39.9}, {\"tests\": 40.2}, {\"tests\": 40.5}, {\"tests\": 39.3}, {\"tests\": 39.3}, {\"tests\": 37.0}, {\"tests\": 35.8}, {\"tests\": 40.8}, {\"tests\": 40.6}, {\"tests\": 38.9}, {\"tests\": 39.4}, {\"tests\": 38.9}, {\"tests\": 43.5}, {\"tests\": 40.2}, {\"tests\": 37.3}, {\"tests\": 42.4}, {\"tests\": 38.0}, {\"tests\": 37.6}, {\"tests\": 38.2}, {\"tests\": 43.4}, {\"tests\": 39.9}, {\"tests\": 38.6}, {\"tests\": 38.9}, {\"tests\": 41.2}, {\"tests\": 41.1}, {\"tests\": 44.1}, {\"tests\": 42.5}, {\"tests\": 39.9}, {\"tests\": 35.1}, {\"tests\": 39.4}, {\"tests\": 43.2}, {\"tests\": 40.8}, {\"tests\": 36.6}, {\"tests\": 39.6}, {\"tests\": 40.1}, {\"tests\": 40.5}, {\"tests\": 39.9}, {\"tests\": 38.9}, {\"tests\": 37.4}, {\"tests\": 41.4}, {\"tests\": 39.4}, {\"tests\": 38.7}, {\"tests\": 38.8}, {\"tests\": 40.7}, {\"tests\": 39.3}, {\"tests\": 42.0}, {\"tests\": 37.4}, {\"tests\": 40.4}, {\"tests\": 43.2}, {\"tests\": 37.8}, {\"tests\": 39.8}, {\"tests\": 37.3}, {\"tests\": 41.6}, {\"tests\": 38.7}, {\"tests\": 41.5}, {\"tests\": 37.9}, {\"tests\": 39.8}, {\"tests\": 43.6}, {\"tests\": 42.8}, {\"tests\": 39.9}, {\"tests\": 40.8}, {\"tests\": 41.7}, {\"tests\": 39.7}, {\"tests\": 38.5}, {\"tests\": 36.6}, {\"tests\": 39.8}, {\"tests\": 37.8}, {\"tests\": 39.7}, {\"tests\": 44.7}, {\"tests\": 42.8}, {\"tests\": 42.7}, {\"tests\": 38.6}, {\"tests\": 37.6}, {\"tests\": 38.4}, {\"tests\": 40.8}, {\"tests\": 43.3}, {\"tests\": 37.1}, {\"tests\": 38.2}, {\"tests\": 43.5}, {\"tests\": 40.8}, {\"tests\": 40.8}, {\"tests\": 41.1}, {\"tests\": 40.3}, {\"tests\": 39.0}, {\"tests\": 38.4}, {\"tests\": 39.7}, {\"tests\": 44.9}, {\"tests\": 39.4}, {\"tests\": 38.8}, {\"tests\": 39.9}, {\"tests\": 36.3}, {\"tests\": 40.3}, {\"tests\": 38.4}, {\"tests\": 38.0}, {\"tests\": 37.5}, {\"tests\": 41.4}, {\"tests\": 42.1}, {\"tests\": 39.4}, {\"tests\": 40.1}, {\"tests\": 42.6}, {\"tests\": 38.3}, {\"tests\": 43.2}, {\"tests\": 35.8}, {\"tests\": 41.4}, {\"tests\": 38.3}, {\"tests\": 39.0}, {\"tests\": 39.4}, {\"tests\": 40.1}, {\"tests\": 40.6}, {\"tests\": 38.8}, {\"tests\": 36.7}, {\"tests\": 39.1}, {\"tests\": 41.8}, {\"tests\": 39.3}, {\"tests\": 40.4}, {\"tests\": 40.9}, {\"tests\": 45.8}, {\"tests\": 38.3}, {\"tests\": 42.5}, {\"tests\": 37.0}, {\"tests\": 38.3}, {\"tests\": 43.9}, {\"tests\": 37.3}, {\"tests\": 45.3}, {\"tests\": 35.8}, {\"tests\": 38.8}, {\"tests\": 39.5}, {\"tests\": 41.1}, {\"tests\": 39.3}, {\"tests\": 38.2}, {\"tests\": 41.6}, {\"tests\": 41.8}, {\"tests\": 38.3}, {\"tests\": 37.0}, {\"tests\": 40.1}, {\"tests\": 39.8}, {\"tests\": 41.1}, {\"tests\": 35.8}, {\"tests\": 39.6}, {\"tests\": 38.2}, {\"tests\": 40.0}, {\"tests\": 41.9}, {\"tests\": 36.5}, {\"tests\": 40.8}, {\"tests\": 40.7}, {\"tests\": 36.4}, {\"tests\": 37.2}, {\"tests\": 38.8}, {\"tests\": 42.3}, {\"tests\": 41.0}, {\"tests\": 40.0}, {\"tests\": 41.4}, {\"tests\": 38.3}, {\"tests\": 40.0}, {\"tests\": 35.6}, {\"tests\": 38.6}, {\"tests\": 37.8}, {\"tests\": 39.8}, {\"tests\": 38.8}, {\"tests\": 45.9}, {\"tests\": 39.4}, {\"tests\": 39.2}, {\"tests\": 36.1}, {\"tests\": 40.0}, {\"tests\": 45.9}, {\"tests\": 38.9}, {\"tests\": 37.8}, {\"tests\": 42.8}, {\"tests\": 37.1}, {\"tests\": 36.4}, {\"tests\": 42.9}, {\"tests\": 38.7}, {\"tests\": 39.6}, {\"tests\": 39.1}, {\"tests\": 36.4}, {\"tests\": 42.5}, {\"tests\": 38.2}, {\"tests\": 40.6}, {\"tests\": 40.2}, {\"tests\": 41.0}, {\"tests\": 40.2}, {\"tests\": 43.5}, {\"tests\": 40.0}, {\"tests\": 39.5}, {\"tests\": 40.1}, {\"tests\": 38.0}, {\"tests\": 38.1}, {\"tests\": 43.0}, {\"tests\": 37.3}, {\"tests\": 36.7}, {\"tests\": 42.1}, {\"tests\": 42.6}, {\"tests\": 38.8}, {\"tests\": 39.0}, {\"tests\": 45.7}, {\"tests\": 38.5}, {\"tests\": 40.8}, {\"tests\": 39.9}, {\"tests\": 40.1}, {\"tests\": 42.5}, {\"tests\": 42.2}, {\"tests\": 38.9}, {\"tests\": 36.0}, {\"tests\": 37.5}, {\"tests\": 40.3}, {\"tests\": 37.9}, {\"tests\": 40.8}, {\"tests\": 41.5}, {\"tests\": 39.8}, {\"tests\": 40.2}, {\"tests\": 42.0}, {\"tests\": 40.6}, {\"tests\": 36.2}, {\"tests\": 34.8}, {\"tests\": 40.8}, {\"tests\": 38.4}, {\"tests\": 41.6}, {\"tests\": 41.1}, {\"tests\": 44.6}, {\"tests\": 36.2}, {\"tests\": 40.5}, {\"tests\": 41.0}, {\"tests\": 35.3}, {\"tests\": 41.5}, {\"tests\": 39.1}, {\"tests\": 39.9}, {\"tests\": 41.4}, {\"tests\": 39.3}, {\"tests\": 38.4}, {\"tests\": 40.4}, {\"tests\": 36.1}, {\"tests\": 39.7}, {\"tests\": 40.8}, {\"tests\": 41.9}, {\"tests\": 41.5}, {\"tests\": 43.0}, {\"tests\": 41.6}, {\"tests\": 38.8}, {\"tests\": 41.7}, {\"tests\": 36.1}, {\"tests\": 42.3}, {\"tests\": 41.9}, {\"tests\": 38.2}, {\"tests\": 40.1}, {\"tests\": 36.5}, {\"tests\": 41.6}, {\"tests\": 38.7}, {\"tests\": 38.1}, {\"tests\": 38.9}, {\"tests\": 37.6}, {\"tests\": 36.3}, {\"tests\": 42.7}, {\"tests\": 39.4}, {\"tests\": 39.5}, {\"tests\": 44.6}, {\"tests\": 41.1}, {\"tests\": 41.2}, {\"tests\": 40.5}, {\"tests\": 42.0}, {\"tests\": 43.4}, {\"tests\": 40.9}, {\"tests\": 38.2}, {\"tests\": 37.5}, {\"tests\": 39.2}, {\"tests\": 38.8}, {\"tests\": 36.4}, {\"tests\": 39.7}, {\"tests\": 44.4}, {\"tests\": 40.0}, {\"tests\": 39.7}, {\"tests\": 34.9}, {\"tests\": 39.6}, {\"tests\": 41.1}, {\"tests\": 39.1}, {\"tests\": 38.9}, {\"tests\": 39.3}, {\"tests\": 38.7}, {\"tests\": 41.2}, {\"tests\": 43.0}, {\"tests\": 41.3}, {\"tests\": 38.3}, {\"tests\": 39.6}, {\"tests\": 39.4}, {\"tests\": 44.2}, {\"tests\": 41.0}, {\"tests\": 39.5}, {\"tests\": 37.7}, {\"tests\": 39.2}, {\"tests\": 40.5}, {\"tests\": 37.9}, {\"tests\": 42.1}, {\"tests\": 40.0}, {\"tests\": 39.5}, {\"tests\": 39.0}, {\"tests\": 37.7}, {\"tests\": 41.2}, {\"tests\": 40.3}, {\"tests\": 39.5}, {\"tests\": 42.4}, {\"tests\": 40.1}, {\"tests\": 39.9}, {\"tests\": 38.7}, {\"tests\": 35.1}, {\"tests\": 38.7}, {\"tests\": 39.7}, {\"tests\": 42.3}, {\"tests\": 42.6}, {\"tests\": 39.0}, {\"tests\": 41.8}, {\"tests\": 42.3}, {\"tests\": 42.6}, {\"tests\": 39.6}, {\"tests\": 43.4}, {\"tests\": 37.3}, {\"tests\": 40.5}, {\"tests\": 43.5}, {\"tests\": 41.3}, {\"tests\": 38.1}, {\"tests\": 43.2}, {\"tests\": 38.4}, {\"tests\": 34.6}, {\"tests\": 43.3}, {\"tests\": 42.4}, {\"tests\": 37.8}, {\"tests\": 42.3}, {\"tests\": 37.9}, {\"tests\": 41.9}, {\"tests\": 40.8}, {\"tests\": 43.0}, {\"tests\": 42.3}, {\"tests\": 38.9}, {\"tests\": 41.5}, {\"tests\": 39.6}, {\"tests\": 41.2}, {\"tests\": 36.4}, {\"tests\": 40.9}, {\"tests\": 38.8}, {\"tests\": 39.8}, {\"tests\": 38.5}, {\"tests\": 40.5}, {\"tests\": 42.1}, {\"tests\": 39.9}, {\"tests\": 41.9}, {\"tests\": 42.1}, {\"tests\": 37.9}, {\"tests\": 39.5}, {\"tests\": 37.1}, {\"tests\": 41.9}, {\"tests\": 41.1}, {\"tests\": 40.2}, {\"tests\": 39.6}, {\"tests\": 42.9}, {\"tests\": 41.8}, {\"tests\": 40.3}, {\"tests\": 38.8}, {\"tests\": 37.6}, {\"tests\": 38.5}, {\"tests\": 36.3}, {\"tests\": 41.8}, {\"tests\": 40.2}, {\"tests\": 43.7}, {\"tests\": 40.1}, {\"tests\": 43.4}, {\"tests\": 39.7}, {\"tests\": 38.7}, {\"tests\": 39.5}, {\"tests\": 40.1}, {\"tests\": 38.2}, {\"tests\": 40.5}, {\"tests\": 41.3}, {\"tests\": 40.4}, {\"tests\": 40.0}, {\"tests\": 42.2}, {\"tests\": 33.7}, {\"tests\": 38.4}, {\"tests\": 38.3}, {\"tests\": 43.9}, {\"tests\": 41.6}, {\"tests\": 38.8}, {\"tests\": 37.1}, {\"tests\": 41.9}, {\"tests\": 37.9}, {\"tests\": 39.3}, {\"tests\": 38.2}, {\"tests\": 39.5}, {\"tests\": 35.5}, {\"tests\": 42.3}, {\"tests\": 40.5}, {\"tests\": 39.4}, {\"tests\": 41.7}, {\"tests\": 39.2}, {\"tests\": 35.9}, {\"tests\": 40.2}, {\"tests\": 40.7}, {\"tests\": 40.2}, {\"tests\": 38.7}, {\"tests\": 35.0}, {\"tests\": 43.8}, {\"tests\": 38.6}, {\"tests\": 40.9}, {\"tests\": 41.6}, {\"tests\": 39.6}, {\"tests\": 40.9}, {\"tests\": 37.0}, {\"tests\": 39.2}, {\"tests\": 38.3}, {\"tests\": 39.7}, {\"tests\": 42.6}, {\"tests\": 41.2}, {\"tests\": 38.8}, {\"tests\": 39.1}, {\"tests\": 42.7}, {\"tests\": 40.4}, {\"tests\": 39.8}, {\"tests\": 40.4}, {\"tests\": 41.6}, {\"tests\": 40.6}, {\"tests\": 41.8}, {\"tests\": 41.8}, {\"tests\": 36.9}, {\"tests\": 40.8}, {\"tests\": 38.5}, {\"tests\": 43.1}, {\"tests\": 41.4}, {\"tests\": 41.0}, {\"tests\": 37.2}, {\"tests\": 37.6}, {\"tests\": 40.9}, {\"tests\": 39.4}, {\"tests\": 40.2}, {\"tests\": 39.8}, {\"tests\": 38.2}, {\"tests\": 36.0}, {\"tests\": 39.0}, {\"tests\": 40.9}, {\"tests\": 39.2}, {\"tests\": 40.6}, {\"tests\": 41.9}, {\"tests\": 40.5}, {\"tests\": 41.6}, {\"tests\": 38.4}, {\"tests\": 36.8}, {\"tests\": 39.2}, {\"tests\": 39.9}, {\"tests\": 44.7}, {\"tests\": 40.2}, {\"tests\": 38.8}, {\"tests\": 40.0}, {\"tests\": 40.6}, {\"tests\": 40.3}, {\"tests\": 40.6}, {\"tests\": 37.3}, {\"tests\": 39.3}, {\"tests\": 42.0}, {\"tests\": 36.6}, {\"tests\": 41.2}, {\"tests\": 40.7}, {\"tests\": 40.5}, {\"tests\": 41.2}, {\"tests\": 38.3}, {\"tests\": 41.1}, {\"tests\": 41.6}, {\"tests\": 38.3}, {\"tests\": 43.3}, {\"tests\": 41.5}, {\"tests\": 39.5}, {\"tests\": 40.2}, {\"tests\": 40.3}, {\"tests\": 38.2}, {\"tests\": 43.7}, {\"tests\": 41.0}, {\"tests\": 38.0}, {\"tests\": 43.4}, {\"tests\": 40.5}, {\"tests\": 39.1}, {\"tests\": 46.7}, {\"tests\": 41.5}, {\"tests\": 39.9}, {\"tests\": 41.2}, {\"tests\": 40.6}, {\"tests\": 41.8}, {\"tests\": 43.1}, {\"tests\": 41.1}, {\"tests\": 39.2}, {\"tests\": 41.0}, {\"tests\": 38.9}, {\"tests\": 39.6}, {\"tests\": 37.7}, {\"tests\": 40.6}, {\"tests\": 40.7}, {\"tests\": 39.1}, {\"tests\": 39.4}, {\"tests\": 39.7}, {\"tests\": 42.8}, {\"tests\": 43.0}, {\"tests\": 40.3}, {\"tests\": 42.5}, {\"tests\": 41.8}, {\"tests\": 39.3}, {\"tests\": 43.7}, {\"tests\": 36.8}, {\"tests\": 38.8}, {\"tests\": 37.4}, {\"tests\": 41.2}, {\"tests\": 39.2}, {\"tests\": 37.7}, {\"tests\": 39.7}, {\"tests\": 46.2}, {\"tests\": 40.2}, {\"tests\": 42.1}, {\"tests\": 42.7}, {\"tests\": 40.9}, {\"tests\": 36.6}, {\"tests\": 39.4}, {\"tests\": 38.3}, {\"tests\": 38.3}, {\"tests\": 37.7}, {\"tests\": 37.4}, {\"tests\": 42.2}, {\"tests\": 36.4}, {\"tests\": 38.5}, {\"tests\": 39.7}, {\"tests\": 38.6}, {\"tests\": 38.1}, {\"tests\": 42.6}, {\"tests\": 41.4}, {\"tests\": 36.9}, {\"tests\": 40.9}, {\"tests\": 42.7}, {\"tests\": 39.7}, {\"tests\": 35.1}, {\"tests\": 37.8}, {\"tests\": 40.1}, {\"tests\": 38.9}, {\"tests\": 43.6}, {\"tests\": 34.0}, {\"tests\": 40.6}, {\"tests\": 42.7}, {\"tests\": 35.0}, {\"tests\": 39.1}, {\"tests\": 39.7}, {\"tests\": 37.6}, {\"tests\": 41.7}, {\"tests\": 40.6}, {\"tests\": 40.4}, {\"tests\": 41.9}, {\"tests\": 40.4}, {\"tests\": 40.8}, {\"tests\": 43.3}, {\"tests\": 42.9}, {\"tests\": 39.1}, {\"tests\": 41.5}, {\"tests\": 37.8}, {\"tests\": 36.7}, {\"tests\": 44.0}, {\"tests\": 45.3}, {\"tests\": 37.3}, {\"tests\": 41.0}, {\"tests\": 42.9}, {\"tests\": 41.0}, {\"tests\": 41.0}, {\"tests\": 43.6}, {\"tests\": 37.1}, {\"tests\": 41.1}, {\"tests\": 36.7}, {\"tests\": 38.1}, {\"tests\": 40.1}, {\"tests\": 40.0}, {\"tests\": 40.5}, {\"tests\": 41.0}, {\"tests\": 43.1}, {\"tests\": 38.3}, {\"tests\": 38.6}, {\"tests\": 42.4}, {\"tests\": 40.1}, {\"tests\": 38.7}, {\"tests\": 35.9}, {\"tests\": 42.1}, {\"tests\": 44.6}, {\"tests\": 40.7}, {\"tests\": 44.2}, {\"tests\": 39.9}, {\"tests\": 34.9}, {\"tests\": 41.1}, {\"tests\": 40.1}, {\"tests\": 41.8}, {\"tests\": 38.8}, {\"tests\": 40.9}, {\"tests\": 40.8}, {\"tests\": 39.3}, {\"tests\": 41.9}, {\"tests\": 36.7}, {\"tests\": 43.4}, {\"tests\": 39.5}, {\"tests\": 40.3}, {\"tests\": 40.7}, {\"tests\": 41.6}, {\"tests\": 40.6}, {\"tests\": 41.3}, {\"tests\": 38.5}, {\"tests\": 37.6}, {\"tests\": 40.4}, {\"tests\": 39.1}, {\"tests\": 38.9}, {\"tests\": 42.2}, {\"tests\": 36.8}, {\"tests\": 40.0}, {\"tests\": 39.5}, {\"tests\": 40.7}, {\"tests\": 41.8}, {\"tests\": 38.5}, {\"tests\": 38.3}, {\"tests\": 40.3}, {\"tests\": 39.4}, {\"tests\": 36.6}, {\"tests\": 40.3}, {\"tests\": 39.0}, {\"tests\": 42.1}, {\"tests\": 42.7}, {\"tests\": 43.6}, {\"tests\": 36.6}, {\"tests\": 39.2}, {\"tests\": 40.2}, {\"tests\": 40.1}, {\"tests\": 42.4}, {\"tests\": 37.4}, {\"tests\": 40.8}, {\"tests\": 39.3}, {\"tests\": 41.6}, {\"tests\": 40.9}, {\"tests\": 42.4}, {\"tests\": 40.8}, {\"tests\": 39.7}, {\"tests\": 43.6}, {\"tests\": 41.0}, {\"tests\": 36.9}, {\"tests\": 37.7}, {\"tests\": 39.9}, {\"tests\": 39.9}, {\"tests\": 38.2}, {\"tests\": 39.0}, {\"tests\": 40.1}, {\"tests\": 39.3}, {\"tests\": 42.9}, {\"tests\": 40.5}, {\"tests\": 42.8}, {\"tests\": 41.5}, {\"tests\": 38.1}, {\"tests\": 42.1}, {\"tests\": 41.2}, {\"tests\": 37.3}, {\"tests\": 39.3}, {\"tests\": 39.7}, {\"tests\": 40.5}, {\"tests\": 41.4}, {\"tests\": 41.6}, {\"tests\": 41.4}, {\"tests\": 39.7}, {\"tests\": 39.8}, {\"tests\": 39.5}, {\"tests\": 39.4}, {\"tests\": 38.8}, {\"tests\": 40.2}, {\"tests\": 38.9}, {\"tests\": 40.1}, {\"tests\": 37.3}, {\"tests\": 43.5}, {\"tests\": 42.3}, {\"tests\": 37.4}, {\"tests\": 40.6}, {\"tests\": 41.7}, {\"tests\": 37.7}, {\"tests\": 39.3}, {\"tests\": 38.9}, {\"tests\": 41.0}, {\"tests\": 37.7}, {\"tests\": 42.3}, {\"tests\": 39.2}, {\"tests\": 42.3}, {\"tests\": 42.4}, {\"tests\": 36.7}, {\"tests\": 38.5}, {\"tests\": 40.1}, {\"tests\": 40.3}, {\"tests\": 41.9}, {\"tests\": 39.9}, {\"tests\": 41.9}, {\"tests\": 40.1}, {\"tests\": 37.4}, {\"tests\": 39.4}, {\"tests\": 41.6}, {\"tests\": 37.1}, {\"tests\": 38.0}, {\"tests\": 39.2}, {\"tests\": 42.5}, {\"tests\": 41.0}, {\"tests\": 41.8}, {\"tests\": 43.2}, {\"tests\": 37.8}, {\"tests\": 42.1}, {\"tests\": 38.9}, {\"tests\": 41.6}, {\"tests\": 35.9}, {\"tests\": 38.8}, {\"tests\": 43.2}, {\"tests\": 43.4}, {\"tests\": 35.7}, {\"tests\": 41.3}, {\"tests\": 39.8}, {\"tests\": 35.7}, {\"tests\": 40.3}, {\"tests\": 41.2}, {\"tests\": 39.3}, {\"tests\": 40.3}, {\"tests\": 42.7}, {\"tests\": 39.1}, {\"tests\": 38.0}, {\"tests\": 39.1}, {\"tests\": 39.8}, {\"tests\": 40.1}, {\"tests\": 36.2}, {\"tests\": 36.0}, {\"tests\": 39.4}, {\"tests\": 39.4}, {\"tests\": 39.3}, {\"tests\": 39.0}, {\"tests\": 40.5}, {\"tests\": 40.1}, {\"tests\": 40.8}, {\"tests\": 39.5}, {\"tests\": 40.1}, {\"tests\": 41.2}, {\"tests\": 39.4}, {\"tests\": 40.5}, {\"tests\": 40.1}, {\"tests\": 39.1}, {\"tests\": 38.9}, {\"tests\": 41.8}, {\"tests\": 38.3}, {\"tests\": 37.6}, {\"tests\": 40.0}, {\"tests\": 41.4}, {\"tests\": 41.1}, {\"tests\": 44.5}, {\"tests\": 33.6}, {\"tests\": 44.0}, {\"tests\": 44.5}, {\"tests\": 37.3}, {\"tests\": 43.4}, {\"tests\": 40.0}, {\"tests\": 38.3}, {\"tests\": 44.0}, {\"tests\": 40.8}, {\"tests\": 42.7}, {\"tests\": 36.8}, {\"tests\": 42.6}, {\"tests\": 41.4}, {\"tests\": 39.2}, {\"tests\": 35.4}, {\"tests\": 39.7}, {\"tests\": 39.2}, {\"tests\": 38.0}, {\"tests\": 40.4}, {\"tests\": 40.5}, {\"tests\": 40.6}, {\"tests\": 40.8}, {\"tests\": 39.0}, {\"tests\": 40.1}, {\"tests\": 41.7}, {\"tests\": 42.1}, {\"tests\": 42.5}, {\"tests\": 43.8}, {\"tests\": 39.6}, {\"tests\": 43.2}, {\"tests\": 44.3}, {\"tests\": 40.3}, {\"tests\": 39.8}, {\"tests\": 40.2}, {\"tests\": 43.4}, {\"tests\": 40.8}, {\"tests\": 38.7}, {\"tests\": 38.4}, {\"tests\": 44.4}, {\"tests\": 41.4}, {\"tests\": 45.7}, {\"tests\": 40.3}, {\"tests\": 38.3}, {\"tests\": 39.7}, {\"tests\": 38.6}, {\"tests\": 39.7}, {\"tests\": 38.5}, {\"tests\": 36.2}, {\"tests\": 38.6}, {\"tests\": 42.7}, {\"tests\": 39.0}, {\"tests\": 37.3}, {\"tests\": 40.9}, {\"tests\": 40.6}, {\"tests\": 41.0}]}}, {\"mode\": \"vega-lite\"});\n",
       "</script>"
      ],
      "text/plain": [
       "alt.LayerChart(...)"
      ]
     },
     "execution_count": 40,
     "metadata": {},
     "output_type": "execute_result"
    }
   ],
   "source": [
    "bootstrap_1000_1000 = NPS_bootstrap(responses_1000, 1000)\n",
    "print(CI_90(bootstrap_1000_1000))\n",
    "print(CI_95(bootstrap_1000_1000))\n",
    "NPS_density(bootstrap_1000_1000)"
   ]
  },
  {
   "cell_type": "code",
   "execution_count": 10,
   "metadata": {},
   "outputs": [],
   "source": [
    "responses_10 = np.random.randint(0,11, 10)"
   ]
  },
  {
   "cell_type": "code",
   "execution_count": 11,
   "metadata": {},
   "outputs": [
    {
     "name": "stdout",
     "output_type": "stream",
     "text": [
      "[-75.5, 5.499999999999989, 81.0]\n",
      "[-77.75, 7.7500000000000036, 85.5]\n"
     ]
    },
    {
     "data": {
      "text/html": [
       "\n",
       "<style>\n",
       "  #altair-viz-a8350522f8104bcfb16d308aadd2dcb8.vega-embed {\n",
       "    width: 100%;\n",
       "    display: flex;\n",
       "  }\n",
       "\n",
       "  #altair-viz-a8350522f8104bcfb16d308aadd2dcb8.vega-embed details,\n",
       "  #altair-viz-a8350522f8104bcfb16d308aadd2dcb8.vega-embed details summary {\n",
       "    position: relative;\n",
       "  }\n",
       "</style>\n",
       "<div id=\"altair-viz-a8350522f8104bcfb16d308aadd2dcb8\"></div>\n",
       "<script type=\"text/javascript\">\n",
       "  var VEGA_DEBUG = (typeof VEGA_DEBUG == \"undefined\") ? {} : VEGA_DEBUG;\n",
       "  (function(spec, embedOpt){\n",
       "    let outputDiv = document.currentScript.previousElementSibling;\n",
       "    if (outputDiv.id !== \"altair-viz-a8350522f8104bcfb16d308aadd2dcb8\") {\n",
       "      outputDiv = document.getElementById(\"altair-viz-a8350522f8104bcfb16d308aadd2dcb8\");\n",
       "    }\n",
       "    const paths = {\n",
       "      \"vega\": \"https://cdn.jsdelivr.net/npm/vega@5?noext\",\n",
       "      \"vega-lib\": \"https://cdn.jsdelivr.net/npm/vega-lib?noext\",\n",
       "      \"vega-lite\": \"https://cdn.jsdelivr.net/npm/vega-lite@5.16.3?noext\",\n",
       "      \"vega-embed\": \"https://cdn.jsdelivr.net/npm/vega-embed@6?noext\",\n",
       "    };\n",
       "\n",
       "    function maybeLoadScript(lib, version) {\n",
       "      var key = `${lib.replace(\"-\", \"\")}_version`;\n",
       "      return (VEGA_DEBUG[key] == version) ?\n",
       "        Promise.resolve(paths[lib]) :\n",
       "        new Promise(function(resolve, reject) {\n",
       "          var s = document.createElement('script');\n",
       "          document.getElementsByTagName(\"head\")[0].appendChild(s);\n",
       "          s.async = true;\n",
       "          s.onload = () => {\n",
       "            VEGA_DEBUG[key] = version;\n",
       "            return resolve(paths[lib]);\n",
       "          };\n",
       "          s.onerror = () => reject(`Error loading script: ${paths[lib]}`);\n",
       "          s.src = paths[lib];\n",
       "        });\n",
       "    }\n",
       "\n",
       "    function showError(err) {\n",
       "      outputDiv.innerHTML = `<div class=\"error\" style=\"color:red;\">${err}</div>`;\n",
       "      throw err;\n",
       "    }\n",
       "\n",
       "    function displayChart(vegaEmbed) {\n",
       "      vegaEmbed(outputDiv, spec, embedOpt)\n",
       "        .catch(err => showError(`Javascript Error: ${err.message}<br>This usually means there's a typo in your chart specification. See the javascript console for the full traceback.`));\n",
       "    }\n",
       "\n",
       "    if(typeof define === \"function\" && define.amd) {\n",
       "      requirejs.config({paths});\n",
       "      require([\"vega-embed\"], displayChart, err => showError(`Error loading script: ${err.message}`));\n",
       "    } else {\n",
       "      maybeLoadScript(\"vega\", \"5\")\n",
       "        .then(() => maybeLoadScript(\"vega-lite\", \"5.16.3\"))\n",
       "        .then(() => maybeLoadScript(\"vega-embed\", \"6\"))\n",
       "        .catch(showError)\n",
       "        .then(() => displayChart(vegaEmbed));\n",
       "    }\n",
       "  })({\"config\": {\"view\": {\"continuousWidth\": 300, \"continuousHeight\": 300}}, \"layer\": [{\"mark\": {\"type\": \"area\", \"color\": \"lightgray\"}, \"encoding\": {\"x\": {\"axis\": {\"title\": \"Population Distribution of Pickups\"}, \"field\": \"tests\", \"scale\": {\"domain\": [-90.0, 20.0]}, \"type\": \"quantitative\"}, \"y\": {\"axis\": {\"title\": \"Density\"}, \"field\": \"density\", \"type\": \"quantitative\"}}, \"transform\": [{\"density\": \"tests\", \"as\": [\"tests\", \"density\"]}]}, {\"mark\": {\"type\": \"rule\", \"color\": \"black\", \"strokeDash\": [1, 1]}, \"encoding\": {\"x\": {\"aggregate\": \"mean\", \"field\": \"tests\", \"type\": \"quantitative\"}}}], \"data\": {\"name\": \"data-59199f2e5143ffb7b34cc38b0904b557\"}, \"$schema\": \"https://vega.github.io/schema/vega-lite/v5.16.3.json\", \"datasets\": {\"data-59199f2e5143ffb7b34cc38b0904b557\": [{\"tests\": -80.0}, {\"tests\": -40.0}, {\"tests\": 0.0}, {\"tests\": 0.0}, {\"tests\": -60.0}, {\"tests\": -20.0}, {\"tests\": -70.0}, {\"tests\": 10.0}, {\"tests\": -40.0}, {\"tests\": -60.0}]}}, {\"mode\": \"vega-lite\"});\n",
       "</script>"
      ],
      "text/plain": [
       "alt.LayerChart(...)"
      ]
     },
     "execution_count": 11,
     "metadata": {},
     "output_type": "execute_result"
    }
   ],
   "source": [
    "bootstrapped_10_10 = NPS_bootstrap(responses_10, 10)\n",
    "print(CI_90(bootstrapped_10_10))\n",
    "print(CI_95(bootstrapped_10_10))\n",
    "NPS_density(bootstrapped_10_10)"
   ]
  },
  {
   "cell_type": "code",
   "execution_count": 12,
   "metadata": {},
   "outputs": [
    {
     "name": "stdout",
     "output_type": "stream",
     "text": [
      "[-80.0, 0.0, 80.0]\n",
      "[-80.0, 5.249999999999915, 85.25]\n"
     ]
    },
    {
     "data": {
      "text/html": [
       "\n",
       "<style>\n",
       "  #altair-viz-1f3e9bbbfc3a40f2b16066d7fadfbf37.vega-embed {\n",
       "    width: 100%;\n",
       "    display: flex;\n",
       "  }\n",
       "\n",
       "  #altair-viz-1f3e9bbbfc3a40f2b16066d7fadfbf37.vega-embed details,\n",
       "  #altair-viz-1f3e9bbbfc3a40f2b16066d7fadfbf37.vega-embed details summary {\n",
       "    position: relative;\n",
       "  }\n",
       "</style>\n",
       "<div id=\"altair-viz-1f3e9bbbfc3a40f2b16066d7fadfbf37\"></div>\n",
       "<script type=\"text/javascript\">\n",
       "  var VEGA_DEBUG = (typeof VEGA_DEBUG == \"undefined\") ? {} : VEGA_DEBUG;\n",
       "  (function(spec, embedOpt){\n",
       "    let outputDiv = document.currentScript.previousElementSibling;\n",
       "    if (outputDiv.id !== \"altair-viz-1f3e9bbbfc3a40f2b16066d7fadfbf37\") {\n",
       "      outputDiv = document.getElementById(\"altair-viz-1f3e9bbbfc3a40f2b16066d7fadfbf37\");\n",
       "    }\n",
       "    const paths = {\n",
       "      \"vega\": \"https://cdn.jsdelivr.net/npm/vega@5?noext\",\n",
       "      \"vega-lib\": \"https://cdn.jsdelivr.net/npm/vega-lib?noext\",\n",
       "      \"vega-lite\": \"https://cdn.jsdelivr.net/npm/vega-lite@5.16.3?noext\",\n",
       "      \"vega-embed\": \"https://cdn.jsdelivr.net/npm/vega-embed@6?noext\",\n",
       "    };\n",
       "\n",
       "    function maybeLoadScript(lib, version) {\n",
       "      var key = `${lib.replace(\"-\", \"\")}_version`;\n",
       "      return (VEGA_DEBUG[key] == version) ?\n",
       "        Promise.resolve(paths[lib]) :\n",
       "        new Promise(function(resolve, reject) {\n",
       "          var s = document.createElement('script');\n",
       "          document.getElementsByTagName(\"head\")[0].appendChild(s);\n",
       "          s.async = true;\n",
       "          s.onload = () => {\n",
       "            VEGA_DEBUG[key] = version;\n",
       "            return resolve(paths[lib]);\n",
       "          };\n",
       "          s.onerror = () => reject(`Error loading script: ${paths[lib]}`);\n",
       "          s.src = paths[lib];\n",
       "        });\n",
       "    }\n",
       "\n",
       "    function showError(err) {\n",
       "      outputDiv.innerHTML = `<div class=\"error\" style=\"color:red;\">${err}</div>`;\n",
       "      throw err;\n",
       "    }\n",
       "\n",
       "    function displayChart(vegaEmbed) {\n",
       "      vegaEmbed(outputDiv, spec, embedOpt)\n",
       "        .catch(err => showError(`Javascript Error: ${err.message}<br>This usually means there's a typo in your chart specification. See the javascript console for the full traceback.`));\n",
       "    }\n",
       "\n",
       "    if(typeof define === \"function\" && define.amd) {\n",
       "      requirejs.config({paths});\n",
       "      require([\"vega-embed\"], displayChart, err => showError(`Error loading script: ${err.message}`));\n",
       "    } else {\n",
       "      maybeLoadScript(\"vega\", \"5\")\n",
       "        .then(() => maybeLoadScript(\"vega-lite\", \"5.16.3\"))\n",
       "        .then(() => maybeLoadScript(\"vega-embed\", \"6\"))\n",
       "        .catch(showError)\n",
       "        .then(() => displayChart(vegaEmbed));\n",
       "    }\n",
       "  })({\"config\": {\"view\": {\"continuousWidth\": 300, \"continuousHeight\": 300}}, \"layer\": [{\"mark\": {\"type\": \"area\", \"color\": \"lightgray\"}, \"encoding\": {\"x\": {\"axis\": {\"title\": \"Population Distribution of Pickups\"}, \"field\": \"tests\", \"scale\": {\"domain\": [-110.0, 50.0]}, \"type\": \"quantitative\"}, \"y\": {\"axis\": {\"title\": \"Density\"}, \"field\": \"density\", \"type\": \"quantitative\"}}, \"transform\": [{\"density\": \"tests\", \"as\": [\"tests\", \"density\"]}]}, {\"mark\": {\"type\": \"rule\", \"color\": \"black\", \"strokeDash\": [1, 1]}, \"encoding\": {\"x\": {\"aggregate\": \"mean\", \"field\": \"tests\", \"type\": \"quantitative\"}}}], \"data\": {\"name\": \"data-82d1dd828635bc347f69a3eb68edb328\"}, \"$schema\": \"https://vega.github.io/schema/vega-lite/v5.16.3.json\", \"datasets\": {\"data-82d1dd828635bc347f69a3eb68edb328\": [{\"tests\": -70.0}, {\"tests\": 20.0}, {\"tests\": -20.0}, {\"tests\": -40.0}, {\"tests\": -70.0}, {\"tests\": -30.0}, {\"tests\": -80.0}, {\"tests\": -30.0}, {\"tests\": -40.0}, {\"tests\": -50.0}, {\"tests\": -20.0}, {\"tests\": -50.0}, {\"tests\": -60.0}, {\"tests\": -70.0}, {\"tests\": -50.0}, {\"tests\": -60.0}, {\"tests\": -40.0}, {\"tests\": -60.0}, {\"tests\": -30.0}, {\"tests\": -80.0}, {\"tests\": -60.0}, {\"tests\": -60.0}, {\"tests\": -10.0}, {\"tests\": -70.0}, {\"tests\": -80.0}, {\"tests\": -50.0}, {\"tests\": -50.0}, {\"tests\": -10.0}, {\"tests\": -40.0}, {\"tests\": -60.0}, {\"tests\": -60.0}, {\"tests\": -60.0}, {\"tests\": -50.0}, {\"tests\": 0.0}, {\"tests\": -30.0}, {\"tests\": -50.0}, {\"tests\": -30.0}, {\"tests\": -60.0}, {\"tests\": -100.0}, {\"tests\": -50.0}, {\"tests\": -90.0}, {\"tests\": -30.0}, {\"tests\": -60.0}, {\"tests\": -40.0}, {\"tests\": -80.0}, {\"tests\": -30.0}, {\"tests\": -30.0}, {\"tests\": -10.0}, {\"tests\": -50.0}, {\"tests\": -10.0}, {\"tests\": -80.0}, {\"tests\": -30.0}, {\"tests\": -70.0}, {\"tests\": -50.0}, {\"tests\": -80.0}, {\"tests\": -70.0}, {\"tests\": -70.0}, {\"tests\": -60.0}, {\"tests\": -10.0}, {\"tests\": -20.0}, {\"tests\": -20.0}, {\"tests\": 10.0}, {\"tests\": -30.0}, {\"tests\": -80.0}, {\"tests\": -80.0}, {\"tests\": -70.0}, {\"tests\": -50.0}, {\"tests\": -40.0}, {\"tests\": -60.0}, {\"tests\": -80.0}, {\"tests\": -80.0}, {\"tests\": -50.0}, {\"tests\": 40.0}, {\"tests\": -40.0}, {\"tests\": -70.0}, {\"tests\": -50.0}, {\"tests\": -70.0}, {\"tests\": -70.0}, {\"tests\": -70.0}, {\"tests\": -60.0}, {\"tests\": -20.0}, {\"tests\": -30.0}, {\"tests\": -60.0}, {\"tests\": -50.0}, {\"tests\": 0.0}, {\"tests\": -70.0}, {\"tests\": -50.0}, {\"tests\": -80.0}, {\"tests\": 0.0}, {\"tests\": 0.0}, {\"tests\": -50.0}, {\"tests\": -80.0}, {\"tests\": -30.0}, {\"tests\": -80.0}, {\"tests\": -40.0}, {\"tests\": -50.0}, {\"tests\": -10.0}, {\"tests\": -60.0}, {\"tests\": -80.0}, {\"tests\": -80.0}]}}, {\"mode\": \"vega-lite\"});\n",
       "</script>"
      ],
      "text/plain": [
       "alt.LayerChart(...)"
      ]
     },
     "execution_count": 12,
     "metadata": {},
     "output_type": "execute_result"
    }
   ],
   "source": [
    "bootstrapped_10_100 = NPS_bootstrap(responses_10, 100)\n",
    "print(CI_90(bootstrapped_10_100))\n",
    "print(CI_95(bootstrapped_10_100))\n",
    "NPS_density(bootstrapped_10_100)"
   ]
  },
  {
   "cell_type": "code",
   "execution_count": 13,
   "metadata": {},
   "outputs": [
    {
     "name": "stdout",
     "output_type": "stream",
     "text": [
      "[-90.0, -10.0, 80.0]\n",
      "[-90.24999999999999, 0.0, 90.25]\n"
     ]
    },
    {
     "data": {
      "text/html": [
       "\n",
       "<style>\n",
       "  #altair-viz-7fa193c474d64935becd61a35b0c311c.vega-embed {\n",
       "    width: 100%;\n",
       "    display: flex;\n",
       "  }\n",
       "\n",
       "  #altair-viz-7fa193c474d64935becd61a35b0c311c.vega-embed details,\n",
       "  #altair-viz-7fa193c474d64935becd61a35b0c311c.vega-embed details summary {\n",
       "    position: relative;\n",
       "  }\n",
       "</style>\n",
       "<div id=\"altair-viz-7fa193c474d64935becd61a35b0c311c\"></div>\n",
       "<script type=\"text/javascript\">\n",
       "  var VEGA_DEBUG = (typeof VEGA_DEBUG == \"undefined\") ? {} : VEGA_DEBUG;\n",
       "  (function(spec, embedOpt){\n",
       "    let outputDiv = document.currentScript.previousElementSibling;\n",
       "    if (outputDiv.id !== \"altair-viz-7fa193c474d64935becd61a35b0c311c\") {\n",
       "      outputDiv = document.getElementById(\"altair-viz-7fa193c474d64935becd61a35b0c311c\");\n",
       "    }\n",
       "    const paths = {\n",
       "      \"vega\": \"https://cdn.jsdelivr.net/npm/vega@5?noext\",\n",
       "      \"vega-lib\": \"https://cdn.jsdelivr.net/npm/vega-lib?noext\",\n",
       "      \"vega-lite\": \"https://cdn.jsdelivr.net/npm/vega-lite@5.16.3?noext\",\n",
       "      \"vega-embed\": \"https://cdn.jsdelivr.net/npm/vega-embed@6?noext\",\n",
       "    };\n",
       "\n",
       "    function maybeLoadScript(lib, version) {\n",
       "      var key = `${lib.replace(\"-\", \"\")}_version`;\n",
       "      return (VEGA_DEBUG[key] == version) ?\n",
       "        Promise.resolve(paths[lib]) :\n",
       "        new Promise(function(resolve, reject) {\n",
       "          var s = document.createElement('script');\n",
       "          document.getElementsByTagName(\"head\")[0].appendChild(s);\n",
       "          s.async = true;\n",
       "          s.onload = () => {\n",
       "            VEGA_DEBUG[key] = version;\n",
       "            return resolve(paths[lib]);\n",
       "          };\n",
       "          s.onerror = () => reject(`Error loading script: ${paths[lib]}`);\n",
       "          s.src = paths[lib];\n",
       "        });\n",
       "    }\n",
       "\n",
       "    function showError(err) {\n",
       "      outputDiv.innerHTML = `<div class=\"error\" style=\"color:red;\">${err}</div>`;\n",
       "      throw err;\n",
       "    }\n",
       "\n",
       "    function displayChart(vegaEmbed) {\n",
       "      vegaEmbed(outputDiv, spec, embedOpt)\n",
       "        .catch(err => showError(`Javascript Error: ${err.message}<br>This usually means there's a typo in your chart specification. See the javascript console for the full traceback.`));\n",
       "    }\n",
       "\n",
       "    if(typeof define === \"function\" && define.amd) {\n",
       "      requirejs.config({paths});\n",
       "      require([\"vega-embed\"], displayChart, err => showError(`Error loading script: ${err.message}`));\n",
       "    } else {\n",
       "      maybeLoadScript(\"vega\", \"5\")\n",
       "        .then(() => maybeLoadScript(\"vega-lite\", \"5.16.3\"))\n",
       "        .then(() => maybeLoadScript(\"vega-embed\", \"6\"))\n",
       "        .catch(showError)\n",
       "        .then(() => displayChart(vegaEmbed));\n",
       "    }\n",
       "  })({\"config\": {\"view\": {\"continuousWidth\": 300, \"continuousHeight\": 300}}, \"layer\": [{\"mark\": {\"type\": \"area\", \"color\": \"lightgray\"}, \"encoding\": {\"x\": {\"axis\": {\"title\": \"Population Distribution of Pickups\"}, \"field\": \"tests\", \"scale\": {\"domain\": [-110.0, 50.0]}, \"type\": \"quantitative\"}, \"y\": {\"axis\": {\"title\": \"Density\"}, \"field\": \"density\", \"type\": \"quantitative\"}}, \"transform\": [{\"density\": \"tests\", \"as\": [\"tests\", \"density\"]}]}, {\"mark\": {\"type\": \"rule\", \"color\": \"black\", \"strokeDash\": [1, 1]}, \"encoding\": {\"x\": {\"aggregate\": \"mean\", \"field\": \"tests\", \"type\": \"quantitative\"}}}], \"data\": {\"name\": \"data-505bc81f6e064462c1d234667587525b\"}, \"$schema\": \"https://vega.github.io/schema/vega-lite/v5.16.3.json\", \"datasets\": {\"data-505bc81f6e064462c1d234667587525b\": [{\"tests\": -80.0}, {\"tests\": -40.0}, {\"tests\": -40.0}, {\"tests\": -60.0}, {\"tests\": -60.0}, {\"tests\": -30.0}, {\"tests\": -30.0}, {\"tests\": -40.0}, {\"tests\": -70.0}, {\"tests\": -70.0}, {\"tests\": -80.0}, {\"tests\": -60.0}, {\"tests\": -90.0}, {\"tests\": -30.0}, {\"tests\": -20.0}, {\"tests\": -80.0}, {\"tests\": 0.0}, {\"tests\": -40.0}, {\"tests\": -80.0}, {\"tests\": -60.0}, {\"tests\": -60.0}, {\"tests\": -10.0}, {\"tests\": -70.0}, {\"tests\": -60.0}, {\"tests\": -40.0}, {\"tests\": -60.0}, {\"tests\": -30.0}, {\"tests\": -60.0}, {\"tests\": -40.0}, {\"tests\": -30.0}, {\"tests\": -50.0}, {\"tests\": -100.0}, {\"tests\": -80.0}, {\"tests\": -40.0}, {\"tests\": -50.0}, {\"tests\": -60.0}, {\"tests\": -50.0}, {\"tests\": -80.0}, {\"tests\": -70.0}, {\"tests\": -60.0}, {\"tests\": -60.0}, {\"tests\": -80.0}, {\"tests\": -40.0}, {\"tests\": 0.0}, {\"tests\": -30.0}, {\"tests\": -40.0}, {\"tests\": -50.0}, {\"tests\": -80.0}, {\"tests\": -60.0}, {\"tests\": -20.0}, {\"tests\": -50.0}, {\"tests\": -60.0}, {\"tests\": -30.0}, {\"tests\": -30.0}, {\"tests\": -70.0}, {\"tests\": -50.0}, {\"tests\": -60.0}, {\"tests\": -30.0}, {\"tests\": -50.0}, {\"tests\": -60.0}, {\"tests\": -30.0}, {\"tests\": -70.0}, {\"tests\": -40.0}, {\"tests\": -60.0}, {\"tests\": -60.0}, {\"tests\": -30.0}, {\"tests\": -50.0}, {\"tests\": -40.0}, {\"tests\": 0.0}, {\"tests\": -80.0}, {\"tests\": -70.0}, {\"tests\": -70.0}, {\"tests\": -70.0}, {\"tests\": -70.0}, {\"tests\": -70.0}, {\"tests\": -20.0}, {\"tests\": -20.0}, {\"tests\": -70.0}, {\"tests\": -50.0}, {\"tests\": -50.0}, {\"tests\": -60.0}, {\"tests\": -80.0}, {\"tests\": -40.0}, {\"tests\": -20.0}, {\"tests\": -80.0}, {\"tests\": -50.0}, {\"tests\": -60.0}, {\"tests\": -40.0}, {\"tests\": -80.0}, {\"tests\": -40.0}, {\"tests\": -60.0}, {\"tests\": -100.0}, {\"tests\": -20.0}, {\"tests\": -60.0}, {\"tests\": -20.0}, {\"tests\": -50.0}, {\"tests\": -80.0}, {\"tests\": -80.0}, {\"tests\": -80.0}, {\"tests\": -40.0}, {\"tests\": -30.0}, {\"tests\": -70.0}, {\"tests\": -50.0}, {\"tests\": -60.0}, {\"tests\": -50.0}, {\"tests\": -40.0}, {\"tests\": -50.0}, {\"tests\": -60.0}, {\"tests\": -70.0}, {\"tests\": -80.0}, {\"tests\": -80.0}, {\"tests\": -40.0}, {\"tests\": -60.0}, {\"tests\": -60.0}, {\"tests\": -40.0}, {\"tests\": -80.0}, {\"tests\": -40.0}, {\"tests\": 0.0}, {\"tests\": -10.0}, {\"tests\": -60.0}, {\"tests\": -40.0}, {\"tests\": -20.0}, {\"tests\": -30.0}, {\"tests\": -70.0}, {\"tests\": -70.0}, {\"tests\": -60.0}, {\"tests\": -20.0}, {\"tests\": -70.0}, {\"tests\": -50.0}, {\"tests\": -40.0}, {\"tests\": -30.0}, {\"tests\": -40.0}, {\"tests\": 10.0}, {\"tests\": -60.0}, {\"tests\": -40.0}, {\"tests\": -60.0}, {\"tests\": -50.0}, {\"tests\": -70.0}, {\"tests\": -20.0}, {\"tests\": -20.0}, {\"tests\": -30.0}, {\"tests\": -70.0}, {\"tests\": -40.0}, {\"tests\": -80.0}, {\"tests\": -60.0}, {\"tests\": -40.0}, {\"tests\": -50.0}, {\"tests\": -70.0}, {\"tests\": -40.0}, {\"tests\": -30.0}, {\"tests\": -70.0}, {\"tests\": -100.0}, {\"tests\": -60.0}, {\"tests\": -20.0}, {\"tests\": -40.0}, {\"tests\": -70.0}, {\"tests\": -80.0}, {\"tests\": -40.0}, {\"tests\": -20.0}, {\"tests\": -90.0}, {\"tests\": -50.0}, {\"tests\": -10.0}, {\"tests\": -80.0}, {\"tests\": -80.0}, {\"tests\": -40.0}, {\"tests\": -30.0}, {\"tests\": -50.0}, {\"tests\": -100.0}, {\"tests\": -80.0}, {\"tests\": -60.0}, {\"tests\": -70.0}, {\"tests\": -60.0}, {\"tests\": -50.0}, {\"tests\": -40.0}, {\"tests\": 0.0}, {\"tests\": -60.0}, {\"tests\": -30.0}, {\"tests\": 0.0}, {\"tests\": 0.0}, {\"tests\": -60.0}, {\"tests\": -60.0}, {\"tests\": -60.0}, {\"tests\": -40.0}, {\"tests\": 30.0}, {\"tests\": -40.0}, {\"tests\": -50.0}, {\"tests\": -60.0}, {\"tests\": -70.0}, {\"tests\": -10.0}, {\"tests\": -80.0}, {\"tests\": -100.0}, {\"tests\": -50.0}, {\"tests\": -60.0}, {\"tests\": -40.0}, {\"tests\": -50.0}, {\"tests\": -50.0}, {\"tests\": -60.0}, {\"tests\": -60.0}, {\"tests\": -70.0}, {\"tests\": -80.0}, {\"tests\": -70.0}, {\"tests\": -60.0}, {\"tests\": -40.0}, {\"tests\": -50.0}, {\"tests\": -50.0}, {\"tests\": -60.0}, {\"tests\": -30.0}, {\"tests\": -30.0}, {\"tests\": -60.0}, {\"tests\": -50.0}, {\"tests\": -50.0}, {\"tests\": -80.0}, {\"tests\": -50.0}, {\"tests\": -60.0}, {\"tests\": -30.0}, {\"tests\": -100.0}, {\"tests\": -90.0}, {\"tests\": -50.0}, {\"tests\": -80.0}, {\"tests\": -60.0}, {\"tests\": -50.0}, {\"tests\": 10.0}, {\"tests\": -80.0}, {\"tests\": -10.0}, {\"tests\": -90.0}, {\"tests\": -50.0}, {\"tests\": -80.0}, {\"tests\": -20.0}, {\"tests\": -60.0}, {\"tests\": -20.0}, {\"tests\": -70.0}, {\"tests\": -20.0}, {\"tests\": -20.0}, {\"tests\": -60.0}, {\"tests\": -40.0}, {\"tests\": -40.0}, {\"tests\": -50.0}, {\"tests\": -20.0}, {\"tests\": -10.0}, {\"tests\": -90.0}, {\"tests\": -50.0}, {\"tests\": -50.0}, {\"tests\": -40.0}, {\"tests\": -80.0}, {\"tests\": -30.0}, {\"tests\": -60.0}, {\"tests\": -40.0}, {\"tests\": -20.0}, {\"tests\": -70.0}, {\"tests\": -30.0}, {\"tests\": -80.0}, {\"tests\": -60.0}, {\"tests\": -40.0}, {\"tests\": -30.0}, {\"tests\": -70.0}, {\"tests\": 0.0}, {\"tests\": 0.0}, {\"tests\": -30.0}, {\"tests\": -50.0}, {\"tests\": -70.0}, {\"tests\": -80.0}, {\"tests\": -30.0}, {\"tests\": -40.0}, {\"tests\": 0.0}, {\"tests\": -40.0}, {\"tests\": -50.0}, {\"tests\": 0.0}, {\"tests\": -60.0}, {\"tests\": -90.0}, {\"tests\": -80.0}, {\"tests\": -90.0}, {\"tests\": -20.0}, {\"tests\": -80.0}, {\"tests\": -60.0}, {\"tests\": -70.0}, {\"tests\": -60.0}, {\"tests\": -60.0}, {\"tests\": -20.0}, {\"tests\": -50.0}, {\"tests\": -70.0}, {\"tests\": -60.0}, {\"tests\": -80.0}, {\"tests\": -40.0}, {\"tests\": -70.0}, {\"tests\": -60.0}, {\"tests\": -50.0}, {\"tests\": -60.0}, {\"tests\": -40.0}, {\"tests\": -30.0}, {\"tests\": -70.0}, {\"tests\": -60.0}, {\"tests\": -30.0}, {\"tests\": -50.0}, {\"tests\": 0.0}, {\"tests\": -70.0}, {\"tests\": 0.0}, {\"tests\": -20.0}, {\"tests\": -30.0}, {\"tests\": -40.0}, {\"tests\": -60.0}, {\"tests\": -80.0}, {\"tests\": -60.0}, {\"tests\": -40.0}, {\"tests\": 0.0}, {\"tests\": -70.0}, {\"tests\": -10.0}, {\"tests\": -40.0}, {\"tests\": -60.0}, {\"tests\": 20.0}, {\"tests\": -40.0}, {\"tests\": -40.0}, {\"tests\": -70.0}, {\"tests\": -70.0}, {\"tests\": -40.0}, {\"tests\": -80.0}, {\"tests\": -50.0}, {\"tests\": -40.0}, {\"tests\": -30.0}, {\"tests\": -40.0}, {\"tests\": -50.0}, {\"tests\": -60.0}, {\"tests\": -60.0}, {\"tests\": -20.0}, {\"tests\": -60.0}, {\"tests\": -20.0}, {\"tests\": -90.0}, {\"tests\": -50.0}, {\"tests\": -50.0}, {\"tests\": -60.0}, {\"tests\": -30.0}, {\"tests\": -40.0}, {\"tests\": -50.0}, {\"tests\": -60.0}, {\"tests\": -50.0}, {\"tests\": -50.0}, {\"tests\": -80.0}, {\"tests\": -80.0}, {\"tests\": -10.0}, {\"tests\": -20.0}, {\"tests\": -70.0}, {\"tests\": -80.0}, {\"tests\": -60.0}, {\"tests\": -40.0}, {\"tests\": -30.0}, {\"tests\": -80.0}, {\"tests\": -80.0}, {\"tests\": -40.0}, {\"tests\": -60.0}, {\"tests\": -10.0}, {\"tests\": -30.0}, {\"tests\": -70.0}, {\"tests\": -50.0}, {\"tests\": -70.0}, {\"tests\": -40.0}, {\"tests\": 10.0}, {\"tests\": -90.0}, {\"tests\": -40.0}, {\"tests\": -30.0}, {\"tests\": -10.0}, {\"tests\": -70.0}, {\"tests\": -80.0}, {\"tests\": -20.0}, {\"tests\": -50.0}, {\"tests\": 20.0}, {\"tests\": -80.0}, {\"tests\": -30.0}, {\"tests\": -60.0}, {\"tests\": -90.0}, {\"tests\": -60.0}, {\"tests\": -30.0}, {\"tests\": -20.0}, {\"tests\": -70.0}, {\"tests\": -100.0}, {\"tests\": -40.0}, {\"tests\": 0.0}, {\"tests\": -70.0}, {\"tests\": -100.0}, {\"tests\": -100.0}, {\"tests\": -80.0}, {\"tests\": -20.0}, {\"tests\": -40.0}, {\"tests\": 20.0}, {\"tests\": -40.0}, {\"tests\": -40.0}, {\"tests\": -50.0}, {\"tests\": -70.0}, {\"tests\": -70.0}, {\"tests\": -70.0}, {\"tests\": -10.0}, {\"tests\": -40.0}, {\"tests\": -60.0}, {\"tests\": -60.0}, {\"tests\": -60.0}, {\"tests\": -80.0}, {\"tests\": 10.0}, {\"tests\": -30.0}, {\"tests\": -60.0}, {\"tests\": -30.0}, {\"tests\": -80.0}, {\"tests\": 0.0}, {\"tests\": -90.0}, {\"tests\": -80.0}, {\"tests\": -40.0}, {\"tests\": -70.0}, {\"tests\": -10.0}, {\"tests\": -20.0}, {\"tests\": -80.0}, {\"tests\": -100.0}, {\"tests\": -80.0}, {\"tests\": -40.0}, {\"tests\": -80.0}, {\"tests\": -60.0}, {\"tests\": -60.0}, {\"tests\": -70.0}, {\"tests\": -20.0}, {\"tests\": -50.0}, {\"tests\": -10.0}, {\"tests\": -60.0}, {\"tests\": -10.0}, {\"tests\": -60.0}, {\"tests\": -70.0}, {\"tests\": -30.0}, {\"tests\": 0.0}, {\"tests\": -20.0}, {\"tests\": -80.0}, {\"tests\": -90.0}, {\"tests\": -80.0}, {\"tests\": -30.0}, {\"tests\": -40.0}, {\"tests\": -100.0}, {\"tests\": -70.0}, {\"tests\": -60.0}, {\"tests\": -50.0}, {\"tests\": -60.0}, {\"tests\": -50.0}, {\"tests\": -30.0}, {\"tests\": -80.0}, {\"tests\": -10.0}, {\"tests\": -30.0}, {\"tests\": -70.0}, {\"tests\": -40.0}, {\"tests\": -50.0}, {\"tests\": -90.0}, {\"tests\": -70.0}, {\"tests\": -60.0}, {\"tests\": -50.0}, {\"tests\": -40.0}, {\"tests\": -20.0}, {\"tests\": -10.0}, {\"tests\": -40.0}, {\"tests\": -90.0}, {\"tests\": -50.0}, {\"tests\": -80.0}, {\"tests\": -80.0}, {\"tests\": -40.0}, {\"tests\": -50.0}, {\"tests\": -90.0}, {\"tests\": -70.0}, {\"tests\": -60.0}, {\"tests\": 0.0}, {\"tests\": -60.0}, {\"tests\": -70.0}, {\"tests\": -10.0}, {\"tests\": -40.0}, {\"tests\": -70.0}, {\"tests\": -90.0}, {\"tests\": -40.0}, {\"tests\": -40.0}, {\"tests\": -80.0}, {\"tests\": -50.0}, {\"tests\": -80.0}, {\"tests\": -40.0}, {\"tests\": -60.0}, {\"tests\": -50.0}, {\"tests\": -40.0}, {\"tests\": -40.0}, {\"tests\": -70.0}, {\"tests\": -60.0}, {\"tests\": -10.0}, {\"tests\": -80.0}, {\"tests\": -100.0}, {\"tests\": -40.0}, {\"tests\": -60.0}, {\"tests\": -90.0}, {\"tests\": 0.0}, {\"tests\": -90.0}, {\"tests\": -70.0}, {\"tests\": -70.0}, {\"tests\": 10.0}, {\"tests\": -80.0}, {\"tests\": -40.0}, {\"tests\": -70.0}, {\"tests\": -70.0}, {\"tests\": -50.0}, {\"tests\": -80.0}, {\"tests\": -80.0}, {\"tests\": -60.0}, {\"tests\": -50.0}, {\"tests\": -40.0}, {\"tests\": 0.0}, {\"tests\": 0.0}, {\"tests\": -80.0}, {\"tests\": -30.0}, {\"tests\": -40.0}, {\"tests\": -60.0}, {\"tests\": -80.0}, {\"tests\": -50.0}, {\"tests\": -70.0}, {\"tests\": -10.0}, {\"tests\": -60.0}, {\"tests\": -70.0}, {\"tests\": -40.0}, {\"tests\": -70.0}, {\"tests\": -100.0}, {\"tests\": -50.0}, {\"tests\": -50.0}, {\"tests\": -80.0}, {\"tests\": -40.0}, {\"tests\": -30.0}, {\"tests\": -20.0}, {\"tests\": -40.0}, {\"tests\": -50.0}, {\"tests\": -50.0}, {\"tests\": 0.0}, {\"tests\": -10.0}, {\"tests\": -70.0}, {\"tests\": -80.0}, {\"tests\": -60.0}, {\"tests\": -10.0}, {\"tests\": -40.0}, {\"tests\": -90.0}, {\"tests\": -100.0}, {\"tests\": -50.0}, {\"tests\": -50.0}, {\"tests\": -50.0}, {\"tests\": -40.0}, {\"tests\": -40.0}, {\"tests\": -20.0}, {\"tests\": -60.0}, {\"tests\": -70.0}, {\"tests\": -40.0}, {\"tests\": -50.0}, {\"tests\": -70.0}, {\"tests\": -70.0}, {\"tests\": -30.0}, {\"tests\": -40.0}, {\"tests\": -10.0}, {\"tests\": -100.0}, {\"tests\": -80.0}, {\"tests\": -80.0}, {\"tests\": -50.0}, {\"tests\": 10.0}, {\"tests\": 0.0}, {\"tests\": -80.0}, {\"tests\": -20.0}, {\"tests\": -60.0}, {\"tests\": -40.0}, {\"tests\": -40.0}, {\"tests\": -50.0}, {\"tests\": -10.0}, {\"tests\": -20.0}, {\"tests\": -20.0}, {\"tests\": -70.0}, {\"tests\": -60.0}, {\"tests\": -20.0}, {\"tests\": -60.0}, {\"tests\": -50.0}, {\"tests\": -30.0}, {\"tests\": -70.0}, {\"tests\": -40.0}, {\"tests\": -30.0}, {\"tests\": -20.0}, {\"tests\": -60.0}, {\"tests\": -60.0}, {\"tests\": -80.0}, {\"tests\": -50.0}, {\"tests\": -50.0}, {\"tests\": -30.0}, {\"tests\": -50.0}, {\"tests\": -60.0}, {\"tests\": -80.0}, {\"tests\": -10.0}, {\"tests\": -70.0}, {\"tests\": -30.0}, {\"tests\": -20.0}, {\"tests\": -80.0}, {\"tests\": -20.0}, {\"tests\": -70.0}, {\"tests\": -20.0}, {\"tests\": -10.0}, {\"tests\": -20.0}, {\"tests\": -90.0}, {\"tests\": -30.0}, {\"tests\": -40.0}, {\"tests\": -40.0}, {\"tests\": -80.0}, {\"tests\": -60.0}, {\"tests\": -30.0}, {\"tests\": -60.0}, {\"tests\": -60.0}, {\"tests\": -20.0}, {\"tests\": -20.0}, {\"tests\": -50.0}, {\"tests\": -40.0}, {\"tests\": -20.0}, {\"tests\": -50.0}, {\"tests\": -50.0}, {\"tests\": -20.0}, {\"tests\": -50.0}, {\"tests\": -30.0}, {\"tests\": -70.0}, {\"tests\": -40.0}, {\"tests\": -50.0}, {\"tests\": -70.0}, {\"tests\": -60.0}, {\"tests\": -60.0}, {\"tests\": -60.0}, {\"tests\": -40.0}, {\"tests\": -70.0}, {\"tests\": -40.0}, {\"tests\": -80.0}, {\"tests\": -80.0}, {\"tests\": -20.0}, {\"tests\": -30.0}, {\"tests\": -100.0}, {\"tests\": -40.0}, {\"tests\": -90.0}, {\"tests\": -40.0}, {\"tests\": -70.0}, {\"tests\": -80.0}, {\"tests\": -20.0}, {\"tests\": -40.0}, {\"tests\": -60.0}, {\"tests\": -50.0}, {\"tests\": -40.0}, {\"tests\": -30.0}, {\"tests\": -90.0}, {\"tests\": -60.0}, {\"tests\": -60.0}, {\"tests\": -80.0}, {\"tests\": -40.0}, {\"tests\": -70.0}, {\"tests\": -60.0}, {\"tests\": -60.0}, {\"tests\": -70.0}, {\"tests\": -50.0}, {\"tests\": -60.0}, {\"tests\": -60.0}, {\"tests\": -10.0}, {\"tests\": -50.0}, {\"tests\": -20.0}, {\"tests\": -80.0}, {\"tests\": -30.0}, {\"tests\": -20.0}, {\"tests\": -20.0}, {\"tests\": -20.0}, {\"tests\": -40.0}, {\"tests\": -80.0}, {\"tests\": -60.0}, {\"tests\": -60.0}, {\"tests\": -20.0}, {\"tests\": -40.0}, {\"tests\": -20.0}, {\"tests\": -20.0}, {\"tests\": -30.0}, {\"tests\": -60.0}, {\"tests\": -30.0}, {\"tests\": -100.0}, {\"tests\": -50.0}, {\"tests\": -40.0}, {\"tests\": -40.0}, {\"tests\": -40.0}, {\"tests\": -100.0}, {\"tests\": -60.0}, {\"tests\": -40.0}, {\"tests\": -50.0}, {\"tests\": -20.0}, {\"tests\": -60.0}, {\"tests\": -60.0}, {\"tests\": -40.0}, {\"tests\": -70.0}, {\"tests\": -60.0}, {\"tests\": -60.0}, {\"tests\": -60.0}, {\"tests\": -50.0}, {\"tests\": -50.0}, {\"tests\": -30.0}, {\"tests\": -60.0}, {\"tests\": -70.0}, {\"tests\": -80.0}, {\"tests\": -50.0}, {\"tests\": -100.0}, {\"tests\": 20.0}, {\"tests\": -50.0}, {\"tests\": -90.0}, {\"tests\": -50.0}, {\"tests\": -20.0}, {\"tests\": -40.0}, {\"tests\": -70.0}, {\"tests\": 0.0}, {\"tests\": -80.0}, {\"tests\": -70.0}, {\"tests\": -50.0}, {\"tests\": -60.0}, {\"tests\": -90.0}, {\"tests\": -80.0}, {\"tests\": -80.0}, {\"tests\": -60.0}, {\"tests\": -30.0}, {\"tests\": -60.0}, {\"tests\": -20.0}, {\"tests\": -40.0}, {\"tests\": -20.0}, {\"tests\": -90.0}, {\"tests\": -40.0}, {\"tests\": 0.0}, {\"tests\": 0.0}, {\"tests\": -50.0}, {\"tests\": 0.0}, {\"tests\": -60.0}, {\"tests\": -20.0}, {\"tests\": -80.0}, {\"tests\": -80.0}, {\"tests\": -70.0}, {\"tests\": -40.0}, {\"tests\": -50.0}, {\"tests\": -30.0}, {\"tests\": -20.0}, {\"tests\": -20.0}, {\"tests\": -10.0}, {\"tests\": -80.0}, {\"tests\": -40.0}, {\"tests\": -40.0}, {\"tests\": -40.0}, {\"tests\": -90.0}, {\"tests\": -60.0}, {\"tests\": -80.0}, {\"tests\": -10.0}, {\"tests\": -50.0}, {\"tests\": -20.0}, {\"tests\": -20.0}, {\"tests\": -20.0}, {\"tests\": -60.0}, {\"tests\": 40.0}, {\"tests\": -70.0}, {\"tests\": -20.0}, {\"tests\": -30.0}, {\"tests\": -80.0}, {\"tests\": -70.0}, {\"tests\": -80.0}, {\"tests\": -20.0}, {\"tests\": -50.0}, {\"tests\": -70.0}, {\"tests\": -30.0}, {\"tests\": -60.0}, {\"tests\": -80.0}, {\"tests\": -30.0}, {\"tests\": 0.0}, {\"tests\": -40.0}, {\"tests\": -80.0}, {\"tests\": -40.0}, {\"tests\": -60.0}, {\"tests\": -60.0}, {\"tests\": -30.0}, {\"tests\": -20.0}, {\"tests\": -50.0}, {\"tests\": -30.0}, {\"tests\": -20.0}, {\"tests\": -40.0}, {\"tests\": -40.0}, {\"tests\": -70.0}, {\"tests\": -90.0}, {\"tests\": -90.0}, {\"tests\": -70.0}, {\"tests\": -30.0}, {\"tests\": -80.0}, {\"tests\": -40.0}, {\"tests\": -50.0}, {\"tests\": -70.0}, {\"tests\": -60.0}, {\"tests\": -30.0}, {\"tests\": -60.0}, {\"tests\": -30.0}, {\"tests\": -40.0}, {\"tests\": -30.0}, {\"tests\": -80.0}, {\"tests\": -60.0}, {\"tests\": -100.0}, {\"tests\": -10.0}, {\"tests\": -60.0}, {\"tests\": -40.0}, {\"tests\": -20.0}, {\"tests\": -20.0}, {\"tests\": -30.0}, {\"tests\": -100.0}, {\"tests\": -40.0}, {\"tests\": -30.0}, {\"tests\": -70.0}, {\"tests\": -40.0}, {\"tests\": -60.0}, {\"tests\": -50.0}, {\"tests\": -40.0}, {\"tests\": -70.0}, {\"tests\": 0.0}, {\"tests\": -40.0}, {\"tests\": -80.0}, {\"tests\": -50.0}, {\"tests\": -40.0}, {\"tests\": -30.0}, {\"tests\": -60.0}, {\"tests\": -70.0}, {\"tests\": -70.0}, {\"tests\": -80.0}, {\"tests\": -60.0}, {\"tests\": -20.0}, {\"tests\": -40.0}, {\"tests\": -40.0}, {\"tests\": -60.0}, {\"tests\": -60.0}, {\"tests\": -60.0}, {\"tests\": -20.0}, {\"tests\": -50.0}, {\"tests\": -50.0}, {\"tests\": -70.0}, {\"tests\": -40.0}, {\"tests\": -50.0}, {\"tests\": -50.0}, {\"tests\": -40.0}, {\"tests\": -10.0}, {\"tests\": -50.0}, {\"tests\": -70.0}, {\"tests\": -50.0}, {\"tests\": -60.0}, {\"tests\": -30.0}, {\"tests\": -40.0}, {\"tests\": -20.0}, {\"tests\": -40.0}, {\"tests\": -50.0}, {\"tests\": -60.0}, {\"tests\": -60.0}, {\"tests\": -40.0}, {\"tests\": -60.0}, {\"tests\": -30.0}, {\"tests\": -90.0}, {\"tests\": -60.0}, {\"tests\": -80.0}, {\"tests\": -60.0}, {\"tests\": -60.0}, {\"tests\": -40.0}, {\"tests\": -60.0}, {\"tests\": -40.0}, {\"tests\": -70.0}, {\"tests\": -20.0}, {\"tests\": -60.0}, {\"tests\": -30.0}, {\"tests\": -50.0}, {\"tests\": -10.0}, {\"tests\": -50.0}, {\"tests\": 0.0}, {\"tests\": -20.0}, {\"tests\": -30.0}, {\"tests\": -60.0}, {\"tests\": -40.0}, {\"tests\": -80.0}, {\"tests\": -70.0}, {\"tests\": -20.0}, {\"tests\": -20.0}, {\"tests\": -60.0}, {\"tests\": -80.0}, {\"tests\": -60.0}, {\"tests\": -60.0}, {\"tests\": -40.0}, {\"tests\": -40.0}, {\"tests\": -70.0}, {\"tests\": -50.0}, {\"tests\": -70.0}, {\"tests\": -20.0}, {\"tests\": -30.0}, {\"tests\": -60.0}, {\"tests\": -40.0}, {\"tests\": -30.0}, {\"tests\": -50.0}, {\"tests\": -60.0}, {\"tests\": -50.0}, {\"tests\": -30.0}, {\"tests\": 0.0}, {\"tests\": -30.0}, {\"tests\": -40.0}, {\"tests\": -10.0}, {\"tests\": -20.0}, {\"tests\": -10.0}, {\"tests\": -50.0}, {\"tests\": -30.0}, {\"tests\": -40.0}, {\"tests\": -30.0}, {\"tests\": -70.0}, {\"tests\": -40.0}, {\"tests\": -60.0}, {\"tests\": -40.0}, {\"tests\": -60.0}, {\"tests\": -50.0}, {\"tests\": -40.0}, {\"tests\": -30.0}, {\"tests\": -10.0}, {\"tests\": -90.0}, {\"tests\": -30.0}, {\"tests\": -100.0}, {\"tests\": -70.0}, {\"tests\": -60.0}, {\"tests\": -20.0}, {\"tests\": -20.0}, {\"tests\": -40.0}, {\"tests\": -40.0}, {\"tests\": -50.0}, {\"tests\": -60.0}, {\"tests\": -70.0}, {\"tests\": -70.0}, {\"tests\": -50.0}, {\"tests\": -60.0}, {\"tests\": -40.0}, {\"tests\": -80.0}, {\"tests\": -40.0}, {\"tests\": -70.0}, {\"tests\": -20.0}, {\"tests\": -60.0}, {\"tests\": -30.0}, {\"tests\": -80.0}, {\"tests\": -90.0}, {\"tests\": -50.0}, {\"tests\": -50.0}, {\"tests\": -100.0}, {\"tests\": -30.0}, {\"tests\": -50.0}, {\"tests\": -60.0}, {\"tests\": -80.0}, {\"tests\": -80.0}, {\"tests\": -40.0}, {\"tests\": -90.0}, {\"tests\": -80.0}, {\"tests\": -40.0}, {\"tests\": -80.0}, {\"tests\": -70.0}, {\"tests\": -10.0}, {\"tests\": -40.0}, {\"tests\": -80.0}, {\"tests\": -80.0}, {\"tests\": -70.0}, {\"tests\": -70.0}, {\"tests\": -10.0}, {\"tests\": -20.0}, {\"tests\": -50.0}, {\"tests\": -60.0}, {\"tests\": -20.0}, {\"tests\": -80.0}, {\"tests\": -30.0}, {\"tests\": -70.0}, {\"tests\": -40.0}, {\"tests\": -100.0}, {\"tests\": -20.0}, {\"tests\": -50.0}, {\"tests\": -60.0}, {\"tests\": -10.0}, {\"tests\": -70.0}, {\"tests\": -70.0}, {\"tests\": -50.0}, {\"tests\": -60.0}, {\"tests\": -80.0}, {\"tests\": -40.0}, {\"tests\": -20.0}, {\"tests\": -60.0}, {\"tests\": -30.0}, {\"tests\": -20.0}, {\"tests\": -70.0}, {\"tests\": -60.0}, {\"tests\": -90.0}, {\"tests\": -100.0}, {\"tests\": -90.0}, {\"tests\": -70.0}, {\"tests\": 0.0}, {\"tests\": -40.0}, {\"tests\": -50.0}, {\"tests\": -50.0}, {\"tests\": 0.0}, {\"tests\": 0.0}, {\"tests\": -40.0}, {\"tests\": -60.0}, {\"tests\": -60.0}, {\"tests\": -30.0}, {\"tests\": -80.0}, {\"tests\": -70.0}, {\"tests\": -60.0}, {\"tests\": -30.0}, {\"tests\": -30.0}, {\"tests\": -40.0}, {\"tests\": -20.0}, {\"tests\": -20.0}, {\"tests\": -40.0}, {\"tests\": -30.0}, {\"tests\": -60.0}, {\"tests\": -40.0}]}}, {\"mode\": \"vega-lite\"});\n",
       "</script>"
      ],
      "text/plain": [
       "alt.LayerChart(...)"
      ]
     },
     "execution_count": 13,
     "metadata": {},
     "output_type": "execute_result"
    }
   ],
   "source": [
    "bootstrapped_10_1000 = NPS_bootstrap(responses_10, 1000)\n",
    "print(CI_90(bootstrapped_10_1000))\n",
    "print(CI_95(bootstrapped_10_1000))\n",
    "NPS_density(bootstrapped_10_1000)"
   ]
  },
  {
   "cell_type": "code",
   "execution_count": 15,
   "metadata": {},
   "outputs": [],
   "source": [
    "responses_100 = np.random.randint(0,11, 100)"
   ]
  },
  {
   "cell_type": "code",
   "execution_count": 16,
   "metadata": {},
   "outputs": [
    {
     "name": "stdout",
     "output_type": "stream",
     "text": [
      "[-47.1, -29.60000000000001, 17.5]\n",
      "[-47.55, -27.799999999999997, 19.75]\n"
     ]
    },
    {
     "data": {
      "text/html": [
       "\n",
       "<style>\n",
       "  #altair-viz-b937db8354fe499aad9d213216b6b33f.vega-embed {\n",
       "    width: 100%;\n",
       "    display: flex;\n",
       "  }\n",
       "\n",
       "  #altair-viz-b937db8354fe499aad9d213216b6b33f.vega-embed details,\n",
       "  #altair-viz-b937db8354fe499aad9d213216b6b33f.vega-embed details summary {\n",
       "    position: relative;\n",
       "  }\n",
       "</style>\n",
       "<div id=\"altair-viz-b937db8354fe499aad9d213216b6b33f\"></div>\n",
       "<script type=\"text/javascript\">\n",
       "  var VEGA_DEBUG = (typeof VEGA_DEBUG == \"undefined\") ? {} : VEGA_DEBUG;\n",
       "  (function(spec, embedOpt){\n",
       "    let outputDiv = document.currentScript.previousElementSibling;\n",
       "    if (outputDiv.id !== \"altair-viz-b937db8354fe499aad9d213216b6b33f\") {\n",
       "      outputDiv = document.getElementById(\"altair-viz-b937db8354fe499aad9d213216b6b33f\");\n",
       "    }\n",
       "    const paths = {\n",
       "      \"vega\": \"https://cdn.jsdelivr.net/npm/vega@5?noext\",\n",
       "      \"vega-lib\": \"https://cdn.jsdelivr.net/npm/vega-lib?noext\",\n",
       "      \"vega-lite\": \"https://cdn.jsdelivr.net/npm/vega-lite@5.16.3?noext\",\n",
       "      \"vega-embed\": \"https://cdn.jsdelivr.net/npm/vega-embed@6?noext\",\n",
       "    };\n",
       "\n",
       "    function maybeLoadScript(lib, version) {\n",
       "      var key = `${lib.replace(\"-\", \"\")}_version`;\n",
       "      return (VEGA_DEBUG[key] == version) ?\n",
       "        Promise.resolve(paths[lib]) :\n",
       "        new Promise(function(resolve, reject) {\n",
       "          var s = document.createElement('script');\n",
       "          document.getElementsByTagName(\"head\")[0].appendChild(s);\n",
       "          s.async = true;\n",
       "          s.onload = () => {\n",
       "            VEGA_DEBUG[key] = version;\n",
       "            return resolve(paths[lib]);\n",
       "          };\n",
       "          s.onerror = () => reject(`Error loading script: ${paths[lib]}`);\n",
       "          s.src = paths[lib];\n",
       "        });\n",
       "    }\n",
       "\n",
       "    function showError(err) {\n",
       "      outputDiv.innerHTML = `<div class=\"error\" style=\"color:red;\">${err}</div>`;\n",
       "      throw err;\n",
       "    }\n",
       "\n",
       "    function displayChart(vegaEmbed) {\n",
       "      vegaEmbed(outputDiv, spec, embedOpt)\n",
       "        .catch(err => showError(`Javascript Error: ${err.message}<br>This usually means there's a typo in your chart specification. See the javascript console for the full traceback.`));\n",
       "    }\n",
       "\n",
       "    if(typeof define === \"function\" && define.amd) {\n",
       "      requirejs.config({paths});\n",
       "      require([\"vega-embed\"], displayChart, err => showError(`Error loading script: ${err.message}`));\n",
       "    } else {\n",
       "      maybeLoadScript(\"vega\", \"5\")\n",
       "        .then(() => maybeLoadScript(\"vega-lite\", \"5.16.3\"))\n",
       "        .then(() => maybeLoadScript(\"vega-embed\", \"6\"))\n",
       "        .catch(showError)\n",
       "        .then(() => displayChart(vegaEmbed));\n",
       "    }\n",
       "  })({\"config\": {\"view\": {\"continuousWidth\": 300, \"continuousHeight\": 300}}, \"layer\": [{\"mark\": {\"type\": \"area\", \"color\": \"lightgray\"}, \"encoding\": {\"x\": {\"axis\": {\"title\": \"Population Distribution of Pickups\"}, \"field\": \"tests\", \"scale\": {\"domain\": [-58.0, -16.0]}, \"type\": \"quantitative\"}, \"y\": {\"axis\": {\"title\": \"Density\"}, \"field\": \"density\", \"type\": \"quantitative\"}}, \"transform\": [{\"density\": \"tests\", \"as\": [\"tests\", \"density\"]}]}, {\"mark\": {\"type\": \"rule\", \"color\": \"black\", \"strokeDash\": [1, 1]}, \"encoding\": {\"x\": {\"aggregate\": \"mean\", \"field\": \"tests\", \"type\": \"quantitative\"}}}], \"data\": {\"name\": \"data-1c2542844714dd9a462ebcb03c247013\"}, \"$schema\": \"https://vega.github.io/schema/vega-lite/v5.16.3.json\", \"datasets\": {\"data-1c2542844714dd9a462ebcb03c247013\": [{\"tests\": -48.0}, {\"tests\": -44.0}, {\"tests\": -46.0}, {\"tests\": -34.0}, {\"tests\": -40.0}, {\"tests\": -40.0}, {\"tests\": -43.0}, {\"tests\": -26.0}, {\"tests\": -37.0}, {\"tests\": -35.0}]}}, {\"mode\": \"vega-lite\"});\n",
       "</script>"
      ],
      "text/plain": [
       "alt.LayerChart(...)"
      ]
     },
     "execution_count": 16,
     "metadata": {},
     "output_type": "execute_result"
    }
   ],
   "source": [
    "bootstrapped_100_10 = NPS_bootstrap(responses_100, 10)\n",
    "print(CI_90(bootstrapped_100_10))\n",
    "print(CI_95(bootstrapped_100_10))\n",
    "NPS_density(bootstrapped_100_10)"
   ]
  },
  {
   "cell_type": "code",
   "execution_count": 17,
   "metadata": {},
   "outputs": [
    {
     "name": "stdout",
     "output_type": "stream",
     "text": [
      "[-53.1, -26.0, 27.1]\n",
      "[-56.05, -25.47500000000001, 30.57]\n"
     ]
    },
    {
     "data": {
      "text/html": [
       "\n",
       "<style>\n",
       "  #altair-viz-6cfb51d6f28a4cb7803b1d091e3532de.vega-embed {\n",
       "    width: 100%;\n",
       "    display: flex;\n",
       "  }\n",
       "\n",
       "  #altair-viz-6cfb51d6f28a4cb7803b1d091e3532de.vega-embed details,\n",
       "  #altair-viz-6cfb51d6f28a4cb7803b1d091e3532de.vega-embed details summary {\n",
       "    position: relative;\n",
       "  }\n",
       "</style>\n",
       "<div id=\"altair-viz-6cfb51d6f28a4cb7803b1d091e3532de\"></div>\n",
       "<script type=\"text/javascript\">\n",
       "  var VEGA_DEBUG = (typeof VEGA_DEBUG == \"undefined\") ? {} : VEGA_DEBUG;\n",
       "  (function(spec, embedOpt){\n",
       "    let outputDiv = document.currentScript.previousElementSibling;\n",
       "    if (outputDiv.id !== \"altair-viz-6cfb51d6f28a4cb7803b1d091e3532de\") {\n",
       "      outputDiv = document.getElementById(\"altair-viz-6cfb51d6f28a4cb7803b1d091e3532de\");\n",
       "    }\n",
       "    const paths = {\n",
       "      \"vega\": \"https://cdn.jsdelivr.net/npm/vega@5?noext\",\n",
       "      \"vega-lib\": \"https://cdn.jsdelivr.net/npm/vega-lib?noext\",\n",
       "      \"vega-lite\": \"https://cdn.jsdelivr.net/npm/vega-lite@5.16.3?noext\",\n",
       "      \"vega-embed\": \"https://cdn.jsdelivr.net/npm/vega-embed@6?noext\",\n",
       "    };\n",
       "\n",
       "    function maybeLoadScript(lib, version) {\n",
       "      var key = `${lib.replace(\"-\", \"\")}_version`;\n",
       "      return (VEGA_DEBUG[key] == version) ?\n",
       "        Promise.resolve(paths[lib]) :\n",
       "        new Promise(function(resolve, reject) {\n",
       "          var s = document.createElement('script');\n",
       "          document.getElementsByTagName(\"head\")[0].appendChild(s);\n",
       "          s.async = true;\n",
       "          s.onload = () => {\n",
       "            VEGA_DEBUG[key] = version;\n",
       "            return resolve(paths[lib]);\n",
       "          };\n",
       "          s.onerror = () => reject(`Error loading script: ${paths[lib]}`);\n",
       "          s.src = paths[lib];\n",
       "        });\n",
       "    }\n",
       "\n",
       "    function showError(err) {\n",
       "      outputDiv.innerHTML = `<div class=\"error\" style=\"color:red;\">${err}</div>`;\n",
       "      throw err;\n",
       "    }\n",
       "\n",
       "    function displayChart(vegaEmbed) {\n",
       "      vegaEmbed(outputDiv, spec, embedOpt)\n",
       "        .catch(err => showError(`Javascript Error: ${err.message}<br>This usually means there's a typo in your chart specification. See the javascript console for the full traceback.`));\n",
       "    }\n",
       "\n",
       "    if(typeof define === \"function\" && define.amd) {\n",
       "      requirejs.config({paths});\n",
       "      require([\"vega-embed\"], displayChart, err => showError(`Error loading script: ${err.message}`));\n",
       "    } else {\n",
       "      maybeLoadScript(\"vega\", \"5\")\n",
       "        .then(() => maybeLoadScript(\"vega-lite\", \"5.16.3\"))\n",
       "        .then(() => maybeLoadScript(\"vega-embed\", \"6\"))\n",
       "        .catch(showError)\n",
       "        .then(() => displayChart(vegaEmbed));\n",
       "    }\n",
       "  })({\"config\": {\"view\": {\"continuousWidth\": 300, \"continuousHeight\": 300}}, \"layer\": [{\"mark\": {\"type\": \"area\", \"color\": \"lightgray\"}, \"encoding\": {\"x\": {\"axis\": {\"title\": \"Population Distribution of Pickups\"}, \"field\": \"tests\", \"scale\": {\"domain\": [-71.0, -7.0]}, \"type\": \"quantitative\"}, \"y\": {\"axis\": {\"title\": \"Density\"}, \"field\": \"density\", \"type\": \"quantitative\"}}, \"transform\": [{\"density\": \"tests\", \"as\": [\"tests\", \"density\"]}]}, {\"mark\": {\"type\": \"rule\", \"color\": \"black\", \"strokeDash\": [1, 1]}, \"encoding\": {\"x\": {\"aggregate\": \"mean\", \"field\": \"tests\", \"type\": \"quantitative\"}}}], \"data\": {\"name\": \"data-512024110c4a1addced42151eefb025e\"}, \"$schema\": \"https://vega.github.io/schema/vega-lite/v5.16.3.json\", \"datasets\": {\"data-512024110c4a1addced42151eefb025e\": [{\"tests\": -51.0}, {\"tests\": -34.0}, {\"tests\": -33.0}, {\"tests\": -38.0}, {\"tests\": -45.0}, {\"tests\": -36.0}, {\"tests\": -50.0}, {\"tests\": -58.0}, {\"tests\": -39.0}, {\"tests\": -30.0}, {\"tests\": -57.0}, {\"tests\": -51.0}, {\"tests\": -36.0}, {\"tests\": -44.0}, {\"tests\": -28.0}, {\"tests\": -61.0}, {\"tests\": -33.0}, {\"tests\": -45.0}, {\"tests\": -26.0}, {\"tests\": -36.0}, {\"tests\": -36.0}, {\"tests\": -37.0}, {\"tests\": -31.0}, {\"tests\": -43.0}, {\"tests\": -38.0}, {\"tests\": -28.0}, {\"tests\": -41.0}, {\"tests\": -27.0}, {\"tests\": -55.0}, {\"tests\": -30.0}, {\"tests\": -24.0}, {\"tests\": -39.0}, {\"tests\": -45.0}, {\"tests\": -51.0}, {\"tests\": -38.0}, {\"tests\": -46.0}, {\"tests\": -43.0}, {\"tests\": -30.0}, {\"tests\": -32.0}, {\"tests\": -42.0}, {\"tests\": -51.0}, {\"tests\": -25.0}, {\"tests\": -30.0}, {\"tests\": -41.0}, {\"tests\": -51.0}, {\"tests\": -34.0}, {\"tests\": -48.0}, {\"tests\": -48.0}, {\"tests\": -45.0}, {\"tests\": -45.0}, {\"tests\": -53.0}, {\"tests\": -48.0}, {\"tests\": -50.0}, {\"tests\": -49.0}, {\"tests\": -35.0}, {\"tests\": -34.0}, {\"tests\": -46.0}, {\"tests\": -48.0}, {\"tests\": -38.0}, {\"tests\": -34.0}, {\"tests\": -42.0}, {\"tests\": -46.0}, {\"tests\": -51.0}, {\"tests\": -46.0}, {\"tests\": -48.0}, {\"tests\": -42.0}, {\"tests\": -37.0}, {\"tests\": -36.0}, {\"tests\": -36.0}, {\"tests\": -31.0}, {\"tests\": -43.0}, {\"tests\": -41.0}, {\"tests\": -46.0}, {\"tests\": -55.0}, {\"tests\": -52.0}, {\"tests\": -34.0}, {\"tests\": -41.0}, {\"tests\": -41.0}, {\"tests\": -42.0}, {\"tests\": -36.0}, {\"tests\": -29.0}, {\"tests\": -41.0}, {\"tests\": -46.0}, {\"tests\": -35.0}, {\"tests\": -17.0}, {\"tests\": -48.0}, {\"tests\": -37.0}, {\"tests\": -51.0}, {\"tests\": -42.0}, {\"tests\": -28.0}, {\"tests\": -33.0}, {\"tests\": -34.0}, {\"tests\": -52.0}, {\"tests\": -42.0}, {\"tests\": -26.0}, {\"tests\": -28.0}, {\"tests\": -42.0}, {\"tests\": -50.0}, {\"tests\": -26.0}, {\"tests\": -37.0}]}}, {\"mode\": \"vega-lite\"});\n",
       "</script>"
      ],
      "text/plain": [
       "alt.LayerChart(...)"
      ]
     },
     "execution_count": 17,
     "metadata": {},
     "output_type": "execute_result"
    }
   ],
   "source": [
    "bootstrapped_100_100 = NPS_bootstrap(responses_100, 100)\n",
    "print(CI_90(bootstrapped_100_100))\n",
    "print(CI_95(bootstrapped_100_100))\n",
    "NPS_density(bootstrapped_100_100)"
   ]
  },
  {
   "cell_type": "code",
   "execution_count": 18,
   "metadata": {},
   "outputs": [
    {
     "name": "stdout",
     "output_type": "stream",
     "text": [
      "[-53.0, -27.0, 26.0]\n",
      "[-56.0, -24.0, 32.0]\n"
     ]
    },
    {
     "data": {
      "text/html": [
       "\n",
       "<style>\n",
       "  #altair-viz-3197769cb0c441458d5a163d26582744.vega-embed {\n",
       "    width: 100%;\n",
       "    display: flex;\n",
       "  }\n",
       "\n",
       "  #altair-viz-3197769cb0c441458d5a163d26582744.vega-embed details,\n",
       "  #altair-viz-3197769cb0c441458d5a163d26582744.vega-embed details summary {\n",
       "    position: relative;\n",
       "  }\n",
       "</style>\n",
       "<div id=\"altair-viz-3197769cb0c441458d5a163d26582744\"></div>\n",
       "<script type=\"text/javascript\">\n",
       "  var VEGA_DEBUG = (typeof VEGA_DEBUG == \"undefined\") ? {} : VEGA_DEBUG;\n",
       "  (function(spec, embedOpt){\n",
       "    let outputDiv = document.currentScript.previousElementSibling;\n",
       "    if (outputDiv.id !== \"altair-viz-3197769cb0c441458d5a163d26582744\") {\n",
       "      outputDiv = document.getElementById(\"altair-viz-3197769cb0c441458d5a163d26582744\");\n",
       "    }\n",
       "    const paths = {\n",
       "      \"vega\": \"https://cdn.jsdelivr.net/npm/vega@5?noext\",\n",
       "      \"vega-lib\": \"https://cdn.jsdelivr.net/npm/vega-lib?noext\",\n",
       "      \"vega-lite\": \"https://cdn.jsdelivr.net/npm/vega-lite@5.16.3?noext\",\n",
       "      \"vega-embed\": \"https://cdn.jsdelivr.net/npm/vega-embed@6?noext\",\n",
       "    };\n",
       "\n",
       "    function maybeLoadScript(lib, version) {\n",
       "      var key = `${lib.replace(\"-\", \"\")}_version`;\n",
       "      return (VEGA_DEBUG[key] == version) ?\n",
       "        Promise.resolve(paths[lib]) :\n",
       "        new Promise(function(resolve, reject) {\n",
       "          var s = document.createElement('script');\n",
       "          document.getElementsByTagName(\"head\")[0].appendChild(s);\n",
       "          s.async = true;\n",
       "          s.onload = () => {\n",
       "            VEGA_DEBUG[key] = version;\n",
       "            return resolve(paths[lib]);\n",
       "          };\n",
       "          s.onerror = () => reject(`Error loading script: ${paths[lib]}`);\n",
       "          s.src = paths[lib];\n",
       "        });\n",
       "    }\n",
       "\n",
       "    function showError(err) {\n",
       "      outputDiv.innerHTML = `<div class=\"error\" style=\"color:red;\">${err}</div>`;\n",
       "      throw err;\n",
       "    }\n",
       "\n",
       "    function displayChart(vegaEmbed) {\n",
       "      vegaEmbed(outputDiv, spec, embedOpt)\n",
       "        .catch(err => showError(`Javascript Error: ${err.message}<br>This usually means there's a typo in your chart specification. See the javascript console for the full traceback.`));\n",
       "    }\n",
       "\n",
       "    if(typeof define === \"function\" && define.amd) {\n",
       "      requirejs.config({paths});\n",
       "      require([\"vega-embed\"], displayChart, err => showError(`Error loading script: ${err.message}`));\n",
       "    } else {\n",
       "      maybeLoadScript(\"vega\", \"5\")\n",
       "        .then(() => maybeLoadScript(\"vega-lite\", \"5.16.3\"))\n",
       "        .then(() => maybeLoadScript(\"vega-embed\", \"6\"))\n",
       "        .catch(showError)\n",
       "        .then(() => displayChart(vegaEmbed));\n",
       "    }\n",
       "  })({\"config\": {\"view\": {\"continuousWidth\": 300, \"continuousHeight\": 300}}, \"layer\": [{\"mark\": {\"type\": \"area\", \"color\": \"lightgray\"}, \"encoding\": {\"x\": {\"axis\": {\"title\": \"Population Distribution of Pickups\"}, \"field\": \"tests\", \"scale\": {\"domain\": [-77.0, -4.0]}, \"type\": \"quantitative\"}, \"y\": {\"axis\": {\"title\": \"Density\"}, \"field\": \"density\", \"type\": \"quantitative\"}}, \"transform\": [{\"density\": \"tests\", \"as\": [\"tests\", \"density\"]}]}, {\"mark\": {\"type\": \"rule\", \"color\": \"black\", \"strokeDash\": [1, 1]}, \"encoding\": {\"x\": {\"aggregate\": \"mean\", \"field\": \"tests\", \"type\": \"quantitative\"}}}], \"data\": {\"name\": \"data-d5758bbbbd75fa7b3153506975c3d835\"}, \"$schema\": \"https://vega.github.io/schema/vega-lite/v5.16.3.json\", \"datasets\": {\"data-d5758bbbbd75fa7b3153506975c3d835\": [{\"tests\": -41.0}, {\"tests\": -40.0}, {\"tests\": -40.0}, {\"tests\": -41.0}, {\"tests\": -40.0}, {\"tests\": -34.0}, {\"tests\": -37.0}, {\"tests\": -27.0}, {\"tests\": -40.0}, {\"tests\": -43.0}, {\"tests\": -31.0}, {\"tests\": -41.0}, {\"tests\": -41.0}, {\"tests\": -34.0}, {\"tests\": -30.0}, {\"tests\": -45.0}, {\"tests\": -40.0}, {\"tests\": -47.0}, {\"tests\": -35.0}, {\"tests\": -55.0}, {\"tests\": -40.0}, {\"tests\": -51.0}, {\"tests\": -46.0}, {\"tests\": -43.0}, {\"tests\": -44.0}, {\"tests\": -43.0}, {\"tests\": -44.0}, {\"tests\": -49.0}, {\"tests\": -41.0}, {\"tests\": -46.0}, {\"tests\": -46.0}, {\"tests\": -36.0}, {\"tests\": -32.0}, {\"tests\": -34.0}, {\"tests\": -45.0}, {\"tests\": -30.0}, {\"tests\": -42.0}, {\"tests\": -43.0}, {\"tests\": -29.0}, {\"tests\": -52.0}, {\"tests\": -42.0}, {\"tests\": -46.0}, {\"tests\": -30.0}, {\"tests\": -50.0}, {\"tests\": -50.0}, {\"tests\": -24.0}, {\"tests\": -54.0}, {\"tests\": -40.0}, {\"tests\": -26.0}, {\"tests\": -51.0}, {\"tests\": -67.0}, {\"tests\": -39.0}, {\"tests\": -38.0}, {\"tests\": -45.0}, {\"tests\": -29.0}, {\"tests\": -32.0}, {\"tests\": -45.0}, {\"tests\": -45.0}, {\"tests\": -35.0}, {\"tests\": -48.0}, {\"tests\": -47.0}, {\"tests\": -28.0}, {\"tests\": -40.0}, {\"tests\": -47.0}, {\"tests\": -27.0}, {\"tests\": -43.0}, {\"tests\": -33.0}, {\"tests\": -28.0}, {\"tests\": -45.0}, {\"tests\": -47.0}, {\"tests\": -33.0}, {\"tests\": -52.0}, {\"tests\": -34.0}, {\"tests\": -31.0}, {\"tests\": -30.0}, {\"tests\": -43.0}, {\"tests\": -45.0}, {\"tests\": -14.0}, {\"tests\": -25.0}, {\"tests\": -48.0}, {\"tests\": -48.0}, {\"tests\": -34.0}, {\"tests\": -32.0}, {\"tests\": -43.0}, {\"tests\": -51.0}, {\"tests\": -38.0}, {\"tests\": -31.0}, {\"tests\": -43.0}, {\"tests\": -51.0}, {\"tests\": -31.0}, {\"tests\": -35.0}, {\"tests\": -44.0}, {\"tests\": -34.0}, {\"tests\": -36.0}, {\"tests\": -33.0}, {\"tests\": -23.0}, {\"tests\": -29.0}, {\"tests\": -39.0}, {\"tests\": -44.0}, {\"tests\": -40.0}, {\"tests\": -31.0}, {\"tests\": -48.0}, {\"tests\": -28.0}, {\"tests\": -37.0}, {\"tests\": -37.0}, {\"tests\": -35.0}, {\"tests\": -34.0}, {\"tests\": -38.0}, {\"tests\": -37.0}, {\"tests\": -43.0}, {\"tests\": -43.0}, {\"tests\": -44.0}, {\"tests\": -44.0}, {\"tests\": -49.0}, {\"tests\": -37.0}, {\"tests\": -45.0}, {\"tests\": -44.0}, {\"tests\": -42.0}, {\"tests\": -42.0}, {\"tests\": -49.0}, {\"tests\": -35.0}, {\"tests\": -33.0}, {\"tests\": -41.0}, {\"tests\": -40.0}, {\"tests\": -39.0}, {\"tests\": -31.0}, {\"tests\": -42.0}, {\"tests\": -36.0}, {\"tests\": -43.0}, {\"tests\": -36.0}, {\"tests\": -34.0}, {\"tests\": -44.0}, {\"tests\": -36.0}, {\"tests\": -25.0}, {\"tests\": -27.0}, {\"tests\": -39.0}, {\"tests\": -44.0}, {\"tests\": -38.0}, {\"tests\": -38.0}, {\"tests\": -46.0}, {\"tests\": -33.0}, {\"tests\": -51.0}, {\"tests\": -50.0}, {\"tests\": -45.0}, {\"tests\": -49.0}, {\"tests\": -31.0}, {\"tests\": -32.0}, {\"tests\": -42.0}, {\"tests\": -37.0}, {\"tests\": -45.0}, {\"tests\": -33.0}, {\"tests\": -48.0}, {\"tests\": -55.0}, {\"tests\": -53.0}, {\"tests\": -38.0}, {\"tests\": -28.0}, {\"tests\": -51.0}, {\"tests\": -34.0}, {\"tests\": -43.0}, {\"tests\": -41.0}, {\"tests\": -28.0}, {\"tests\": -42.0}, {\"tests\": -33.0}, {\"tests\": -32.0}, {\"tests\": -30.0}, {\"tests\": -20.0}, {\"tests\": -43.0}, {\"tests\": -39.0}, {\"tests\": -34.0}, {\"tests\": -50.0}, {\"tests\": -45.0}, {\"tests\": -22.0}, {\"tests\": -44.0}, {\"tests\": -37.0}, {\"tests\": -29.0}, {\"tests\": -44.0}, {\"tests\": -43.0}, {\"tests\": -37.0}, {\"tests\": -38.0}, {\"tests\": -42.0}, {\"tests\": -44.0}, {\"tests\": -36.0}, {\"tests\": -26.0}, {\"tests\": -41.0}, {\"tests\": -45.0}, {\"tests\": -48.0}, {\"tests\": -28.0}, {\"tests\": -42.0}, {\"tests\": -51.0}, {\"tests\": -21.0}, {\"tests\": -39.0}, {\"tests\": -34.0}, {\"tests\": -42.0}, {\"tests\": -57.0}, {\"tests\": -33.0}, {\"tests\": -47.0}, {\"tests\": -57.0}, {\"tests\": -49.0}, {\"tests\": -37.0}, {\"tests\": -37.0}, {\"tests\": -36.0}, {\"tests\": -39.0}, {\"tests\": -43.0}, {\"tests\": -41.0}, {\"tests\": -50.0}, {\"tests\": -35.0}, {\"tests\": -48.0}, {\"tests\": -36.0}, {\"tests\": -37.0}, {\"tests\": -48.0}, {\"tests\": -42.0}, {\"tests\": -42.0}, {\"tests\": -43.0}, {\"tests\": -43.0}, {\"tests\": -24.0}, {\"tests\": -35.0}, {\"tests\": -29.0}, {\"tests\": -28.0}, {\"tests\": -36.0}, {\"tests\": -47.0}, {\"tests\": -43.0}, {\"tests\": -43.0}, {\"tests\": -30.0}, {\"tests\": -50.0}, {\"tests\": -50.0}, {\"tests\": -45.0}, {\"tests\": -39.0}, {\"tests\": -39.0}, {\"tests\": -46.0}, {\"tests\": -35.0}, {\"tests\": -35.0}, {\"tests\": -50.0}, {\"tests\": -44.0}, {\"tests\": -31.0}, {\"tests\": -52.0}, {\"tests\": -52.0}, {\"tests\": -47.0}, {\"tests\": -56.0}, {\"tests\": -50.0}, {\"tests\": -46.0}, {\"tests\": -42.0}, {\"tests\": -56.0}, {\"tests\": -50.0}, {\"tests\": -33.0}, {\"tests\": -50.0}, {\"tests\": -32.0}, {\"tests\": -34.0}, {\"tests\": -41.0}, {\"tests\": -43.0}, {\"tests\": -44.0}, {\"tests\": -41.0}, {\"tests\": -36.0}, {\"tests\": -57.0}, {\"tests\": -28.0}, {\"tests\": -30.0}, {\"tests\": -27.0}, {\"tests\": -57.0}, {\"tests\": -41.0}, {\"tests\": -40.0}, {\"tests\": -36.0}, {\"tests\": -52.0}, {\"tests\": -32.0}, {\"tests\": -36.0}, {\"tests\": -38.0}, {\"tests\": -21.0}, {\"tests\": -34.0}, {\"tests\": -42.0}, {\"tests\": -33.0}, {\"tests\": -46.0}, {\"tests\": -34.0}, {\"tests\": -25.0}, {\"tests\": -45.0}, {\"tests\": -33.0}, {\"tests\": -34.0}, {\"tests\": -29.0}, {\"tests\": -41.0}, {\"tests\": -45.0}, {\"tests\": -44.0}, {\"tests\": -34.0}, {\"tests\": -40.0}, {\"tests\": -38.0}, {\"tests\": -37.0}, {\"tests\": -45.0}, {\"tests\": -38.0}, {\"tests\": -38.0}, {\"tests\": -41.0}, {\"tests\": -42.0}, {\"tests\": -49.0}, {\"tests\": -37.0}, {\"tests\": -44.0}, {\"tests\": -37.0}, {\"tests\": -44.0}, {\"tests\": -47.0}, {\"tests\": -45.0}, {\"tests\": -46.0}, {\"tests\": -55.0}, {\"tests\": -42.0}, {\"tests\": -49.0}, {\"tests\": -56.0}, {\"tests\": -35.0}, {\"tests\": -33.0}, {\"tests\": -51.0}, {\"tests\": -49.0}, {\"tests\": -34.0}, {\"tests\": -46.0}, {\"tests\": -53.0}, {\"tests\": -42.0}, {\"tests\": -36.0}, {\"tests\": -39.0}, {\"tests\": -41.0}, {\"tests\": -35.0}, {\"tests\": -46.0}, {\"tests\": -36.0}, {\"tests\": -36.0}, {\"tests\": -49.0}, {\"tests\": -39.0}, {\"tests\": -54.0}, {\"tests\": -48.0}, {\"tests\": -36.0}, {\"tests\": -55.0}, {\"tests\": -38.0}, {\"tests\": -39.0}, {\"tests\": -41.0}, {\"tests\": -43.0}, {\"tests\": -32.0}, {\"tests\": -42.0}, {\"tests\": -42.0}, {\"tests\": -30.0}, {\"tests\": -36.0}, {\"tests\": -42.0}, {\"tests\": -38.0}, {\"tests\": -33.0}, {\"tests\": -35.0}, {\"tests\": -34.0}, {\"tests\": -43.0}, {\"tests\": -44.0}, {\"tests\": -49.0}, {\"tests\": -30.0}, {\"tests\": -49.0}, {\"tests\": -30.0}, {\"tests\": -40.0}, {\"tests\": -28.0}, {\"tests\": -39.0}, {\"tests\": -42.0}, {\"tests\": -43.0}, {\"tests\": -45.0}, {\"tests\": -37.0}, {\"tests\": -46.0}, {\"tests\": -59.0}, {\"tests\": -47.0}, {\"tests\": -47.0}, {\"tests\": -47.0}, {\"tests\": -36.0}, {\"tests\": -32.0}, {\"tests\": -42.0}, {\"tests\": -28.0}, {\"tests\": -40.0}, {\"tests\": -38.0}, {\"tests\": -41.0}, {\"tests\": -47.0}, {\"tests\": -42.0}, {\"tests\": -41.0}, {\"tests\": -48.0}, {\"tests\": -49.0}, {\"tests\": -22.0}, {\"tests\": -42.0}, {\"tests\": -32.0}, {\"tests\": -42.0}, {\"tests\": -34.0}, {\"tests\": -49.0}, {\"tests\": -47.0}, {\"tests\": -29.0}, {\"tests\": -47.0}, {\"tests\": -45.0}, {\"tests\": -43.0}, {\"tests\": -45.0}, {\"tests\": -51.0}, {\"tests\": -25.0}, {\"tests\": -49.0}, {\"tests\": -33.0}, {\"tests\": -45.0}, {\"tests\": -26.0}, {\"tests\": -40.0}, {\"tests\": -38.0}, {\"tests\": -48.0}, {\"tests\": -32.0}, {\"tests\": -29.0}, {\"tests\": -39.0}, {\"tests\": -41.0}, {\"tests\": -30.0}, {\"tests\": -36.0}, {\"tests\": -45.0}, {\"tests\": -47.0}, {\"tests\": -23.0}, {\"tests\": -40.0}, {\"tests\": -39.0}, {\"tests\": -37.0}, {\"tests\": -47.0}, {\"tests\": -32.0}, {\"tests\": -37.0}, {\"tests\": -33.0}, {\"tests\": -29.0}, {\"tests\": -39.0}, {\"tests\": -54.0}, {\"tests\": -34.0}, {\"tests\": -38.0}, {\"tests\": -38.0}, {\"tests\": -40.0}, {\"tests\": -40.0}, {\"tests\": -50.0}, {\"tests\": -41.0}, {\"tests\": -47.0}, {\"tests\": -51.0}, {\"tests\": -35.0}, {\"tests\": -34.0}, {\"tests\": -42.0}, {\"tests\": -44.0}, {\"tests\": -30.0}, {\"tests\": -46.0}, {\"tests\": -39.0}, {\"tests\": -18.0}, {\"tests\": -38.0}, {\"tests\": -46.0}, {\"tests\": -52.0}, {\"tests\": -46.0}, {\"tests\": -25.0}, {\"tests\": -36.0}, {\"tests\": -31.0}, {\"tests\": -48.0}, {\"tests\": -32.0}, {\"tests\": -46.0}, {\"tests\": -41.0}, {\"tests\": -25.0}, {\"tests\": -36.0}, {\"tests\": -33.0}, {\"tests\": -34.0}, {\"tests\": -48.0}, {\"tests\": -25.0}, {\"tests\": -49.0}, {\"tests\": -38.0}, {\"tests\": -48.0}, {\"tests\": -54.0}, {\"tests\": -35.0}, {\"tests\": -42.0}, {\"tests\": -39.0}, {\"tests\": -31.0}, {\"tests\": -50.0}, {\"tests\": -46.0}, {\"tests\": -54.0}, {\"tests\": -41.0}, {\"tests\": -32.0}, {\"tests\": -43.0}, {\"tests\": -40.0}, {\"tests\": -25.0}, {\"tests\": -37.0}, {\"tests\": -49.0}, {\"tests\": -37.0}, {\"tests\": -39.0}, {\"tests\": -57.0}, {\"tests\": -39.0}, {\"tests\": -43.0}, {\"tests\": -34.0}, {\"tests\": -34.0}, {\"tests\": -29.0}, {\"tests\": -32.0}, {\"tests\": -44.0}, {\"tests\": -24.0}, {\"tests\": -31.0}, {\"tests\": -37.0}, {\"tests\": -49.0}, {\"tests\": -57.0}, {\"tests\": -44.0}, {\"tests\": -29.0}, {\"tests\": -37.0}, {\"tests\": -22.0}, {\"tests\": -29.0}, {\"tests\": -56.0}, {\"tests\": -34.0}, {\"tests\": -43.0}, {\"tests\": -47.0}, {\"tests\": -37.0}, {\"tests\": -33.0}, {\"tests\": -50.0}, {\"tests\": -50.0}, {\"tests\": -34.0}, {\"tests\": -36.0}, {\"tests\": -58.0}, {\"tests\": -43.0}, {\"tests\": -30.0}, {\"tests\": -28.0}, {\"tests\": -42.0}, {\"tests\": -48.0}, {\"tests\": -33.0}, {\"tests\": -39.0}, {\"tests\": -42.0}, {\"tests\": -55.0}, {\"tests\": -41.0}, {\"tests\": -41.0}, {\"tests\": -45.0}, {\"tests\": -34.0}, {\"tests\": -29.0}, {\"tests\": -43.0}, {\"tests\": -44.0}, {\"tests\": -35.0}, {\"tests\": -29.0}, {\"tests\": -45.0}, {\"tests\": -28.0}, {\"tests\": -44.0}, {\"tests\": -36.0}, {\"tests\": -40.0}, {\"tests\": -41.0}, {\"tests\": -21.0}, {\"tests\": -39.0}, {\"tests\": -34.0}, {\"tests\": -46.0}, {\"tests\": -52.0}, {\"tests\": -32.0}, {\"tests\": -55.0}, {\"tests\": -43.0}, {\"tests\": -42.0}, {\"tests\": -29.0}, {\"tests\": -44.0}, {\"tests\": -33.0}, {\"tests\": -34.0}, {\"tests\": -49.0}, {\"tests\": -45.0}, {\"tests\": -34.0}, {\"tests\": -33.0}, {\"tests\": -35.0}, {\"tests\": -43.0}, {\"tests\": -42.0}, {\"tests\": -32.0}, {\"tests\": -44.0}, {\"tests\": -49.0}, {\"tests\": -44.0}, {\"tests\": -52.0}, {\"tests\": -40.0}, {\"tests\": -34.0}, {\"tests\": -16.0}, {\"tests\": -33.0}, {\"tests\": -38.0}, {\"tests\": -51.0}, {\"tests\": -48.0}, {\"tests\": -38.0}, {\"tests\": -37.0}, {\"tests\": -34.0}, {\"tests\": -42.0}, {\"tests\": -30.0}, {\"tests\": -34.0}, {\"tests\": -43.0}, {\"tests\": -53.0}, {\"tests\": -46.0}, {\"tests\": -62.0}, {\"tests\": -31.0}, {\"tests\": -46.0}, {\"tests\": -46.0}, {\"tests\": -31.0}, {\"tests\": -46.0}, {\"tests\": -43.0}, {\"tests\": -32.0}, {\"tests\": -34.0}, {\"tests\": -46.0}, {\"tests\": -28.0}, {\"tests\": -48.0}, {\"tests\": -23.0}, {\"tests\": -42.0}, {\"tests\": -53.0}, {\"tests\": -43.0}, {\"tests\": -32.0}, {\"tests\": -28.0}, {\"tests\": -38.0}, {\"tests\": -43.0}, {\"tests\": -36.0}, {\"tests\": -44.0}, {\"tests\": -41.0}, {\"tests\": -39.0}, {\"tests\": -54.0}, {\"tests\": -41.0}, {\"tests\": -43.0}, {\"tests\": -38.0}, {\"tests\": -48.0}, {\"tests\": -28.0}, {\"tests\": -33.0}, {\"tests\": -32.0}, {\"tests\": -50.0}, {\"tests\": -42.0}, {\"tests\": -53.0}, {\"tests\": -47.0}, {\"tests\": -32.0}, {\"tests\": -37.0}, {\"tests\": -50.0}, {\"tests\": -32.0}, {\"tests\": -46.0}, {\"tests\": -34.0}, {\"tests\": -39.0}, {\"tests\": -30.0}, {\"tests\": -40.0}, {\"tests\": -40.0}, {\"tests\": -40.0}, {\"tests\": -27.0}, {\"tests\": -50.0}, {\"tests\": -44.0}, {\"tests\": -15.0}, {\"tests\": -55.0}, {\"tests\": -41.0}, {\"tests\": -56.0}, {\"tests\": -38.0}, {\"tests\": -45.0}, {\"tests\": -30.0}, {\"tests\": -49.0}, {\"tests\": -35.0}, {\"tests\": -42.0}, {\"tests\": -31.0}, {\"tests\": -39.0}, {\"tests\": -42.0}, {\"tests\": -32.0}, {\"tests\": -39.0}, {\"tests\": -56.0}, {\"tests\": -22.0}, {\"tests\": -44.0}, {\"tests\": -38.0}, {\"tests\": -40.0}, {\"tests\": -47.0}, {\"tests\": -35.0}, {\"tests\": -27.0}, {\"tests\": -56.0}, {\"tests\": -54.0}, {\"tests\": -30.0}, {\"tests\": -47.0}, {\"tests\": -41.0}, {\"tests\": -39.0}, {\"tests\": -44.0}, {\"tests\": -42.0}, {\"tests\": -45.0}, {\"tests\": -47.0}, {\"tests\": -41.0}, {\"tests\": -38.0}, {\"tests\": -44.0}, {\"tests\": -45.0}, {\"tests\": -36.0}, {\"tests\": -42.0}, {\"tests\": -35.0}, {\"tests\": -25.0}, {\"tests\": -48.0}, {\"tests\": -49.0}, {\"tests\": -38.0}, {\"tests\": -31.0}, {\"tests\": -30.0}, {\"tests\": -37.0}, {\"tests\": -35.0}, {\"tests\": -40.0}, {\"tests\": -27.0}, {\"tests\": -47.0}, {\"tests\": -55.0}, {\"tests\": -39.0}, {\"tests\": -39.0}, {\"tests\": -51.0}, {\"tests\": -42.0}, {\"tests\": -46.0}, {\"tests\": -34.0}, {\"tests\": -29.0}, {\"tests\": -24.0}, {\"tests\": -38.0}, {\"tests\": -44.0}, {\"tests\": -49.0}, {\"tests\": -32.0}, {\"tests\": -43.0}, {\"tests\": -46.0}, {\"tests\": -32.0}, {\"tests\": -41.0}, {\"tests\": -44.0}, {\"tests\": -42.0}, {\"tests\": -41.0}, {\"tests\": -51.0}, {\"tests\": -39.0}, {\"tests\": -27.0}, {\"tests\": -14.0}, {\"tests\": -37.0}, {\"tests\": -34.0}, {\"tests\": -38.0}, {\"tests\": -35.0}, {\"tests\": -47.0}, {\"tests\": -49.0}, {\"tests\": -34.0}, {\"tests\": -40.0}, {\"tests\": -49.0}, {\"tests\": -51.0}, {\"tests\": -43.0}, {\"tests\": -42.0}, {\"tests\": -55.0}, {\"tests\": -38.0}, {\"tests\": -40.0}, {\"tests\": -42.0}, {\"tests\": -32.0}, {\"tests\": -53.0}, {\"tests\": -33.0}, {\"tests\": -59.0}, {\"tests\": -53.0}, {\"tests\": -51.0}, {\"tests\": -30.0}, {\"tests\": -50.0}, {\"tests\": -55.0}, {\"tests\": -58.0}, {\"tests\": -32.0}, {\"tests\": -45.0}, {\"tests\": -34.0}, {\"tests\": -58.0}, {\"tests\": -42.0}, {\"tests\": -35.0}, {\"tests\": -40.0}, {\"tests\": -45.0}, {\"tests\": -50.0}, {\"tests\": -41.0}, {\"tests\": -35.0}, {\"tests\": -36.0}, {\"tests\": -39.0}, {\"tests\": -38.0}, {\"tests\": -31.0}, {\"tests\": -34.0}, {\"tests\": -38.0}, {\"tests\": -34.0}, {\"tests\": -41.0}, {\"tests\": -48.0}, {\"tests\": -37.0}, {\"tests\": -29.0}, {\"tests\": -41.0}, {\"tests\": -38.0}, {\"tests\": -45.0}, {\"tests\": -40.0}, {\"tests\": -43.0}, {\"tests\": -53.0}, {\"tests\": -51.0}, {\"tests\": -33.0}, {\"tests\": -44.0}, {\"tests\": -41.0}, {\"tests\": -57.0}, {\"tests\": -44.0}, {\"tests\": -52.0}, {\"tests\": -50.0}, {\"tests\": -45.0}, {\"tests\": -46.0}, {\"tests\": -57.0}, {\"tests\": -30.0}, {\"tests\": -45.0}, {\"tests\": -41.0}, {\"tests\": -51.0}, {\"tests\": -35.0}, {\"tests\": -46.0}, {\"tests\": -44.0}, {\"tests\": -49.0}, {\"tests\": -44.0}, {\"tests\": -33.0}, {\"tests\": -46.0}, {\"tests\": -34.0}, {\"tests\": -46.0}, {\"tests\": -34.0}, {\"tests\": -31.0}, {\"tests\": -39.0}, {\"tests\": -33.0}, {\"tests\": -37.0}, {\"tests\": -35.0}, {\"tests\": -48.0}, {\"tests\": -44.0}, {\"tests\": -30.0}, {\"tests\": -42.0}, {\"tests\": -53.0}, {\"tests\": -37.0}, {\"tests\": -41.0}, {\"tests\": -47.0}, {\"tests\": -44.0}, {\"tests\": -47.0}, {\"tests\": -38.0}, {\"tests\": -30.0}, {\"tests\": -40.0}, {\"tests\": -24.0}, {\"tests\": -37.0}, {\"tests\": -44.0}, {\"tests\": -53.0}, {\"tests\": -49.0}, {\"tests\": -34.0}, {\"tests\": -38.0}, {\"tests\": -42.0}, {\"tests\": -44.0}, {\"tests\": -45.0}, {\"tests\": -42.0}, {\"tests\": -27.0}, {\"tests\": -38.0}, {\"tests\": -40.0}, {\"tests\": -27.0}, {\"tests\": -33.0}, {\"tests\": -42.0}, {\"tests\": -30.0}, {\"tests\": -54.0}, {\"tests\": -17.0}, {\"tests\": -38.0}, {\"tests\": -38.0}, {\"tests\": -41.0}, {\"tests\": -49.0}, {\"tests\": -41.0}, {\"tests\": -36.0}, {\"tests\": -45.0}, {\"tests\": -51.0}, {\"tests\": -35.0}, {\"tests\": -40.0}, {\"tests\": -39.0}, {\"tests\": -49.0}, {\"tests\": -35.0}, {\"tests\": -36.0}, {\"tests\": -32.0}, {\"tests\": -30.0}, {\"tests\": -47.0}, {\"tests\": -42.0}, {\"tests\": -41.0}, {\"tests\": -49.0}, {\"tests\": -28.0}, {\"tests\": -42.0}, {\"tests\": -43.0}, {\"tests\": -57.0}, {\"tests\": -35.0}, {\"tests\": -43.0}, {\"tests\": -53.0}, {\"tests\": -35.0}, {\"tests\": -39.0}, {\"tests\": -37.0}, {\"tests\": -42.0}, {\"tests\": -38.0}, {\"tests\": -53.0}, {\"tests\": -37.0}, {\"tests\": -36.0}, {\"tests\": -37.0}, {\"tests\": -27.0}, {\"tests\": -40.0}, {\"tests\": -39.0}, {\"tests\": -27.0}, {\"tests\": -31.0}, {\"tests\": -33.0}, {\"tests\": -31.0}, {\"tests\": -37.0}, {\"tests\": -45.0}, {\"tests\": -31.0}, {\"tests\": -30.0}, {\"tests\": -31.0}, {\"tests\": -42.0}, {\"tests\": -51.0}, {\"tests\": -36.0}, {\"tests\": -48.0}, {\"tests\": -42.0}, {\"tests\": -53.0}, {\"tests\": -44.0}, {\"tests\": -37.0}, {\"tests\": -38.0}, {\"tests\": -34.0}, {\"tests\": -37.0}, {\"tests\": -36.0}, {\"tests\": -40.0}, {\"tests\": -48.0}, {\"tests\": -41.0}, {\"tests\": -21.0}, {\"tests\": -26.0}, {\"tests\": -24.0}, {\"tests\": -31.0}, {\"tests\": -37.0}, {\"tests\": -33.0}, {\"tests\": -39.0}, {\"tests\": -36.0}, {\"tests\": -51.0}, {\"tests\": -46.0}, {\"tests\": -47.0}, {\"tests\": -46.0}, {\"tests\": -52.0}, {\"tests\": -40.0}, {\"tests\": -35.0}, {\"tests\": -32.0}, {\"tests\": -24.0}, {\"tests\": -40.0}, {\"tests\": -30.0}, {\"tests\": -50.0}, {\"tests\": -37.0}, {\"tests\": -33.0}, {\"tests\": -40.0}, {\"tests\": -28.0}, {\"tests\": -45.0}, {\"tests\": -33.0}, {\"tests\": -37.0}, {\"tests\": -38.0}, {\"tests\": -32.0}, {\"tests\": -34.0}, {\"tests\": -25.0}, {\"tests\": -52.0}, {\"tests\": -35.0}, {\"tests\": -58.0}, {\"tests\": -47.0}, {\"tests\": -61.0}, {\"tests\": -33.0}, {\"tests\": -28.0}, {\"tests\": -48.0}, {\"tests\": -33.0}, {\"tests\": -37.0}, {\"tests\": -47.0}, {\"tests\": -55.0}, {\"tests\": -48.0}, {\"tests\": -37.0}, {\"tests\": -47.0}, {\"tests\": -41.0}, {\"tests\": -27.0}, {\"tests\": -52.0}, {\"tests\": -34.0}, {\"tests\": -42.0}, {\"tests\": -44.0}, {\"tests\": -62.0}, {\"tests\": -45.0}, {\"tests\": -50.0}, {\"tests\": -39.0}, {\"tests\": -46.0}, {\"tests\": -43.0}, {\"tests\": -47.0}, {\"tests\": -43.0}, {\"tests\": -36.0}, {\"tests\": -36.0}, {\"tests\": -30.0}, {\"tests\": -43.0}, {\"tests\": -27.0}, {\"tests\": -43.0}, {\"tests\": -40.0}, {\"tests\": -28.0}, {\"tests\": -31.0}, {\"tests\": -51.0}, {\"tests\": -29.0}, {\"tests\": -34.0}, {\"tests\": -43.0}, {\"tests\": -51.0}, {\"tests\": -38.0}, {\"tests\": -36.0}, {\"tests\": -40.0}, {\"tests\": -28.0}, {\"tests\": -40.0}, {\"tests\": -36.0}, {\"tests\": -37.0}, {\"tests\": -38.0}, {\"tests\": -29.0}, {\"tests\": -47.0}, {\"tests\": -43.0}, {\"tests\": -27.0}, {\"tests\": -32.0}, {\"tests\": -38.0}, {\"tests\": -49.0}, {\"tests\": -32.0}, {\"tests\": -50.0}, {\"tests\": -41.0}, {\"tests\": -33.0}, {\"tests\": -47.0}, {\"tests\": -46.0}, {\"tests\": -52.0}, {\"tests\": -46.0}, {\"tests\": -27.0}, {\"tests\": -36.0}, {\"tests\": -37.0}, {\"tests\": -53.0}, {\"tests\": -28.0}, {\"tests\": -49.0}, {\"tests\": -45.0}, {\"tests\": -52.0}, {\"tests\": -31.0}, {\"tests\": -59.0}, {\"tests\": -36.0}, {\"tests\": -39.0}, {\"tests\": -38.0}, {\"tests\": -34.0}, {\"tests\": -31.0}, {\"tests\": -49.0}, {\"tests\": -50.0}, {\"tests\": -32.0}, {\"tests\": -23.0}, {\"tests\": -45.0}, {\"tests\": -43.0}, {\"tests\": -33.0}, {\"tests\": -47.0}, {\"tests\": -27.0}, {\"tests\": -36.0}, {\"tests\": -45.0}, {\"tests\": -40.0}, {\"tests\": -46.0}, {\"tests\": -36.0}, {\"tests\": -31.0}, {\"tests\": -23.0}, {\"tests\": -27.0}, {\"tests\": -38.0}, {\"tests\": -37.0}, {\"tests\": -28.0}, {\"tests\": -24.0}, {\"tests\": -43.0}, {\"tests\": -40.0}, {\"tests\": -47.0}, {\"tests\": -38.0}, {\"tests\": -37.0}, {\"tests\": -50.0}, {\"tests\": -38.0}, {\"tests\": -45.0}, {\"tests\": -55.0}, {\"tests\": -37.0}]}}, {\"mode\": \"vega-lite\"});\n",
       "</script>"
      ],
      "text/plain": [
       "alt.LayerChart(...)"
      ]
     },
     "execution_count": 18,
     "metadata": {},
     "output_type": "execute_result"
    }
   ],
   "source": [
    "bootstrapped_100_1000 = NPS_bootstrap(responses_100, 1000)\n",
    "print(CI_90(bootstrapped_100_1000))\n",
    "print(CI_95(bootstrapped_100_1000))\n",
    "NPS_density(bootstrapped_100_1000)"
   ]
  },
  {
   "cell_type": "code",
   "execution_count": 20,
   "metadata": {},
   "outputs": [],
   "source": [
    "responses_1000 = np.random.randint(0,11, 1000)"
   ]
  },
  {
   "cell_type": "code",
   "execution_count": 21,
   "metadata": {},
   "outputs": [
    {
     "name": "stdout",
     "output_type": "stream",
     "text": [
      "[-46.1, -38.5, 7.6]\n",
      "[-46.4675, -37.6475, 8.82]\n"
     ]
    },
    {
     "data": {
      "text/html": [
       "\n",
       "<style>\n",
       "  #altair-viz-e154bc79371c42a99373822c380d7335.vega-embed {\n",
       "    width: 100%;\n",
       "    display: flex;\n",
       "  }\n",
       "\n",
       "  #altair-viz-e154bc79371c42a99373822c380d7335.vega-embed details,\n",
       "  #altair-viz-e154bc79371c42a99373822c380d7335.vega-embed details summary {\n",
       "    position: relative;\n",
       "  }\n",
       "</style>\n",
       "<div id=\"altair-viz-e154bc79371c42a99373822c380d7335\"></div>\n",
       "<script type=\"text/javascript\">\n",
       "  var VEGA_DEBUG = (typeof VEGA_DEBUG == \"undefined\") ? {} : VEGA_DEBUG;\n",
       "  (function(spec, embedOpt){\n",
       "    let outputDiv = document.currentScript.previousElementSibling;\n",
       "    if (outputDiv.id !== \"altair-viz-e154bc79371c42a99373822c380d7335\") {\n",
       "      outputDiv = document.getElementById(\"altair-viz-e154bc79371c42a99373822c380d7335\");\n",
       "    }\n",
       "    const paths = {\n",
       "      \"vega\": \"https://cdn.jsdelivr.net/npm/vega@5?noext\",\n",
       "      \"vega-lib\": \"https://cdn.jsdelivr.net/npm/vega-lib?noext\",\n",
       "      \"vega-lite\": \"https://cdn.jsdelivr.net/npm/vega-lite@5.16.3?noext\",\n",
       "      \"vega-embed\": \"https://cdn.jsdelivr.net/npm/vega-embed@6?noext\",\n",
       "    };\n",
       "\n",
       "    function maybeLoadScript(lib, version) {\n",
       "      var key = `${lib.replace(\"-\", \"\")}_version`;\n",
       "      return (VEGA_DEBUG[key] == version) ?\n",
       "        Promise.resolve(paths[lib]) :\n",
       "        new Promise(function(resolve, reject) {\n",
       "          var s = document.createElement('script');\n",
       "          document.getElementsByTagName(\"head\")[0].appendChild(s);\n",
       "          s.async = true;\n",
       "          s.onload = () => {\n",
       "            VEGA_DEBUG[key] = version;\n",
       "            return resolve(paths[lib]);\n",
       "          };\n",
       "          s.onerror = () => reject(`Error loading script: ${paths[lib]}`);\n",
       "          s.src = paths[lib];\n",
       "        });\n",
       "    }\n",
       "\n",
       "    function showError(err) {\n",
       "      outputDiv.innerHTML = `<div class=\"error\" style=\"color:red;\">${err}</div>`;\n",
       "      throw err;\n",
       "    }\n",
       "\n",
       "    function displayChart(vegaEmbed) {\n",
       "      vegaEmbed(outputDiv, spec, embedOpt)\n",
       "        .catch(err => showError(`Javascript Error: ${err.message}<br>This usually means there's a typo in your chart specification. See the javascript console for the full traceback.`));\n",
       "    }\n",
       "\n",
       "    if(typeof define === \"function\" && define.amd) {\n",
       "      requirejs.config({paths});\n",
       "      require([\"vega-embed\"], displayChart, err => showError(`Error loading script: ${err.message}`));\n",
       "    } else {\n",
       "      maybeLoadScript(\"vega\", \"5\")\n",
       "        .then(() => maybeLoadScript(\"vega-lite\", \"5.16.3\"))\n",
       "        .then(() => maybeLoadScript(\"vega-embed\", \"6\"))\n",
       "        .catch(showError)\n",
       "        .then(() => displayChart(vegaEmbed));\n",
       "    }\n",
       "  })({\"config\": {\"view\": {\"continuousWidth\": 300, \"continuousHeight\": 300}}, \"layer\": [{\"mark\": {\"type\": \"area\", \"color\": \"lightgray\"}, \"encoding\": {\"x\": {\"axis\": {\"title\": \"Population Distribution of Pickups\"}, \"field\": \"tests\", \"scale\": {\"domain\": [-57.2, -26.700000000000003]}, \"type\": \"quantitative\"}, \"y\": {\"axis\": {\"title\": \"Density\"}, \"field\": \"density\", \"type\": \"quantitative\"}}, \"transform\": [{\"density\": \"tests\", \"as\": [\"tests\", \"density\"]}]}, {\"mark\": {\"type\": \"rule\", \"color\": \"black\", \"strokeDash\": [1, 1]}, \"encoding\": {\"x\": {\"aggregate\": \"mean\", \"field\": \"tests\", \"type\": \"quantitative\"}}}], \"data\": {\"name\": \"data-169a9d31c31fd99fd24c6dec4a8037f4\"}, \"$schema\": \"https://vega.github.io/schema/vega-lite/v5.16.3.json\", \"datasets\": {\"data-169a9d31c31fd99fd24c6dec4a8037f4\": [{\"tests\": -44.9}, {\"tests\": -41.3}, {\"tests\": -44.1}, {\"tests\": -46.1}, {\"tests\": -43.7}, {\"tests\": -41.9}, {\"tests\": -42.8}, {\"tests\": -43.3}, {\"tests\": -40.9}, {\"tests\": -44.0}, {\"tests\": -40.7}, {\"tests\": -43.3}, {\"tests\": -47.1}, {\"tests\": -45.0}, {\"tests\": -41.8}, {\"tests\": -44.2}, {\"tests\": -44.3}, {\"tests\": -40.1}, {\"tests\": -39.3}, {\"tests\": -39.2}, {\"tests\": -46.1}, {\"tests\": -42.7}, {\"tests\": -41.0}, {\"tests\": -40.5}, {\"tests\": -42.5}, {\"tests\": -41.4}, {\"tests\": -38.5}, {\"tests\": -43.5}, {\"tests\": -39.5}, {\"tests\": -44.8}, {\"tests\": -41.6}, {\"tests\": -40.3}, {\"tests\": -37.7}, {\"tests\": -42.4}, {\"tests\": -41.3}, {\"tests\": -42.0}, {\"tests\": -45.0}, {\"tests\": -40.7}, {\"tests\": -41.0}, {\"tests\": -46.8}, {\"tests\": -41.3}, {\"tests\": -37.6}, {\"tests\": -43.4}, {\"tests\": -42.7}, {\"tests\": -42.5}, {\"tests\": -41.7}, {\"tests\": -43.4}, {\"tests\": -45.3}, {\"tests\": -39.7}, {\"tests\": -43.0}, {\"tests\": -42.5}, {\"tests\": -46.1}, {\"tests\": -40.5}, {\"tests\": -39.6}, {\"tests\": -43.4}, {\"tests\": -43.4}, {\"tests\": -43.9}, {\"tests\": -43.0}, {\"tests\": -43.5}, {\"tests\": -43.6}, {\"tests\": -43.5}, {\"tests\": -44.3}, {\"tests\": -39.9}, {\"tests\": -42.7}, {\"tests\": -44.7}, {\"tests\": -44.7}, {\"tests\": -38.7}, {\"tests\": -36.7}, {\"tests\": -43.1}, {\"tests\": -41.1}, {\"tests\": -39.8}, {\"tests\": -44.1}, {\"tests\": -41.0}, {\"tests\": -42.2}, {\"tests\": -40.9}, {\"tests\": -41.6}, {\"tests\": -37.2}, {\"tests\": -44.9}, {\"tests\": -38.7}, {\"tests\": -45.0}, {\"tests\": -41.4}, {\"tests\": -45.4}, {\"tests\": -41.3}, {\"tests\": -43.1}, {\"tests\": -47.2}, {\"tests\": -38.5}, {\"tests\": -41.3}, {\"tests\": -45.3}, {\"tests\": -44.5}, {\"tests\": -41.6}, {\"tests\": -44.3}, {\"tests\": -41.5}, {\"tests\": -44.3}, {\"tests\": -39.8}, {\"tests\": -40.8}, {\"tests\": -42.4}, {\"tests\": -40.0}, {\"tests\": -43.1}, {\"tests\": -43.2}, {\"tests\": -40.2}]}}, {\"mode\": \"vega-lite\"});\n",
       "</script>"
      ],
      "text/plain": [
       "alt.LayerChart(...)"
      ]
     },
     "execution_count": 21,
     "metadata": {},
     "output_type": "execute_result"
    }
   ],
   "source": [
    "bootstrapped_1000_100 = NPS_bootstrap(responses_1000, 100)\n",
    "print(CI_90(bootstrapped_1000_100))\n",
    "print(CI_95(bootstrapped_1000_100))\n",
    "NPS_density(bootstrapped_1000_100)"
   ]
  },
  {
   "cell_type": "code",
   "execution_count": 238,
   "metadata": {},
   "outputs": [
    {
     "name": "stdout",
     "output_type": "stream",
     "text": [
      "[-43.4, -35.2, 8.2]\n"
     ]
    },
    {
     "data": {
      "text/html": [
       "\n",
       "<style>\n",
       "  #altair-viz-be2b05f5396749a6ad8a7d75b5ca63f0.vega-embed {\n",
       "    width: 100%;\n",
       "    display: flex;\n",
       "  }\n",
       "\n",
       "  #altair-viz-be2b05f5396749a6ad8a7d75b5ca63f0.vega-embed details,\n",
       "  #altair-viz-be2b05f5396749a6ad8a7d75b5ca63f0.vega-embed details summary {\n",
       "    position: relative;\n",
       "  }\n",
       "</style>\n",
       "<div id=\"altair-viz-be2b05f5396749a6ad8a7d75b5ca63f0\"></div>\n",
       "<script type=\"text/javascript\">\n",
       "  var VEGA_DEBUG = (typeof VEGA_DEBUG == \"undefined\") ? {} : VEGA_DEBUG;\n",
       "  (function(spec, embedOpt){\n",
       "    let outputDiv = document.currentScript.previousElementSibling;\n",
       "    if (outputDiv.id !== \"altair-viz-be2b05f5396749a6ad8a7d75b5ca63f0\") {\n",
       "      outputDiv = document.getElementById(\"altair-viz-be2b05f5396749a6ad8a7d75b5ca63f0\");\n",
       "    }\n",
       "    const paths = {\n",
       "      \"vega\": \"https://cdn.jsdelivr.net/npm/vega@5?noext\",\n",
       "      \"vega-lib\": \"https://cdn.jsdelivr.net/npm/vega-lib?noext\",\n",
       "      \"vega-lite\": \"https://cdn.jsdelivr.net/npm/vega-lite@5.16.3?noext\",\n",
       "      \"vega-embed\": \"https://cdn.jsdelivr.net/npm/vega-embed@6?noext\",\n",
       "    };\n",
       "\n",
       "    function maybeLoadScript(lib, version) {\n",
       "      var key = `${lib.replace(\"-\", \"\")}_version`;\n",
       "      return (VEGA_DEBUG[key] == version) ?\n",
       "        Promise.resolve(paths[lib]) :\n",
       "        new Promise(function(resolve, reject) {\n",
       "          var s = document.createElement('script');\n",
       "          document.getElementsByTagName(\"head\")[0].appendChild(s);\n",
       "          s.async = true;\n",
       "          s.onload = () => {\n",
       "            VEGA_DEBUG[key] = version;\n",
       "            return resolve(paths[lib]);\n",
       "          };\n",
       "          s.onerror = () => reject(`Error loading script: ${paths[lib]}`);\n",
       "          s.src = paths[lib];\n",
       "        });\n",
       "    }\n",
       "\n",
       "    function showError(err) {\n",
       "      outputDiv.innerHTML = `<div class=\"error\" style=\"color:red;\">${err}</div>`;\n",
       "      throw err;\n",
       "    }\n",
       "\n",
       "    function displayChart(vegaEmbed) {\n",
       "      vegaEmbed(outputDiv, spec, embedOpt)\n",
       "        .catch(err => showError(`Javascript Error: ${err.message}<br>This usually means there's a typo in your chart specification. See the javascript console for the full traceback.`));\n",
       "    }\n",
       "\n",
       "    if(typeof define === \"function\" && define.amd) {\n",
       "      requirejs.config({paths});\n",
       "      require([\"vega-embed\"], displayChart, err => showError(`Error loading script: ${err.message}`));\n",
       "    } else {\n",
       "      maybeLoadScript(\"vega\", \"5\")\n",
       "        .then(() => maybeLoadScript(\"vega-lite\", \"5.16.3\"))\n",
       "        .then(() => maybeLoadScript(\"vega-embed\", \"6\"))\n",
       "        .catch(showError)\n",
       "        .then(() => displayChart(vegaEmbed));\n",
       "    }\n",
       "  })({\"config\": {\"view\": {\"continuousWidth\": 300, \"continuousHeight\": 300}}, \"layer\": [{\"mark\": {\"type\": \"area\", \"color\": \"lightgray\"}, \"encoding\": {\"x\": {\"axis\": {\"title\": \"Population Distribution of Pickups\"}, \"field\": \"tests\", \"scale\": {\"domain\": [-57.0, -21.4]}, \"type\": \"quantitative\"}, \"y\": {\"axis\": {\"title\": \"Density\"}, \"field\": \"density\", \"type\": \"quantitative\"}}, \"transform\": [{\"density\": \"tests\", \"as\": [\"tests\", \"density\"]}]}, {\"mark\": {\"type\": \"rule\", \"color\": \"black\", \"strokeDash\": [1, 1]}, \"encoding\": {\"x\": {\"aggregate\": \"mean\", \"field\": \"tests\", \"type\": \"quantitative\"}}}], \"data\": {\"name\": \"data-e43dc1c6b6f69071378149b9367365a1\"}, \"$schema\": \"https://vega.github.io/schema/vega-lite/v5.16.3.json\", \"datasets\": {\"data-e43dc1c6b6f69071378149b9367365a1\": [{\"tests\": -35.0}, {\"tests\": -36.4}, {\"tests\": -38.9}, {\"tests\": -44.8}, {\"tests\": -41.3}, {\"tests\": -37.5}, {\"tests\": -39.8}, {\"tests\": -35.6}, {\"tests\": -39.3}, {\"tests\": -36.9}, {\"tests\": -37.3}, {\"tests\": -35.3}, {\"tests\": -37.7}, {\"tests\": -39.1}, {\"tests\": -43.8}, {\"tests\": -40.1}, {\"tests\": -36.2}, {\"tests\": -45.4}, {\"tests\": -35.3}, {\"tests\": -44.0}, {\"tests\": -41.3}, {\"tests\": -38.5}, {\"tests\": -37.4}, {\"tests\": -40.2}, {\"tests\": -42.5}, {\"tests\": -37.4}, {\"tests\": -40.3}, {\"tests\": -39.4}, {\"tests\": -37.6}, {\"tests\": -40.6}, {\"tests\": -36.7}, {\"tests\": -39.0}, {\"tests\": -36.6}, {\"tests\": -40.9}, {\"tests\": -38.4}, {\"tests\": -40.4}, {\"tests\": -36.2}, {\"tests\": -35.5}, {\"tests\": -40.0}, {\"tests\": -41.8}, {\"tests\": -44.9}, {\"tests\": -39.0}, {\"tests\": -39.6}, {\"tests\": -41.4}, {\"tests\": -42.4}, {\"tests\": -43.5}, {\"tests\": -39.6}, {\"tests\": -33.7}, {\"tests\": -36.3}, {\"tests\": -44.4}, {\"tests\": -36.5}, {\"tests\": -37.8}, {\"tests\": -39.0}, {\"tests\": -41.5}, {\"tests\": -41.6}, {\"tests\": -37.6}, {\"tests\": -38.9}, {\"tests\": -38.8}, {\"tests\": -33.3}, {\"tests\": -37.0}, {\"tests\": -41.6}, {\"tests\": -40.6}, {\"tests\": -41.3}, {\"tests\": -38.9}, {\"tests\": -39.3}, {\"tests\": -46.2}, {\"tests\": -40.8}, {\"tests\": -42.8}, {\"tests\": -39.8}, {\"tests\": -39.8}, {\"tests\": -40.0}, {\"tests\": -39.0}, {\"tests\": -35.1}, {\"tests\": -42.3}, {\"tests\": -35.6}, {\"tests\": -39.5}, {\"tests\": -41.8}, {\"tests\": -41.3}, {\"tests\": -40.8}, {\"tests\": -33.2}, {\"tests\": -40.0}, {\"tests\": -39.9}, {\"tests\": -36.3}, {\"tests\": -38.5}, {\"tests\": -41.9}, {\"tests\": -38.5}, {\"tests\": -43.9}, {\"tests\": -38.1}, {\"tests\": -44.9}, {\"tests\": -39.6}, {\"tests\": -38.4}, {\"tests\": -37.5}, {\"tests\": -38.9}, {\"tests\": -38.2}, {\"tests\": -36.6}, {\"tests\": -39.2}, {\"tests\": -39.6}, {\"tests\": -38.1}, {\"tests\": -34.3}, {\"tests\": -39.3}, {\"tests\": -37.5}, {\"tests\": -35.2}, {\"tests\": -37.6}, {\"tests\": -38.4}, {\"tests\": -37.3}, {\"tests\": -37.5}, {\"tests\": -38.5}, {\"tests\": -39.6}, {\"tests\": -35.4}, {\"tests\": -40.1}, {\"tests\": -41.5}, {\"tests\": -38.0}, {\"tests\": -40.7}, {\"tests\": -35.8}, {\"tests\": -38.8}, {\"tests\": -39.8}, {\"tests\": -38.1}, {\"tests\": -46.4}, {\"tests\": -36.7}, {\"tests\": -36.9}, {\"tests\": -37.2}, {\"tests\": -41.0}, {\"tests\": -35.3}, {\"tests\": -37.4}, {\"tests\": -38.1}, {\"tests\": -37.9}, {\"tests\": -41.1}, {\"tests\": -36.3}, {\"tests\": -41.5}, {\"tests\": -40.7}, {\"tests\": -41.5}, {\"tests\": -39.5}, {\"tests\": -38.3}, {\"tests\": -40.5}, {\"tests\": -41.1}, {\"tests\": -36.9}, {\"tests\": -38.1}, {\"tests\": -36.0}, {\"tests\": -39.7}, {\"tests\": -41.5}, {\"tests\": -37.4}, {\"tests\": -43.2}, {\"tests\": -38.8}, {\"tests\": -37.4}, {\"tests\": -42.9}, {\"tests\": -43.5}, {\"tests\": -39.6}, {\"tests\": -37.4}, {\"tests\": -40.4}, {\"tests\": -42.9}, {\"tests\": -41.2}, {\"tests\": -39.7}, {\"tests\": -35.7}, {\"tests\": -33.8}, {\"tests\": -37.3}, {\"tests\": -38.9}, {\"tests\": -42.4}, {\"tests\": -37.9}, {\"tests\": -36.8}, {\"tests\": -39.4}, {\"tests\": -42.8}, {\"tests\": -39.7}, {\"tests\": -38.1}, {\"tests\": -41.4}, {\"tests\": -42.2}, {\"tests\": -38.0}, {\"tests\": -40.6}, {\"tests\": -38.3}, {\"tests\": -40.9}, {\"tests\": -41.7}, {\"tests\": -39.6}, {\"tests\": -36.7}, {\"tests\": -41.4}, {\"tests\": -40.1}, {\"tests\": -37.3}, {\"tests\": -40.6}, {\"tests\": -41.8}, {\"tests\": -43.3}, {\"tests\": -38.8}, {\"tests\": -43.4}, {\"tests\": -37.8}, {\"tests\": -40.6}, {\"tests\": -42.5}, {\"tests\": -39.6}, {\"tests\": -40.1}, {\"tests\": -38.3}, {\"tests\": -39.2}, {\"tests\": -40.7}, {\"tests\": -40.9}, {\"tests\": -38.9}, {\"tests\": -44.3}, {\"tests\": -36.4}, {\"tests\": -38.7}, {\"tests\": -39.9}, {\"tests\": -38.6}, {\"tests\": -45.9}, {\"tests\": -40.1}, {\"tests\": -35.5}, {\"tests\": -38.2}, {\"tests\": -42.3}, {\"tests\": -38.4}, {\"tests\": -41.8}, {\"tests\": -40.9}, {\"tests\": -37.9}, {\"tests\": -41.1}, {\"tests\": -37.2}, {\"tests\": -36.2}, {\"tests\": -41.3}, {\"tests\": -40.2}, {\"tests\": -39.7}, {\"tests\": -39.0}, {\"tests\": -38.6}, {\"tests\": -40.6}, {\"tests\": -38.3}, {\"tests\": -38.1}, {\"tests\": -37.4}, {\"tests\": -37.5}, {\"tests\": -38.1}, {\"tests\": -38.3}, {\"tests\": -38.0}, {\"tests\": -37.5}, {\"tests\": -40.0}, {\"tests\": -41.0}, {\"tests\": -38.6}, {\"tests\": -42.3}, {\"tests\": -39.5}, {\"tests\": -41.7}, {\"tests\": -42.2}, {\"tests\": -41.7}, {\"tests\": -38.4}, {\"tests\": -34.8}, {\"tests\": -36.6}, {\"tests\": -38.9}, {\"tests\": -33.3}, {\"tests\": -34.8}, {\"tests\": -36.7}, {\"tests\": -36.8}, {\"tests\": -32.2}, {\"tests\": -40.5}, {\"tests\": -37.2}, {\"tests\": -39.8}, {\"tests\": -37.8}, {\"tests\": -39.7}, {\"tests\": -36.3}, {\"tests\": -35.0}, {\"tests\": -37.8}, {\"tests\": -40.0}, {\"tests\": -42.8}, {\"tests\": -40.6}, {\"tests\": -42.8}, {\"tests\": -40.1}, {\"tests\": -34.8}, {\"tests\": -37.8}, {\"tests\": -40.2}, {\"tests\": -39.8}, {\"tests\": -39.5}, {\"tests\": -39.2}, {\"tests\": -38.2}, {\"tests\": -37.8}, {\"tests\": -39.4}, {\"tests\": -35.9}, {\"tests\": -42.6}, {\"tests\": -38.1}, {\"tests\": -40.2}, {\"tests\": -35.2}, {\"tests\": -44.5}, {\"tests\": -39.6}, {\"tests\": -37.8}, {\"tests\": -37.2}, {\"tests\": -37.1}, {\"tests\": -40.7}, {\"tests\": -43.7}, {\"tests\": -37.4}, {\"tests\": -45.4}, {\"tests\": -35.5}, {\"tests\": -37.2}, {\"tests\": -46.7}, {\"tests\": -38.7}, {\"tests\": -40.9}, {\"tests\": -39.4}, {\"tests\": -37.2}, {\"tests\": -35.3}, {\"tests\": -42.0}, {\"tests\": -35.6}, {\"tests\": -35.9}, {\"tests\": -39.6}, {\"tests\": -42.8}, {\"tests\": -39.5}, {\"tests\": -39.8}, {\"tests\": -39.4}, {\"tests\": -39.1}, {\"tests\": -35.0}, {\"tests\": -40.3}, {\"tests\": -39.7}, {\"tests\": -39.9}, {\"tests\": -40.0}, {\"tests\": -37.8}, {\"tests\": -39.3}, {\"tests\": -44.1}, {\"tests\": -37.8}, {\"tests\": -36.2}, {\"tests\": -37.1}, {\"tests\": -38.6}, {\"tests\": -36.6}, {\"tests\": -37.9}, {\"tests\": -40.3}, {\"tests\": -36.2}, {\"tests\": -36.2}, {\"tests\": -42.8}, {\"tests\": -39.6}, {\"tests\": -40.8}, {\"tests\": -36.4}, {\"tests\": -38.2}, {\"tests\": -34.9}, {\"tests\": -40.4}, {\"tests\": -35.5}, {\"tests\": -39.4}, {\"tests\": -35.8}, {\"tests\": -42.5}, {\"tests\": -40.7}, {\"tests\": -41.7}, {\"tests\": -38.1}, {\"tests\": -36.8}, {\"tests\": -43.0}, {\"tests\": -38.4}, {\"tests\": -39.2}, {\"tests\": -38.9}, {\"tests\": -38.9}, {\"tests\": -42.5}, {\"tests\": -39.8}, {\"tests\": -31.4}, {\"tests\": -37.3}, {\"tests\": -34.5}, {\"tests\": -41.8}, {\"tests\": -38.7}, {\"tests\": -41.4}, {\"tests\": -39.5}, {\"tests\": -36.3}, {\"tests\": -43.6}, {\"tests\": -41.8}, {\"tests\": -41.9}, {\"tests\": -36.2}, {\"tests\": -38.2}, {\"tests\": -45.8}, {\"tests\": -38.0}, {\"tests\": -39.3}, {\"tests\": -37.2}, {\"tests\": -35.3}, {\"tests\": -40.7}, {\"tests\": -37.3}, {\"tests\": -42.6}, {\"tests\": -38.9}, {\"tests\": -34.4}, {\"tests\": -42.6}, {\"tests\": -38.1}, {\"tests\": -42.9}, {\"tests\": -38.8}, {\"tests\": -38.3}, {\"tests\": -38.7}, {\"tests\": -36.6}, {\"tests\": -38.6}, {\"tests\": -37.3}, {\"tests\": -37.8}, {\"tests\": -43.7}, {\"tests\": -41.0}, {\"tests\": -41.9}, {\"tests\": -37.0}, {\"tests\": -36.0}, {\"tests\": -41.9}, {\"tests\": -41.1}, {\"tests\": -38.7}, {\"tests\": -38.3}, {\"tests\": -39.6}, {\"tests\": -41.3}, {\"tests\": -37.3}, {\"tests\": -35.7}, {\"tests\": -35.8}, {\"tests\": -38.5}, {\"tests\": -39.3}, {\"tests\": -43.1}, {\"tests\": -41.4}, {\"tests\": -38.1}, {\"tests\": -38.9}, {\"tests\": -33.8}, {\"tests\": -40.1}, {\"tests\": -35.9}, {\"tests\": -41.4}, {\"tests\": -39.0}, {\"tests\": -36.7}, {\"tests\": -38.4}, {\"tests\": -41.1}, {\"tests\": -38.7}, {\"tests\": -38.9}, {\"tests\": -35.7}, {\"tests\": -37.3}, {\"tests\": -39.2}, {\"tests\": -40.1}, {\"tests\": -38.6}, {\"tests\": -42.4}, {\"tests\": -37.1}, {\"tests\": -39.6}, {\"tests\": -37.0}, {\"tests\": -35.1}, {\"tests\": -37.3}, {\"tests\": -38.7}, {\"tests\": -40.0}, {\"tests\": -41.1}, {\"tests\": -31.7}, {\"tests\": -40.8}, {\"tests\": -41.7}, {\"tests\": -38.5}, {\"tests\": -42.0}, {\"tests\": -40.9}, {\"tests\": -37.1}, {\"tests\": -40.8}, {\"tests\": -41.8}, {\"tests\": -38.7}, {\"tests\": -42.7}, {\"tests\": -39.1}, {\"tests\": -37.4}, {\"tests\": -40.9}, {\"tests\": -41.7}, {\"tests\": -43.1}, {\"tests\": -39.1}, {\"tests\": -41.0}, {\"tests\": -38.0}, {\"tests\": -37.7}, {\"tests\": -35.0}, {\"tests\": -39.3}, {\"tests\": -43.4}, {\"tests\": -39.2}, {\"tests\": -34.4}, {\"tests\": -35.9}, {\"tests\": -37.0}, {\"tests\": -35.3}, {\"tests\": -37.4}, {\"tests\": -44.7}, {\"tests\": -45.0}, {\"tests\": -39.1}, {\"tests\": -41.2}, {\"tests\": -43.3}, {\"tests\": -37.9}, {\"tests\": -39.9}, {\"tests\": -43.3}, {\"tests\": -39.3}, {\"tests\": -40.2}, {\"tests\": -43.3}, {\"tests\": -40.8}, {\"tests\": -39.8}, {\"tests\": -41.8}, {\"tests\": -34.4}, {\"tests\": -37.2}, {\"tests\": -40.2}, {\"tests\": -39.6}, {\"tests\": -42.8}, {\"tests\": -38.1}, {\"tests\": -37.5}, {\"tests\": -36.8}, {\"tests\": -39.6}, {\"tests\": -39.3}, {\"tests\": -39.7}, {\"tests\": -36.1}, {\"tests\": -42.0}, {\"tests\": -41.6}, {\"tests\": -34.7}, {\"tests\": -40.7}, {\"tests\": -38.7}, {\"tests\": -42.8}, {\"tests\": -37.8}, {\"tests\": -41.1}, {\"tests\": -41.1}, {\"tests\": -39.7}, {\"tests\": -41.8}, {\"tests\": -40.8}, {\"tests\": -43.3}, {\"tests\": -44.0}, {\"tests\": -43.9}, {\"tests\": -40.5}, {\"tests\": -36.3}, {\"tests\": -40.7}, {\"tests\": -38.7}, {\"tests\": -42.3}, {\"tests\": -40.3}, {\"tests\": -38.0}, {\"tests\": -43.3}, {\"tests\": -37.8}, {\"tests\": -43.9}, {\"tests\": -41.9}, {\"tests\": -34.6}, {\"tests\": -41.5}, {\"tests\": -40.8}, {\"tests\": -37.2}, {\"tests\": -37.3}, {\"tests\": -40.5}, {\"tests\": -37.7}, {\"tests\": -40.4}, {\"tests\": -40.9}, {\"tests\": -37.0}, {\"tests\": -38.3}, {\"tests\": -38.2}, {\"tests\": -35.2}, {\"tests\": -38.1}, {\"tests\": -43.3}, {\"tests\": -42.0}, {\"tests\": -38.9}, {\"tests\": -37.6}, {\"tests\": -39.8}, {\"tests\": -42.0}, {\"tests\": -38.8}, {\"tests\": -39.9}, {\"tests\": -38.3}, {\"tests\": -37.5}, {\"tests\": -41.0}, {\"tests\": -40.9}, {\"tests\": -37.9}, {\"tests\": -39.7}, {\"tests\": -39.1}, {\"tests\": -39.9}, {\"tests\": -36.7}, {\"tests\": -40.7}, {\"tests\": -39.3}, {\"tests\": -38.7}, {\"tests\": -40.0}, {\"tests\": -35.7}, {\"tests\": -39.0}, {\"tests\": -37.3}, {\"tests\": -42.5}, {\"tests\": -41.8}, {\"tests\": -40.8}, {\"tests\": -39.8}, {\"tests\": -39.7}, {\"tests\": -34.9}, {\"tests\": -35.3}, {\"tests\": -38.8}, {\"tests\": -40.4}, {\"tests\": -39.8}, {\"tests\": -41.3}, {\"tests\": -38.2}, {\"tests\": -38.6}, {\"tests\": -39.0}, {\"tests\": -41.1}, {\"tests\": -38.2}, {\"tests\": -41.0}, {\"tests\": -37.7}, {\"tests\": -39.2}, {\"tests\": -38.3}, {\"tests\": -38.3}, {\"tests\": -38.3}, {\"tests\": -40.4}, {\"tests\": -34.3}, {\"tests\": -38.7}, {\"tests\": -40.7}, {\"tests\": -41.6}, {\"tests\": -38.0}, {\"tests\": -36.9}, {\"tests\": -38.9}, {\"tests\": -39.3}, {\"tests\": -39.2}, {\"tests\": -40.5}, {\"tests\": -38.5}, {\"tests\": -40.7}, {\"tests\": -36.8}, {\"tests\": -41.0}, {\"tests\": -39.1}, {\"tests\": -36.9}, {\"tests\": -43.7}, {\"tests\": -43.3}, {\"tests\": -41.7}, {\"tests\": -33.3}, {\"tests\": -42.3}, {\"tests\": -37.9}, {\"tests\": -38.2}, {\"tests\": -39.8}, {\"tests\": -39.9}, {\"tests\": -39.6}, {\"tests\": -41.1}, {\"tests\": -38.5}, {\"tests\": -33.9}, {\"tests\": -42.4}, {\"tests\": -38.3}, {\"tests\": -41.2}, {\"tests\": -40.0}, {\"tests\": -39.3}, {\"tests\": -36.3}, {\"tests\": -38.8}, {\"tests\": -39.0}, {\"tests\": -41.8}, {\"tests\": -40.6}, {\"tests\": -40.7}, {\"tests\": -38.3}, {\"tests\": -40.1}, {\"tests\": -42.9}, {\"tests\": -35.5}, {\"tests\": -34.9}, {\"tests\": -35.2}, {\"tests\": -40.6}, {\"tests\": -41.9}, {\"tests\": -35.2}, {\"tests\": -39.8}, {\"tests\": -37.3}, {\"tests\": -38.5}, {\"tests\": -35.6}, {\"tests\": -37.0}, {\"tests\": -35.8}, {\"tests\": -42.6}, {\"tests\": -38.3}, {\"tests\": -43.0}, {\"tests\": -39.4}, {\"tests\": -37.2}, {\"tests\": -36.9}, {\"tests\": -38.8}, {\"tests\": -42.3}, {\"tests\": -40.1}, {\"tests\": -42.7}, {\"tests\": -38.8}, {\"tests\": -45.5}, {\"tests\": -39.4}, {\"tests\": -38.8}, {\"tests\": -39.7}, {\"tests\": -39.1}, {\"tests\": -39.1}, {\"tests\": -34.4}, {\"tests\": -38.4}, {\"tests\": -42.0}, {\"tests\": -36.5}, {\"tests\": -39.1}, {\"tests\": -38.2}, {\"tests\": -35.7}, {\"tests\": -41.1}, {\"tests\": -38.1}, {\"tests\": -40.8}, {\"tests\": -38.1}, {\"tests\": -37.5}, {\"tests\": -35.7}, {\"tests\": -41.8}, {\"tests\": -40.2}, {\"tests\": -45.1}, {\"tests\": -36.2}, {\"tests\": -37.5}, {\"tests\": -36.4}, {\"tests\": -38.9}, {\"tests\": -43.8}, {\"tests\": -37.3}, {\"tests\": -35.3}, {\"tests\": -39.3}, {\"tests\": -38.7}, {\"tests\": -36.4}, {\"tests\": -36.4}, {\"tests\": -39.3}, {\"tests\": -36.0}, {\"tests\": -38.0}, {\"tests\": -42.0}, {\"tests\": -37.5}, {\"tests\": -40.9}, {\"tests\": -44.5}, {\"tests\": -40.7}, {\"tests\": -37.1}, {\"tests\": -39.4}, {\"tests\": -37.1}, {\"tests\": -36.5}, {\"tests\": -39.4}, {\"tests\": -40.0}, {\"tests\": -39.6}, {\"tests\": -39.2}, {\"tests\": -40.4}, {\"tests\": -43.0}, {\"tests\": -37.5}, {\"tests\": -45.2}, {\"tests\": -37.8}, {\"tests\": -38.0}, {\"tests\": -35.8}, {\"tests\": -42.9}, {\"tests\": -34.1}, {\"tests\": -39.2}, {\"tests\": -41.3}, {\"tests\": -37.4}, {\"tests\": -37.1}, {\"tests\": -41.6}, {\"tests\": -41.0}, {\"tests\": -37.8}, {\"tests\": -43.0}, {\"tests\": -35.5}, {\"tests\": -41.1}, {\"tests\": -39.4}, {\"tests\": -39.2}, {\"tests\": -37.1}, {\"tests\": -38.6}, {\"tests\": -38.9}, {\"tests\": -39.3}, {\"tests\": -43.1}, {\"tests\": -38.1}, {\"tests\": -36.9}, {\"tests\": -45.0}, {\"tests\": -41.4}, {\"tests\": -40.0}, {\"tests\": -40.8}, {\"tests\": -39.7}, {\"tests\": -35.4}, {\"tests\": -37.7}, {\"tests\": -38.0}, {\"tests\": -39.3}, {\"tests\": -36.0}, {\"tests\": -37.6}, {\"tests\": -36.3}, {\"tests\": -43.0}, {\"tests\": -38.9}, {\"tests\": -40.2}, {\"tests\": -39.5}, {\"tests\": -39.0}, {\"tests\": -36.3}, {\"tests\": -40.3}, {\"tests\": -41.5}, {\"tests\": -35.9}, {\"tests\": -39.4}, {\"tests\": -42.4}, {\"tests\": -41.8}, {\"tests\": -37.2}, {\"tests\": -40.6}, {\"tests\": -40.0}, {\"tests\": -38.9}, {\"tests\": -35.3}, {\"tests\": -41.1}, {\"tests\": -39.1}, {\"tests\": -39.6}, {\"tests\": -40.6}, {\"tests\": -41.4}, {\"tests\": -41.3}, {\"tests\": -41.7}, {\"tests\": -39.2}, {\"tests\": -41.4}, {\"tests\": -41.9}, {\"tests\": -43.1}, {\"tests\": -38.5}, {\"tests\": -36.1}, {\"tests\": -38.3}, {\"tests\": -37.7}, {\"tests\": -36.4}, {\"tests\": -37.7}, {\"tests\": -39.6}, {\"tests\": -42.9}, {\"tests\": -43.4}, {\"tests\": -39.1}, {\"tests\": -39.8}, {\"tests\": -40.0}, {\"tests\": -35.8}, {\"tests\": -42.6}, {\"tests\": -38.0}, {\"tests\": -41.2}, {\"tests\": -39.3}, {\"tests\": -38.8}, {\"tests\": -40.8}, {\"tests\": -40.9}, {\"tests\": -43.3}, {\"tests\": -36.2}, {\"tests\": -41.2}, {\"tests\": -37.9}, {\"tests\": -44.5}, {\"tests\": -47.0}, {\"tests\": -36.4}, {\"tests\": -38.7}, {\"tests\": -39.2}, {\"tests\": -37.5}, {\"tests\": -37.7}, {\"tests\": -39.8}, {\"tests\": -40.9}, {\"tests\": -40.4}, {\"tests\": -38.5}, {\"tests\": -35.1}, {\"tests\": -39.8}, {\"tests\": -40.0}, {\"tests\": -40.3}, {\"tests\": -40.3}, {\"tests\": -35.5}, {\"tests\": -38.7}, {\"tests\": -36.2}, {\"tests\": -37.2}, {\"tests\": -37.7}, {\"tests\": -41.1}, {\"tests\": -39.1}, {\"tests\": -36.1}, {\"tests\": -41.0}, {\"tests\": -38.5}, {\"tests\": -40.6}, {\"tests\": -37.2}, {\"tests\": -38.4}, {\"tests\": -37.6}, {\"tests\": -35.8}, {\"tests\": -41.2}, {\"tests\": -40.7}, {\"tests\": -44.4}, {\"tests\": -41.7}, {\"tests\": -38.5}, {\"tests\": -37.7}, {\"tests\": -40.3}, {\"tests\": -35.0}, {\"tests\": -39.1}, {\"tests\": -40.1}, {\"tests\": -41.4}, {\"tests\": -34.9}, {\"tests\": -42.1}, {\"tests\": -41.9}, {\"tests\": -40.5}, {\"tests\": -35.3}, {\"tests\": -38.4}, {\"tests\": -37.9}, {\"tests\": -39.6}, {\"tests\": -36.2}, {\"tests\": -36.7}, {\"tests\": -43.9}, {\"tests\": -34.0}, {\"tests\": -38.7}, {\"tests\": -39.3}, {\"tests\": -43.6}, {\"tests\": -44.1}, {\"tests\": -42.9}, {\"tests\": -39.9}, {\"tests\": -39.9}, {\"tests\": -35.6}, {\"tests\": -38.7}, {\"tests\": -38.2}, {\"tests\": -39.1}, {\"tests\": -36.2}, {\"tests\": -40.3}, {\"tests\": -42.8}, {\"tests\": -34.3}, {\"tests\": -40.2}, {\"tests\": -42.5}, {\"tests\": -44.4}, {\"tests\": -42.0}, {\"tests\": -39.4}, {\"tests\": -40.7}, {\"tests\": -36.4}, {\"tests\": -39.6}, {\"tests\": -39.4}, {\"tests\": -38.0}, {\"tests\": -39.8}, {\"tests\": -40.9}, {\"tests\": -39.2}, {\"tests\": -40.8}, {\"tests\": -37.9}, {\"tests\": -43.0}, {\"tests\": -40.7}, {\"tests\": -39.1}, {\"tests\": -40.8}, {\"tests\": -41.1}, {\"tests\": -39.0}, {\"tests\": -36.2}, {\"tests\": -39.1}, {\"tests\": -41.7}, {\"tests\": -39.3}, {\"tests\": -44.2}, {\"tests\": -36.3}, {\"tests\": -38.5}, {\"tests\": -35.6}, {\"tests\": -40.8}, {\"tests\": -38.4}, {\"tests\": -35.4}, {\"tests\": -38.6}, {\"tests\": -35.4}, {\"tests\": -38.8}, {\"tests\": -32.8}, {\"tests\": -38.6}, {\"tests\": -38.6}, {\"tests\": -35.0}, {\"tests\": -39.0}, {\"tests\": -39.3}, {\"tests\": -39.6}, {\"tests\": -35.9}, {\"tests\": -38.5}, {\"tests\": -38.2}, {\"tests\": -40.5}, {\"tests\": -38.6}, {\"tests\": -36.1}, {\"tests\": -36.5}, {\"tests\": -36.6}, {\"tests\": -40.2}, {\"tests\": -39.3}, {\"tests\": -40.0}, {\"tests\": -36.3}, {\"tests\": -37.1}, {\"tests\": -39.8}, {\"tests\": -34.1}, {\"tests\": -38.2}, {\"tests\": -38.4}, {\"tests\": -37.3}, {\"tests\": -37.5}, {\"tests\": -39.9}, {\"tests\": -37.3}, {\"tests\": -40.8}, {\"tests\": -39.5}, {\"tests\": -36.4}, {\"tests\": -39.9}, {\"tests\": -41.8}, {\"tests\": -42.3}, {\"tests\": -38.4}, {\"tests\": -34.3}, {\"tests\": -38.6}, {\"tests\": -41.6}, {\"tests\": -41.9}, {\"tests\": -37.7}, {\"tests\": -34.7}, {\"tests\": -40.4}, {\"tests\": -38.6}, {\"tests\": -42.6}, {\"tests\": -39.4}, {\"tests\": -38.7}, {\"tests\": -37.8}, {\"tests\": -37.4}, {\"tests\": -37.7}, {\"tests\": -35.1}, {\"tests\": -40.3}, {\"tests\": -35.6}, {\"tests\": -38.9}, {\"tests\": -43.5}, {\"tests\": -38.7}, {\"tests\": -37.5}, {\"tests\": -35.6}, {\"tests\": -38.6}, {\"tests\": -36.8}, {\"tests\": -38.5}, {\"tests\": -41.4}, {\"tests\": -42.0}, {\"tests\": -41.8}, {\"tests\": -38.2}, {\"tests\": -37.3}, {\"tests\": -34.1}, {\"tests\": -39.8}, {\"tests\": -37.1}, {\"tests\": -37.9}, {\"tests\": -39.2}, {\"tests\": -40.0}, {\"tests\": -46.3}, {\"tests\": -36.6}, {\"tests\": -35.5}, {\"tests\": -34.0}, {\"tests\": -39.1}, {\"tests\": -40.4}, {\"tests\": -40.0}, {\"tests\": -36.4}, {\"tests\": -38.5}, {\"tests\": -40.3}, {\"tests\": -39.2}, {\"tests\": -33.5}, {\"tests\": -38.5}, {\"tests\": -41.9}, {\"tests\": -42.0}, {\"tests\": -38.9}, {\"tests\": -31.8}, {\"tests\": -39.6}, {\"tests\": -42.7}, {\"tests\": -42.8}, {\"tests\": -38.2}, {\"tests\": -42.2}, {\"tests\": -40.0}, {\"tests\": -36.3}, {\"tests\": -38.9}, {\"tests\": -38.8}, {\"tests\": -46.0}, {\"tests\": -37.9}, {\"tests\": -38.2}, {\"tests\": -44.2}, {\"tests\": -38.8}, {\"tests\": -40.9}, {\"tests\": -40.2}, {\"tests\": -39.0}, {\"tests\": -42.8}, {\"tests\": -36.0}, {\"tests\": -38.8}, {\"tests\": -41.2}, {\"tests\": -39.0}, {\"tests\": -38.3}, {\"tests\": -39.6}, {\"tests\": -37.3}, {\"tests\": -38.3}, {\"tests\": -36.0}, {\"tests\": -42.0}, {\"tests\": -38.1}, {\"tests\": -41.4}, {\"tests\": -42.9}, {\"tests\": -37.2}, {\"tests\": -38.7}, {\"tests\": -38.3}, {\"tests\": -37.0}, {\"tests\": -41.0}, {\"tests\": -35.7}, {\"tests\": -39.3}, {\"tests\": -42.3}, {\"tests\": -37.4}, {\"tests\": -41.7}, {\"tests\": -39.4}, {\"tests\": -38.1}, {\"tests\": -38.3}, {\"tests\": -38.5}, {\"tests\": -36.6}, {\"tests\": -40.2}, {\"tests\": -38.8}, {\"tests\": -43.6}, {\"tests\": -40.1}, {\"tests\": -42.2}, {\"tests\": -43.5}]}}, {\"mode\": \"vega-lite\"});\n",
       "</script>"
      ],
      "text/plain": [
       "alt.LayerChart(...)"
      ]
     },
     "execution_count": 238,
     "metadata": {},
     "output_type": "execute_result"
    }
   ],
   "source": [
    "bootstrapped_1000_1000 = NPS_bootstrap(responses_1000, 1000)\n",
    "print(CI_95(bootstrapped_1000_1000))\n",
    "NPS_density(bootstrapped_1000_1000)"
   ]
  },
  {
   "cell_type": "code",
   "execution_count": 208,
   "metadata": {},
   "outputs": [],
   "source": [
    "responses_2000 = np.random.randint(0,11, 2000)"
   ]
  },
  {
   "cell_type": "code",
   "execution_count": 239,
   "metadata": {},
   "outputs": [
    {
     "name": "stdout",
     "output_type": "stream",
     "text": [
      "[-45.91, -43.3, 2.61]\n"
     ]
    },
    {
     "data": {
      "text/html": [
       "\n",
       "<style>\n",
       "  #altair-viz-153eac1d3e33401687caaf0b8b66fcab.vega-embed {\n",
       "    width: 100%;\n",
       "    display: flex;\n",
       "  }\n",
       "\n",
       "  #altair-viz-153eac1d3e33401687caaf0b8b66fcab.vega-embed details,\n",
       "  #altair-viz-153eac1d3e33401687caaf0b8b66fcab.vega-embed details summary {\n",
       "    position: relative;\n",
       "  }\n",
       "</style>\n",
       "<div id=\"altair-viz-153eac1d3e33401687caaf0b8b66fcab\"></div>\n",
       "<script type=\"text/javascript\">\n",
       "  var VEGA_DEBUG = (typeof VEGA_DEBUG == \"undefined\") ? {} : VEGA_DEBUG;\n",
       "  (function(spec, embedOpt){\n",
       "    let outputDiv = document.currentScript.previousElementSibling;\n",
       "    if (outputDiv.id !== \"altair-viz-153eac1d3e33401687caaf0b8b66fcab\") {\n",
       "      outputDiv = document.getElementById(\"altair-viz-153eac1d3e33401687caaf0b8b66fcab\");\n",
       "    }\n",
       "    const paths = {\n",
       "      \"vega\": \"https://cdn.jsdelivr.net/npm/vega@5?noext\",\n",
       "      \"vega-lib\": \"https://cdn.jsdelivr.net/npm/vega-lib?noext\",\n",
       "      \"vega-lite\": \"https://cdn.jsdelivr.net/npm/vega-lite@5.16.3?noext\",\n",
       "      \"vega-embed\": \"https://cdn.jsdelivr.net/npm/vega-embed@6?noext\",\n",
       "    };\n",
       "\n",
       "    function maybeLoadScript(lib, version) {\n",
       "      var key = `${lib.replace(\"-\", \"\")}_version`;\n",
       "      return (VEGA_DEBUG[key] == version) ?\n",
       "        Promise.resolve(paths[lib]) :\n",
       "        new Promise(function(resolve, reject) {\n",
       "          var s = document.createElement('script');\n",
       "          document.getElementsByTagName(\"head\")[0].appendChild(s);\n",
       "          s.async = true;\n",
       "          s.onload = () => {\n",
       "            VEGA_DEBUG[key] = version;\n",
       "            return resolve(paths[lib]);\n",
       "          };\n",
       "          s.onerror = () => reject(`Error loading script: ${paths[lib]}`);\n",
       "          s.src = paths[lib];\n",
       "        });\n",
       "    }\n",
       "\n",
       "    function showError(err) {\n",
       "      outputDiv.innerHTML = `<div class=\"error\" style=\"color:red;\">${err}</div>`;\n",
       "      throw err;\n",
       "    }\n",
       "\n",
       "    function displayChart(vegaEmbed) {\n",
       "      vegaEmbed(outputDiv, spec, embedOpt)\n",
       "        .catch(err => showError(`Javascript Error: ${err.message}<br>This usually means there's a typo in your chart specification. See the javascript console for the full traceback.`));\n",
       "    }\n",
       "\n",
       "    if(typeof define === \"function\" && define.amd) {\n",
       "      requirejs.config({paths});\n",
       "      require([\"vega-embed\"], displayChart, err => showError(`Error loading script: ${err.message}`));\n",
       "    } else {\n",
       "      maybeLoadScript(\"vega\", \"5\")\n",
       "        .then(() => maybeLoadScript(\"vega-lite\", \"5.16.3\"))\n",
       "        .then(() => maybeLoadScript(\"vega-embed\", \"6\"))\n",
       "        .catch(showError)\n",
       "        .then(() => displayChart(vegaEmbed));\n",
       "    }\n",
       "  })({\"config\": {\"view\": {\"continuousWidth\": 300, \"continuousHeight\": 300}}, \"layer\": [{\"mark\": {\"type\": \"area\", \"color\": \"lightgray\"}, \"encoding\": {\"x\": {\"axis\": {\"title\": \"Population Distribution of Pickups\"}, \"field\": \"tests\", \"scale\": {\"domain\": [-56.4, -32.9]}, \"type\": \"quantitative\"}, \"y\": {\"axis\": {\"title\": \"Density\"}, \"field\": \"density\", \"type\": \"quantitative\"}}, \"transform\": [{\"density\": \"tests\", \"as\": [\"tests\", \"density\"]}]}, {\"mark\": {\"type\": \"rule\", \"color\": \"black\", \"strokeDash\": [1, 1]}, \"encoding\": {\"x\": {\"aggregate\": \"mean\", \"field\": \"tests\", \"type\": \"quantitative\"}}}], \"data\": {\"name\": \"data-0213662c4fefaa224e9938b81b085912\"}, \"$schema\": \"https://vega.github.io/schema/vega-lite/v5.16.3.json\", \"datasets\": {\"data-0213662c4fefaa224e9938b81b085912\": [{\"tests\": -44.0}, {\"tests\": -44.0}, {\"tests\": -44.6}, {\"tests\": -45.1}, {\"tests\": -44.2}, {\"tests\": -45.3}, {\"tests\": -43.3}, {\"tests\": -44.6}, {\"tests\": -43.9}, {\"tests\": -43.8}, {\"tests\": -45.6}, {\"tests\": -43.6}, {\"tests\": -44.6}, {\"tests\": -45.0}, {\"tests\": -44.4}, {\"tests\": -43.1}, {\"tests\": -44.3}, {\"tests\": -45.1}, {\"tests\": -43.0}, {\"tests\": -44.2}, {\"tests\": -45.1}, {\"tests\": -44.8}, {\"tests\": -44.3}, {\"tests\": -44.8}, {\"tests\": -45.0}, {\"tests\": -43.5}, {\"tests\": -44.0}, {\"tests\": -46.2}, {\"tests\": -45.1}, {\"tests\": -43.7}, {\"tests\": -44.2}, {\"tests\": -45.1}, {\"tests\": -43.7}, {\"tests\": -45.7}, {\"tests\": -45.1}, {\"tests\": -44.8}, {\"tests\": -44.5}, {\"tests\": -45.1}, {\"tests\": -45.0}, {\"tests\": -44.9}, {\"tests\": -45.3}, {\"tests\": -44.4}, {\"tests\": -45.6}, {\"tests\": -44.5}, {\"tests\": -43.7}, {\"tests\": -44.6}, {\"tests\": -45.9}, {\"tests\": -45.1}, {\"tests\": -45.1}, {\"tests\": -44.7}, {\"tests\": -43.6}, {\"tests\": -44.7}, {\"tests\": -44.7}, {\"tests\": -44.9}, {\"tests\": -44.5}, {\"tests\": -44.8}, {\"tests\": -45.2}, {\"tests\": -44.0}, {\"tests\": -45.2}, {\"tests\": -45.2}, {\"tests\": -44.7}, {\"tests\": -44.5}, {\"tests\": -45.7}, {\"tests\": -45.3}, {\"tests\": -46.4}, {\"tests\": -46.2}, {\"tests\": -45.2}, {\"tests\": -45.3}, {\"tests\": -44.8}, {\"tests\": -45.2}, {\"tests\": -46.1}, {\"tests\": -45.0}, {\"tests\": -44.8}, {\"tests\": -44.0}, {\"tests\": -45.7}, {\"tests\": -44.6}, {\"tests\": -44.7}, {\"tests\": -44.6}, {\"tests\": -44.6}, {\"tests\": -44.5}, {\"tests\": -44.1}, {\"tests\": -45.3}, {\"tests\": -43.2}, {\"tests\": -45.0}, {\"tests\": -44.0}, {\"tests\": -43.3}, {\"tests\": -44.7}, {\"tests\": -44.3}, {\"tests\": -44.9}, {\"tests\": -45.2}, {\"tests\": -44.0}, {\"tests\": -45.1}, {\"tests\": -43.9}, {\"tests\": -44.1}, {\"tests\": -46.4}, {\"tests\": -45.3}, {\"tests\": -44.4}, {\"tests\": -44.9}, {\"tests\": -42.9}, {\"tests\": -45.3}]}}, {\"mode\": \"vega-lite\"});\n",
       "</script>"
      ],
      "text/plain": [
       "alt.LayerChart(...)"
      ]
     },
     "execution_count": 239,
     "metadata": {},
     "output_type": "execute_result"
    }
   ],
   "source": [
    "bootstrapped_2000_100 = NPS_bootstrap(responses_2000, 100)\n",
    "print(CI_95(bootstrapped_2000_100))\n",
    "NPS_density(bootstrapped_2000_100)"
   ]
  },
  {
   "cell_type": "code",
   "execution_count": 240,
   "metadata": {},
   "outputs": [
    {
     "name": "stdout",
     "output_type": "stream",
     "text": [
      "[-45.905, -43.4, 2.51]\n"
     ]
    },
    {
     "data": {
      "text/html": [
       "\n",
       "<style>\n",
       "  #altair-viz-1808778ad97c4e8cb894393085e56a69.vega-embed {\n",
       "    width: 100%;\n",
       "    display: flex;\n",
       "  }\n",
       "\n",
       "  #altair-viz-1808778ad97c4e8cb894393085e56a69.vega-embed details,\n",
       "  #altair-viz-1808778ad97c4e8cb894393085e56a69.vega-embed details summary {\n",
       "    position: relative;\n",
       "  }\n",
       "</style>\n",
       "<div id=\"altair-viz-1808778ad97c4e8cb894393085e56a69\"></div>\n",
       "<script type=\"text/javascript\">\n",
       "  var VEGA_DEBUG = (typeof VEGA_DEBUG == \"undefined\") ? {} : VEGA_DEBUG;\n",
       "  (function(spec, embedOpt){\n",
       "    let outputDiv = document.currentScript.previousElementSibling;\n",
       "    if (outputDiv.id !== \"altair-viz-1808778ad97c4e8cb894393085e56a69\") {\n",
       "      outputDiv = document.getElementById(\"altair-viz-1808778ad97c4e8cb894393085e56a69\");\n",
       "    }\n",
       "    const paths = {\n",
       "      \"vega\": \"https://cdn.jsdelivr.net/npm/vega@5?noext\",\n",
       "      \"vega-lib\": \"https://cdn.jsdelivr.net/npm/vega-lib?noext\",\n",
       "      \"vega-lite\": \"https://cdn.jsdelivr.net/npm/vega-lite@5.16.3?noext\",\n",
       "      \"vega-embed\": \"https://cdn.jsdelivr.net/npm/vega-embed@6?noext\",\n",
       "    };\n",
       "\n",
       "    function maybeLoadScript(lib, version) {\n",
       "      var key = `${lib.replace(\"-\", \"\")}_version`;\n",
       "      return (VEGA_DEBUG[key] == version) ?\n",
       "        Promise.resolve(paths[lib]) :\n",
       "        new Promise(function(resolve, reject) {\n",
       "          var s = document.createElement('script');\n",
       "          document.getElementsByTagName(\"head\")[0].appendChild(s);\n",
       "          s.async = true;\n",
       "          s.onload = () => {\n",
       "            VEGA_DEBUG[key] = version;\n",
       "            return resolve(paths[lib]);\n",
       "          };\n",
       "          s.onerror = () => reject(`Error loading script: ${paths[lib]}`);\n",
       "          s.src = paths[lib];\n",
       "        });\n",
       "    }\n",
       "\n",
       "    function showError(err) {\n",
       "      outputDiv.innerHTML = `<div class=\"error\" style=\"color:red;\">${err}</div>`;\n",
       "      throw err;\n",
       "    }\n",
       "\n",
       "    function displayChart(vegaEmbed) {\n",
       "      vegaEmbed(outputDiv, spec, embedOpt)\n",
       "        .catch(err => showError(`Javascript Error: ${err.message}<br>This usually means there's a typo in your chart specification. See the javascript console for the full traceback.`));\n",
       "    }\n",
       "\n",
       "    if(typeof define === \"function\" && define.amd) {\n",
       "      requirejs.config({paths});\n",
       "      require([\"vega-embed\"], displayChart, err => showError(`Error loading script: ${err.message}`));\n",
       "    } else {\n",
       "      maybeLoadScript(\"vega\", \"5\")\n",
       "        .then(() => maybeLoadScript(\"vega-lite\", \"5.16.3\"))\n",
       "        .then(() => maybeLoadScript(\"vega-embed\", \"6\"))\n",
       "        .catch(showError)\n",
       "        .then(() => displayChart(vegaEmbed));\n",
       "    }\n",
       "  })({\"config\": {\"view\": {\"continuousWidth\": 300, \"continuousHeight\": 300}}, \"layer\": [{\"mark\": {\"type\": \"area\", \"color\": \"lightgray\"}, \"encoding\": {\"x\": {\"axis\": {\"title\": \"Population Distribution of Pickups\"}, \"field\": \"tests\", \"scale\": {\"domain\": [-57.1, -31.799999999999997]}, \"type\": \"quantitative\"}, \"y\": {\"axis\": {\"title\": \"Density\"}, \"field\": \"density\", \"type\": \"quantitative\"}}, \"transform\": [{\"density\": \"tests\", \"as\": [\"tests\", \"density\"]}]}, {\"mark\": {\"type\": \"rule\", \"color\": \"black\", \"strokeDash\": [1, 1]}, \"encoding\": {\"x\": {\"aggregate\": \"mean\", \"field\": \"tests\", \"type\": \"quantitative\"}}}], \"data\": {\"name\": \"data-2165090294767619912f489e0d6bd6d5\"}, \"$schema\": \"https://vega.github.io/schema/vega-lite/v5.16.3.json\", \"datasets\": {\"data-2165090294767619912f489e0d6bd6d5\": [{\"tests\": -45.4}, {\"tests\": -44.8}, {\"tests\": -44.3}, {\"tests\": -45.5}, {\"tests\": -44.2}, {\"tests\": -45.6}, {\"tests\": -43.9}, {\"tests\": -44.6}, {\"tests\": -45.0}, {\"tests\": -43.9}, {\"tests\": -44.3}, {\"tests\": -43.5}, {\"tests\": -44.7}, {\"tests\": -44.1}, {\"tests\": -44.7}, {\"tests\": -44.0}, {\"tests\": -43.9}, {\"tests\": -44.1}, {\"tests\": -43.5}, {\"tests\": -45.1}, {\"tests\": -45.9}, {\"tests\": -44.7}, {\"tests\": -42.3}, {\"tests\": -43.5}, {\"tests\": -45.2}, {\"tests\": -43.9}, {\"tests\": -43.7}, {\"tests\": -43.8}, {\"tests\": -44.4}, {\"tests\": -45.0}, {\"tests\": -44.8}, {\"tests\": -44.5}, {\"tests\": -44.8}, {\"tests\": -44.6}, {\"tests\": -43.5}, {\"tests\": -44.2}, {\"tests\": -44.2}, {\"tests\": -45.7}, {\"tests\": -46.0}, {\"tests\": -45.2}, {\"tests\": -45.1}, {\"tests\": -45.2}, {\"tests\": -44.2}, {\"tests\": -44.4}, {\"tests\": -43.4}, {\"tests\": -44.9}, {\"tests\": -43.6}, {\"tests\": -44.4}, {\"tests\": -43.7}, {\"tests\": -44.6}, {\"tests\": -44.5}, {\"tests\": -45.6}, {\"tests\": -44.9}, {\"tests\": -45.6}, {\"tests\": -44.2}, {\"tests\": -44.6}, {\"tests\": -45.0}, {\"tests\": -46.2}, {\"tests\": -44.3}, {\"tests\": -44.4}, {\"tests\": -45.6}, {\"tests\": -44.5}, {\"tests\": -44.0}, {\"tests\": -44.3}, {\"tests\": -45.0}, {\"tests\": -44.8}, {\"tests\": -45.4}, {\"tests\": -45.0}, {\"tests\": -45.4}, {\"tests\": -44.3}, {\"tests\": -45.4}, {\"tests\": -44.0}, {\"tests\": -44.8}, {\"tests\": -44.4}, {\"tests\": -45.2}, {\"tests\": -44.8}, {\"tests\": -44.5}, {\"tests\": -44.5}, {\"tests\": -44.3}, {\"tests\": -43.7}, {\"tests\": -44.9}, {\"tests\": -44.5}, {\"tests\": -43.3}, {\"tests\": -42.6}, {\"tests\": -45.1}, {\"tests\": -45.0}, {\"tests\": -45.1}, {\"tests\": -44.1}, {\"tests\": -44.8}, {\"tests\": -44.9}, {\"tests\": -44.7}, {\"tests\": -44.6}, {\"tests\": -45.7}, {\"tests\": -43.7}, {\"tests\": -44.8}, {\"tests\": -45.3}, {\"tests\": -45.1}, {\"tests\": -44.3}, {\"tests\": -43.5}, {\"tests\": -44.5}, {\"tests\": -45.1}, {\"tests\": -44.1}, {\"tests\": -44.8}, {\"tests\": -44.2}, {\"tests\": -44.2}, {\"tests\": -45.2}, {\"tests\": -44.6}, {\"tests\": -44.3}, {\"tests\": -45.2}, {\"tests\": -43.5}, {\"tests\": -45.1}, {\"tests\": -44.7}, {\"tests\": -42.5}, {\"tests\": -45.0}, {\"tests\": -44.9}, {\"tests\": -43.3}, {\"tests\": -45.9}, {\"tests\": -44.3}, {\"tests\": -44.2}, {\"tests\": -44.9}, {\"tests\": -45.0}, {\"tests\": -43.3}, {\"tests\": -45.4}, {\"tests\": -44.0}, {\"tests\": -43.3}, {\"tests\": -45.1}, {\"tests\": -45.6}, {\"tests\": -45.6}, {\"tests\": -45.4}, {\"tests\": -45.6}, {\"tests\": -45.2}, {\"tests\": -45.2}, {\"tests\": -45.1}, {\"tests\": -45.8}, {\"tests\": -44.8}, {\"tests\": -44.0}, {\"tests\": -44.1}, {\"tests\": -43.9}, {\"tests\": -44.6}, {\"tests\": -43.8}, {\"tests\": -44.5}, {\"tests\": -45.7}, {\"tests\": -44.7}, {\"tests\": -44.4}, {\"tests\": -44.8}, {\"tests\": -44.5}, {\"tests\": -44.6}, {\"tests\": -44.2}, {\"tests\": -45.5}, {\"tests\": -44.0}, {\"tests\": -44.1}, {\"tests\": -43.9}, {\"tests\": -45.4}, {\"tests\": -44.5}, {\"tests\": -46.2}, {\"tests\": -43.7}, {\"tests\": -44.5}, {\"tests\": -42.9}, {\"tests\": -45.4}, {\"tests\": -46.0}, {\"tests\": -44.7}, {\"tests\": -44.2}, {\"tests\": -43.3}, {\"tests\": -45.1}, {\"tests\": -45.2}, {\"tests\": -44.6}, {\"tests\": -44.8}, {\"tests\": -44.7}, {\"tests\": -44.8}, {\"tests\": -45.4}, {\"tests\": -45.0}, {\"tests\": -45.4}, {\"tests\": -44.4}, {\"tests\": -45.8}, {\"tests\": -44.1}, {\"tests\": -44.9}, {\"tests\": -43.4}, {\"tests\": -46.1}, {\"tests\": -44.6}, {\"tests\": -43.5}, {\"tests\": -45.1}, {\"tests\": -44.2}, {\"tests\": -45.8}, {\"tests\": -45.4}, {\"tests\": -44.8}, {\"tests\": -43.5}, {\"tests\": -45.1}, {\"tests\": -45.3}, {\"tests\": -44.1}, {\"tests\": -45.1}, {\"tests\": -44.6}, {\"tests\": -43.9}, {\"tests\": -44.9}, {\"tests\": -44.5}, {\"tests\": -46.0}, {\"tests\": -45.1}, {\"tests\": -44.1}, {\"tests\": -45.1}, {\"tests\": -43.5}, {\"tests\": -45.6}, {\"tests\": -43.5}, {\"tests\": -43.8}, {\"tests\": -44.1}, {\"tests\": -43.8}, {\"tests\": -45.2}, {\"tests\": -43.8}, {\"tests\": -44.9}, {\"tests\": -43.4}, {\"tests\": -44.8}, {\"tests\": -43.0}, {\"tests\": -45.4}, {\"tests\": -44.0}, {\"tests\": -44.7}, {\"tests\": -44.9}, {\"tests\": -46.0}, {\"tests\": -45.6}, {\"tests\": -45.2}, {\"tests\": -44.2}, {\"tests\": -45.2}, {\"tests\": -45.2}, {\"tests\": -45.0}, {\"tests\": -43.8}, {\"tests\": -44.1}, {\"tests\": -43.5}, {\"tests\": -43.8}, {\"tests\": -43.7}, {\"tests\": -44.3}, {\"tests\": -44.2}, {\"tests\": -44.5}, {\"tests\": -43.1}, {\"tests\": -42.2}, {\"tests\": -45.0}, {\"tests\": -43.4}, {\"tests\": -44.4}, {\"tests\": -44.0}, {\"tests\": -42.8}, {\"tests\": -44.9}, {\"tests\": -45.3}, {\"tests\": -44.0}, {\"tests\": -44.2}, {\"tests\": -45.1}, {\"tests\": -44.0}, {\"tests\": -46.6}, {\"tests\": -43.5}, {\"tests\": -44.7}, {\"tests\": -44.3}, {\"tests\": -44.9}, {\"tests\": -43.7}, {\"tests\": -44.1}, {\"tests\": -46.3}, {\"tests\": -45.6}, {\"tests\": -43.8}, {\"tests\": -43.7}, {\"tests\": -46.5}, {\"tests\": -44.6}, {\"tests\": -44.7}, {\"tests\": -44.9}, {\"tests\": -44.1}, {\"tests\": -44.7}, {\"tests\": -45.2}, {\"tests\": -46.4}, {\"tests\": -43.9}, {\"tests\": -45.2}, {\"tests\": -43.5}, {\"tests\": -45.5}, {\"tests\": -45.2}, {\"tests\": -44.5}, {\"tests\": -44.8}, {\"tests\": -44.6}, {\"tests\": -43.4}, {\"tests\": -45.4}, {\"tests\": -44.3}, {\"tests\": -43.7}, {\"tests\": -44.5}, {\"tests\": -45.9}, {\"tests\": -44.9}, {\"tests\": -45.4}, {\"tests\": -45.0}, {\"tests\": -45.9}, {\"tests\": -43.8}, {\"tests\": -44.7}, {\"tests\": -44.7}, {\"tests\": -44.6}, {\"tests\": -44.8}, {\"tests\": -44.6}, {\"tests\": -45.9}, {\"tests\": -43.8}, {\"tests\": -44.4}, {\"tests\": -44.1}, {\"tests\": -46.4}, {\"tests\": -45.5}, {\"tests\": -44.6}, {\"tests\": -45.2}, {\"tests\": -46.1}, {\"tests\": -45.1}, {\"tests\": -44.6}, {\"tests\": -43.7}, {\"tests\": -44.4}, {\"tests\": -44.7}, {\"tests\": -43.8}, {\"tests\": -45.7}, {\"tests\": -45.3}, {\"tests\": -44.3}, {\"tests\": -43.5}, {\"tests\": -45.5}, {\"tests\": -45.3}, {\"tests\": -45.8}, {\"tests\": -45.4}, {\"tests\": -43.6}, {\"tests\": -44.0}, {\"tests\": -44.8}, {\"tests\": -44.3}, {\"tests\": -46.2}, {\"tests\": -44.9}, {\"tests\": -45.6}, {\"tests\": -43.4}, {\"tests\": -44.2}, {\"tests\": -44.3}, {\"tests\": -43.4}, {\"tests\": -45.1}, {\"tests\": -42.8}, {\"tests\": -44.4}, {\"tests\": -42.7}, {\"tests\": -44.7}, {\"tests\": -45.3}, {\"tests\": -45.6}, {\"tests\": -44.9}, {\"tests\": -44.9}, {\"tests\": -46.5}, {\"tests\": -43.9}, {\"tests\": -44.5}, {\"tests\": -45.4}, {\"tests\": -45.2}, {\"tests\": -44.5}, {\"tests\": -45.2}, {\"tests\": -44.9}, {\"tests\": -45.4}, {\"tests\": -45.1}, {\"tests\": -44.5}, {\"tests\": -45.2}, {\"tests\": -44.2}, {\"tests\": -44.8}, {\"tests\": -44.7}, {\"tests\": -45.5}, {\"tests\": -44.5}, {\"tests\": -45.5}, {\"tests\": -43.6}, {\"tests\": -43.7}, {\"tests\": -45.2}, {\"tests\": -44.7}, {\"tests\": -44.8}, {\"tests\": -44.3}, {\"tests\": -45.4}, {\"tests\": -44.9}, {\"tests\": -44.9}, {\"tests\": -44.6}, {\"tests\": -44.9}, {\"tests\": -44.7}, {\"tests\": -44.4}, {\"tests\": -42.7}, {\"tests\": -44.8}, {\"tests\": -44.7}, {\"tests\": -44.5}, {\"tests\": -44.6}, {\"tests\": -44.4}, {\"tests\": -43.5}, {\"tests\": -44.6}, {\"tests\": -43.2}, {\"tests\": -45.2}, {\"tests\": -45.4}, {\"tests\": -45.3}, {\"tests\": -44.0}, {\"tests\": -45.4}, {\"tests\": -45.4}, {\"tests\": -44.0}, {\"tests\": -43.5}, {\"tests\": -44.5}, {\"tests\": -46.1}, {\"tests\": -47.1}, {\"tests\": -45.5}, {\"tests\": -44.0}, {\"tests\": -45.6}, {\"tests\": -43.8}, {\"tests\": -43.5}, {\"tests\": -45.0}, {\"tests\": -44.3}, {\"tests\": -43.7}, {\"tests\": -44.7}, {\"tests\": -44.5}, {\"tests\": -45.2}, {\"tests\": -44.8}, {\"tests\": -44.1}, {\"tests\": -42.6}, {\"tests\": -45.0}, {\"tests\": -44.6}, {\"tests\": -44.6}, {\"tests\": -44.7}, {\"tests\": -45.4}, {\"tests\": -45.0}, {\"tests\": -44.3}, {\"tests\": -44.7}, {\"tests\": -44.9}, {\"tests\": -43.8}, {\"tests\": -44.0}, {\"tests\": -43.8}, {\"tests\": -43.6}, {\"tests\": -44.3}, {\"tests\": -45.1}, {\"tests\": -44.0}, {\"tests\": -43.7}, {\"tests\": -45.6}, {\"tests\": -46.2}, {\"tests\": -45.2}, {\"tests\": -45.5}, {\"tests\": -45.0}, {\"tests\": -46.6}, {\"tests\": -43.9}, {\"tests\": -44.5}, {\"tests\": -44.4}, {\"tests\": -44.6}, {\"tests\": -43.6}, {\"tests\": -42.5}, {\"tests\": -45.7}, {\"tests\": -44.6}, {\"tests\": -43.9}, {\"tests\": -43.8}, {\"tests\": -45.8}, {\"tests\": -43.9}, {\"tests\": -44.8}, {\"tests\": -44.9}, {\"tests\": -43.8}, {\"tests\": -45.7}, {\"tests\": -44.7}, {\"tests\": -44.7}, {\"tests\": -45.4}, {\"tests\": -44.5}, {\"tests\": -45.5}, {\"tests\": -44.6}, {\"tests\": -44.2}, {\"tests\": -45.9}, {\"tests\": -46.1}, {\"tests\": -44.2}, {\"tests\": -44.2}, {\"tests\": -45.3}, {\"tests\": -45.1}, {\"tests\": -41.8}, {\"tests\": -43.9}, {\"tests\": -44.9}, {\"tests\": -44.5}, {\"tests\": -45.4}, {\"tests\": -45.2}, {\"tests\": -45.6}, {\"tests\": -44.9}, {\"tests\": -45.9}, {\"tests\": -45.2}, {\"tests\": -45.8}, {\"tests\": -45.7}, {\"tests\": -45.0}, {\"tests\": -44.9}, {\"tests\": -45.5}, {\"tests\": -43.7}, {\"tests\": -45.7}, {\"tests\": -45.3}, {\"tests\": -45.4}, {\"tests\": -44.3}, {\"tests\": -44.4}, {\"tests\": -45.3}, {\"tests\": -46.0}, {\"tests\": -44.1}, {\"tests\": -45.7}, {\"tests\": -43.7}, {\"tests\": -43.8}, {\"tests\": -45.1}, {\"tests\": -44.3}, {\"tests\": -45.4}, {\"tests\": -44.1}, {\"tests\": -45.3}, {\"tests\": -46.2}, {\"tests\": -45.2}, {\"tests\": -44.5}, {\"tests\": -44.5}, {\"tests\": -45.4}, {\"tests\": -43.8}, {\"tests\": -45.2}, {\"tests\": -45.7}, {\"tests\": -43.5}, {\"tests\": -45.2}, {\"tests\": -44.3}, {\"tests\": -45.0}, {\"tests\": -43.9}, {\"tests\": -44.9}, {\"tests\": -44.5}, {\"tests\": -45.2}, {\"tests\": -44.3}, {\"tests\": -44.0}, {\"tests\": -44.3}, {\"tests\": -43.5}, {\"tests\": -44.9}, {\"tests\": -44.8}, {\"tests\": -43.9}, {\"tests\": -44.8}, {\"tests\": -45.2}, {\"tests\": -46.6}, {\"tests\": -45.9}, {\"tests\": -45.1}, {\"tests\": -44.6}, {\"tests\": -44.3}, {\"tests\": -43.6}, {\"tests\": -44.1}, {\"tests\": -43.7}, {\"tests\": -44.0}, {\"tests\": -44.8}, {\"tests\": -46.1}, {\"tests\": -44.6}, {\"tests\": -45.2}, {\"tests\": -44.5}, {\"tests\": -45.1}, {\"tests\": -45.7}, {\"tests\": -44.8}, {\"tests\": -44.7}, {\"tests\": -45.4}, {\"tests\": -44.8}, {\"tests\": -45.0}, {\"tests\": -44.4}, {\"tests\": -45.1}, {\"tests\": -43.6}, {\"tests\": -43.5}, {\"tests\": -45.0}, {\"tests\": -44.1}, {\"tests\": -44.7}, {\"tests\": -45.7}, {\"tests\": -44.0}, {\"tests\": -45.7}, {\"tests\": -44.1}, {\"tests\": -44.4}, {\"tests\": -44.2}, {\"tests\": -44.5}, {\"tests\": -45.1}, {\"tests\": -44.1}, {\"tests\": -44.7}, {\"tests\": -44.8}, {\"tests\": -45.4}, {\"tests\": -44.8}, {\"tests\": -45.0}, {\"tests\": -45.0}, {\"tests\": -43.5}, {\"tests\": -45.3}, {\"tests\": -44.1}, {\"tests\": -46.1}, {\"tests\": -44.2}, {\"tests\": -43.3}, {\"tests\": -45.4}, {\"tests\": -43.5}, {\"tests\": -44.7}, {\"tests\": -44.9}, {\"tests\": -45.3}, {\"tests\": -45.0}, {\"tests\": -44.5}, {\"tests\": -45.4}, {\"tests\": -42.7}, {\"tests\": -45.7}, {\"tests\": -44.1}, {\"tests\": -44.3}, {\"tests\": -44.2}, {\"tests\": -45.0}, {\"tests\": -44.4}, {\"tests\": -42.5}, {\"tests\": -45.5}, {\"tests\": -45.2}, {\"tests\": -43.8}, {\"tests\": -44.5}, {\"tests\": -45.0}, {\"tests\": -44.7}, {\"tests\": -44.2}, {\"tests\": -45.4}, {\"tests\": -45.2}, {\"tests\": -44.7}, {\"tests\": -44.2}, {\"tests\": -44.4}, {\"tests\": -43.5}, {\"tests\": -46.4}, {\"tests\": -44.0}, {\"tests\": -44.8}, {\"tests\": -44.8}, {\"tests\": -44.5}, {\"tests\": -46.4}, {\"tests\": -44.4}, {\"tests\": -45.9}, {\"tests\": -44.5}, {\"tests\": -44.2}, {\"tests\": -45.9}, {\"tests\": -44.9}, {\"tests\": -46.2}, {\"tests\": -46.1}, {\"tests\": -42.8}, {\"tests\": -46.4}, {\"tests\": -44.2}, {\"tests\": -45.0}, {\"tests\": -43.8}, {\"tests\": -44.8}, {\"tests\": -44.2}, {\"tests\": -43.8}, {\"tests\": -44.8}, {\"tests\": -42.4}, {\"tests\": -44.0}, {\"tests\": -43.7}, {\"tests\": -45.3}, {\"tests\": -44.1}, {\"tests\": -44.2}, {\"tests\": -44.0}, {\"tests\": -44.8}, {\"tests\": -44.3}, {\"tests\": -44.5}, {\"tests\": -44.9}, {\"tests\": -45.5}, {\"tests\": -43.9}, {\"tests\": -45.4}, {\"tests\": -43.6}, {\"tests\": -45.1}, {\"tests\": -44.8}, {\"tests\": -45.1}, {\"tests\": -44.1}, {\"tests\": -43.1}, {\"tests\": -45.9}, {\"tests\": -44.5}, {\"tests\": -45.0}, {\"tests\": -44.5}, {\"tests\": -44.3}, {\"tests\": -45.3}, {\"tests\": -44.8}, {\"tests\": -44.7}, {\"tests\": -45.2}, {\"tests\": -45.3}, {\"tests\": -45.0}, {\"tests\": -44.9}, {\"tests\": -43.7}, {\"tests\": -44.4}, {\"tests\": -44.5}, {\"tests\": -44.7}, {\"tests\": -44.4}, {\"tests\": -43.4}, {\"tests\": -46.2}, {\"tests\": -44.3}, {\"tests\": -43.7}, {\"tests\": -44.5}, {\"tests\": -43.5}, {\"tests\": -43.8}, {\"tests\": -45.5}, {\"tests\": -45.8}, {\"tests\": -45.2}, {\"tests\": -45.4}, {\"tests\": -45.1}, {\"tests\": -44.5}, {\"tests\": -45.7}, {\"tests\": -45.0}, {\"tests\": -44.4}, {\"tests\": -44.1}, {\"tests\": -45.1}, {\"tests\": -44.3}, {\"tests\": -44.3}, {\"tests\": -44.8}, {\"tests\": -46.7}, {\"tests\": -44.9}, {\"tests\": -46.2}, {\"tests\": -44.9}, {\"tests\": -45.8}, {\"tests\": -45.0}, {\"tests\": -44.1}, {\"tests\": -45.2}, {\"tests\": -44.1}, {\"tests\": -43.7}, {\"tests\": -43.6}, {\"tests\": -44.1}, {\"tests\": -44.1}, {\"tests\": -43.2}, {\"tests\": -44.8}, {\"tests\": -45.3}, {\"tests\": -44.5}, {\"tests\": -44.8}, {\"tests\": -45.9}, {\"tests\": -44.6}, {\"tests\": -45.0}, {\"tests\": -44.6}, {\"tests\": -44.4}, {\"tests\": -45.0}, {\"tests\": -45.7}, {\"tests\": -43.9}, {\"tests\": -43.2}, {\"tests\": -44.2}, {\"tests\": -45.8}, {\"tests\": -44.1}, {\"tests\": -43.9}, {\"tests\": -45.3}, {\"tests\": -45.7}, {\"tests\": -44.6}, {\"tests\": -44.3}, {\"tests\": -44.9}, {\"tests\": -44.2}, {\"tests\": -44.4}, {\"tests\": -44.2}, {\"tests\": -43.8}, {\"tests\": -45.4}, {\"tests\": -44.1}, {\"tests\": -45.6}, {\"tests\": -45.4}, {\"tests\": -44.4}, {\"tests\": -44.5}, {\"tests\": -44.9}, {\"tests\": -44.8}, {\"tests\": -44.6}, {\"tests\": -45.5}, {\"tests\": -45.6}, {\"tests\": -43.2}, {\"tests\": -45.3}, {\"tests\": -44.5}, {\"tests\": -45.4}, {\"tests\": -44.5}, {\"tests\": -44.9}, {\"tests\": -44.1}, {\"tests\": -44.8}, {\"tests\": -45.8}, {\"tests\": -43.9}, {\"tests\": -45.8}, {\"tests\": -45.0}, {\"tests\": -44.4}, {\"tests\": -44.6}, {\"tests\": -44.2}, {\"tests\": -44.1}, {\"tests\": -45.0}, {\"tests\": -42.8}, {\"tests\": -44.8}, {\"tests\": -44.5}, {\"tests\": -45.1}, {\"tests\": -45.7}, {\"tests\": -45.4}, {\"tests\": -44.8}, {\"tests\": -45.3}, {\"tests\": -45.1}, {\"tests\": -43.9}, {\"tests\": -45.3}, {\"tests\": -43.5}, {\"tests\": -44.9}, {\"tests\": -45.6}, {\"tests\": -45.5}, {\"tests\": -45.7}, {\"tests\": -45.6}, {\"tests\": -44.6}, {\"tests\": -45.4}, {\"tests\": -44.5}, {\"tests\": -44.3}, {\"tests\": -46.0}, {\"tests\": -45.4}, {\"tests\": -44.7}, {\"tests\": -44.4}, {\"tests\": -45.0}, {\"tests\": -45.0}, {\"tests\": -44.8}, {\"tests\": -44.2}, {\"tests\": -46.5}, {\"tests\": -45.1}, {\"tests\": -45.3}, {\"tests\": -44.0}, {\"tests\": -43.3}, {\"tests\": -45.5}, {\"tests\": -44.3}, {\"tests\": -44.6}, {\"tests\": -44.5}, {\"tests\": -45.4}, {\"tests\": -45.5}, {\"tests\": -44.8}, {\"tests\": -46.5}, {\"tests\": -45.4}, {\"tests\": -44.5}, {\"tests\": -43.9}, {\"tests\": -45.3}, {\"tests\": -44.2}, {\"tests\": -46.0}, {\"tests\": -44.4}, {\"tests\": -44.5}, {\"tests\": -46.0}, {\"tests\": -44.3}, {\"tests\": -44.5}, {\"tests\": -43.8}, {\"tests\": -44.2}, {\"tests\": -45.6}, {\"tests\": -46.1}, {\"tests\": -45.2}, {\"tests\": -45.0}, {\"tests\": -45.1}, {\"tests\": -46.9}, {\"tests\": -44.5}, {\"tests\": -44.9}, {\"tests\": -43.9}, {\"tests\": -45.3}, {\"tests\": -43.7}, {\"tests\": -44.6}, {\"tests\": -45.2}, {\"tests\": -43.5}, {\"tests\": -44.7}, {\"tests\": -45.5}, {\"tests\": -43.2}, {\"tests\": -45.2}, {\"tests\": -43.8}, {\"tests\": -45.7}, {\"tests\": -44.6}, {\"tests\": -45.0}, {\"tests\": -44.2}, {\"tests\": -44.3}, {\"tests\": -45.2}, {\"tests\": -45.6}, {\"tests\": -44.5}, {\"tests\": -45.2}, {\"tests\": -45.4}, {\"tests\": -45.0}, {\"tests\": -42.8}, {\"tests\": -44.9}, {\"tests\": -44.2}, {\"tests\": -44.0}, {\"tests\": -44.2}, {\"tests\": -45.6}, {\"tests\": -45.5}, {\"tests\": -44.9}, {\"tests\": -45.4}, {\"tests\": -45.7}, {\"tests\": -44.2}, {\"tests\": -44.7}, {\"tests\": -43.8}, {\"tests\": -45.4}, {\"tests\": -44.6}, {\"tests\": -45.2}, {\"tests\": -44.9}, {\"tests\": -43.1}, {\"tests\": -43.5}, {\"tests\": -44.9}, {\"tests\": -44.0}, {\"tests\": -44.2}, {\"tests\": -44.5}, {\"tests\": -43.6}, {\"tests\": -43.9}, {\"tests\": -44.7}, {\"tests\": -45.3}, {\"tests\": -44.6}, {\"tests\": -44.3}, {\"tests\": -44.6}, {\"tests\": -43.9}, {\"tests\": -45.3}, {\"tests\": -43.6}, {\"tests\": -45.1}, {\"tests\": -46.0}, {\"tests\": -44.6}, {\"tests\": -43.3}, {\"tests\": -45.1}, {\"tests\": -43.7}, {\"tests\": -45.2}, {\"tests\": -44.2}, {\"tests\": -43.7}, {\"tests\": -45.1}, {\"tests\": -43.6}, {\"tests\": -46.6}, {\"tests\": -44.6}, {\"tests\": -43.2}, {\"tests\": -45.7}, {\"tests\": -44.3}, {\"tests\": -46.4}, {\"tests\": -44.8}, {\"tests\": -45.0}, {\"tests\": -44.6}, {\"tests\": -43.7}, {\"tests\": -45.7}, {\"tests\": -45.8}, {\"tests\": -44.0}, {\"tests\": -45.5}, {\"tests\": -44.8}, {\"tests\": -44.4}, {\"tests\": -44.7}, {\"tests\": -44.4}, {\"tests\": -44.9}, {\"tests\": -44.4}, {\"tests\": -44.0}, {\"tests\": -44.8}, {\"tests\": -44.2}, {\"tests\": -44.1}, {\"tests\": -45.6}, {\"tests\": -44.8}, {\"tests\": -43.2}, {\"tests\": -44.8}, {\"tests\": -44.1}, {\"tests\": -44.5}, {\"tests\": -44.6}, {\"tests\": -44.1}, {\"tests\": -45.0}, {\"tests\": -45.3}, {\"tests\": -45.3}, {\"tests\": -44.4}, {\"tests\": -46.5}, {\"tests\": -44.0}, {\"tests\": -46.0}, {\"tests\": -45.0}, {\"tests\": -44.5}, {\"tests\": -46.1}, {\"tests\": -44.1}, {\"tests\": -45.3}, {\"tests\": -43.2}, {\"tests\": -44.4}, {\"tests\": -44.2}, {\"tests\": -44.9}, {\"tests\": -43.7}, {\"tests\": -44.0}, {\"tests\": -45.2}, {\"tests\": -44.1}, {\"tests\": -43.6}, {\"tests\": -44.1}, {\"tests\": -44.8}, {\"tests\": -46.1}, {\"tests\": -43.1}, {\"tests\": -45.2}, {\"tests\": -44.0}, {\"tests\": -44.5}, {\"tests\": -45.2}, {\"tests\": -44.6}, {\"tests\": -44.6}, {\"tests\": -45.0}, {\"tests\": -44.6}, {\"tests\": -45.3}, {\"tests\": -45.0}, {\"tests\": -45.2}, {\"tests\": -46.1}, {\"tests\": -45.4}, {\"tests\": -44.7}, {\"tests\": -44.0}, {\"tests\": -44.5}, {\"tests\": -45.0}, {\"tests\": -42.1}, {\"tests\": -44.2}, {\"tests\": -44.1}, {\"tests\": -43.7}, {\"tests\": -43.5}, {\"tests\": -45.4}, {\"tests\": -44.5}, {\"tests\": -44.0}, {\"tests\": -44.7}, {\"tests\": -45.4}, {\"tests\": -44.5}, {\"tests\": -44.5}, {\"tests\": -44.0}, {\"tests\": -43.4}, {\"tests\": -43.5}, {\"tests\": -46.3}, {\"tests\": -45.8}, {\"tests\": -43.7}, {\"tests\": -45.0}, {\"tests\": -45.3}, {\"tests\": -44.0}, {\"tests\": -45.4}, {\"tests\": -44.1}, {\"tests\": -42.9}, {\"tests\": -44.3}, {\"tests\": -44.5}, {\"tests\": -44.4}, {\"tests\": -44.0}, {\"tests\": -43.5}, {\"tests\": -43.7}, {\"tests\": -45.2}, {\"tests\": -46.8}, {\"tests\": -42.8}, {\"tests\": -45.0}, {\"tests\": -43.6}, {\"tests\": -43.9}, {\"tests\": -45.1}, {\"tests\": -45.0}, {\"tests\": -45.9}, {\"tests\": -45.3}, {\"tests\": -45.4}, {\"tests\": -45.0}, {\"tests\": -43.0}, {\"tests\": -44.7}, {\"tests\": -44.0}, {\"tests\": -45.3}, {\"tests\": -43.7}, {\"tests\": -45.7}, {\"tests\": -43.9}, {\"tests\": -44.5}, {\"tests\": -44.6}, {\"tests\": -45.0}, {\"tests\": -44.7}, {\"tests\": -44.3}, {\"tests\": -45.8}, {\"tests\": -43.3}, {\"tests\": -44.6}, {\"tests\": -44.5}, {\"tests\": -44.0}, {\"tests\": -44.7}, {\"tests\": -44.1}, {\"tests\": -44.6}, {\"tests\": -45.4}, {\"tests\": -44.6}, {\"tests\": -44.8}, {\"tests\": -44.4}, {\"tests\": -45.6}, {\"tests\": -44.7}]}}, {\"mode\": \"vega-lite\"});\n",
       "</script>"
      ],
      "text/plain": [
       "alt.LayerChart(...)"
      ]
     },
     "execution_count": 240,
     "metadata": {},
     "output_type": "execute_result"
    }
   ],
   "source": [
    "bootstrapped_2000_1000 = NPS_bootstrap(responses_2000, 1000)\n",
    "print(CI_95(bootstrapped_2000_1000))\n",
    "NPS_density(bootstrapped_2000_1000)"
   ]
  },
  {
   "cell_type": "code",
   "execution_count": 223,
   "metadata": {},
   "outputs": [],
   "source": [
    "responses_10k = np.random.randint(0,11, 10000)"
   ]
  },
  {
   "cell_type": "code",
   "execution_count": 224,
   "metadata": {},
   "outputs": [
    {
     "data": {
      "text/html": [
       "\n",
       "<style>\n",
       "  #altair-viz-3c4ddcdb8e6f49158ae640f18fe092a7.vega-embed {\n",
       "    width: 100%;\n",
       "    display: flex;\n",
       "  }\n",
       "\n",
       "  #altair-viz-3c4ddcdb8e6f49158ae640f18fe092a7.vega-embed details,\n",
       "  #altair-viz-3c4ddcdb8e6f49158ae640f18fe092a7.vega-embed details summary {\n",
       "    position: relative;\n",
       "  }\n",
       "</style>\n",
       "<div id=\"altair-viz-3c4ddcdb8e6f49158ae640f18fe092a7\"></div>\n",
       "<script type=\"text/javascript\">\n",
       "  var VEGA_DEBUG = (typeof VEGA_DEBUG == \"undefined\") ? {} : VEGA_DEBUG;\n",
       "  (function(spec, embedOpt){\n",
       "    let outputDiv = document.currentScript.previousElementSibling;\n",
       "    if (outputDiv.id !== \"altair-viz-3c4ddcdb8e6f49158ae640f18fe092a7\") {\n",
       "      outputDiv = document.getElementById(\"altair-viz-3c4ddcdb8e6f49158ae640f18fe092a7\");\n",
       "    }\n",
       "    const paths = {\n",
       "      \"vega\": \"https://cdn.jsdelivr.net/npm/vega@5?noext\",\n",
       "      \"vega-lib\": \"https://cdn.jsdelivr.net/npm/vega-lib?noext\",\n",
       "      \"vega-lite\": \"https://cdn.jsdelivr.net/npm/vega-lite@5.16.3?noext\",\n",
       "      \"vega-embed\": \"https://cdn.jsdelivr.net/npm/vega-embed@6?noext\",\n",
       "    };\n",
       "\n",
       "    function maybeLoadScript(lib, version) {\n",
       "      var key = `${lib.replace(\"-\", \"\")}_version`;\n",
       "      return (VEGA_DEBUG[key] == version) ?\n",
       "        Promise.resolve(paths[lib]) :\n",
       "        new Promise(function(resolve, reject) {\n",
       "          var s = document.createElement('script');\n",
       "          document.getElementsByTagName(\"head\")[0].appendChild(s);\n",
       "          s.async = true;\n",
       "          s.onload = () => {\n",
       "            VEGA_DEBUG[key] = version;\n",
       "            return resolve(paths[lib]);\n",
       "          };\n",
       "          s.onerror = () => reject(`Error loading script: ${paths[lib]}`);\n",
       "          s.src = paths[lib];\n",
       "        });\n",
       "    }\n",
       "\n",
       "    function showError(err) {\n",
       "      outputDiv.innerHTML = `<div class=\"error\" style=\"color:red;\">${err}</div>`;\n",
       "      throw err;\n",
       "    }\n",
       "\n",
       "    function displayChart(vegaEmbed) {\n",
       "      vegaEmbed(outputDiv, spec, embedOpt)\n",
       "        .catch(err => showError(`Javascript Error: ${err.message}<br>This usually means there's a typo in your chart specification. See the javascript console for the full traceback.`));\n",
       "    }\n",
       "\n",
       "    if(typeof define === \"function\" && define.amd) {\n",
       "      requirejs.config({paths});\n",
       "      require([\"vega-embed\"], displayChart, err => showError(`Error loading script: ${err.message}`));\n",
       "    } else {\n",
       "      maybeLoadScript(\"vega\", \"5\")\n",
       "        .then(() => maybeLoadScript(\"vega-lite\", \"5.16.3\"))\n",
       "        .then(() => maybeLoadScript(\"vega-embed\", \"6\"))\n",
       "        .catch(showError)\n",
       "        .then(() => displayChart(vegaEmbed));\n",
       "    }\n",
       "  })({\"config\": {\"view\": {\"continuousWidth\": 300, \"continuousHeight\": 300}}, \"layer\": [{\"mark\": {\"type\": \"area\", \"color\": \"lightgray\"}, \"encoding\": {\"x\": {\"axis\": {\"title\": \"Population Distribution of Pickups\"}, \"field\": \"tests\", \"scale\": {\"domain\": [-58.9, -32.8]}, \"type\": \"quantitative\"}, \"y\": {\"axis\": {\"title\": \"Density\"}, \"field\": \"density\", \"type\": \"quantitative\"}}, \"transform\": [{\"density\": \"tests\", \"as\": [\"tests\", \"density\"]}]}, {\"mark\": {\"type\": \"rule\", \"color\": \"black\", \"strokeDash\": [1, 1]}, \"encoding\": {\"x\": {\"aggregate\": \"mean\", \"field\": \"tests\", \"type\": \"quantitative\"}}}], \"data\": {\"name\": \"data-daf66f0ec0db4dffe87761fed66dffea\"}, \"$schema\": \"https://vega.github.io/schema/vega-lite/v5.16.3.json\", \"datasets\": {\"data-daf66f0ec0db4dffe87761fed66dffea\": [{\"tests\": -46.8}, {\"tests\": -45.5}, {\"tests\": -45.9}, {\"tests\": -45.9}, {\"tests\": -45.6}, {\"tests\": -45.4}, {\"tests\": -45.5}, {\"tests\": -45.9}, {\"tests\": -45.5}, {\"tests\": -47.3}, {\"tests\": -47.1}, {\"tests\": -44.4}, {\"tests\": -46.0}, {\"tests\": -46.7}, {\"tests\": -46.3}, {\"tests\": -44.7}, {\"tests\": -46.7}, {\"tests\": -46.7}, {\"tests\": -44.8}, {\"tests\": -46.9}, {\"tests\": -46.9}, {\"tests\": -45.6}, {\"tests\": -45.8}, {\"tests\": -45.6}, {\"tests\": -45.5}, {\"tests\": -46.1}, {\"tests\": -46.6}, {\"tests\": -45.7}, {\"tests\": -46.4}, {\"tests\": -46.2}, {\"tests\": -46.9}, {\"tests\": -46.2}, {\"tests\": -46.4}, {\"tests\": -45.4}, {\"tests\": -46.2}, {\"tests\": -46.5}, {\"tests\": -45.6}, {\"tests\": -45.5}, {\"tests\": -46.0}, {\"tests\": -46.5}, {\"tests\": -46.1}, {\"tests\": -45.9}, {\"tests\": -46.1}, {\"tests\": -46.4}, {\"tests\": -46.4}, {\"tests\": -45.8}, {\"tests\": -45.3}, {\"tests\": -45.3}, {\"tests\": -46.2}, {\"tests\": -45.5}, {\"tests\": -45.3}, {\"tests\": -45.9}, {\"tests\": -46.9}, {\"tests\": -45.4}, {\"tests\": -46.1}, {\"tests\": -45.7}, {\"tests\": -46.9}, {\"tests\": -46.2}, {\"tests\": -47.0}, {\"tests\": -45.1}, {\"tests\": -45.2}, {\"tests\": -45.7}, {\"tests\": -45.1}, {\"tests\": -45.1}, {\"tests\": -46.8}, {\"tests\": -46.5}, {\"tests\": -45.6}, {\"tests\": -45.5}, {\"tests\": -45.4}, {\"tests\": -44.8}, {\"tests\": -47.3}, {\"tests\": -44.6}, {\"tests\": -46.4}, {\"tests\": -46.3}, {\"tests\": -46.2}, {\"tests\": -45.6}, {\"tests\": -45.6}, {\"tests\": -44.8}, {\"tests\": -45.8}, {\"tests\": -46.6}, {\"tests\": -45.1}, {\"tests\": -45.5}, {\"tests\": -44.7}, {\"tests\": -46.1}, {\"tests\": -46.9}, {\"tests\": -45.6}, {\"tests\": -46.5}, {\"tests\": -45.6}, {\"tests\": -46.6}, {\"tests\": -45.7}, {\"tests\": -45.6}, {\"tests\": -47.5}, {\"tests\": -46.7}, {\"tests\": -46.5}, {\"tests\": -46.5}, {\"tests\": -47.6}, {\"tests\": -45.6}, {\"tests\": -45.9}, {\"tests\": -47.2}, {\"tests\": -47.9}, {\"tests\": -45.5}, {\"tests\": -47.0}, {\"tests\": -45.9}, {\"tests\": -46.4}, {\"tests\": -45.2}, {\"tests\": -45.7}, {\"tests\": -44.8}, {\"tests\": -46.4}, {\"tests\": -44.7}, {\"tests\": -45.8}, {\"tests\": -46.8}, {\"tests\": -46.0}, {\"tests\": -45.9}, {\"tests\": -46.7}, {\"tests\": -45.8}, {\"tests\": -46.6}, {\"tests\": -46.0}, {\"tests\": -45.2}, {\"tests\": -46.8}, {\"tests\": -46.4}, {\"tests\": -44.8}, {\"tests\": -45.6}, {\"tests\": -46.7}, {\"tests\": -47.1}, {\"tests\": -46.4}, {\"tests\": -45.1}, {\"tests\": -45.6}, {\"tests\": -45.1}, {\"tests\": -46.0}, {\"tests\": -45.8}, {\"tests\": -46.4}, {\"tests\": -45.8}, {\"tests\": -44.2}, {\"tests\": -46.1}, {\"tests\": -46.4}, {\"tests\": -47.9}, {\"tests\": -45.5}, {\"tests\": -44.8}, {\"tests\": -46.4}, {\"tests\": -45.9}, {\"tests\": -46.1}, {\"tests\": -46.0}, {\"tests\": -44.4}, {\"tests\": -45.6}, {\"tests\": -45.6}, {\"tests\": -46.1}, {\"tests\": -46.6}, {\"tests\": -45.4}, {\"tests\": -46.2}, {\"tests\": -45.4}, {\"tests\": -45.9}, {\"tests\": -44.9}, {\"tests\": -47.1}, {\"tests\": -46.4}, {\"tests\": -45.5}, {\"tests\": -45.9}, {\"tests\": -46.2}, {\"tests\": -45.6}, {\"tests\": -47.0}, {\"tests\": -47.5}, {\"tests\": -47.1}, {\"tests\": -44.1}, {\"tests\": -46.2}, {\"tests\": -45.7}, {\"tests\": -45.0}, {\"tests\": -46.1}, {\"tests\": -46.4}, {\"tests\": -45.0}, {\"tests\": -45.3}, {\"tests\": -44.9}, {\"tests\": -46.0}, {\"tests\": -46.8}, {\"tests\": -46.2}, {\"tests\": -46.2}, {\"tests\": -45.8}, {\"tests\": -45.5}, {\"tests\": -45.4}, {\"tests\": -46.0}, {\"tests\": -45.4}, {\"tests\": -46.6}, {\"tests\": -47.1}, {\"tests\": -46.4}, {\"tests\": -47.1}, {\"tests\": -46.0}, {\"tests\": -45.6}, {\"tests\": -45.8}, {\"tests\": -46.8}, {\"tests\": -45.8}, {\"tests\": -45.7}, {\"tests\": -44.8}, {\"tests\": -46.4}, {\"tests\": -44.9}, {\"tests\": -46.3}, {\"tests\": -45.8}, {\"tests\": -45.8}, {\"tests\": -46.4}, {\"tests\": -46.9}, {\"tests\": -47.0}, {\"tests\": -46.3}, {\"tests\": -44.9}, {\"tests\": -46.7}, {\"tests\": -45.0}, {\"tests\": -46.2}, {\"tests\": -46.1}, {\"tests\": -45.6}, {\"tests\": -44.9}, {\"tests\": -45.6}, {\"tests\": -45.4}, {\"tests\": -46.9}, {\"tests\": -46.9}, {\"tests\": -47.9}, {\"tests\": -46.6}, {\"tests\": -45.6}, {\"tests\": -45.4}, {\"tests\": -45.6}, {\"tests\": -45.3}, {\"tests\": -45.1}, {\"tests\": -47.1}, {\"tests\": -47.6}, {\"tests\": -45.7}, {\"tests\": -46.4}, {\"tests\": -46.7}, {\"tests\": -46.0}, {\"tests\": -46.2}, {\"tests\": -46.6}, {\"tests\": -46.9}, {\"tests\": -46.8}, {\"tests\": -46.4}, {\"tests\": -45.0}, {\"tests\": -44.8}, {\"tests\": -46.1}, {\"tests\": -45.6}, {\"tests\": -46.0}, {\"tests\": -46.2}, {\"tests\": -46.4}, {\"tests\": -46.7}, {\"tests\": -46.8}, {\"tests\": -44.9}, {\"tests\": -45.4}, {\"tests\": -44.9}, {\"tests\": -47.3}, {\"tests\": -44.6}, {\"tests\": -46.5}, {\"tests\": -45.5}, {\"tests\": -46.5}, {\"tests\": -44.7}, {\"tests\": -48.3}, {\"tests\": -45.3}, {\"tests\": -46.1}, {\"tests\": -46.4}, {\"tests\": -45.9}, {\"tests\": -46.6}, {\"tests\": -46.0}, {\"tests\": -46.1}, {\"tests\": -46.2}, {\"tests\": -45.6}, {\"tests\": -46.8}, {\"tests\": -45.3}, {\"tests\": -46.6}, {\"tests\": -46.7}, {\"tests\": -45.6}, {\"tests\": -44.7}, {\"tests\": -46.9}, {\"tests\": -46.6}, {\"tests\": -44.4}, {\"tests\": -46.3}, {\"tests\": -47.4}, {\"tests\": -44.7}, {\"tests\": -45.5}, {\"tests\": -46.2}, {\"tests\": -46.9}, {\"tests\": -44.9}, {\"tests\": -47.4}, {\"tests\": -45.2}, {\"tests\": -44.4}, {\"tests\": -46.1}, {\"tests\": -46.8}, {\"tests\": -46.1}, {\"tests\": -45.1}, {\"tests\": -45.8}, {\"tests\": -45.4}, {\"tests\": -45.9}, {\"tests\": -45.9}, {\"tests\": -45.0}, {\"tests\": -45.8}, {\"tests\": -46.1}, {\"tests\": -45.9}, {\"tests\": -45.7}, {\"tests\": -45.4}, {\"tests\": -45.4}, {\"tests\": -45.7}, {\"tests\": -45.8}, {\"tests\": -45.4}, {\"tests\": -45.8}, {\"tests\": -45.9}, {\"tests\": -46.3}, {\"tests\": -46.6}, {\"tests\": -45.4}, {\"tests\": -46.6}, {\"tests\": -46.0}, {\"tests\": -46.8}, {\"tests\": -45.6}, {\"tests\": -46.2}, {\"tests\": -46.8}, {\"tests\": -45.5}, {\"tests\": -44.9}, {\"tests\": -46.4}, {\"tests\": -46.1}, {\"tests\": -45.1}, {\"tests\": -46.6}, {\"tests\": -46.2}, {\"tests\": -45.3}, {\"tests\": -45.2}, {\"tests\": -46.6}, {\"tests\": -44.8}, {\"tests\": -45.8}, {\"tests\": -48.0}, {\"tests\": -46.3}, {\"tests\": -45.5}, {\"tests\": -45.2}, {\"tests\": -45.5}, {\"tests\": -46.7}, {\"tests\": -46.8}, {\"tests\": -45.4}, {\"tests\": -45.5}, {\"tests\": -46.3}, {\"tests\": -46.0}, {\"tests\": -45.6}, {\"tests\": -46.8}, {\"tests\": -46.2}, {\"tests\": -46.0}, {\"tests\": -47.7}, {\"tests\": -47.0}, {\"tests\": -46.6}, {\"tests\": -45.2}, {\"tests\": -47.8}, {\"tests\": -46.3}, {\"tests\": -46.8}, {\"tests\": -46.7}, {\"tests\": -45.9}, {\"tests\": -46.2}, {\"tests\": -44.5}, {\"tests\": -46.0}, {\"tests\": -45.8}, {\"tests\": -46.3}, {\"tests\": -46.8}, {\"tests\": -46.0}, {\"tests\": -45.9}, {\"tests\": -44.4}, {\"tests\": -47.1}, {\"tests\": -46.1}, {\"tests\": -45.2}, {\"tests\": -45.5}, {\"tests\": -46.3}, {\"tests\": -46.9}, {\"tests\": -48.2}, {\"tests\": -46.7}, {\"tests\": -46.1}, {\"tests\": -46.6}, {\"tests\": -45.9}, {\"tests\": -44.2}, {\"tests\": -47.4}, {\"tests\": -44.8}, {\"tests\": -44.7}, {\"tests\": -46.4}, {\"tests\": -45.9}, {\"tests\": -46.6}, {\"tests\": -44.7}, {\"tests\": -46.3}, {\"tests\": -45.2}, {\"tests\": -45.1}, {\"tests\": -45.6}, {\"tests\": -45.1}, {\"tests\": -45.3}, {\"tests\": -45.8}, {\"tests\": -45.0}, {\"tests\": -45.7}, {\"tests\": -46.5}, {\"tests\": -45.7}, {\"tests\": -46.9}, {\"tests\": -46.2}, {\"tests\": -46.9}, {\"tests\": -46.0}, {\"tests\": -45.9}, {\"tests\": -47.6}, {\"tests\": -46.4}, {\"tests\": -46.3}, {\"tests\": -46.4}, {\"tests\": -45.7}, {\"tests\": -46.6}, {\"tests\": -44.8}, {\"tests\": -45.5}, {\"tests\": -46.3}, {\"tests\": -45.7}, {\"tests\": -44.8}, {\"tests\": -45.0}, {\"tests\": -46.8}, {\"tests\": -46.9}, {\"tests\": -47.6}, {\"tests\": -45.9}, {\"tests\": -46.6}, {\"tests\": -45.6}, {\"tests\": -45.8}, {\"tests\": -46.7}, {\"tests\": -45.5}, {\"tests\": -46.6}, {\"tests\": -45.8}, {\"tests\": -45.3}, {\"tests\": -46.4}, {\"tests\": -46.3}, {\"tests\": -46.5}, {\"tests\": -46.1}, {\"tests\": -45.1}, {\"tests\": -46.1}, {\"tests\": -45.7}, {\"tests\": -46.5}, {\"tests\": -45.3}, {\"tests\": -45.6}, {\"tests\": -45.6}, {\"tests\": -46.0}, {\"tests\": -46.4}, {\"tests\": -46.8}, {\"tests\": -45.5}, {\"tests\": -46.1}, {\"tests\": -46.4}, {\"tests\": -47.4}, {\"tests\": -45.3}, {\"tests\": -46.2}, {\"tests\": -45.8}, {\"tests\": -46.0}, {\"tests\": -45.8}, {\"tests\": -45.3}, {\"tests\": -45.5}, {\"tests\": -45.1}, {\"tests\": -45.1}, {\"tests\": -45.5}, {\"tests\": -45.9}, {\"tests\": -47.5}, {\"tests\": -45.8}, {\"tests\": -46.3}, {\"tests\": -46.0}, {\"tests\": -45.6}, {\"tests\": -44.6}, {\"tests\": -46.0}, {\"tests\": -45.9}, {\"tests\": -45.1}, {\"tests\": -46.7}, {\"tests\": -46.1}, {\"tests\": -44.8}, {\"tests\": -45.1}, {\"tests\": -45.8}, {\"tests\": -46.4}, {\"tests\": -46.6}, {\"tests\": -46.1}, {\"tests\": -46.1}, {\"tests\": -45.5}, {\"tests\": -46.1}, {\"tests\": -47.2}, {\"tests\": -46.0}, {\"tests\": -46.6}, {\"tests\": -46.6}, {\"tests\": -45.4}, {\"tests\": -47.0}, {\"tests\": -46.8}, {\"tests\": -45.9}, {\"tests\": -46.2}, {\"tests\": -46.4}, {\"tests\": -46.5}, {\"tests\": -47.4}, {\"tests\": -45.9}, {\"tests\": -46.0}, {\"tests\": -46.8}, {\"tests\": -45.1}, {\"tests\": -46.8}, {\"tests\": -45.9}, {\"tests\": -46.5}, {\"tests\": -46.7}, {\"tests\": -45.4}, {\"tests\": -46.0}, {\"tests\": -46.5}, {\"tests\": -46.0}, {\"tests\": -45.7}, {\"tests\": -45.7}, {\"tests\": -45.1}, {\"tests\": -46.0}, {\"tests\": -45.7}, {\"tests\": -46.5}, {\"tests\": -46.2}, {\"tests\": -46.7}, {\"tests\": -46.6}, {\"tests\": -45.4}, {\"tests\": -45.9}, {\"tests\": -46.4}, {\"tests\": -46.3}, {\"tests\": -46.4}, {\"tests\": -46.3}, {\"tests\": -45.1}, {\"tests\": -46.0}, {\"tests\": -45.2}, {\"tests\": -46.0}, {\"tests\": -46.0}, {\"tests\": -45.8}, {\"tests\": -46.0}, {\"tests\": -46.2}, {\"tests\": -46.9}, {\"tests\": -47.3}, {\"tests\": -44.9}, {\"tests\": -46.4}, {\"tests\": -46.6}, {\"tests\": -47.0}, {\"tests\": -46.6}, {\"tests\": -45.6}, {\"tests\": -47.2}, {\"tests\": -47.6}, {\"tests\": -47.2}, {\"tests\": -47.2}, {\"tests\": -45.5}, {\"tests\": -45.3}, {\"tests\": -47.4}, {\"tests\": -45.5}, {\"tests\": -45.2}, {\"tests\": -47.8}, {\"tests\": -46.8}, {\"tests\": -46.0}, {\"tests\": -44.6}, {\"tests\": -45.4}, {\"tests\": -46.2}, {\"tests\": -44.9}, {\"tests\": -46.6}, {\"tests\": -46.2}, {\"tests\": -45.0}, {\"tests\": -47.7}, {\"tests\": -45.6}, {\"tests\": -45.9}, {\"tests\": -45.4}, {\"tests\": -45.8}, {\"tests\": -45.7}, {\"tests\": -46.5}, {\"tests\": -45.7}, {\"tests\": -44.5}, {\"tests\": -46.5}, {\"tests\": -46.3}, {\"tests\": -45.7}, {\"tests\": -47.4}, {\"tests\": -45.7}, {\"tests\": -46.1}, {\"tests\": -45.1}, {\"tests\": -46.2}, {\"tests\": -45.7}, {\"tests\": -45.8}, {\"tests\": -47.7}, {\"tests\": -47.2}, {\"tests\": -47.1}, {\"tests\": -46.7}, {\"tests\": -45.7}, {\"tests\": -46.1}, {\"tests\": -47.1}, {\"tests\": -45.7}, {\"tests\": -46.1}, {\"tests\": -45.4}, {\"tests\": -46.9}, {\"tests\": -46.6}, {\"tests\": -45.7}, {\"tests\": -46.5}, {\"tests\": -46.0}, {\"tests\": -47.7}, {\"tests\": -46.4}, {\"tests\": -45.5}, {\"tests\": -45.6}, {\"tests\": -45.1}, {\"tests\": -46.1}, {\"tests\": -45.4}, {\"tests\": -45.0}, {\"tests\": -46.6}, {\"tests\": -45.5}, {\"tests\": -44.8}, {\"tests\": -46.7}, {\"tests\": -47.5}, {\"tests\": -45.3}, {\"tests\": -46.3}, {\"tests\": -45.6}, {\"tests\": -47.2}, {\"tests\": -46.0}, {\"tests\": -44.9}, {\"tests\": -46.0}, {\"tests\": -45.7}, {\"tests\": -45.5}, {\"tests\": -47.2}, {\"tests\": -46.3}, {\"tests\": -45.9}, {\"tests\": -44.3}, {\"tests\": -47.5}, {\"tests\": -46.4}, {\"tests\": -44.6}, {\"tests\": -46.0}, {\"tests\": -46.4}, {\"tests\": -46.7}, {\"tests\": -45.8}, {\"tests\": -45.5}, {\"tests\": -45.3}, {\"tests\": -46.1}, {\"tests\": -44.5}, {\"tests\": -45.2}, {\"tests\": -45.8}, {\"tests\": -45.6}, {\"tests\": -45.9}, {\"tests\": -45.1}, {\"tests\": -45.4}, {\"tests\": -45.0}, {\"tests\": -45.6}, {\"tests\": -45.4}, {\"tests\": -46.7}, {\"tests\": -46.1}, {\"tests\": -46.2}, {\"tests\": -45.7}, {\"tests\": -46.8}, {\"tests\": -46.6}, {\"tests\": -46.2}, {\"tests\": -46.2}, {\"tests\": -47.1}, {\"tests\": -46.2}, {\"tests\": -46.6}, {\"tests\": -46.5}, {\"tests\": -45.7}, {\"tests\": -45.4}, {\"tests\": -45.5}, {\"tests\": -46.3}, {\"tests\": -45.1}, {\"tests\": -46.2}, {\"tests\": -45.6}, {\"tests\": -45.0}, {\"tests\": -44.4}, {\"tests\": -46.2}, {\"tests\": -47.1}, {\"tests\": -45.9}, {\"tests\": -45.6}, {\"tests\": -46.3}, {\"tests\": -46.7}, {\"tests\": -44.7}, {\"tests\": -46.8}, {\"tests\": -47.7}, {\"tests\": -46.8}, {\"tests\": -46.7}, {\"tests\": -45.7}, {\"tests\": -45.3}, {\"tests\": -45.3}, {\"tests\": -45.3}, {\"tests\": -45.3}, {\"tests\": -45.3}, {\"tests\": -45.7}, {\"tests\": -46.0}, {\"tests\": -44.2}, {\"tests\": -44.8}, {\"tests\": -45.1}, {\"tests\": -46.4}, {\"tests\": -47.0}, {\"tests\": -45.1}, {\"tests\": -46.6}, {\"tests\": -45.6}, {\"tests\": -46.4}, {\"tests\": -45.1}, {\"tests\": -47.1}, {\"tests\": -46.2}, {\"tests\": -44.0}, {\"tests\": -46.0}, {\"tests\": -45.2}, {\"tests\": -46.4}, {\"tests\": -44.2}, {\"tests\": -45.0}, {\"tests\": -46.5}, {\"tests\": -44.8}, {\"tests\": -46.6}, {\"tests\": -47.6}, {\"tests\": -44.6}, {\"tests\": -46.0}, {\"tests\": -46.5}, {\"tests\": -47.2}, {\"tests\": -43.8}, {\"tests\": -46.6}, {\"tests\": -45.8}, {\"tests\": -46.8}, {\"tests\": -46.1}, {\"tests\": -45.9}, {\"tests\": -45.9}, {\"tests\": -46.5}, {\"tests\": -46.4}, {\"tests\": -47.2}, {\"tests\": -46.3}, {\"tests\": -47.6}, {\"tests\": -46.4}, {\"tests\": -46.2}, {\"tests\": -45.7}, {\"tests\": -47.1}, {\"tests\": -46.9}, {\"tests\": -46.6}, {\"tests\": -45.5}, {\"tests\": -44.8}, {\"tests\": -46.6}, {\"tests\": -45.9}, {\"tests\": -47.2}, {\"tests\": -44.8}, {\"tests\": -45.6}, {\"tests\": -45.6}, {\"tests\": -45.9}, {\"tests\": -45.8}, {\"tests\": -45.5}, {\"tests\": -47.1}, {\"tests\": -45.6}, {\"tests\": -46.0}, {\"tests\": -46.6}, {\"tests\": -46.2}, {\"tests\": -45.8}, {\"tests\": -45.9}, {\"tests\": -47.1}, {\"tests\": -47.5}, {\"tests\": -46.4}, {\"tests\": -46.5}, {\"tests\": -45.0}, {\"tests\": -47.0}, {\"tests\": -45.9}, {\"tests\": -45.7}, {\"tests\": -46.4}, {\"tests\": -45.9}, {\"tests\": -45.8}, {\"tests\": -45.4}, {\"tests\": -45.4}, {\"tests\": -44.9}, {\"tests\": -45.4}, {\"tests\": -47.4}, {\"tests\": -46.3}, {\"tests\": -46.2}, {\"tests\": -46.3}, {\"tests\": -46.1}, {\"tests\": -47.6}, {\"tests\": -45.6}, {\"tests\": -46.5}, {\"tests\": -46.2}, {\"tests\": -46.1}, {\"tests\": -46.4}, {\"tests\": -46.9}, {\"tests\": -46.7}, {\"tests\": -46.1}, {\"tests\": -46.1}, {\"tests\": -46.7}, {\"tests\": -45.7}, {\"tests\": -45.9}, {\"tests\": -47.6}, {\"tests\": -44.7}, {\"tests\": -45.4}, {\"tests\": -45.3}, {\"tests\": -45.8}, {\"tests\": -45.7}, {\"tests\": -46.8}, {\"tests\": -45.3}, {\"tests\": -46.0}, {\"tests\": -46.4}, {\"tests\": -47.5}, {\"tests\": -46.4}, {\"tests\": -46.4}, {\"tests\": -45.2}, {\"tests\": -46.6}, {\"tests\": -47.2}, {\"tests\": -46.1}, {\"tests\": -47.2}, {\"tests\": -46.1}, {\"tests\": -45.9}, {\"tests\": -46.0}, {\"tests\": -45.8}, {\"tests\": -45.4}, {\"tests\": -44.8}, {\"tests\": -46.6}, {\"tests\": -44.6}, {\"tests\": -46.7}, {\"tests\": -47.1}, {\"tests\": -46.4}, {\"tests\": -47.7}, {\"tests\": -45.9}, {\"tests\": -46.0}, {\"tests\": -45.6}, {\"tests\": -46.9}, {\"tests\": -47.1}, {\"tests\": -45.8}, {\"tests\": -46.8}, {\"tests\": -45.9}, {\"tests\": -45.2}, {\"tests\": -45.2}, {\"tests\": -46.5}, {\"tests\": -45.8}, {\"tests\": -45.3}, {\"tests\": -47.7}, {\"tests\": -45.4}, {\"tests\": -46.0}, {\"tests\": -45.3}, {\"tests\": -47.1}, {\"tests\": -46.0}, {\"tests\": -46.2}, {\"tests\": -47.3}, {\"tests\": -46.7}, {\"tests\": -45.4}, {\"tests\": -45.3}, {\"tests\": -45.9}, {\"tests\": -46.9}, {\"tests\": -46.6}, {\"tests\": -45.2}, {\"tests\": -46.2}, {\"tests\": -46.3}, {\"tests\": -46.2}, {\"tests\": -46.1}, {\"tests\": -45.3}, {\"tests\": -45.4}, {\"tests\": -45.7}, {\"tests\": -45.1}, {\"tests\": -44.2}, {\"tests\": -46.0}, {\"tests\": -45.4}, {\"tests\": -46.3}, {\"tests\": -44.8}, {\"tests\": -45.0}, {\"tests\": -45.2}, {\"tests\": -45.4}, {\"tests\": -46.0}, {\"tests\": -44.9}, {\"tests\": -44.4}, {\"tests\": -44.2}, {\"tests\": -45.0}, {\"tests\": -46.1}, {\"tests\": -47.0}, {\"tests\": -45.2}, {\"tests\": -46.3}, {\"tests\": -46.6}, {\"tests\": -46.8}, {\"tests\": -46.2}, {\"tests\": -45.3}, {\"tests\": -43.4}, {\"tests\": -47.4}, {\"tests\": -45.9}, {\"tests\": -46.1}, {\"tests\": -46.3}, {\"tests\": -46.6}, {\"tests\": -46.8}, {\"tests\": -46.7}, {\"tests\": -46.8}, {\"tests\": -46.9}, {\"tests\": -46.4}, {\"tests\": -46.7}, {\"tests\": -44.4}, {\"tests\": -47.4}, {\"tests\": -46.0}, {\"tests\": -46.2}, {\"tests\": -46.8}, {\"tests\": -46.1}, {\"tests\": -46.4}, {\"tests\": -44.8}, {\"tests\": -46.2}, {\"tests\": -45.9}, {\"tests\": -45.1}, {\"tests\": -45.8}, {\"tests\": -45.5}, {\"tests\": -46.8}, {\"tests\": -44.5}, {\"tests\": -43.7}, {\"tests\": -46.4}, {\"tests\": -47.2}, {\"tests\": -45.1}, {\"tests\": -45.1}, {\"tests\": -45.1}, {\"tests\": -47.7}, {\"tests\": -46.0}, {\"tests\": -47.7}, {\"tests\": -44.7}, {\"tests\": -45.0}, {\"tests\": -46.5}, {\"tests\": -45.4}, {\"tests\": -45.2}, {\"tests\": -45.2}, {\"tests\": -46.2}, {\"tests\": -47.4}, {\"tests\": -45.1}, {\"tests\": -45.4}, {\"tests\": -47.3}, {\"tests\": -45.3}, {\"tests\": -46.0}, {\"tests\": -44.7}, {\"tests\": -46.0}, {\"tests\": -45.9}, {\"tests\": -45.0}, {\"tests\": -46.3}, {\"tests\": -45.2}, {\"tests\": -44.8}, {\"tests\": -46.4}, {\"tests\": -46.6}, {\"tests\": -46.8}, {\"tests\": -47.7}, {\"tests\": -43.7}, {\"tests\": -46.5}, {\"tests\": -46.6}, {\"tests\": -46.2}, {\"tests\": -46.2}, {\"tests\": -46.0}, {\"tests\": -44.9}, {\"tests\": -46.1}, {\"tests\": -43.8}, {\"tests\": -45.8}, {\"tests\": -45.3}, {\"tests\": -47.4}, {\"tests\": -46.5}, {\"tests\": -45.2}, {\"tests\": -46.2}, {\"tests\": -45.2}, {\"tests\": -44.4}, {\"tests\": -45.9}, {\"tests\": -45.9}, {\"tests\": -46.4}, {\"tests\": -45.3}, {\"tests\": -46.4}, {\"tests\": -45.6}, {\"tests\": -47.2}, {\"tests\": -46.4}, {\"tests\": -46.2}, {\"tests\": -45.8}, {\"tests\": -47.0}, {\"tests\": -45.3}, {\"tests\": -45.7}, {\"tests\": -47.9}, {\"tests\": -45.8}, {\"tests\": -47.4}, {\"tests\": -45.6}, {\"tests\": -44.8}, {\"tests\": -44.9}, {\"tests\": -45.7}, {\"tests\": -46.5}, {\"tests\": -45.0}, {\"tests\": -44.9}, {\"tests\": -45.0}, {\"tests\": -45.6}, {\"tests\": -45.5}, {\"tests\": -46.2}, {\"tests\": -46.4}, {\"tests\": -45.6}, {\"tests\": -44.4}, {\"tests\": -46.4}, {\"tests\": -46.3}, {\"tests\": -47.0}, {\"tests\": -45.8}, {\"tests\": -46.1}, {\"tests\": -45.9}, {\"tests\": -45.0}, {\"tests\": -45.4}, {\"tests\": -44.9}, {\"tests\": -47.6}, {\"tests\": -47.1}, {\"tests\": -46.8}, {\"tests\": -45.9}, {\"tests\": -45.8}, {\"tests\": -46.8}, {\"tests\": -48.0}, {\"tests\": -46.6}, {\"tests\": -46.3}, {\"tests\": -46.3}, {\"tests\": -44.4}, {\"tests\": -46.7}, {\"tests\": -47.7}, {\"tests\": -45.5}, {\"tests\": -48.1}, {\"tests\": -45.8}, {\"tests\": -46.4}, {\"tests\": -46.8}, {\"tests\": -46.0}, {\"tests\": -45.5}, {\"tests\": -46.6}, {\"tests\": -46.1}, {\"tests\": -46.3}, {\"tests\": -46.1}, {\"tests\": -45.1}, {\"tests\": -45.4}, {\"tests\": -45.4}, {\"tests\": -46.1}, {\"tests\": -45.5}, {\"tests\": -45.1}, {\"tests\": -45.9}, {\"tests\": -45.8}, {\"tests\": -46.3}, {\"tests\": -45.5}, {\"tests\": -45.1}, {\"tests\": -46.2}, {\"tests\": -47.0}, {\"tests\": -45.2}, {\"tests\": -46.1}, {\"tests\": -45.7}, {\"tests\": -45.9}, {\"tests\": -46.6}, {\"tests\": -44.4}, {\"tests\": -45.5}, {\"tests\": -45.7}, {\"tests\": -46.2}, {\"tests\": -46.6}, {\"tests\": -47.2}, {\"tests\": -46.6}, {\"tests\": -45.1}, {\"tests\": -46.3}, {\"tests\": -45.5}, {\"tests\": -45.1}, {\"tests\": -47.4}, {\"tests\": -44.8}, {\"tests\": -46.4}, {\"tests\": -45.9}, {\"tests\": -46.5}, {\"tests\": -45.6}, {\"tests\": -45.7}, {\"tests\": -46.7}, {\"tests\": -46.6}, {\"tests\": -48.1}, {\"tests\": -45.3}, {\"tests\": -44.7}, {\"tests\": -47.8}, {\"tests\": -45.7}, {\"tests\": -45.5}, {\"tests\": -44.4}, {\"tests\": -46.6}, {\"tests\": -45.6}, {\"tests\": -47.3}, {\"tests\": -45.3}, {\"tests\": -47.2}, {\"tests\": -46.3}, {\"tests\": -45.4}, {\"tests\": -47.2}, {\"tests\": -46.2}, {\"tests\": -46.1}, {\"tests\": -46.2}, {\"tests\": -46.0}, {\"tests\": -46.0}, {\"tests\": -45.6}, {\"tests\": -45.6}, {\"tests\": -45.2}, {\"tests\": -46.9}, {\"tests\": -45.2}, {\"tests\": -44.7}, {\"tests\": -44.5}, {\"tests\": -45.6}, {\"tests\": -45.8}, {\"tests\": -46.3}, {\"tests\": -45.7}, {\"tests\": -45.7}, {\"tests\": -46.3}, {\"tests\": -47.6}, {\"tests\": -45.0}, {\"tests\": -45.8}, {\"tests\": -46.5}, {\"tests\": -45.5}, {\"tests\": -45.6}, {\"tests\": -45.8}, {\"tests\": -46.6}, {\"tests\": -45.3}, {\"tests\": -46.5}, {\"tests\": -45.5}, {\"tests\": -44.8}, {\"tests\": -47.3}, {\"tests\": -44.5}, {\"tests\": -46.1}, {\"tests\": -47.2}, {\"tests\": -45.3}, {\"tests\": -46.8}, {\"tests\": -47.0}, {\"tests\": -42.8}, {\"tests\": -47.2}, {\"tests\": -45.6}, {\"tests\": -45.3}, {\"tests\": -46.0}, {\"tests\": -46.5}, {\"tests\": -46.9}, {\"tests\": -47.1}, {\"tests\": -46.4}, {\"tests\": -46.1}, {\"tests\": -45.8}, {\"tests\": -45.8}, {\"tests\": -46.7}, {\"tests\": -44.8}, {\"tests\": -46.8}, {\"tests\": -46.0}, {\"tests\": -45.8}, {\"tests\": -46.3}, {\"tests\": -46.2}, {\"tests\": -46.3}, {\"tests\": -45.9}, {\"tests\": -46.1}, {\"tests\": -45.4}, {\"tests\": -47.3}, {\"tests\": -45.9}, {\"tests\": -47.5}, {\"tests\": -46.1}, {\"tests\": -46.3}, {\"tests\": -46.5}, {\"tests\": -45.9}, {\"tests\": -45.4}, {\"tests\": -46.6}, {\"tests\": -46.6}, {\"tests\": -47.2}, {\"tests\": -46.7}, {\"tests\": -46.5}, {\"tests\": -45.4}, {\"tests\": -46.6}, {\"tests\": -46.5}, {\"tests\": -45.2}, {\"tests\": -45.4}, {\"tests\": -47.7}, {\"tests\": -45.9}, {\"tests\": -45.3}, {\"tests\": -46.5}, {\"tests\": -46.0}, {\"tests\": -47.5}, {\"tests\": -46.1}, {\"tests\": -47.3}, {\"tests\": -46.5}, {\"tests\": -45.8}, {\"tests\": -44.4}, {\"tests\": -46.6}, {\"tests\": -46.3}, {\"tests\": -45.1}, {\"tests\": -46.6}, {\"tests\": -47.2}, {\"tests\": -45.6}, {\"tests\": -46.1}, {\"tests\": -45.9}, {\"tests\": -45.6}, {\"tests\": -46.1}, {\"tests\": -47.1}, {\"tests\": -45.0}, {\"tests\": -45.4}, {\"tests\": -45.0}, {\"tests\": -47.2}, {\"tests\": -46.0}, {\"tests\": -46.2}, {\"tests\": -44.7}, {\"tests\": -45.0}, {\"tests\": -45.9}, {\"tests\": -45.5}, {\"tests\": -45.5}, {\"tests\": -45.8}, {\"tests\": -45.5}, {\"tests\": -47.0}, {\"tests\": -45.4}, {\"tests\": -46.8}, {\"tests\": -46.1}, {\"tests\": -45.7}, {\"tests\": -45.2}, {\"tests\": -45.3}, {\"tests\": -44.5}, {\"tests\": -46.1}, {\"tests\": -47.0}, {\"tests\": -46.2}, {\"tests\": -47.5}, {\"tests\": -46.0}, {\"tests\": -46.6}, {\"tests\": -46.0}, {\"tests\": -46.8}, {\"tests\": -46.0}, {\"tests\": -46.5}, {\"tests\": -46.5}, {\"tests\": -46.6}, {\"tests\": -46.5}, {\"tests\": -46.2}, {\"tests\": -47.3}, {\"tests\": -47.3}, {\"tests\": -44.9}, {\"tests\": -45.5}, {\"tests\": -46.7}, {\"tests\": -45.3}, {\"tests\": -46.5}, {\"tests\": -46.3}, {\"tests\": -46.6}, {\"tests\": -45.6}, {\"tests\": -46.4}, {\"tests\": -46.1}, {\"tests\": -46.6}, {\"tests\": -44.8}, {\"tests\": -45.0}, {\"tests\": -47.3}, {\"tests\": -46.4}, {\"tests\": -45.4}, {\"tests\": -46.8}, {\"tests\": -46.0}, {\"tests\": -45.4}, {\"tests\": -45.7}, {\"tests\": -45.9}, {\"tests\": -45.7}, {\"tests\": -46.3}, {\"tests\": -46.6}, {\"tests\": -45.4}, {\"tests\": -45.3}, {\"tests\": -45.5}, {\"tests\": -46.0}, {\"tests\": -46.6}, {\"tests\": -44.9}, {\"tests\": -47.2}, {\"tests\": -45.4}, {\"tests\": -46.8}, {\"tests\": -46.0}, {\"tests\": -46.7}, {\"tests\": -45.5}, {\"tests\": -44.9}, {\"tests\": -46.1}, {\"tests\": -44.4}, {\"tests\": -46.0}, {\"tests\": -45.5}, {\"tests\": -47.1}, {\"tests\": -46.2}, {\"tests\": -45.0}, {\"tests\": -45.8}, {\"tests\": -46.7}, {\"tests\": -46.2}, {\"tests\": -47.0}, {\"tests\": -45.9}, {\"tests\": -45.9}, {\"tests\": -46.1}, {\"tests\": -46.0}, {\"tests\": -46.7}, {\"tests\": -45.6}, {\"tests\": -47.0}, {\"tests\": -44.9}, {\"tests\": -46.7}, {\"tests\": -45.3}, {\"tests\": -46.1}, {\"tests\": -45.2}, {\"tests\": -45.7}, {\"tests\": -44.7}, {\"tests\": -44.5}, {\"tests\": -47.0}, {\"tests\": -45.3}, {\"tests\": -45.0}, {\"tests\": -45.4}, {\"tests\": -45.1}, {\"tests\": -46.4}, {\"tests\": -46.3}, {\"tests\": -44.2}, {\"tests\": -46.8}, {\"tests\": -46.2}, {\"tests\": -45.7}, {\"tests\": -44.8}, {\"tests\": -46.3}, {\"tests\": -45.9}, {\"tests\": -45.0}, {\"tests\": -45.4}, {\"tests\": -46.0}, {\"tests\": -46.8}, {\"tests\": -47.7}, {\"tests\": -45.6}, {\"tests\": -46.3}, {\"tests\": -46.1}, {\"tests\": -46.2}, {\"tests\": -47.7}, {\"tests\": -46.6}, {\"tests\": -46.1}, {\"tests\": -46.4}, {\"tests\": -45.9}, {\"tests\": -45.8}, {\"tests\": -44.5}, {\"tests\": -45.8}, {\"tests\": -46.1}, {\"tests\": -45.9}, {\"tests\": -45.0}, {\"tests\": -47.0}, {\"tests\": -46.4}, {\"tests\": -47.2}, {\"tests\": -45.8}, {\"tests\": -46.4}, {\"tests\": -44.7}, {\"tests\": -45.9}, {\"tests\": -45.6}, {\"tests\": -46.1}, {\"tests\": -46.3}, {\"tests\": -45.1}, {\"tests\": -46.2}, {\"tests\": -45.5}, {\"tests\": -45.6}, {\"tests\": -46.2}, {\"tests\": -45.2}, {\"tests\": -46.6}, {\"tests\": -45.3}, {\"tests\": -45.9}, {\"tests\": -46.0}, {\"tests\": -46.9}, {\"tests\": -45.9}, {\"tests\": -47.6}, {\"tests\": -45.3}, {\"tests\": -46.2}, {\"tests\": -46.5}, {\"tests\": -47.7}, {\"tests\": -45.4}, {\"tests\": -45.3}, {\"tests\": -47.7}, {\"tests\": -46.1}, {\"tests\": -46.1}, {\"tests\": -46.9}, {\"tests\": -46.6}, {\"tests\": -46.2}, {\"tests\": -47.0}, {\"tests\": -47.0}, {\"tests\": -45.7}, {\"tests\": -45.1}, {\"tests\": -46.6}, {\"tests\": -43.9}, {\"tests\": -45.5}, {\"tests\": -46.3}, {\"tests\": -45.8}, {\"tests\": -44.8}, {\"tests\": -45.6}, {\"tests\": -45.9}, {\"tests\": -46.5}, {\"tests\": -46.0}, {\"tests\": -45.9}, {\"tests\": -43.5}, {\"tests\": -45.0}, {\"tests\": -45.1}, {\"tests\": -45.1}, {\"tests\": -46.2}, {\"tests\": -46.8}, {\"tests\": -46.3}, {\"tests\": -46.0}, {\"tests\": -45.4}, {\"tests\": -46.3}, {\"tests\": -45.8}, {\"tests\": -47.0}, {\"tests\": -45.5}, {\"tests\": -45.9}, {\"tests\": -45.4}, {\"tests\": -46.3}, {\"tests\": -46.4}, {\"tests\": -45.3}, {\"tests\": -46.3}, {\"tests\": -47.0}, {\"tests\": -46.3}, {\"tests\": -46.0}, {\"tests\": -45.5}, {\"tests\": -44.2}, {\"tests\": -46.7}, {\"tests\": -46.8}, {\"tests\": -46.0}, {\"tests\": -46.1}, {\"tests\": -44.6}, {\"tests\": -46.0}, {\"tests\": -46.3}, {\"tests\": -45.2}, {\"tests\": -44.4}, {\"tests\": -47.0}, {\"tests\": -45.4}, {\"tests\": -46.6}, {\"tests\": -47.0}, {\"tests\": -45.7}, {\"tests\": -45.5}, {\"tests\": -46.1}, {\"tests\": -45.6}, {\"tests\": -45.9}, {\"tests\": -45.1}, {\"tests\": -45.4}, {\"tests\": -46.1}, {\"tests\": -46.0}, {\"tests\": -46.4}, {\"tests\": -46.5}, {\"tests\": -46.5}, {\"tests\": -46.3}, {\"tests\": -47.3}, {\"tests\": -45.2}, {\"tests\": -45.7}, {\"tests\": -46.5}, {\"tests\": -43.0}, {\"tests\": -45.9}, {\"tests\": -44.9}, {\"tests\": -45.0}, {\"tests\": -45.4}, {\"tests\": -46.2}, {\"tests\": -45.6}, {\"tests\": -45.9}, {\"tests\": -46.6}, {\"tests\": -46.2}, {\"tests\": -44.6}, {\"tests\": -45.3}, {\"tests\": -46.5}, {\"tests\": -44.8}, {\"tests\": -45.2}, {\"tests\": -44.9}, {\"tests\": -46.7}, {\"tests\": -47.5}, {\"tests\": -46.0}, {\"tests\": -45.5}, {\"tests\": -47.0}, {\"tests\": -46.2}, {\"tests\": -46.7}, {\"tests\": -45.9}, {\"tests\": -46.9}, {\"tests\": -45.9}, {\"tests\": -46.4}, {\"tests\": -46.8}, {\"tests\": -45.7}, {\"tests\": -46.5}, {\"tests\": -47.1}, {\"tests\": -44.7}, {\"tests\": -45.2}, {\"tests\": -45.0}, {\"tests\": -45.2}, {\"tests\": -45.5}, {\"tests\": -44.8}, {\"tests\": -47.1}, {\"tests\": -46.0}, {\"tests\": -46.7}, {\"tests\": -47.2}, {\"tests\": -45.7}, {\"tests\": -45.0}, {\"tests\": -45.8}, {\"tests\": -45.5}, {\"tests\": -45.8}, {\"tests\": -46.2}, {\"tests\": -46.4}, {\"tests\": -44.8}, {\"tests\": -45.5}, {\"tests\": -44.4}, {\"tests\": -44.7}, {\"tests\": -45.6}, {\"tests\": -46.1}, {\"tests\": -45.9}, {\"tests\": -45.6}, {\"tests\": -46.4}, {\"tests\": -45.2}, {\"tests\": -45.4}, {\"tests\": -47.7}, {\"tests\": -46.8}, {\"tests\": -45.7}, {\"tests\": -45.6}, {\"tests\": -45.5}, {\"tests\": -46.5}, {\"tests\": -46.4}, {\"tests\": -44.1}, {\"tests\": -46.8}, {\"tests\": -45.4}, {\"tests\": -46.7}, {\"tests\": -46.5}, {\"tests\": -44.0}, {\"tests\": -45.0}, {\"tests\": -44.5}, {\"tests\": -44.4}, {\"tests\": -46.1}, {\"tests\": -45.2}, {\"tests\": -46.0}, {\"tests\": -44.9}, {\"tests\": -45.9}, {\"tests\": -47.0}, {\"tests\": -45.2}, {\"tests\": -44.9}, {\"tests\": -46.2}, {\"tests\": -46.8}, {\"tests\": -46.4}, {\"tests\": -46.4}, {\"tests\": -46.1}, {\"tests\": -46.6}, {\"tests\": -45.1}, {\"tests\": -46.7}, {\"tests\": -47.4}, {\"tests\": -46.5}, {\"tests\": -45.9}, {\"tests\": -46.1}, {\"tests\": -45.8}, {\"tests\": -45.9}, {\"tests\": -45.8}, {\"tests\": -47.7}, {\"tests\": -46.5}, {\"tests\": -47.1}, {\"tests\": -46.2}, {\"tests\": -44.7}, {\"tests\": -46.5}, {\"tests\": -45.5}, {\"tests\": -45.2}, {\"tests\": -46.0}, {\"tests\": -44.8}, {\"tests\": -46.2}, {\"tests\": -44.5}, {\"tests\": -45.0}, {\"tests\": -45.0}, {\"tests\": -45.6}, {\"tests\": -44.0}, {\"tests\": -46.0}, {\"tests\": -45.9}, {\"tests\": -44.8}, {\"tests\": -46.0}, {\"tests\": -45.0}, {\"tests\": -46.0}, {\"tests\": -47.1}, {\"tests\": -46.6}, {\"tests\": -45.5}, {\"tests\": -45.7}, {\"tests\": -44.9}, {\"tests\": -46.2}, {\"tests\": -45.5}, {\"tests\": -46.5}, {\"tests\": -45.4}, {\"tests\": -45.0}, {\"tests\": -45.2}, {\"tests\": -45.8}, {\"tests\": -44.7}, {\"tests\": -46.1}, {\"tests\": -46.0}, {\"tests\": -45.4}, {\"tests\": -46.2}, {\"tests\": -45.6}, {\"tests\": -45.8}, {\"tests\": -47.3}, {\"tests\": -45.4}, {\"tests\": -45.4}, {\"tests\": -46.5}, {\"tests\": -46.9}, {\"tests\": -47.2}, {\"tests\": -45.6}, {\"tests\": -45.7}, {\"tests\": -47.1}, {\"tests\": -45.7}, {\"tests\": -47.4}, {\"tests\": -46.0}, {\"tests\": -43.2}, {\"tests\": -46.1}, {\"tests\": -46.5}, {\"tests\": -45.9}, {\"tests\": -47.6}, {\"tests\": -45.9}, {\"tests\": -44.1}, {\"tests\": -45.0}, {\"tests\": -46.4}, {\"tests\": -47.1}, {\"tests\": -46.2}, {\"tests\": -45.3}, {\"tests\": -45.8}, {\"tests\": -45.9}, {\"tests\": -46.9}, {\"tests\": -45.8}, {\"tests\": -46.4}, {\"tests\": -47.0}, {\"tests\": -43.0}, {\"tests\": -46.4}, {\"tests\": -46.1}, {\"tests\": -46.3}, {\"tests\": -47.2}, {\"tests\": -44.5}, {\"tests\": -46.2}, {\"tests\": -45.6}, {\"tests\": -45.6}, {\"tests\": -46.2}, {\"tests\": -44.8}, {\"tests\": -46.6}, {\"tests\": -45.8}, {\"tests\": -47.1}, {\"tests\": -45.9}, {\"tests\": -47.3}, {\"tests\": -45.9}, {\"tests\": -45.9}, {\"tests\": -45.9}, {\"tests\": -45.9}, {\"tests\": -45.2}, {\"tests\": -47.0}, {\"tests\": -45.8}, {\"tests\": -44.5}, {\"tests\": -46.0}, {\"tests\": -45.6}, {\"tests\": -45.4}, {\"tests\": -44.9}, {\"tests\": -43.6}, {\"tests\": -47.2}, {\"tests\": -45.7}, {\"tests\": -48.0}, {\"tests\": -45.7}, {\"tests\": -45.9}, {\"tests\": -45.5}, {\"tests\": -45.6}, {\"tests\": -46.1}, {\"tests\": -45.5}, {\"tests\": -47.2}, {\"tests\": -45.6}, {\"tests\": -46.6}, {\"tests\": -46.8}, {\"tests\": -46.5}, {\"tests\": -45.3}, {\"tests\": -45.0}, {\"tests\": -46.8}, {\"tests\": -46.9}, {\"tests\": -45.7}, {\"tests\": -46.2}, {\"tests\": -44.7}, {\"tests\": -46.6}, {\"tests\": -45.6}, {\"tests\": -45.6}, {\"tests\": -47.0}, {\"tests\": -45.6}, {\"tests\": -46.5}, {\"tests\": -47.9}, {\"tests\": -46.7}, {\"tests\": -45.8}, {\"tests\": -45.9}, {\"tests\": -46.9}, {\"tests\": -46.6}, {\"tests\": -45.5}, {\"tests\": -46.7}, {\"tests\": -46.9}, {\"tests\": -45.9}, {\"tests\": -45.9}, {\"tests\": -45.8}, {\"tests\": -46.6}, {\"tests\": -45.3}, {\"tests\": -45.6}, {\"tests\": -45.9}, {\"tests\": -46.3}, {\"tests\": -46.2}, {\"tests\": -46.5}, {\"tests\": -46.7}, {\"tests\": -46.9}, {\"tests\": -45.1}, {\"tests\": -47.5}, {\"tests\": -45.1}, {\"tests\": -45.6}, {\"tests\": -46.5}, {\"tests\": -44.2}, {\"tests\": -46.1}, {\"tests\": -46.1}, {\"tests\": -45.7}, {\"tests\": -46.1}, {\"tests\": -45.8}, {\"tests\": -45.4}, {\"tests\": -45.1}, {\"tests\": -44.8}, {\"tests\": -46.2}, {\"tests\": -45.4}, {\"tests\": -46.1}, {\"tests\": -46.2}, {\"tests\": -46.6}, {\"tests\": -47.4}, {\"tests\": -45.2}, {\"tests\": -45.3}, {\"tests\": -45.5}, {\"tests\": -45.6}, {\"tests\": -46.2}, {\"tests\": -45.3}, {\"tests\": -46.4}, {\"tests\": -46.2}, {\"tests\": -46.9}, {\"tests\": -45.6}, {\"tests\": -44.0}, {\"tests\": -46.4}, {\"tests\": -47.4}, {\"tests\": -44.9}, {\"tests\": -46.0}, {\"tests\": -46.4}, {\"tests\": -45.8}, {\"tests\": -46.1}, {\"tests\": -46.3}, {\"tests\": -45.5}, {\"tests\": -46.5}, {\"tests\": -46.9}, {\"tests\": -45.7}, {\"tests\": -44.5}, {\"tests\": -46.1}, {\"tests\": -46.9}, {\"tests\": -45.9}, {\"tests\": -45.5}, {\"tests\": -46.1}, {\"tests\": -45.2}, {\"tests\": -45.9}, {\"tests\": -46.3}, {\"tests\": -47.4}, {\"tests\": -45.8}, {\"tests\": -46.7}, {\"tests\": -45.2}, {\"tests\": -47.3}, {\"tests\": -46.6}, {\"tests\": -45.1}, {\"tests\": -46.1}, {\"tests\": -46.2}, {\"tests\": -46.9}, {\"tests\": -46.5}, {\"tests\": -45.9}, {\"tests\": -45.7}, {\"tests\": -44.9}, {\"tests\": -44.3}, {\"tests\": -45.7}, {\"tests\": -45.7}, {\"tests\": -45.3}, {\"tests\": -46.3}, {\"tests\": -45.6}, {\"tests\": -46.1}, {\"tests\": -46.1}, {\"tests\": -45.8}, {\"tests\": -46.8}, {\"tests\": -45.9}, {\"tests\": -44.9}, {\"tests\": -47.8}, {\"tests\": -46.3}, {\"tests\": -46.5}, {\"tests\": -44.8}, {\"tests\": -44.5}, {\"tests\": -46.0}, {\"tests\": -45.6}, {\"tests\": -45.1}, {\"tests\": -45.7}, {\"tests\": -45.6}, {\"tests\": -44.6}, {\"tests\": -46.6}, {\"tests\": -46.0}, {\"tests\": -47.1}, {\"tests\": -46.1}, {\"tests\": -45.7}, {\"tests\": -47.6}, {\"tests\": -46.3}, {\"tests\": -47.1}, {\"tests\": -45.4}, {\"tests\": -43.9}, {\"tests\": -44.4}, {\"tests\": -47.3}, {\"tests\": -46.3}, {\"tests\": -46.8}, {\"tests\": -44.7}, {\"tests\": -45.7}, {\"tests\": -46.7}, {\"tests\": -45.3}, {\"tests\": -46.6}, {\"tests\": -45.8}, {\"tests\": -46.3}, {\"tests\": -45.4}, {\"tests\": -45.8}, {\"tests\": -44.8}, {\"tests\": -46.3}, {\"tests\": -45.9}, {\"tests\": -46.4}, {\"tests\": -46.0}, {\"tests\": -45.6}, {\"tests\": -45.5}, {\"tests\": -46.2}, {\"tests\": -47.6}, {\"tests\": -46.4}, {\"tests\": -45.0}, {\"tests\": -46.9}, {\"tests\": -45.8}, {\"tests\": -45.7}, {\"tests\": -46.4}, {\"tests\": -45.3}, {\"tests\": -46.1}, {\"tests\": -45.7}, {\"tests\": -46.2}, {\"tests\": -45.9}, {\"tests\": -47.9}, {\"tests\": -47.5}, {\"tests\": -46.8}, {\"tests\": -44.6}, {\"tests\": -45.8}, {\"tests\": -47.1}, {\"tests\": -46.5}, {\"tests\": -46.2}, {\"tests\": -46.5}, {\"tests\": -46.1}, {\"tests\": -45.7}, {\"tests\": -46.0}, {\"tests\": -45.4}, {\"tests\": -45.7}, {\"tests\": -46.0}, {\"tests\": -46.4}, {\"tests\": -45.3}, {\"tests\": -46.3}, {\"tests\": -46.4}, {\"tests\": -45.6}, {\"tests\": -45.5}, {\"tests\": -45.4}, {\"tests\": -45.1}, {\"tests\": -45.5}, {\"tests\": -45.5}, {\"tests\": -47.6}, {\"tests\": -45.6}, {\"tests\": -46.0}, {\"tests\": -45.9}, {\"tests\": -45.3}, {\"tests\": -46.1}, {\"tests\": -46.9}, {\"tests\": -43.9}, {\"tests\": -47.0}, {\"tests\": -46.5}, {\"tests\": -46.6}, {\"tests\": -45.3}, {\"tests\": -46.0}, {\"tests\": -44.9}, {\"tests\": -47.0}, {\"tests\": -46.9}, {\"tests\": -45.8}, {\"tests\": -44.8}, {\"tests\": -46.0}, {\"tests\": -47.1}, {\"tests\": -45.5}, {\"tests\": -44.4}, {\"tests\": -46.8}, {\"tests\": -45.7}, {\"tests\": -45.1}, {\"tests\": -46.1}, {\"tests\": -46.4}, {\"tests\": -46.5}, {\"tests\": -46.0}, {\"tests\": -44.8}, {\"tests\": -46.1}, {\"tests\": -45.1}, {\"tests\": -45.2}, {\"tests\": -44.9}, {\"tests\": -45.1}, {\"tests\": -46.2}, {\"tests\": -46.0}, {\"tests\": -45.7}, {\"tests\": -47.5}, {\"tests\": -46.2}, {\"tests\": -45.0}, {\"tests\": -45.2}, {\"tests\": -46.0}, {\"tests\": -45.5}, {\"tests\": -45.6}, {\"tests\": -46.2}, {\"tests\": -46.3}, {\"tests\": -45.7}, {\"tests\": -44.9}, {\"tests\": -46.7}, {\"tests\": -45.2}, {\"tests\": -46.5}, {\"tests\": -45.5}, {\"tests\": -45.4}, {\"tests\": -45.4}, {\"tests\": -46.9}, {\"tests\": -46.7}, {\"tests\": -45.9}, {\"tests\": -46.8}, {\"tests\": -45.7}, {\"tests\": -46.2}, {\"tests\": -46.1}, {\"tests\": -46.0}, {\"tests\": -45.3}, {\"tests\": -46.0}, {\"tests\": -46.6}, {\"tests\": -46.3}, {\"tests\": -45.3}, {\"tests\": -46.4}, {\"tests\": -47.1}, {\"tests\": -46.5}, {\"tests\": -45.3}, {\"tests\": -47.5}, {\"tests\": -45.7}, {\"tests\": -45.7}, {\"tests\": -44.3}, {\"tests\": -46.5}, {\"tests\": -46.3}, {\"tests\": -45.4}, {\"tests\": -47.0}, {\"tests\": -47.0}, {\"tests\": -46.8}, {\"tests\": -45.2}, {\"tests\": -45.9}, {\"tests\": -46.0}, {\"tests\": -45.6}, {\"tests\": -45.6}, {\"tests\": -47.2}, {\"tests\": -47.1}, {\"tests\": -47.7}, {\"tests\": -46.9}, {\"tests\": -47.0}, {\"tests\": -46.3}, {\"tests\": -46.1}, {\"tests\": -45.0}, {\"tests\": -45.8}, {\"tests\": -44.8}, {\"tests\": -47.2}, {\"tests\": -47.3}, {\"tests\": -46.3}, {\"tests\": -46.0}, {\"tests\": -46.0}, {\"tests\": -47.0}, {\"tests\": -45.5}, {\"tests\": -45.8}, {\"tests\": -45.6}, {\"tests\": -46.6}, {\"tests\": -43.9}, {\"tests\": -46.4}, {\"tests\": -45.9}, {\"tests\": -45.5}, {\"tests\": -47.3}, {\"tests\": -46.4}, {\"tests\": -47.4}, {\"tests\": -45.5}, {\"tests\": -47.6}, {\"tests\": -44.3}, {\"tests\": -45.5}, {\"tests\": -46.6}, {\"tests\": -47.0}, {\"tests\": -47.2}, {\"tests\": -46.3}, {\"tests\": -45.6}, {\"tests\": -46.7}, {\"tests\": -46.8}, {\"tests\": -44.6}, {\"tests\": -46.8}, {\"tests\": -46.6}, {\"tests\": -45.1}, {\"tests\": -46.4}, {\"tests\": -46.8}, {\"tests\": -46.7}, {\"tests\": -46.5}, {\"tests\": -46.2}, {\"tests\": -45.5}, {\"tests\": -46.2}, {\"tests\": -44.9}, {\"tests\": -46.6}, {\"tests\": -47.4}, {\"tests\": -45.0}, {\"tests\": -45.7}, {\"tests\": -44.9}, {\"tests\": -45.7}, {\"tests\": -44.9}, {\"tests\": -44.9}, {\"tests\": -46.8}, {\"tests\": -44.8}, {\"tests\": -45.2}, {\"tests\": -45.4}, {\"tests\": -45.4}, {\"tests\": -46.1}, {\"tests\": -44.6}, {\"tests\": -46.7}, {\"tests\": -47.3}, {\"tests\": -44.5}, {\"tests\": -47.4}, {\"tests\": -45.1}, {\"tests\": -46.8}, {\"tests\": -46.0}, {\"tests\": -45.6}, {\"tests\": -45.5}, {\"tests\": -46.7}, {\"tests\": -45.5}, {\"tests\": -45.6}, {\"tests\": -45.7}, {\"tests\": -46.7}, {\"tests\": -46.6}, {\"tests\": -45.5}, {\"tests\": -46.1}, {\"tests\": -46.3}, {\"tests\": -46.8}, {\"tests\": -46.0}, {\"tests\": -43.7}, {\"tests\": -45.7}, {\"tests\": -47.4}, {\"tests\": -45.0}, {\"tests\": -45.5}, {\"tests\": -46.2}, {\"tests\": -47.0}, {\"tests\": -46.5}, {\"tests\": -45.7}, {\"tests\": -46.1}, {\"tests\": -45.5}, {\"tests\": -45.9}, {\"tests\": -46.6}, {\"tests\": -44.3}, {\"tests\": -44.2}, {\"tests\": -46.0}, {\"tests\": -46.4}, {\"tests\": -45.8}, {\"tests\": -46.4}, {\"tests\": -46.6}, {\"tests\": -46.0}, {\"tests\": -46.5}, {\"tests\": -45.7}, {\"tests\": -47.7}, {\"tests\": -46.1}, {\"tests\": -45.6}, {\"tests\": -45.3}, {\"tests\": -46.1}, {\"tests\": -47.2}, {\"tests\": -46.2}, {\"tests\": -45.5}, {\"tests\": -44.9}, {\"tests\": -46.0}, {\"tests\": -45.2}, {\"tests\": -46.8}, {\"tests\": -47.0}, {\"tests\": -44.1}, {\"tests\": -44.4}, {\"tests\": -45.4}, {\"tests\": -45.3}, {\"tests\": -46.9}, {\"tests\": -46.1}, {\"tests\": -47.3}, {\"tests\": -46.6}, {\"tests\": -46.1}, {\"tests\": -46.9}, {\"tests\": -46.8}, {\"tests\": -47.3}, {\"tests\": -45.6}, {\"tests\": -47.2}, {\"tests\": -46.7}, {\"tests\": -46.4}, {\"tests\": -45.9}, {\"tests\": -45.7}, {\"tests\": -45.7}, {\"tests\": -46.0}, {\"tests\": -45.4}, {\"tests\": -46.8}, {\"tests\": -43.9}, {\"tests\": -46.7}, {\"tests\": -45.1}, {\"tests\": -46.7}, {\"tests\": -46.4}, {\"tests\": -46.6}, {\"tests\": -45.5}, {\"tests\": -46.8}, {\"tests\": -47.2}, {\"tests\": -44.2}, {\"tests\": -46.0}, {\"tests\": -45.2}, {\"tests\": -46.0}, {\"tests\": -46.0}, {\"tests\": -46.6}, {\"tests\": -45.5}, {\"tests\": -46.2}, {\"tests\": -47.8}, {\"tests\": -45.4}, {\"tests\": -44.4}, {\"tests\": -46.1}, {\"tests\": -46.0}, {\"tests\": -46.3}, {\"tests\": -44.5}, {\"tests\": -45.4}, {\"tests\": -45.7}, {\"tests\": -45.8}, {\"tests\": -45.3}, {\"tests\": -47.2}, {\"tests\": -46.2}, {\"tests\": -45.3}, {\"tests\": -46.6}, {\"tests\": -47.2}, {\"tests\": -45.7}, {\"tests\": -46.9}, {\"tests\": -46.5}, {\"tests\": -46.3}, {\"tests\": -47.4}, {\"tests\": -46.7}, {\"tests\": -46.2}, {\"tests\": -45.2}, {\"tests\": -46.4}, {\"tests\": -45.8}, {\"tests\": -46.0}, {\"tests\": -46.3}, {\"tests\": -45.1}, {\"tests\": -45.4}, {\"tests\": -45.6}, {\"tests\": -45.4}, {\"tests\": -47.0}, {\"tests\": -44.6}, {\"tests\": -46.6}, {\"tests\": -45.1}, {\"tests\": -44.8}, {\"tests\": -46.4}, {\"tests\": -45.3}, {\"tests\": -45.9}, {\"tests\": -45.6}, {\"tests\": -47.0}, {\"tests\": -45.6}, {\"tests\": -46.0}, {\"tests\": -46.6}, {\"tests\": -44.9}, {\"tests\": -47.0}, {\"tests\": -46.8}, {\"tests\": -44.9}, {\"tests\": -45.3}, {\"tests\": -46.4}, {\"tests\": -45.3}, {\"tests\": -46.4}, {\"tests\": -47.1}, {\"tests\": -45.5}, {\"tests\": -45.6}, {\"tests\": -45.5}, {\"tests\": -46.0}, {\"tests\": -45.8}, {\"tests\": -45.9}, {\"tests\": -45.6}, {\"tests\": -48.0}, {\"tests\": -47.2}, {\"tests\": -46.1}, {\"tests\": -45.9}, {\"tests\": -46.8}, {\"tests\": -47.2}, {\"tests\": -46.1}, {\"tests\": -45.1}, {\"tests\": -46.0}, {\"tests\": -44.6}, {\"tests\": -47.7}, {\"tests\": -48.1}, {\"tests\": -45.5}, {\"tests\": -45.0}, {\"tests\": -47.0}, {\"tests\": -47.1}, {\"tests\": -46.8}, {\"tests\": -46.3}, {\"tests\": -46.8}, {\"tests\": -44.8}, {\"tests\": -45.5}, {\"tests\": -45.8}, {\"tests\": -44.9}, {\"tests\": -44.5}, {\"tests\": -45.8}, {\"tests\": -45.8}, {\"tests\": -45.0}, {\"tests\": -45.2}, {\"tests\": -45.5}, {\"tests\": -45.7}, {\"tests\": -46.1}, {\"tests\": -45.2}, {\"tests\": -45.9}, {\"tests\": -46.7}, {\"tests\": -46.7}, {\"tests\": -46.6}, {\"tests\": -46.0}, {\"tests\": -45.3}, {\"tests\": -44.8}, {\"tests\": -45.6}, {\"tests\": -45.7}, {\"tests\": -48.1}, {\"tests\": -46.0}, {\"tests\": -45.6}, {\"tests\": -45.6}, {\"tests\": -45.9}, {\"tests\": -47.6}, {\"tests\": -46.4}, {\"tests\": -46.0}, {\"tests\": -45.3}, {\"tests\": -45.9}, {\"tests\": -45.4}, {\"tests\": -46.3}, {\"tests\": -45.5}, {\"tests\": -47.2}, {\"tests\": -46.6}, {\"tests\": -46.6}, {\"tests\": -46.1}, {\"tests\": -45.6}, {\"tests\": -45.4}, {\"tests\": -45.4}, {\"tests\": -46.8}, {\"tests\": -46.5}, {\"tests\": -46.8}, {\"tests\": -46.0}, {\"tests\": -46.4}, {\"tests\": -45.2}, {\"tests\": -45.7}, {\"tests\": -46.1}, {\"tests\": -44.1}, {\"tests\": -46.5}, {\"tests\": -45.8}, {\"tests\": -46.3}, {\"tests\": -46.0}, {\"tests\": -46.4}, {\"tests\": -45.5}, {\"tests\": -46.9}, {\"tests\": -45.3}, {\"tests\": -45.7}, {\"tests\": -43.9}, {\"tests\": -45.2}, {\"tests\": -45.6}, {\"tests\": -44.6}, {\"tests\": -46.5}, {\"tests\": -47.0}, {\"tests\": -46.4}, {\"tests\": -45.8}, {\"tests\": -46.9}, {\"tests\": -45.2}, {\"tests\": -45.6}, {\"tests\": -46.9}, {\"tests\": -47.2}, {\"tests\": -46.0}, {\"tests\": -45.0}, {\"tests\": -46.1}, {\"tests\": -45.9}, {\"tests\": -45.9}, {\"tests\": -46.7}, {\"tests\": -45.2}, {\"tests\": -46.2}, {\"tests\": -46.5}, {\"tests\": -46.5}, {\"tests\": -47.2}, {\"tests\": -47.8}, {\"tests\": -46.8}, {\"tests\": -47.5}, {\"tests\": -46.6}, {\"tests\": -46.5}, {\"tests\": -46.2}, {\"tests\": -45.5}, {\"tests\": -47.3}, {\"tests\": -47.9}, {\"tests\": -46.1}, {\"tests\": -45.1}, {\"tests\": -44.8}, {\"tests\": -46.5}, {\"tests\": -45.5}, {\"tests\": -46.0}, {\"tests\": -47.2}, {\"tests\": -45.9}, {\"tests\": -46.0}, {\"tests\": -45.1}, {\"tests\": -45.8}, {\"tests\": -46.6}, {\"tests\": -45.0}, {\"tests\": -46.8}, {\"tests\": -46.1}, {\"tests\": -46.8}, {\"tests\": -47.4}, {\"tests\": -44.9}, {\"tests\": -46.2}, {\"tests\": -46.5}, {\"tests\": -46.4}, {\"tests\": -45.7}, {\"tests\": -46.0}, {\"tests\": -46.8}, {\"tests\": -46.5}, {\"tests\": -46.0}, {\"tests\": -46.8}, {\"tests\": -44.6}, {\"tests\": -44.9}, {\"tests\": -47.6}, {\"tests\": -46.4}, {\"tests\": -44.3}, {\"tests\": -45.9}, {\"tests\": -47.3}, {\"tests\": -45.9}, {\"tests\": -45.4}, {\"tests\": -47.1}, {\"tests\": -45.2}, {\"tests\": -46.4}, {\"tests\": -46.1}, {\"tests\": -46.4}, {\"tests\": -46.2}, {\"tests\": -45.9}, {\"tests\": -47.1}, {\"tests\": -46.9}, {\"tests\": -47.2}, {\"tests\": -45.0}, {\"tests\": -45.0}, {\"tests\": -47.7}, {\"tests\": -46.6}, {\"tests\": -46.7}, {\"tests\": -46.2}, {\"tests\": -46.4}, {\"tests\": -48.1}, {\"tests\": -47.0}, {\"tests\": -45.6}, {\"tests\": -46.4}, {\"tests\": -46.0}, {\"tests\": -45.0}, {\"tests\": -47.1}, {\"tests\": -46.5}, {\"tests\": -44.4}, {\"tests\": -46.1}, {\"tests\": -46.7}, {\"tests\": -46.1}, {\"tests\": -45.7}, {\"tests\": -46.2}, {\"tests\": -45.2}, {\"tests\": -46.0}, {\"tests\": -45.1}, {\"tests\": -47.4}, {\"tests\": -45.9}, {\"tests\": -46.9}, {\"tests\": -47.2}, {\"tests\": -46.2}, {\"tests\": -46.4}, {\"tests\": -46.9}, {\"tests\": -45.6}, {\"tests\": -46.6}, {\"tests\": -46.5}, {\"tests\": -45.8}, {\"tests\": -45.5}, {\"tests\": -46.2}, {\"tests\": -45.6}, {\"tests\": -45.3}, {\"tests\": -45.6}, {\"tests\": -45.0}, {\"tests\": -45.5}, {\"tests\": -47.8}, {\"tests\": -43.8}, {\"tests\": -46.9}, {\"tests\": -47.2}, {\"tests\": -45.6}, {\"tests\": -45.5}, {\"tests\": -45.2}, {\"tests\": -45.3}, {\"tests\": -45.8}, {\"tests\": -46.4}, {\"tests\": -47.0}, {\"tests\": -46.1}, {\"tests\": -45.6}, {\"tests\": -48.4}, {\"tests\": -45.2}, {\"tests\": -45.9}, {\"tests\": -45.4}, {\"tests\": -45.5}, {\"tests\": -45.5}, {\"tests\": -45.5}, {\"tests\": -45.6}, {\"tests\": -46.1}, {\"tests\": -46.3}, {\"tests\": -46.2}, {\"tests\": -46.2}, {\"tests\": -45.8}, {\"tests\": -46.1}, {\"tests\": -45.6}, {\"tests\": -46.4}, {\"tests\": -46.2}, {\"tests\": -48.9}, {\"tests\": -46.0}, {\"tests\": -47.5}, {\"tests\": -46.3}, {\"tests\": -46.6}, {\"tests\": -46.8}, {\"tests\": -46.2}, {\"tests\": -45.3}, {\"tests\": -46.2}, {\"tests\": -45.9}, {\"tests\": -47.1}, {\"tests\": -46.2}, {\"tests\": -45.3}, {\"tests\": -46.4}, {\"tests\": -44.1}, {\"tests\": -47.0}, {\"tests\": -45.3}, {\"tests\": -45.4}, {\"tests\": -46.0}, {\"tests\": -45.5}, {\"tests\": -46.2}, {\"tests\": -46.4}, {\"tests\": -45.9}, {\"tests\": -45.6}, {\"tests\": -46.5}, {\"tests\": -46.1}, {\"tests\": -46.1}, {\"tests\": -48.2}, {\"tests\": -46.1}, {\"tests\": -47.2}, {\"tests\": -45.9}, {\"tests\": -46.8}, {\"tests\": -46.0}, {\"tests\": -44.8}, {\"tests\": -44.9}, {\"tests\": -45.7}, {\"tests\": -45.9}, {\"tests\": -46.8}, {\"tests\": -46.0}, {\"tests\": -45.8}, {\"tests\": -46.6}, {\"tests\": -45.9}, {\"tests\": -45.1}, {\"tests\": -44.2}, {\"tests\": -46.2}, {\"tests\": -46.0}, {\"tests\": -45.7}, {\"tests\": -46.4}, {\"tests\": -46.5}, {\"tests\": -45.5}, {\"tests\": -46.7}, {\"tests\": -45.6}, {\"tests\": -45.3}, {\"tests\": -45.2}, {\"tests\": -46.1}, {\"tests\": -46.4}, {\"tests\": -45.9}, {\"tests\": -46.3}, {\"tests\": -44.8}, {\"tests\": -45.0}, {\"tests\": -46.7}, {\"tests\": -46.3}, {\"tests\": -45.1}, {\"tests\": -47.1}, {\"tests\": -45.1}, {\"tests\": -45.1}, {\"tests\": -45.8}, {\"tests\": -47.2}, {\"tests\": -46.2}, {\"tests\": -47.6}, {\"tests\": -45.9}, {\"tests\": -46.1}, {\"tests\": -45.6}, {\"tests\": -45.9}, {\"tests\": -45.1}, {\"tests\": -46.4}, {\"tests\": -45.6}, {\"tests\": -45.9}, {\"tests\": -46.8}, {\"tests\": -47.9}, {\"tests\": -46.8}, {\"tests\": -47.0}, {\"tests\": -46.2}, {\"tests\": -44.6}, {\"tests\": -45.9}, {\"tests\": -44.5}, {\"tests\": -46.9}, {\"tests\": -45.6}, {\"tests\": -46.6}, {\"tests\": -45.6}, {\"tests\": -47.6}, {\"tests\": -46.8}, {\"tests\": -46.7}, {\"tests\": -46.3}, {\"tests\": -45.4}, {\"tests\": -46.1}, {\"tests\": -46.4}, {\"tests\": -47.1}, {\"tests\": -45.9}, {\"tests\": -45.5}, {\"tests\": -47.4}, {\"tests\": -47.1}, {\"tests\": -44.5}, {\"tests\": -45.2}, {\"tests\": -46.0}, {\"tests\": -46.1}, {\"tests\": -46.7}, {\"tests\": -45.4}, {\"tests\": -45.3}, {\"tests\": -46.5}, {\"tests\": -47.4}, {\"tests\": -44.5}, {\"tests\": -46.8}, {\"tests\": -46.3}, {\"tests\": -46.0}, {\"tests\": -45.2}, {\"tests\": -44.5}, {\"tests\": -44.8}, {\"tests\": -45.9}, {\"tests\": -45.0}, {\"tests\": -45.7}, {\"tests\": -46.0}, {\"tests\": -46.0}, {\"tests\": -47.6}, {\"tests\": -44.7}, {\"tests\": -44.7}, {\"tests\": -45.5}, {\"tests\": -45.8}, {\"tests\": -45.3}, {\"tests\": -45.8}, {\"tests\": -44.6}, {\"tests\": -45.6}, {\"tests\": -45.7}, {\"tests\": -45.5}, {\"tests\": -46.6}, {\"tests\": -46.3}, {\"tests\": -45.9}, {\"tests\": -45.6}, {\"tests\": -45.6}, {\"tests\": -46.5}, {\"tests\": -45.3}, {\"tests\": -46.9}, {\"tests\": -45.1}, {\"tests\": -46.7}, {\"tests\": -45.9}, {\"tests\": -44.9}, {\"tests\": -46.8}, {\"tests\": -44.7}, {\"tests\": -45.9}, {\"tests\": -46.3}, {\"tests\": -47.0}, {\"tests\": -46.1}, {\"tests\": -45.9}, {\"tests\": -46.9}, {\"tests\": -45.7}, {\"tests\": -47.1}, {\"tests\": -46.4}, {\"tests\": -48.4}, {\"tests\": -46.6}, {\"tests\": -44.6}, {\"tests\": -45.6}, {\"tests\": -47.0}, {\"tests\": -47.4}, {\"tests\": -46.8}, {\"tests\": -45.6}, {\"tests\": -46.7}, {\"tests\": -46.9}, {\"tests\": -45.5}, {\"tests\": -44.9}, {\"tests\": -47.4}, {\"tests\": -46.5}, {\"tests\": -47.0}, {\"tests\": -47.2}, {\"tests\": -46.7}, {\"tests\": -46.2}, {\"tests\": -46.1}, {\"tests\": -45.9}, {\"tests\": -46.9}, {\"tests\": -45.6}, {\"tests\": -47.2}, {\"tests\": -46.8}, {\"tests\": -46.7}, {\"tests\": -46.7}, {\"tests\": -46.2}, {\"tests\": -43.9}, {\"tests\": -46.9}, {\"tests\": -46.8}, {\"tests\": -45.3}, {\"tests\": -46.5}, {\"tests\": -45.4}, {\"tests\": -47.0}, {\"tests\": -45.7}, {\"tests\": -46.4}, {\"tests\": -47.3}, {\"tests\": -45.3}, {\"tests\": -46.2}, {\"tests\": -44.0}, {\"tests\": -45.1}, {\"tests\": -45.4}, {\"tests\": -45.6}, {\"tests\": -44.6}, {\"tests\": -46.7}, {\"tests\": -45.3}, {\"tests\": -46.3}, {\"tests\": -45.1}, {\"tests\": -46.9}, {\"tests\": -45.6}, {\"tests\": -45.9}, {\"tests\": -44.6}, {\"tests\": -45.1}, {\"tests\": -45.8}, {\"tests\": -44.8}, {\"tests\": -44.6}, {\"tests\": -45.3}, {\"tests\": -45.7}, {\"tests\": -46.4}, {\"tests\": -44.5}, {\"tests\": -46.1}, {\"tests\": -45.6}, {\"tests\": -45.1}, {\"tests\": -46.2}, {\"tests\": -45.1}, {\"tests\": -47.2}, {\"tests\": -46.2}, {\"tests\": -45.9}, {\"tests\": -46.1}, {\"tests\": -45.2}, {\"tests\": -46.2}, {\"tests\": -44.8}, {\"tests\": -46.8}, {\"tests\": -47.3}, {\"tests\": -45.9}, {\"tests\": -46.0}, {\"tests\": -47.5}, {\"tests\": -46.1}, {\"tests\": -45.9}, {\"tests\": -46.4}, {\"tests\": -45.4}, {\"tests\": -45.1}, {\"tests\": -45.2}, {\"tests\": -47.4}, {\"tests\": -46.5}, {\"tests\": -45.0}, {\"tests\": -45.9}, {\"tests\": -45.6}, {\"tests\": -45.1}, {\"tests\": -45.6}, {\"tests\": -46.0}, {\"tests\": -45.6}, {\"tests\": -45.1}, {\"tests\": -46.2}, {\"tests\": -44.9}, {\"tests\": -45.7}, {\"tests\": -46.9}, {\"tests\": -46.9}, {\"tests\": -47.1}, {\"tests\": -46.2}, {\"tests\": -44.2}, {\"tests\": -45.7}, {\"tests\": -45.9}, {\"tests\": -45.3}, {\"tests\": -46.6}, {\"tests\": -46.7}, {\"tests\": -45.7}, {\"tests\": -45.7}, {\"tests\": -46.0}, {\"tests\": -46.9}, {\"tests\": -47.0}, {\"tests\": -47.2}, {\"tests\": -45.7}, {\"tests\": -44.0}, {\"tests\": -45.2}, {\"tests\": -46.3}, {\"tests\": -47.0}, {\"tests\": -45.0}, {\"tests\": -44.4}, {\"tests\": -46.4}, {\"tests\": -45.9}, {\"tests\": -46.3}, {\"tests\": -45.1}, {\"tests\": -44.4}, {\"tests\": -46.5}, {\"tests\": -44.7}, {\"tests\": -45.7}, {\"tests\": -45.4}, {\"tests\": -45.6}, {\"tests\": -46.1}, {\"tests\": -45.5}, {\"tests\": -45.1}, {\"tests\": -45.6}, {\"tests\": -45.8}, {\"tests\": -45.6}, {\"tests\": -46.1}, {\"tests\": -46.7}, {\"tests\": -45.9}, {\"tests\": -46.4}, {\"tests\": -45.6}, {\"tests\": -45.7}, {\"tests\": -47.5}, {\"tests\": -47.1}, {\"tests\": -45.4}, {\"tests\": -45.8}, {\"tests\": -45.9}, {\"tests\": -46.3}, {\"tests\": -46.2}, {\"tests\": -46.6}, {\"tests\": -47.1}, {\"tests\": -46.6}, {\"tests\": -45.8}, {\"tests\": -47.2}, {\"tests\": -47.5}, {\"tests\": -46.2}, {\"tests\": -45.8}, {\"tests\": -46.4}, {\"tests\": -45.4}, {\"tests\": -46.0}, {\"tests\": -45.9}, {\"tests\": -45.1}, {\"tests\": -45.1}, {\"tests\": -45.4}, {\"tests\": -45.2}, {\"tests\": -45.3}, {\"tests\": -45.8}, {\"tests\": -46.2}, {\"tests\": -46.5}, {\"tests\": -45.4}, {\"tests\": -46.4}, {\"tests\": -45.5}, {\"tests\": -45.9}, {\"tests\": -45.8}, {\"tests\": -46.6}, {\"tests\": -44.9}, {\"tests\": -44.7}, {\"tests\": -44.9}, {\"tests\": -45.8}, {\"tests\": -46.0}, {\"tests\": -45.7}, {\"tests\": -45.9}, {\"tests\": -46.1}, {\"tests\": -45.3}, {\"tests\": -44.6}, {\"tests\": -45.8}, {\"tests\": -45.9}, {\"tests\": -45.4}, {\"tests\": -45.4}, {\"tests\": -46.2}, {\"tests\": -46.1}, {\"tests\": -45.2}, {\"tests\": -46.0}, {\"tests\": -44.6}, {\"tests\": -46.3}, {\"tests\": -44.2}, {\"tests\": -46.0}, {\"tests\": -45.1}, {\"tests\": -45.5}, {\"tests\": -46.7}, {\"tests\": -44.4}, {\"tests\": -45.0}, {\"tests\": -47.3}, {\"tests\": -45.8}, {\"tests\": -46.4}, {\"tests\": -47.5}, {\"tests\": -45.5}, {\"tests\": -46.5}, {\"tests\": -45.7}, {\"tests\": -46.6}, {\"tests\": -43.9}, {\"tests\": -45.0}, {\"tests\": -45.7}, {\"tests\": -47.6}, {\"tests\": -46.1}, {\"tests\": -46.2}, {\"tests\": -47.8}, {\"tests\": -44.8}, {\"tests\": -47.4}, {\"tests\": -46.9}, {\"tests\": -46.3}, {\"tests\": -47.4}, {\"tests\": -46.5}, {\"tests\": -44.5}, {\"tests\": -46.5}, {\"tests\": -44.5}, {\"tests\": -47.0}, {\"tests\": -46.2}, {\"tests\": -45.8}, {\"tests\": -45.6}, {\"tests\": -46.1}, {\"tests\": -45.5}, {\"tests\": -45.0}, {\"tests\": -45.9}, {\"tests\": -45.3}, {\"tests\": -46.0}, {\"tests\": -45.4}, {\"tests\": -45.8}, {\"tests\": -44.7}, {\"tests\": -45.6}, {\"tests\": -45.0}, {\"tests\": -46.6}, {\"tests\": -47.2}, {\"tests\": -47.4}, {\"tests\": -45.6}, {\"tests\": -45.5}, {\"tests\": -45.0}, {\"tests\": -45.6}, {\"tests\": -46.0}, {\"tests\": -46.9}, {\"tests\": -46.5}, {\"tests\": -45.9}, {\"tests\": -47.0}, {\"tests\": -46.8}, {\"tests\": -46.7}, {\"tests\": -45.9}, {\"tests\": -46.7}, {\"tests\": -45.2}, {\"tests\": -45.7}, {\"tests\": -46.0}, {\"tests\": -45.1}, {\"tests\": -46.3}, {\"tests\": -46.1}, {\"tests\": -46.0}, {\"tests\": -44.9}, {\"tests\": -45.6}, {\"tests\": -44.4}, {\"tests\": -45.7}, {\"tests\": -45.8}, {\"tests\": -46.3}, {\"tests\": -45.3}, {\"tests\": -46.5}, {\"tests\": -46.6}, {\"tests\": -47.8}, {\"tests\": -46.4}, {\"tests\": -47.5}, {\"tests\": -45.5}, {\"tests\": -48.0}, {\"tests\": -47.1}, {\"tests\": -46.6}, {\"tests\": -45.5}, {\"tests\": -46.1}, {\"tests\": -45.4}, {\"tests\": -45.2}, {\"tests\": -46.6}, {\"tests\": -45.0}, {\"tests\": -46.3}, {\"tests\": -46.0}, {\"tests\": -45.7}, {\"tests\": -47.0}, {\"tests\": -46.3}, {\"tests\": -45.1}, {\"tests\": -45.9}, {\"tests\": -46.0}, {\"tests\": -46.6}, {\"tests\": -45.7}, {\"tests\": -46.4}, {\"tests\": -45.7}, {\"tests\": -46.3}, {\"tests\": -46.1}, {\"tests\": -44.7}, {\"tests\": -45.8}, {\"tests\": -45.3}, {\"tests\": -45.6}, {\"tests\": -46.5}, {\"tests\": -46.6}, {\"tests\": -46.6}, {\"tests\": -45.5}, {\"tests\": -47.4}, {\"tests\": -44.6}, {\"tests\": -46.8}, {\"tests\": -43.9}, {\"tests\": -45.2}, {\"tests\": -44.9}, {\"tests\": -46.3}, {\"tests\": -46.9}, {\"tests\": -45.9}, {\"tests\": -46.4}, {\"tests\": -45.8}, {\"tests\": -46.5}, {\"tests\": -45.4}, {\"tests\": -46.4}, {\"tests\": -45.8}, {\"tests\": -44.8}, {\"tests\": -46.5}, {\"tests\": -46.2}, {\"tests\": -44.5}, {\"tests\": -46.2}, {\"tests\": -47.0}, {\"tests\": -46.2}, {\"tests\": -45.5}, {\"tests\": -46.0}, {\"tests\": -46.2}, {\"tests\": -45.4}, {\"tests\": -45.9}, {\"tests\": -45.6}, {\"tests\": -45.4}, {\"tests\": -45.4}, {\"tests\": -46.0}, {\"tests\": -45.2}, {\"tests\": -46.4}, {\"tests\": -45.9}, {\"tests\": -46.2}, {\"tests\": -46.5}, {\"tests\": -46.1}, {\"tests\": -46.0}, {\"tests\": -47.1}, {\"tests\": -45.4}, {\"tests\": -45.1}, {\"tests\": -44.8}, {\"tests\": -47.0}, {\"tests\": -46.1}, {\"tests\": -44.4}, {\"tests\": -45.7}, {\"tests\": -45.8}, {\"tests\": -46.4}, {\"tests\": -46.0}, {\"tests\": -45.4}, {\"tests\": -45.8}, {\"tests\": -45.6}, {\"tests\": -45.2}, {\"tests\": -46.0}, {\"tests\": -46.9}, {\"tests\": -47.1}, {\"tests\": -47.6}, {\"tests\": -46.2}, {\"tests\": -45.7}, {\"tests\": -46.4}, {\"tests\": -46.0}, {\"tests\": -45.7}, {\"tests\": -47.7}, {\"tests\": -46.6}, {\"tests\": -46.7}, {\"tests\": -46.3}, {\"tests\": -47.8}, {\"tests\": -46.7}, {\"tests\": -46.5}, {\"tests\": -45.5}, {\"tests\": -45.9}, {\"tests\": -46.1}, {\"tests\": -44.8}, {\"tests\": -46.4}, {\"tests\": -46.7}, {\"tests\": -46.9}, {\"tests\": -45.2}, {\"tests\": -46.4}, {\"tests\": -46.9}, {\"tests\": -43.7}, {\"tests\": -46.4}, {\"tests\": -46.1}, {\"tests\": -46.1}, {\"tests\": -45.8}, {\"tests\": -45.5}, {\"tests\": -45.6}, {\"tests\": -46.5}, {\"tests\": -46.3}, {\"tests\": -46.3}, {\"tests\": -46.2}, {\"tests\": -47.5}, {\"tests\": -46.0}, {\"tests\": -45.5}, {\"tests\": -45.8}, {\"tests\": -46.8}, {\"tests\": -46.0}, {\"tests\": -46.9}, {\"tests\": -46.0}, {\"tests\": -45.6}, {\"tests\": -47.2}, {\"tests\": -45.8}, {\"tests\": -46.1}, {\"tests\": -45.8}, {\"tests\": -44.2}, {\"tests\": -47.0}, {\"tests\": -45.3}, {\"tests\": -45.8}, {\"tests\": -46.5}, {\"tests\": -46.3}, {\"tests\": -47.8}, {\"tests\": -45.8}, {\"tests\": -46.0}, {\"tests\": -46.7}, {\"tests\": -46.9}, {\"tests\": -45.7}, {\"tests\": -46.3}, {\"tests\": -46.2}, {\"tests\": -45.0}, {\"tests\": -46.4}, {\"tests\": -45.0}, {\"tests\": -45.4}, {\"tests\": -46.8}, {\"tests\": -45.5}, {\"tests\": -46.4}, {\"tests\": -47.2}, {\"tests\": -47.0}, {\"tests\": -43.6}, {\"tests\": -45.8}, {\"tests\": -45.5}, {\"tests\": -47.1}, {\"tests\": -44.6}, {\"tests\": -46.2}, {\"tests\": -45.1}, {\"tests\": -44.8}, {\"tests\": -45.6}, {\"tests\": -46.0}, {\"tests\": -44.8}, {\"tests\": -45.6}, {\"tests\": -46.1}, {\"tests\": -45.8}, {\"tests\": -46.8}, {\"tests\": -47.0}, {\"tests\": -46.1}, {\"tests\": -46.6}, {\"tests\": -45.0}, {\"tests\": -45.5}, {\"tests\": -46.3}, {\"tests\": -46.5}, {\"tests\": -46.0}, {\"tests\": -44.6}, {\"tests\": -45.3}, {\"tests\": -45.2}, {\"tests\": -46.1}, {\"tests\": -45.5}, {\"tests\": -44.7}, {\"tests\": -46.5}, {\"tests\": -46.1}, {\"tests\": -46.3}, {\"tests\": -46.2}, {\"tests\": -47.3}, {\"tests\": -46.2}, {\"tests\": -45.8}, {\"tests\": -46.4}, {\"tests\": -46.1}, {\"tests\": -46.7}, {\"tests\": -46.2}, {\"tests\": -45.9}, {\"tests\": -45.6}, {\"tests\": -47.0}, {\"tests\": -46.7}, {\"tests\": -46.8}, {\"tests\": -47.4}, {\"tests\": -45.6}, {\"tests\": -45.3}, {\"tests\": -46.0}, {\"tests\": -45.3}, {\"tests\": -46.5}, {\"tests\": -46.1}, {\"tests\": -46.8}, {\"tests\": -46.1}, {\"tests\": -45.7}, {\"tests\": -45.9}, {\"tests\": -44.7}, {\"tests\": -46.3}, {\"tests\": -45.4}, {\"tests\": -44.9}, {\"tests\": -46.8}, {\"tests\": -46.3}, {\"tests\": -44.0}, {\"tests\": -47.2}, {\"tests\": -46.6}, {\"tests\": -46.7}, {\"tests\": -45.6}, {\"tests\": -45.8}, {\"tests\": -46.4}, {\"tests\": -47.2}, {\"tests\": -47.0}, {\"tests\": -46.0}, {\"tests\": -44.1}, {\"tests\": -46.4}, {\"tests\": -44.2}, {\"tests\": -46.1}, {\"tests\": -45.3}, {\"tests\": -46.9}, {\"tests\": -46.9}, {\"tests\": -45.9}, {\"tests\": -45.4}, {\"tests\": -44.1}, {\"tests\": -47.0}, {\"tests\": -46.9}, {\"tests\": -45.6}, {\"tests\": -47.8}, {\"tests\": -46.2}, {\"tests\": -45.6}, {\"tests\": -46.7}, {\"tests\": -46.3}, {\"tests\": -44.6}, {\"tests\": -46.0}, {\"tests\": -46.5}, {\"tests\": -46.6}, {\"tests\": -46.6}, {\"tests\": -44.5}, {\"tests\": -46.6}, {\"tests\": -45.4}, {\"tests\": -46.0}, {\"tests\": -48.2}, {\"tests\": -46.0}, {\"tests\": -45.0}, {\"tests\": -45.9}, {\"tests\": -45.8}, {\"tests\": -46.9}, {\"tests\": -47.0}, {\"tests\": -46.6}, {\"tests\": -46.1}, {\"tests\": -45.5}, {\"tests\": -47.4}, {\"tests\": -46.0}, {\"tests\": -45.2}, {\"tests\": -45.2}, {\"tests\": -46.9}, {\"tests\": -45.0}, {\"tests\": -46.5}, {\"tests\": -45.9}, {\"tests\": -45.1}, {\"tests\": -44.9}, {\"tests\": -46.9}, {\"tests\": -46.6}, {\"tests\": -46.3}, {\"tests\": -46.0}, {\"tests\": -45.7}, {\"tests\": -44.5}, {\"tests\": -45.5}, {\"tests\": -44.8}, {\"tests\": -46.3}, {\"tests\": -44.9}, {\"tests\": -44.3}, {\"tests\": -45.0}, {\"tests\": -46.0}, {\"tests\": -46.1}, {\"tests\": -45.0}, {\"tests\": -45.5}, {\"tests\": -45.2}, {\"tests\": -45.6}, {\"tests\": -46.8}, {\"tests\": -45.9}, {\"tests\": -46.5}, {\"tests\": -46.3}, {\"tests\": -45.3}, {\"tests\": -43.9}, {\"tests\": -46.7}, {\"tests\": -45.1}, {\"tests\": -45.9}, {\"tests\": -46.7}, {\"tests\": -45.4}, {\"tests\": -45.2}, {\"tests\": -46.3}, {\"tests\": -46.0}, {\"tests\": -45.3}, {\"tests\": -45.7}, {\"tests\": -45.7}, {\"tests\": -45.7}, {\"tests\": -44.9}, {\"tests\": -46.3}, {\"tests\": -45.8}, {\"tests\": -46.2}, {\"tests\": -45.3}, {\"tests\": -46.7}, {\"tests\": -45.0}, {\"tests\": -46.1}, {\"tests\": -46.1}, {\"tests\": -45.8}, {\"tests\": -45.3}, {\"tests\": -44.6}, {\"tests\": -47.2}, {\"tests\": -46.7}, {\"tests\": -46.9}, {\"tests\": -45.6}, {\"tests\": -46.3}, {\"tests\": -45.5}, {\"tests\": -46.0}, {\"tests\": -44.8}, {\"tests\": -45.4}, {\"tests\": -46.0}, {\"tests\": -44.9}, {\"tests\": -46.7}, {\"tests\": -47.3}, {\"tests\": -45.1}, {\"tests\": -46.3}, {\"tests\": -44.5}, {\"tests\": -47.2}, {\"tests\": -46.0}, {\"tests\": -47.4}, {\"tests\": -46.6}, {\"tests\": -46.5}, {\"tests\": -48.1}, {\"tests\": -46.5}, {\"tests\": -47.7}, {\"tests\": -47.9}, {\"tests\": -46.6}, {\"tests\": -45.4}, {\"tests\": -45.7}, {\"tests\": -47.9}, {\"tests\": -45.1}, {\"tests\": -43.9}, {\"tests\": -47.3}, {\"tests\": -46.7}, {\"tests\": -46.5}, {\"tests\": -46.0}, {\"tests\": -46.3}, {\"tests\": -46.3}, {\"tests\": -45.5}, {\"tests\": -46.6}, {\"tests\": -45.4}, {\"tests\": -46.4}, {\"tests\": -44.6}, {\"tests\": -45.8}, {\"tests\": -45.4}, {\"tests\": -46.4}, {\"tests\": -45.4}, {\"tests\": -45.1}, {\"tests\": -45.0}, {\"tests\": -47.0}, {\"tests\": -45.2}, {\"tests\": -45.6}, {\"tests\": -45.4}, {\"tests\": -45.4}, {\"tests\": -45.4}, {\"tests\": -45.6}, {\"tests\": -47.0}, {\"tests\": -45.9}, {\"tests\": -46.2}, {\"tests\": -46.7}, {\"tests\": -45.3}, {\"tests\": -46.5}, {\"tests\": -46.6}, {\"tests\": -45.3}, {\"tests\": -46.7}, {\"tests\": -47.2}, {\"tests\": -45.7}, {\"tests\": -45.2}, {\"tests\": -46.8}, {\"tests\": -45.5}, {\"tests\": -45.7}, {\"tests\": -45.8}, {\"tests\": -47.1}, {\"tests\": -45.5}, {\"tests\": -45.2}, {\"tests\": -46.8}, {\"tests\": -45.8}, {\"tests\": -45.5}, {\"tests\": -46.2}, {\"tests\": -47.1}, {\"tests\": -45.4}, {\"tests\": -46.4}, {\"tests\": -46.0}, {\"tests\": -45.5}, {\"tests\": -46.4}, {\"tests\": -46.3}, {\"tests\": -46.2}, {\"tests\": -46.4}, {\"tests\": -45.2}, {\"tests\": -44.6}, {\"tests\": -47.1}, {\"tests\": -45.8}, {\"tests\": -46.2}, {\"tests\": -45.8}, {\"tests\": -46.6}, {\"tests\": -45.2}, {\"tests\": -46.1}, {\"tests\": -46.0}, {\"tests\": -44.3}, {\"tests\": -46.0}, {\"tests\": -45.4}, {\"tests\": -46.2}, {\"tests\": -46.0}, {\"tests\": -46.3}, {\"tests\": -46.1}, {\"tests\": -46.2}, {\"tests\": -44.6}, {\"tests\": -46.0}, {\"tests\": -45.2}, {\"tests\": -47.2}, {\"tests\": -46.1}, {\"tests\": -45.4}, {\"tests\": -46.2}, {\"tests\": -45.6}, {\"tests\": -45.3}, {\"tests\": -45.9}, {\"tests\": -45.2}, {\"tests\": -46.1}, {\"tests\": -45.3}, {\"tests\": -46.5}, {\"tests\": -47.0}, {\"tests\": -44.7}, {\"tests\": -46.1}, {\"tests\": -47.2}, {\"tests\": -46.6}, {\"tests\": -46.0}, {\"tests\": -45.6}, {\"tests\": -45.8}, {\"tests\": -46.3}, {\"tests\": -46.2}, {\"tests\": -45.2}, {\"tests\": -45.9}, {\"tests\": -46.6}, {\"tests\": -44.7}, {\"tests\": -45.8}, {\"tests\": -45.8}, {\"tests\": -45.5}, {\"tests\": -45.9}, {\"tests\": -45.2}, {\"tests\": -45.9}, {\"tests\": -45.4}, {\"tests\": -45.2}, {\"tests\": -46.8}, {\"tests\": -46.1}, {\"tests\": -45.1}, {\"tests\": -46.1}, {\"tests\": -46.1}, {\"tests\": -45.3}, {\"tests\": -46.0}, {\"tests\": -46.2}, {\"tests\": -45.6}, {\"tests\": -47.5}, {\"tests\": -47.5}, {\"tests\": -45.4}, {\"tests\": -45.6}, {\"tests\": -46.6}, {\"tests\": -46.5}, {\"tests\": -46.6}, {\"tests\": -45.4}, {\"tests\": -46.5}, {\"tests\": -45.8}, {\"tests\": -45.9}, {\"tests\": -45.4}, {\"tests\": -46.2}, {\"tests\": -45.1}, {\"tests\": -45.3}, {\"tests\": -45.9}, {\"tests\": -47.1}, {\"tests\": -46.2}, {\"tests\": -45.2}, {\"tests\": -46.9}, {\"tests\": -45.0}, {\"tests\": -44.5}, {\"tests\": -46.7}, {\"tests\": -45.5}, {\"tests\": -46.5}, {\"tests\": -45.6}, {\"tests\": -45.3}, {\"tests\": -45.3}, {\"tests\": -46.0}, {\"tests\": -46.1}, {\"tests\": -45.9}, {\"tests\": -44.8}, {\"tests\": -45.0}, {\"tests\": -46.8}, {\"tests\": -47.2}, {\"tests\": -45.7}, {\"tests\": -45.9}, {\"tests\": -46.1}, {\"tests\": -45.6}, {\"tests\": -44.1}, {\"tests\": -45.5}, {\"tests\": -45.8}, {\"tests\": -46.1}, {\"tests\": -44.8}, {\"tests\": -45.6}, {\"tests\": -47.3}, {\"tests\": -45.6}, {\"tests\": -47.4}, {\"tests\": -46.0}, {\"tests\": -44.6}, {\"tests\": -45.5}, {\"tests\": -45.8}, {\"tests\": -46.7}, {\"tests\": -46.3}, {\"tests\": -45.2}, {\"tests\": -46.3}, {\"tests\": -45.1}, {\"tests\": -46.2}, {\"tests\": -45.7}, {\"tests\": -45.1}, {\"tests\": -45.0}, {\"tests\": -46.0}, {\"tests\": -44.6}, {\"tests\": -46.9}, {\"tests\": -46.9}, {\"tests\": -45.8}, {\"tests\": -46.9}, {\"tests\": -44.8}, {\"tests\": -45.3}, {\"tests\": -46.2}, {\"tests\": -46.3}, {\"tests\": -44.3}, {\"tests\": -46.0}, {\"tests\": -46.0}, {\"tests\": -46.7}, {\"tests\": -46.6}, {\"tests\": -45.6}, {\"tests\": -45.5}, {\"tests\": -46.0}, {\"tests\": -46.9}, {\"tests\": -45.9}, {\"tests\": -45.1}, {\"tests\": -45.1}, {\"tests\": -46.2}, {\"tests\": -45.3}, {\"tests\": -45.5}, {\"tests\": -47.1}, {\"tests\": -45.4}, {\"tests\": -45.2}, {\"tests\": -46.1}, {\"tests\": -44.6}, {\"tests\": -45.3}, {\"tests\": -44.8}, {\"tests\": -46.0}, {\"tests\": -45.6}, {\"tests\": -46.2}, {\"tests\": -45.0}, {\"tests\": -47.1}, {\"tests\": -46.0}, {\"tests\": -46.4}, {\"tests\": -46.5}, {\"tests\": -44.9}, {\"tests\": -45.3}, {\"tests\": -46.4}, {\"tests\": -46.0}, {\"tests\": -46.3}, {\"tests\": -45.5}, {\"tests\": -45.5}, {\"tests\": -47.1}, {\"tests\": -46.4}, {\"tests\": -47.2}, {\"tests\": -45.2}, {\"tests\": -45.4}, {\"tests\": -45.3}, {\"tests\": -45.4}, {\"tests\": -45.7}, {\"tests\": -45.1}, {\"tests\": -46.8}, {\"tests\": -45.2}, {\"tests\": -45.7}, {\"tests\": -45.6}, {\"tests\": -45.3}, {\"tests\": -43.4}, {\"tests\": -45.9}, {\"tests\": -45.2}, {\"tests\": -44.8}, {\"tests\": -46.6}, {\"tests\": -45.3}, {\"tests\": -46.6}, {\"tests\": -45.7}, {\"tests\": -45.5}, {\"tests\": -45.8}, {\"tests\": -45.0}, {\"tests\": -45.3}, {\"tests\": -45.4}, {\"tests\": -45.2}, {\"tests\": -46.9}, {\"tests\": -45.7}, {\"tests\": -45.7}, {\"tests\": -45.5}, {\"tests\": -46.9}, {\"tests\": -46.1}, {\"tests\": -45.4}, {\"tests\": -46.1}, {\"tests\": -44.8}, {\"tests\": -45.6}, {\"tests\": -45.5}, {\"tests\": -48.0}, {\"tests\": -45.3}, {\"tests\": -45.8}, {\"tests\": -45.4}, {\"tests\": -44.2}, {\"tests\": -45.5}, {\"tests\": -46.4}, {\"tests\": -46.3}, {\"tests\": -45.7}, {\"tests\": -47.1}, {\"tests\": -47.0}, {\"tests\": -45.7}, {\"tests\": -45.8}, {\"tests\": -45.9}, {\"tests\": -46.4}, {\"tests\": -46.1}, {\"tests\": -45.6}, {\"tests\": -45.4}, {\"tests\": -45.6}, {\"tests\": -44.7}, {\"tests\": -46.6}, {\"tests\": -45.4}, {\"tests\": -45.9}, {\"tests\": -46.6}, {\"tests\": -46.4}, {\"tests\": -44.8}, {\"tests\": -46.0}, {\"tests\": -45.7}, {\"tests\": -46.0}, {\"tests\": -46.7}, {\"tests\": -45.6}, {\"tests\": -47.5}, {\"tests\": -46.4}, {\"tests\": -46.1}, {\"tests\": -46.8}, {\"tests\": -46.5}, {\"tests\": -47.1}, {\"tests\": -46.4}, {\"tests\": -45.8}, {\"tests\": -45.2}, {\"tests\": -46.1}, {\"tests\": -46.2}, {\"tests\": -45.6}, {\"tests\": -46.0}, {\"tests\": -46.4}, {\"tests\": -46.9}, {\"tests\": -46.3}, {\"tests\": -45.9}, {\"tests\": -46.4}, {\"tests\": -45.3}, {\"tests\": -44.5}, {\"tests\": -45.7}, {\"tests\": -45.8}, {\"tests\": -47.3}, {\"tests\": -46.9}, {\"tests\": -45.2}, {\"tests\": -45.7}, {\"tests\": -44.6}, {\"tests\": -45.4}, {\"tests\": -47.0}, {\"tests\": -46.6}, {\"tests\": -45.9}, {\"tests\": -45.9}, {\"tests\": -45.1}, {\"tests\": -46.2}, {\"tests\": -45.2}, {\"tests\": -46.6}, {\"tests\": -44.6}, {\"tests\": -45.6}, {\"tests\": -46.0}, {\"tests\": -45.0}, {\"tests\": -44.0}, {\"tests\": -46.3}, {\"tests\": -45.7}, {\"tests\": -44.7}, {\"tests\": -46.9}, {\"tests\": -46.0}, {\"tests\": -46.1}, {\"tests\": -44.7}, {\"tests\": -47.0}, {\"tests\": -46.2}, {\"tests\": -45.9}, {\"tests\": -45.8}, {\"tests\": -46.6}, {\"tests\": -45.5}, {\"tests\": -46.0}, {\"tests\": -45.7}, {\"tests\": -46.5}, {\"tests\": -46.4}, {\"tests\": -46.5}, {\"tests\": -46.1}, {\"tests\": -45.8}, {\"tests\": -45.5}, {\"tests\": -46.2}, {\"tests\": -45.3}, {\"tests\": -45.0}, {\"tests\": -46.3}, {\"tests\": -46.3}, {\"tests\": -46.2}, {\"tests\": -48.6}, {\"tests\": -45.7}, {\"tests\": -44.9}, {\"tests\": -46.5}, {\"tests\": -46.0}, {\"tests\": -46.8}, {\"tests\": -46.4}, {\"tests\": -47.1}, {\"tests\": -44.6}, {\"tests\": -46.8}, {\"tests\": -45.9}, {\"tests\": -45.7}, {\"tests\": -46.3}, {\"tests\": -46.4}, {\"tests\": -45.4}, {\"tests\": -46.0}, {\"tests\": -46.0}, {\"tests\": -46.0}, {\"tests\": -46.1}, {\"tests\": -45.7}, {\"tests\": -44.2}, {\"tests\": -45.2}, {\"tests\": -47.2}, {\"tests\": -46.3}, {\"tests\": -47.0}, {\"tests\": -44.9}, {\"tests\": -45.8}, {\"tests\": -46.0}, {\"tests\": -47.5}, {\"tests\": -45.6}, {\"tests\": -48.0}, {\"tests\": -45.6}, {\"tests\": -45.1}, {\"tests\": -45.3}, {\"tests\": -45.2}, {\"tests\": -45.9}, {\"tests\": -46.1}, {\"tests\": -46.2}, {\"tests\": -46.5}, {\"tests\": -45.6}, {\"tests\": -45.0}, {\"tests\": -45.1}, {\"tests\": -45.2}, {\"tests\": -45.6}, {\"tests\": -47.2}, {\"tests\": -46.0}, {\"tests\": -45.4}, {\"tests\": -46.3}, {\"tests\": -46.6}, {\"tests\": -47.3}, {\"tests\": -44.8}, {\"tests\": -46.1}, {\"tests\": -46.8}, {\"tests\": -45.6}, {\"tests\": -46.8}, {\"tests\": -45.4}, {\"tests\": -45.9}, {\"tests\": -46.0}, {\"tests\": -46.1}, {\"tests\": -47.0}, {\"tests\": -44.5}, {\"tests\": -46.4}, {\"tests\": -46.4}, {\"tests\": -45.4}, {\"tests\": -46.2}, {\"tests\": -45.2}, {\"tests\": -45.9}, {\"tests\": -46.0}, {\"tests\": -46.2}, {\"tests\": -45.6}, {\"tests\": -46.2}, {\"tests\": -47.0}, {\"tests\": -47.1}, {\"tests\": -47.1}, {\"tests\": -45.7}, {\"tests\": -45.9}, {\"tests\": -45.8}, {\"tests\": -46.2}, {\"tests\": -45.7}, {\"tests\": -46.8}, {\"tests\": -44.5}, {\"tests\": -45.3}, {\"tests\": -45.5}, {\"tests\": -46.3}, {\"tests\": -44.2}, {\"tests\": -44.8}, {\"tests\": -46.8}, {\"tests\": -46.1}, {\"tests\": -46.9}, {\"tests\": -45.7}, {\"tests\": -46.4}, {\"tests\": -47.2}, {\"tests\": -46.6}, {\"tests\": -45.8}, {\"tests\": -45.1}, {\"tests\": -45.7}, {\"tests\": -46.0}, {\"tests\": -45.4}, {\"tests\": -46.2}, {\"tests\": -46.7}, {\"tests\": -45.1}, {\"tests\": -45.7}, {\"tests\": -46.3}, {\"tests\": -46.2}, {\"tests\": -45.8}, {\"tests\": -47.0}, {\"tests\": -46.1}, {\"tests\": -46.3}, {\"tests\": -45.8}, {\"tests\": -46.4}, {\"tests\": -45.8}, {\"tests\": -44.4}, {\"tests\": -45.6}, {\"tests\": -45.7}, {\"tests\": -46.2}, {\"tests\": -45.9}, {\"tests\": -47.1}, {\"tests\": -47.1}, {\"tests\": -47.4}, {\"tests\": -45.9}, {\"tests\": -45.1}, {\"tests\": -46.5}, {\"tests\": -45.8}, {\"tests\": -46.4}, {\"tests\": -45.9}, {\"tests\": -46.6}, {\"tests\": -45.7}, {\"tests\": -45.6}, {\"tests\": -46.0}, {\"tests\": -46.1}, {\"tests\": -46.4}, {\"tests\": -46.4}, {\"tests\": -46.9}, {\"tests\": -46.7}, {\"tests\": -46.8}, {\"tests\": -44.6}, {\"tests\": -46.0}, {\"tests\": -47.1}, {\"tests\": -45.2}, {\"tests\": -45.2}, {\"tests\": -46.4}, {\"tests\": -45.3}, {\"tests\": -46.1}, {\"tests\": -46.6}, {\"tests\": -46.8}, {\"tests\": -45.6}, {\"tests\": -47.9}, {\"tests\": -46.7}, {\"tests\": -46.0}, {\"tests\": -48.4}, {\"tests\": -46.3}, {\"tests\": -45.0}, {\"tests\": -46.3}, {\"tests\": -46.2}, {\"tests\": -46.0}, {\"tests\": -45.9}, {\"tests\": -47.3}, {\"tests\": -45.7}, {\"tests\": -45.2}, {\"tests\": -46.0}, {\"tests\": -46.2}, {\"tests\": -45.4}, {\"tests\": -46.7}, {\"tests\": -46.5}, {\"tests\": -46.5}, {\"tests\": -45.9}, {\"tests\": -44.3}, {\"tests\": -46.1}, {\"tests\": -48.7}, {\"tests\": -45.7}, {\"tests\": -45.6}, {\"tests\": -46.4}, {\"tests\": -44.9}, {\"tests\": -46.5}, {\"tests\": -47.4}, {\"tests\": -47.3}, {\"tests\": -45.8}, {\"tests\": -45.9}, {\"tests\": -46.2}, {\"tests\": -45.1}, {\"tests\": -46.4}, {\"tests\": -45.6}, {\"tests\": -47.1}, {\"tests\": -45.9}, {\"tests\": -45.4}, {\"tests\": -46.8}, {\"tests\": -45.2}, {\"tests\": -47.4}, {\"tests\": -45.9}, {\"tests\": -46.7}, {\"tests\": -45.6}, {\"tests\": -45.6}, {\"tests\": -46.1}, {\"tests\": -45.3}, {\"tests\": -44.9}, {\"tests\": -44.4}, {\"tests\": -46.9}, {\"tests\": -46.0}, {\"tests\": -45.8}, {\"tests\": -45.1}, {\"tests\": -45.6}, {\"tests\": -47.7}, {\"tests\": -45.6}, {\"tests\": -45.9}, {\"tests\": -46.1}, {\"tests\": -46.2}, {\"tests\": -46.1}, {\"tests\": -45.6}, {\"tests\": -46.5}, {\"tests\": -47.1}, {\"tests\": -46.7}, {\"tests\": -46.2}, {\"tests\": -45.5}, {\"tests\": -45.3}, {\"tests\": -46.2}, {\"tests\": -46.9}, {\"tests\": -45.1}, {\"tests\": -46.5}, {\"tests\": -45.8}, {\"tests\": -44.7}, {\"tests\": -46.9}, {\"tests\": -46.0}, {\"tests\": -47.1}, {\"tests\": -46.2}, {\"tests\": -46.0}, {\"tests\": -46.3}, {\"tests\": -46.7}, {\"tests\": -47.1}, {\"tests\": -46.3}, {\"tests\": -46.0}, {\"tests\": -45.5}, {\"tests\": -46.9}, {\"tests\": -45.9}, {\"tests\": -46.7}, {\"tests\": -46.2}, {\"tests\": -45.1}, {\"tests\": -44.9}, {\"tests\": -46.6}, {\"tests\": -45.3}, {\"tests\": -46.8}, {\"tests\": -46.1}, {\"tests\": -45.9}, {\"tests\": -48.1}, {\"tests\": -45.3}, {\"tests\": -45.5}, {\"tests\": -46.8}, {\"tests\": -47.4}, {\"tests\": -45.9}, {\"tests\": -46.7}, {\"tests\": -45.6}, {\"tests\": -46.0}, {\"tests\": -45.7}, {\"tests\": -46.6}, {\"tests\": -46.2}, {\"tests\": -45.2}, {\"tests\": -46.7}, {\"tests\": -44.8}, {\"tests\": -45.1}, {\"tests\": -45.7}, {\"tests\": -45.9}, {\"tests\": -45.6}, {\"tests\": -46.2}, {\"tests\": -45.6}, {\"tests\": -45.7}, {\"tests\": -45.6}, {\"tests\": -45.4}, {\"tests\": -45.4}, {\"tests\": -44.8}, {\"tests\": -46.5}, {\"tests\": -46.7}, {\"tests\": -45.9}, {\"tests\": -45.6}, {\"tests\": -44.9}, {\"tests\": -44.7}, {\"tests\": -45.9}, {\"tests\": -46.1}, {\"tests\": -45.8}, {\"tests\": -45.9}, {\"tests\": -45.4}, {\"tests\": -46.6}, {\"tests\": -45.5}, {\"tests\": -46.3}, {\"tests\": -45.5}, {\"tests\": -45.9}, {\"tests\": -45.3}, {\"tests\": -45.2}, {\"tests\": -45.7}, {\"tests\": -46.1}, {\"tests\": -44.7}, {\"tests\": -45.8}, {\"tests\": -46.5}, {\"tests\": -45.8}, {\"tests\": -47.7}, {\"tests\": -44.8}, {\"tests\": -47.2}, {\"tests\": -44.7}, {\"tests\": -46.2}, {\"tests\": -46.6}, {\"tests\": -45.2}, {\"tests\": -45.5}, {\"tests\": -47.4}, {\"tests\": -44.3}, {\"tests\": -45.8}, {\"tests\": -45.6}, {\"tests\": -46.4}, {\"tests\": -46.5}, {\"tests\": -47.0}, {\"tests\": -45.4}, {\"tests\": -46.2}, {\"tests\": -44.3}, {\"tests\": -47.3}, {\"tests\": -46.0}, {\"tests\": -45.8}, {\"tests\": -47.6}, {\"tests\": -46.5}, {\"tests\": -46.3}, {\"tests\": -45.8}, {\"tests\": -45.7}, {\"tests\": -45.2}, {\"tests\": -45.5}, {\"tests\": -45.0}, {\"tests\": -46.2}, {\"tests\": -46.9}, {\"tests\": -45.5}, {\"tests\": -46.5}, {\"tests\": -46.5}, {\"tests\": -45.9}, {\"tests\": -46.4}, {\"tests\": -45.9}, {\"tests\": -45.8}, {\"tests\": -45.1}, {\"tests\": -46.3}, {\"tests\": -46.5}, {\"tests\": -45.3}, {\"tests\": -45.6}, {\"tests\": -44.9}, {\"tests\": -45.8}, {\"tests\": -46.0}, {\"tests\": -45.7}, {\"tests\": -45.8}, {\"tests\": -46.2}, {\"tests\": -46.8}, {\"tests\": -46.9}, {\"tests\": -46.4}, {\"tests\": -45.9}, {\"tests\": -46.7}, {\"tests\": -46.0}, {\"tests\": -43.3}, {\"tests\": -45.3}, {\"tests\": -47.4}, {\"tests\": -46.0}, {\"tests\": -44.9}, {\"tests\": -46.4}, {\"tests\": -46.3}, {\"tests\": -46.2}, {\"tests\": -46.1}, {\"tests\": -46.3}, {\"tests\": -46.5}, {\"tests\": -45.8}, {\"tests\": -45.4}, {\"tests\": -47.3}, {\"tests\": -46.2}, {\"tests\": -46.1}, {\"tests\": -47.4}, {\"tests\": -45.7}, {\"tests\": -46.2}, {\"tests\": -45.8}, {\"tests\": -46.7}, {\"tests\": -46.8}, {\"tests\": -46.0}, {\"tests\": -46.2}, {\"tests\": -48.1}, {\"tests\": -45.6}, {\"tests\": -45.3}, {\"tests\": -46.0}, {\"tests\": -45.3}, {\"tests\": -46.7}, {\"tests\": -47.4}, {\"tests\": -45.2}, {\"tests\": -46.6}, {\"tests\": -46.9}, {\"tests\": -46.4}, {\"tests\": -46.5}, {\"tests\": -46.8}, {\"tests\": -44.5}, {\"tests\": -46.8}, {\"tests\": -45.9}, {\"tests\": -45.7}, {\"tests\": -46.2}, {\"tests\": -46.7}, {\"tests\": -47.1}, {\"tests\": -47.4}, {\"tests\": -47.0}, {\"tests\": -46.4}, {\"tests\": -46.0}, {\"tests\": -46.5}, {\"tests\": -45.3}, {\"tests\": -45.1}, {\"tests\": -45.7}, {\"tests\": -46.3}, {\"tests\": -46.9}, {\"tests\": -47.5}, {\"tests\": -45.1}, {\"tests\": -44.7}, {\"tests\": -46.2}, {\"tests\": -45.5}, {\"tests\": -46.7}, {\"tests\": -45.4}, {\"tests\": -46.2}, {\"tests\": -46.7}, {\"tests\": -47.5}, {\"tests\": -46.8}, {\"tests\": -45.4}, {\"tests\": -47.1}, {\"tests\": -45.6}, {\"tests\": -45.3}, {\"tests\": -45.9}, {\"tests\": -45.8}, {\"tests\": -45.5}, {\"tests\": -46.4}, {\"tests\": -47.4}, {\"tests\": -46.6}, {\"tests\": -44.8}, {\"tests\": -45.7}, {\"tests\": -45.3}, {\"tests\": -45.7}, {\"tests\": -45.5}, {\"tests\": -46.3}, {\"tests\": -45.6}, {\"tests\": -46.7}, {\"tests\": -46.2}, {\"tests\": -45.1}, {\"tests\": -46.1}, {\"tests\": -47.2}, {\"tests\": -43.8}, {\"tests\": -46.5}, {\"tests\": -45.0}, {\"tests\": -46.0}, {\"tests\": -46.8}, {\"tests\": -45.3}, {\"tests\": -47.0}, {\"tests\": -45.5}, {\"tests\": -46.1}, {\"tests\": -45.8}, {\"tests\": -45.6}, {\"tests\": -46.3}, {\"tests\": -45.2}, {\"tests\": -46.7}, {\"tests\": -46.1}, {\"tests\": -46.4}, {\"tests\": -47.1}, {\"tests\": -43.9}, {\"tests\": -45.9}, {\"tests\": -45.7}, {\"tests\": -45.5}, {\"tests\": -44.7}, {\"tests\": -46.4}, {\"tests\": -45.0}, {\"tests\": -46.0}, {\"tests\": -45.0}, {\"tests\": -46.4}, {\"tests\": -44.5}, {\"tests\": -45.6}, {\"tests\": -47.2}, {\"tests\": -45.6}, {\"tests\": -46.4}, {\"tests\": -45.6}, {\"tests\": -46.3}, {\"tests\": -45.8}, {\"tests\": -47.3}, {\"tests\": -45.5}, {\"tests\": -46.5}, {\"tests\": -45.7}, {\"tests\": -46.1}, {\"tests\": -45.5}, {\"tests\": -44.9}, {\"tests\": -45.5}, {\"tests\": -46.3}, {\"tests\": -45.8}, {\"tests\": -45.6}, {\"tests\": -45.9}, {\"tests\": -45.0}, {\"tests\": -46.3}, {\"tests\": -45.0}, {\"tests\": -45.4}, {\"tests\": -45.1}, {\"tests\": -46.0}, {\"tests\": -45.6}, {\"tests\": -46.9}, {\"tests\": -45.4}, {\"tests\": -45.0}, {\"tests\": -46.0}, {\"tests\": -46.4}, {\"tests\": -45.8}, {\"tests\": -44.8}, {\"tests\": -45.8}, {\"tests\": -45.7}, {\"tests\": -46.2}, {\"tests\": -46.6}, {\"tests\": -47.0}, {\"tests\": -47.4}, {\"tests\": -46.6}, {\"tests\": -45.6}, {\"tests\": -46.6}, {\"tests\": -45.3}, {\"tests\": -45.4}, {\"tests\": -45.9}, {\"tests\": -45.7}, {\"tests\": -46.6}, {\"tests\": -46.5}, {\"tests\": -46.1}, {\"tests\": -47.2}, {\"tests\": -46.7}, {\"tests\": -44.0}, {\"tests\": -46.2}, {\"tests\": -47.0}, {\"tests\": -46.4}, {\"tests\": -44.6}, {\"tests\": -45.3}, {\"tests\": -45.8}, {\"tests\": -46.2}, {\"tests\": -46.0}, {\"tests\": -46.2}, {\"tests\": -46.2}, {\"tests\": -45.8}, {\"tests\": -45.0}, {\"tests\": -45.7}, {\"tests\": -46.3}, {\"tests\": -45.5}, {\"tests\": -46.2}, {\"tests\": -46.3}, {\"tests\": -47.1}, {\"tests\": -45.3}, {\"tests\": -46.1}, {\"tests\": -45.2}, {\"tests\": -46.4}, {\"tests\": -46.8}, {\"tests\": -46.0}, {\"tests\": -46.7}, {\"tests\": -45.8}, {\"tests\": -45.4}, {\"tests\": -45.1}, {\"tests\": -46.6}, {\"tests\": -46.2}, {\"tests\": -45.7}, {\"tests\": -46.0}, {\"tests\": -44.6}, {\"tests\": -45.8}, {\"tests\": -45.5}, {\"tests\": -46.1}, {\"tests\": -45.6}, {\"tests\": -46.8}, {\"tests\": -45.8}, {\"tests\": -46.0}, {\"tests\": -46.8}, {\"tests\": -44.3}, {\"tests\": -46.2}, {\"tests\": -47.2}, {\"tests\": -45.7}, {\"tests\": -46.1}, {\"tests\": -46.7}, {\"tests\": -47.1}, {\"tests\": -44.6}, {\"tests\": -46.6}, {\"tests\": -46.0}, {\"tests\": -45.8}, {\"tests\": -45.6}, {\"tests\": -45.3}, {\"tests\": -46.5}, {\"tests\": -46.2}, {\"tests\": -45.3}, {\"tests\": -45.5}, {\"tests\": -45.5}, {\"tests\": -45.7}, {\"tests\": -44.8}, {\"tests\": -46.4}, {\"tests\": -47.0}, {\"tests\": -44.6}, {\"tests\": -45.1}, {\"tests\": -46.3}, {\"tests\": -45.6}, {\"tests\": -45.9}, {\"tests\": -46.1}, {\"tests\": -45.2}, {\"tests\": -45.9}, {\"tests\": -46.6}, {\"tests\": -43.6}, {\"tests\": -44.5}, {\"tests\": -45.6}, {\"tests\": -47.8}, {\"tests\": -46.4}, {\"tests\": -44.9}, {\"tests\": -46.8}, {\"tests\": -47.1}, {\"tests\": -45.6}, {\"tests\": -44.9}, {\"tests\": -46.2}, {\"tests\": -44.6}, {\"tests\": -46.1}, {\"tests\": -44.9}, {\"tests\": -45.5}, {\"tests\": -47.9}, {\"tests\": -45.6}, {\"tests\": -45.4}, {\"tests\": -46.2}, {\"tests\": -45.3}, {\"tests\": -46.5}, {\"tests\": -47.9}, {\"tests\": -45.6}, {\"tests\": -44.3}, {\"tests\": -47.0}, {\"tests\": -45.9}, {\"tests\": -45.8}, {\"tests\": -45.4}, {\"tests\": -45.8}, {\"tests\": -46.6}, {\"tests\": -44.9}, {\"tests\": -44.7}, {\"tests\": -46.4}, {\"tests\": -45.3}, {\"tests\": -46.9}, {\"tests\": -46.1}, {\"tests\": -45.3}, {\"tests\": -47.5}, {\"tests\": -45.1}, {\"tests\": -45.6}, {\"tests\": -45.6}, {\"tests\": -45.6}, {\"tests\": -46.6}, {\"tests\": -46.4}, {\"tests\": -45.8}, {\"tests\": -45.1}, {\"tests\": -46.9}, {\"tests\": -45.4}, {\"tests\": -46.2}, {\"tests\": -44.8}, {\"tests\": -45.7}, {\"tests\": -46.5}, {\"tests\": -45.7}, {\"tests\": -46.2}, {\"tests\": -46.7}, {\"tests\": -44.4}, {\"tests\": -46.4}, {\"tests\": -46.5}, {\"tests\": -45.7}, {\"tests\": -45.3}, {\"tests\": -45.0}, {\"tests\": -45.5}, {\"tests\": -45.8}, {\"tests\": -45.2}, {\"tests\": -44.7}, {\"tests\": -45.1}, {\"tests\": -45.2}, {\"tests\": -45.1}, {\"tests\": -45.7}, {\"tests\": -46.4}, {\"tests\": -46.0}, {\"tests\": -46.8}, {\"tests\": -47.2}, {\"tests\": -45.4}, {\"tests\": -46.0}, {\"tests\": -46.2}, {\"tests\": -46.4}, {\"tests\": -47.2}, {\"tests\": -45.4}, {\"tests\": -46.1}, {\"tests\": -46.5}, {\"tests\": -46.7}, {\"tests\": -47.3}, {\"tests\": -46.7}, {\"tests\": -46.3}, {\"tests\": -45.0}, {\"tests\": -46.1}, {\"tests\": -46.6}, {\"tests\": -47.2}, {\"tests\": -45.5}, {\"tests\": -45.6}, {\"tests\": -46.2}, {\"tests\": -46.3}, {\"tests\": -45.3}, {\"tests\": -44.0}, {\"tests\": -45.1}, {\"tests\": -47.2}, {\"tests\": -44.3}, {\"tests\": -46.2}, {\"tests\": -45.7}, {\"tests\": -46.4}, {\"tests\": -45.1}, {\"tests\": -45.9}, {\"tests\": -47.7}, {\"tests\": -46.8}, {\"tests\": -46.2}, {\"tests\": -45.8}, {\"tests\": -45.9}, {\"tests\": -45.6}, {\"tests\": -45.6}, {\"tests\": -46.5}, {\"tests\": -46.0}, {\"tests\": -46.0}, {\"tests\": -45.0}, {\"tests\": -46.7}, {\"tests\": -47.3}, {\"tests\": -46.3}, {\"tests\": -47.0}, {\"tests\": -45.3}, {\"tests\": -45.5}, {\"tests\": -46.5}, {\"tests\": -47.2}, {\"tests\": -46.0}, {\"tests\": -45.2}, {\"tests\": -46.4}, {\"tests\": -46.3}, {\"tests\": -44.6}, {\"tests\": -46.1}, {\"tests\": -45.1}, {\"tests\": -46.3}, {\"tests\": -46.5}, {\"tests\": -45.7}, {\"tests\": -46.3}, {\"tests\": -47.1}, {\"tests\": -45.9}, {\"tests\": -46.4}, {\"tests\": -46.1}, {\"tests\": -46.8}, {\"tests\": -45.5}, {\"tests\": -46.0}, {\"tests\": -47.3}, {\"tests\": -45.9}, {\"tests\": -46.4}, {\"tests\": -46.6}, {\"tests\": -46.6}, {\"tests\": -45.8}, {\"tests\": -45.7}, {\"tests\": -45.4}, {\"tests\": -45.4}, {\"tests\": -46.0}, {\"tests\": -45.0}, {\"tests\": -46.5}, {\"tests\": -45.3}, {\"tests\": -45.6}, {\"tests\": -46.4}, {\"tests\": -45.9}, {\"tests\": -46.7}, {\"tests\": -45.7}, {\"tests\": -45.6}, {\"tests\": -45.3}, {\"tests\": -44.8}, {\"tests\": -45.6}, {\"tests\": -45.8}, {\"tests\": -46.4}, {\"tests\": -43.8}, {\"tests\": -46.8}, {\"tests\": -46.2}, {\"tests\": -46.4}, {\"tests\": -45.9}, {\"tests\": -44.1}, {\"tests\": -45.4}, {\"tests\": -46.0}, {\"tests\": -45.7}, {\"tests\": -45.7}, {\"tests\": -45.2}, {\"tests\": -46.6}, {\"tests\": -46.5}, {\"tests\": -46.5}, {\"tests\": -46.4}, {\"tests\": -45.8}, {\"tests\": -45.1}, {\"tests\": -46.9}, {\"tests\": -45.1}, {\"tests\": -47.4}, {\"tests\": -46.8}, {\"tests\": -44.9}, {\"tests\": -46.3}, {\"tests\": -45.7}, {\"tests\": -45.3}, {\"tests\": -46.8}, {\"tests\": -47.1}, {\"tests\": -45.8}, {\"tests\": -46.8}, {\"tests\": -46.1}, {\"tests\": -45.5}, {\"tests\": -46.2}, {\"tests\": -46.5}, {\"tests\": -46.0}, {\"tests\": -46.2}, {\"tests\": -45.6}, {\"tests\": -45.4}, {\"tests\": -46.1}, {\"tests\": -45.8}, {\"tests\": -46.6}, {\"tests\": -45.4}, {\"tests\": -46.0}, {\"tests\": -45.9}, {\"tests\": -44.8}, {\"tests\": -44.8}, {\"tests\": -46.2}, {\"tests\": -44.5}, {\"tests\": -45.9}, {\"tests\": -46.1}, {\"tests\": -44.8}, {\"tests\": -45.5}, {\"tests\": -46.1}, {\"tests\": -46.0}, {\"tests\": -45.3}, {\"tests\": -44.9}, {\"tests\": -45.9}, {\"tests\": -45.2}, {\"tests\": -46.5}, {\"tests\": -45.5}, {\"tests\": -44.8}, {\"tests\": -45.9}, {\"tests\": -46.6}, {\"tests\": -45.7}, {\"tests\": -45.9}, {\"tests\": -46.1}, {\"tests\": -44.9}, {\"tests\": -44.8}, {\"tests\": -44.9}, {\"tests\": -46.5}, {\"tests\": -45.9}, {\"tests\": -45.7}, {\"tests\": -45.9}, {\"tests\": -45.3}, {\"tests\": -44.8}, {\"tests\": -46.7}, {\"tests\": -45.5}, {\"tests\": -46.1}, {\"tests\": -46.1}, {\"tests\": -46.1}, {\"tests\": -46.2}, {\"tests\": -45.8}, {\"tests\": -46.6}, {\"tests\": -46.6}, {\"tests\": -45.6}, {\"tests\": -46.5}, {\"tests\": -46.6}, {\"tests\": -47.8}, {\"tests\": -46.1}, {\"tests\": -46.6}, {\"tests\": -46.8}, {\"tests\": -45.0}, {\"tests\": -46.0}, {\"tests\": -47.2}, {\"tests\": -45.5}, {\"tests\": -46.6}, {\"tests\": -45.0}, {\"tests\": -47.6}, {\"tests\": -45.7}, {\"tests\": -46.3}, {\"tests\": -46.0}, {\"tests\": -47.2}, {\"tests\": -45.3}, {\"tests\": -44.7}, {\"tests\": -45.6}, {\"tests\": -47.0}, {\"tests\": -45.4}, {\"tests\": -44.7}, {\"tests\": -46.3}, {\"tests\": -46.2}, {\"tests\": -46.8}, {\"tests\": -44.8}, {\"tests\": -46.4}, {\"tests\": -45.2}, {\"tests\": -46.0}, {\"tests\": -44.6}, {\"tests\": -45.4}, {\"tests\": -46.2}, {\"tests\": -45.6}, {\"tests\": -47.0}, {\"tests\": -45.9}, {\"tests\": -46.8}, {\"tests\": -47.2}, {\"tests\": -44.9}, {\"tests\": -44.5}, {\"tests\": -45.4}, {\"tests\": -46.0}, {\"tests\": -47.7}, {\"tests\": -46.1}, {\"tests\": -46.9}, {\"tests\": -46.6}, {\"tests\": -47.0}, {\"tests\": -45.1}, {\"tests\": -45.8}, {\"tests\": -45.8}, {\"tests\": -46.0}, {\"tests\": -45.4}, {\"tests\": -47.3}, {\"tests\": -46.5}, {\"tests\": -45.0}, {\"tests\": -45.3}, {\"tests\": -46.1}, {\"tests\": -45.8}, {\"tests\": -46.5}, {\"tests\": -45.4}, {\"tests\": -44.9}, {\"tests\": -45.2}, {\"tests\": -46.2}, {\"tests\": -45.2}, {\"tests\": -46.5}, {\"tests\": -43.7}, {\"tests\": -44.9}, {\"tests\": -47.1}, {\"tests\": -46.0}, {\"tests\": -46.5}, {\"tests\": -46.2}, {\"tests\": -44.9}, {\"tests\": -45.6}, {\"tests\": -46.7}, {\"tests\": -46.9}, {\"tests\": -44.8}, {\"tests\": -45.4}, {\"tests\": -45.7}, {\"tests\": -46.5}, {\"tests\": -45.6}, {\"tests\": -46.4}, {\"tests\": -46.1}, {\"tests\": -46.0}, {\"tests\": -46.3}, {\"tests\": -45.8}, {\"tests\": -48.0}, {\"tests\": -46.0}, {\"tests\": -44.9}, {\"tests\": -46.4}, {\"tests\": -46.0}, {\"tests\": -46.0}, {\"tests\": -45.4}, {\"tests\": -47.3}, {\"tests\": -44.9}, {\"tests\": -45.0}, {\"tests\": -44.6}, {\"tests\": -46.1}, {\"tests\": -45.3}, {\"tests\": -45.5}, {\"tests\": -46.9}, {\"tests\": -46.1}, {\"tests\": -45.6}, {\"tests\": -46.4}, {\"tests\": -46.2}, {\"tests\": -46.1}, {\"tests\": -46.0}, {\"tests\": -46.1}, {\"tests\": -45.8}, {\"tests\": -45.2}, {\"tests\": -45.0}, {\"tests\": -45.5}, {\"tests\": -46.2}, {\"tests\": -47.1}, {\"tests\": -46.2}, {\"tests\": -45.4}, {\"tests\": -46.4}, {\"tests\": -46.4}, {\"tests\": -45.9}, {\"tests\": -45.4}, {\"tests\": -45.0}, {\"tests\": -45.2}, {\"tests\": -46.1}, {\"tests\": -44.5}, {\"tests\": -46.0}, {\"tests\": -45.4}, {\"tests\": -45.6}, {\"tests\": -45.1}, {\"tests\": -45.2}, {\"tests\": -46.8}, {\"tests\": -45.5}, {\"tests\": -45.7}, {\"tests\": -46.8}, {\"tests\": -45.3}, {\"tests\": -45.2}, {\"tests\": -45.5}, {\"tests\": -45.1}, {\"tests\": -47.3}, {\"tests\": -45.5}, {\"tests\": -46.6}, {\"tests\": -45.7}, {\"tests\": -44.1}, {\"tests\": -46.1}, {\"tests\": -46.2}, {\"tests\": -45.9}, {\"tests\": -45.8}, {\"tests\": -45.9}, {\"tests\": -45.7}, {\"tests\": -45.4}, {\"tests\": -45.9}, {\"tests\": -45.0}, {\"tests\": -46.9}, {\"tests\": -44.8}, {\"tests\": -45.0}, {\"tests\": -46.8}, {\"tests\": -45.9}, {\"tests\": -46.7}, {\"tests\": -46.2}, {\"tests\": -45.2}, {\"tests\": -45.3}, {\"tests\": -45.4}, {\"tests\": -46.0}, {\"tests\": -45.5}, {\"tests\": -46.1}, {\"tests\": -46.8}, {\"tests\": -46.8}, {\"tests\": -46.3}, {\"tests\": -47.1}, {\"tests\": -46.5}, {\"tests\": -47.0}, {\"tests\": -46.0}, {\"tests\": -46.6}, {\"tests\": -45.6}, {\"tests\": -45.0}, {\"tests\": -47.5}, {\"tests\": -45.7}, {\"tests\": -46.2}, {\"tests\": -46.5}, {\"tests\": -46.8}, {\"tests\": -46.8}, {\"tests\": -47.2}, {\"tests\": -46.2}, {\"tests\": -44.5}, {\"tests\": -45.9}, {\"tests\": -45.5}, {\"tests\": -46.7}, {\"tests\": -45.8}, {\"tests\": -44.9}, {\"tests\": -45.4}, {\"tests\": -44.9}, {\"tests\": -45.6}, {\"tests\": -47.3}, {\"tests\": -45.7}, {\"tests\": -47.1}, {\"tests\": -44.5}, {\"tests\": -45.7}, {\"tests\": -45.7}, {\"tests\": -45.5}, {\"tests\": -46.4}, {\"tests\": -44.5}, {\"tests\": -45.1}, {\"tests\": -45.4}, {\"tests\": -47.0}, {\"tests\": -47.2}, {\"tests\": -48.0}, {\"tests\": -45.1}, {\"tests\": -46.8}, {\"tests\": -46.9}, {\"tests\": -44.1}, {\"tests\": -46.4}, {\"tests\": -45.6}, {\"tests\": -45.6}, {\"tests\": -46.4}, {\"tests\": -46.4}, {\"tests\": -46.1}, {\"tests\": -46.5}, {\"tests\": -44.7}, {\"tests\": -46.5}, {\"tests\": -44.7}, {\"tests\": -46.8}, {\"tests\": -46.0}, {\"tests\": -46.3}, {\"tests\": -46.6}, {\"tests\": -45.1}, {\"tests\": -47.4}, {\"tests\": -45.7}, {\"tests\": -46.1}, {\"tests\": -46.4}, {\"tests\": -46.4}, {\"tests\": -45.0}, {\"tests\": -45.4}, {\"tests\": -46.2}, {\"tests\": -45.6}, {\"tests\": -46.1}, {\"tests\": -46.3}, {\"tests\": -46.3}, {\"tests\": -45.8}, {\"tests\": -46.0}, {\"tests\": -46.0}, {\"tests\": -45.2}, {\"tests\": -45.6}, {\"tests\": -44.9}, {\"tests\": -45.0}, {\"tests\": -45.9}, {\"tests\": -45.7}, {\"tests\": -46.6}, {\"tests\": -45.2}, {\"tests\": -46.2}, {\"tests\": -45.5}, {\"tests\": -45.0}, {\"tests\": -45.9}, {\"tests\": -46.2}, {\"tests\": -45.5}, {\"tests\": -46.2}, {\"tests\": -46.2}, {\"tests\": -44.5}, {\"tests\": -45.6}, {\"tests\": -44.4}, {\"tests\": -45.8}, {\"tests\": -45.7}, {\"tests\": -44.9}, {\"tests\": -46.9}, {\"tests\": -45.8}, {\"tests\": -45.8}, {\"tests\": -45.9}, {\"tests\": -46.1}, {\"tests\": -46.9}, {\"tests\": -45.4}, {\"tests\": -47.0}, {\"tests\": -47.0}, {\"tests\": -45.1}, {\"tests\": -45.6}, {\"tests\": -45.8}, {\"tests\": -44.6}, {\"tests\": -46.5}, {\"tests\": -45.4}, {\"tests\": -45.8}, {\"tests\": -47.1}, {\"tests\": -45.1}, {\"tests\": -46.8}, {\"tests\": -45.6}, {\"tests\": -46.5}, {\"tests\": -48.2}, {\"tests\": -44.8}, {\"tests\": -45.7}, {\"tests\": -46.5}, {\"tests\": -45.8}, {\"tests\": -46.8}, {\"tests\": -45.6}, {\"tests\": -44.5}, {\"tests\": -47.6}, {\"tests\": -46.9}, {\"tests\": -45.4}, {\"tests\": -46.7}, {\"tests\": -45.1}, {\"tests\": -46.4}, {\"tests\": -44.6}, {\"tests\": -46.4}, {\"tests\": -45.8}, {\"tests\": -46.4}, {\"tests\": -47.2}, {\"tests\": -46.1}, {\"tests\": -46.5}, {\"tests\": -47.3}, {\"tests\": -46.8}, {\"tests\": -45.4}, {\"tests\": -45.1}, {\"tests\": -46.8}, {\"tests\": -48.0}, {\"tests\": -47.0}, {\"tests\": -45.8}, {\"tests\": -45.1}, {\"tests\": -46.2}, {\"tests\": -47.0}, {\"tests\": -46.7}, {\"tests\": -45.1}, {\"tests\": -46.7}, {\"tests\": -46.6}, {\"tests\": -47.2}, {\"tests\": -46.3}, {\"tests\": -47.4}, {\"tests\": -47.2}, {\"tests\": -45.9}, {\"tests\": -45.2}, {\"tests\": -45.9}, {\"tests\": -46.2}, {\"tests\": -46.7}, {\"tests\": -47.7}, {\"tests\": -45.7}, {\"tests\": -47.4}, {\"tests\": -45.5}, {\"tests\": -46.4}, {\"tests\": -45.4}, {\"tests\": -45.6}, {\"tests\": -44.7}, {\"tests\": -46.7}, {\"tests\": -46.1}, {\"tests\": -45.3}, {\"tests\": -45.1}, {\"tests\": -44.4}, {\"tests\": -44.9}, {\"tests\": -46.7}, {\"tests\": -45.0}, {\"tests\": -45.5}, {\"tests\": -46.9}, {\"tests\": -46.4}, {\"tests\": -46.3}, {\"tests\": -45.4}, {\"tests\": -45.9}, {\"tests\": -46.2}, {\"tests\": -45.0}, {\"tests\": -44.7}, {\"tests\": -46.6}, {\"tests\": -46.0}, {\"tests\": -45.8}, {\"tests\": -43.9}, {\"tests\": -46.8}, {\"tests\": -45.3}, {\"tests\": -46.3}, {\"tests\": -46.6}, {\"tests\": -46.2}, {\"tests\": -46.1}, {\"tests\": -46.0}, {\"tests\": -45.4}, {\"tests\": -46.7}, {\"tests\": -46.0}, {\"tests\": -46.5}, {\"tests\": -47.3}, {\"tests\": -45.4}, {\"tests\": -45.2}, {\"tests\": -46.7}, {\"tests\": -45.0}, {\"tests\": -46.9}, {\"tests\": -47.1}, {\"tests\": -45.1}, {\"tests\": -45.5}, {\"tests\": -46.3}, {\"tests\": -45.2}, {\"tests\": -45.1}, {\"tests\": -44.9}, {\"tests\": -47.0}, {\"tests\": -45.9}, {\"tests\": -45.5}, {\"tests\": -44.0}, {\"tests\": -46.8}, {\"tests\": -46.4}, {\"tests\": -44.4}, {\"tests\": -45.1}, {\"tests\": -46.2}, {\"tests\": -46.8}, {\"tests\": -45.6}, {\"tests\": -46.4}, {\"tests\": -46.7}, {\"tests\": -46.7}, {\"tests\": -46.5}, {\"tests\": -46.8}, {\"tests\": -45.1}, {\"tests\": -46.5}, {\"tests\": -45.9}, {\"tests\": -45.5}, {\"tests\": -44.9}, {\"tests\": -45.3}, {\"tests\": -46.4}, {\"tests\": -46.6}, {\"tests\": -46.1}, {\"tests\": -44.8}, {\"tests\": -44.9}, {\"tests\": -45.2}, {\"tests\": -45.2}, {\"tests\": -45.2}, {\"tests\": -46.4}, {\"tests\": -47.3}, {\"tests\": -46.8}, {\"tests\": -46.5}, {\"tests\": -47.7}, {\"tests\": -46.2}, {\"tests\": -45.5}, {\"tests\": -45.8}, {\"tests\": -46.6}, {\"tests\": -45.6}, {\"tests\": -45.6}, {\"tests\": -45.4}, {\"tests\": -44.2}, {\"tests\": -45.6}, {\"tests\": -45.8}, {\"tests\": -45.7}, {\"tests\": -45.1}, {\"tests\": -46.4}, {\"tests\": -45.0}, {\"tests\": -45.5}, {\"tests\": -46.1}, {\"tests\": -46.5}, {\"tests\": -44.3}, {\"tests\": -46.9}, {\"tests\": -45.9}, {\"tests\": -45.7}, {\"tests\": -44.9}, {\"tests\": -46.9}, {\"tests\": -46.7}, {\"tests\": -46.6}, {\"tests\": -46.3}, {\"tests\": -46.7}, {\"tests\": -46.3}, {\"tests\": -44.7}, {\"tests\": -45.1}, {\"tests\": -45.2}, {\"tests\": -47.7}, {\"tests\": -46.5}, {\"tests\": -45.2}, {\"tests\": -46.5}, {\"tests\": -46.1}, {\"tests\": -45.4}, {\"tests\": -44.8}, {\"tests\": -45.3}, {\"tests\": -46.4}, {\"tests\": -45.5}, {\"tests\": -45.1}, {\"tests\": -46.1}, {\"tests\": -45.6}, {\"tests\": -46.0}, {\"tests\": -46.0}, {\"tests\": -46.4}, {\"tests\": -47.7}, {\"tests\": -44.9}, {\"tests\": -45.9}, {\"tests\": -46.2}, {\"tests\": -44.6}, {\"tests\": -45.9}, {\"tests\": -45.5}, {\"tests\": -45.6}, {\"tests\": -46.2}, {\"tests\": -45.1}, {\"tests\": -47.1}, {\"tests\": -46.9}, {\"tests\": -46.9}, {\"tests\": -45.3}, {\"tests\": -46.4}, {\"tests\": -47.2}, {\"tests\": -45.3}, {\"tests\": -46.9}, {\"tests\": -46.2}, {\"tests\": -46.2}, {\"tests\": -45.9}, {\"tests\": -45.6}, {\"tests\": -46.9}, {\"tests\": -46.8}, {\"tests\": -45.8}, {\"tests\": -46.2}, {\"tests\": -45.8}, {\"tests\": -45.5}, {\"tests\": -45.8}, {\"tests\": -45.7}, {\"tests\": -45.9}, {\"tests\": -45.4}, {\"tests\": -46.1}, {\"tests\": -46.2}, {\"tests\": -46.6}, {\"tests\": -45.2}, {\"tests\": -44.5}, {\"tests\": -45.2}, {\"tests\": -45.0}, {\"tests\": -45.4}, {\"tests\": -45.9}, {\"tests\": -46.3}, {\"tests\": -44.6}, {\"tests\": -45.3}, {\"tests\": -47.3}, {\"tests\": -45.3}, {\"tests\": -45.5}, {\"tests\": -45.8}, {\"tests\": -47.1}, {\"tests\": -45.9}, {\"tests\": -45.9}, {\"tests\": -45.6}, {\"tests\": -45.2}, {\"tests\": -45.7}, {\"tests\": -47.0}, {\"tests\": -45.8}, {\"tests\": -47.4}, {\"tests\": -47.4}, {\"tests\": -48.0}, {\"tests\": -46.4}, {\"tests\": -47.4}, {\"tests\": -44.6}, {\"tests\": -45.9}, {\"tests\": -45.5}, {\"tests\": -45.4}, {\"tests\": -47.0}, {\"tests\": -45.6}, {\"tests\": -44.9}, {\"tests\": -46.7}, {\"tests\": -45.5}, {\"tests\": -47.2}, {\"tests\": -45.6}, {\"tests\": -47.5}, {\"tests\": -45.8}, {\"tests\": -45.5}, {\"tests\": -45.5}, {\"tests\": -46.2}, {\"tests\": -46.0}, {\"tests\": -47.0}, {\"tests\": -44.9}, {\"tests\": -45.7}, {\"tests\": -44.8}, {\"tests\": -45.6}, {\"tests\": -45.8}, {\"tests\": -46.8}, {\"tests\": -46.8}, {\"tests\": -45.8}, {\"tests\": -46.7}, {\"tests\": -46.1}, {\"tests\": -45.9}, {\"tests\": -45.7}, {\"tests\": -46.4}, {\"tests\": -45.3}, {\"tests\": -47.4}, {\"tests\": -48.3}, {\"tests\": -45.2}, {\"tests\": -46.1}, {\"tests\": -45.9}, {\"tests\": -44.3}, {\"tests\": -46.6}, {\"tests\": -45.4}, {\"tests\": -45.9}, {\"tests\": -45.6}, {\"tests\": -46.6}, {\"tests\": -45.8}, {\"tests\": -45.1}, {\"tests\": -47.4}, {\"tests\": -46.2}, {\"tests\": -44.7}, {\"tests\": -46.6}, {\"tests\": -45.6}, {\"tests\": -46.9}, {\"tests\": -45.4}, {\"tests\": -45.2}, {\"tests\": -45.8}, {\"tests\": -46.4}, {\"tests\": -47.0}, {\"tests\": -47.0}, {\"tests\": -45.9}, {\"tests\": -45.3}, {\"tests\": -46.4}, {\"tests\": -45.3}, {\"tests\": -46.2}, {\"tests\": -46.1}, {\"tests\": -45.4}, {\"tests\": -45.6}, {\"tests\": -45.0}, {\"tests\": -46.2}, {\"tests\": -47.0}, {\"tests\": -46.5}, {\"tests\": -45.0}, {\"tests\": -45.5}, {\"tests\": -45.8}, {\"tests\": -46.2}, {\"tests\": -47.4}, {\"tests\": -46.1}, {\"tests\": -46.6}, {\"tests\": -46.0}, {\"tests\": -44.5}, {\"tests\": -46.1}, {\"tests\": -46.2}, {\"tests\": -47.4}, {\"tests\": -46.2}, {\"tests\": -45.7}, {\"tests\": -46.1}, {\"tests\": -47.0}, {\"tests\": -45.4}, {\"tests\": -46.2}, {\"tests\": -45.5}, {\"tests\": -45.8}, {\"tests\": -46.7}, {\"tests\": -46.3}, {\"tests\": -45.9}, {\"tests\": -46.0}, {\"tests\": -47.4}, {\"tests\": -45.0}, {\"tests\": -45.8}, {\"tests\": -45.9}, {\"tests\": -46.6}, {\"tests\": -46.5}, {\"tests\": -46.1}, {\"tests\": -46.7}, {\"tests\": -45.9}, {\"tests\": -45.9}, {\"tests\": -45.7}, {\"tests\": -45.0}, {\"tests\": -44.7}, {\"tests\": -45.5}, {\"tests\": -45.2}, {\"tests\": -46.3}, {\"tests\": -45.7}, {\"tests\": -46.5}, {\"tests\": -45.9}, {\"tests\": -46.0}, {\"tests\": -46.6}, {\"tests\": -46.1}, {\"tests\": -45.6}, {\"tests\": -45.6}, {\"tests\": -45.7}, {\"tests\": -45.5}, {\"tests\": -45.1}, {\"tests\": -46.7}, {\"tests\": -46.7}, {\"tests\": -46.1}, {\"tests\": -45.8}, {\"tests\": -46.4}, {\"tests\": -46.0}, {\"tests\": -45.1}, {\"tests\": -47.1}, {\"tests\": -46.5}, {\"tests\": -46.2}, {\"tests\": -45.6}, {\"tests\": -44.9}, {\"tests\": -46.6}, {\"tests\": -47.3}, {\"tests\": -46.2}, {\"tests\": -46.8}, {\"tests\": -46.2}, {\"tests\": -45.0}, {\"tests\": -46.1}, {\"tests\": -46.7}, {\"tests\": -45.4}, {\"tests\": -45.8}, {\"tests\": -45.9}, {\"tests\": -46.2}, {\"tests\": -46.7}, {\"tests\": -46.5}, {\"tests\": -45.9}, {\"tests\": -45.7}, {\"tests\": -46.2}, {\"tests\": -45.6}, {\"tests\": -45.6}, {\"tests\": -45.9}, {\"tests\": -45.4}, {\"tests\": -46.1}, {\"tests\": -46.3}, {\"tests\": -45.1}, {\"tests\": -45.7}, {\"tests\": -45.5}, {\"tests\": -45.9}, {\"tests\": -47.3}, {\"tests\": -45.1}, {\"tests\": -46.8}, {\"tests\": -46.8}, {\"tests\": -45.6}, {\"tests\": -46.2}, {\"tests\": -45.8}, {\"tests\": -45.8}, {\"tests\": -45.7}, {\"tests\": -46.9}, {\"tests\": -46.0}, {\"tests\": -46.2}, {\"tests\": -46.4}, {\"tests\": -46.0}, {\"tests\": -46.4}, {\"tests\": -46.5}, {\"tests\": -45.6}, {\"tests\": -45.9}, {\"tests\": -46.9}, {\"tests\": -46.9}, {\"tests\": -44.9}, {\"tests\": -44.7}, {\"tests\": -44.9}, {\"tests\": -45.5}, {\"tests\": -45.1}, {\"tests\": -45.4}, {\"tests\": -48.0}]}}, {\"mode\": \"vega-lite\"});\n",
       "</script>"
      ],
      "text/plain": [
       "alt.LayerChart(...)"
      ]
     },
     "execution_count": 224,
     "metadata": {},
     "output_type": "execute_result"
    }
   ],
   "source": [
    "b_10k_5k = NPS_bootstrap(responses_10k, 5000)\n",
    "print(CI_95(b_10k_5k))\n",
    "NPS_density(b_10k_5k)"
   ]
  },
  {
   "cell_type": "code",
   "execution_count": 231,
   "metadata": {},
   "outputs": [
    {
     "data": {
      "text/plain": [
       "[-47.3, -44.7, 2.6]"
      ]
     },
     "execution_count": 231,
     "metadata": {},
     "output_type": "execute_result"
    }
   ],
   "source": [
    "CI_95(b_10k_5k)"
   ]
  },
  {
   "cell_type": "code",
   "execution_count": 241,
   "metadata": {},
   "outputs": [
    {
     "name": "stdout",
     "output_type": "stream",
     "text": [
      "[-47.3, -44.8, 2.5]\n"
     ]
    },
    {
     "data": {
      "text/html": [
       "\n",
       "<style>\n",
       "  #altair-viz-d4899d9b385b4b11a4681258280280e3.vega-embed {\n",
       "    width: 100%;\n",
       "    display: flex;\n",
       "  }\n",
       "\n",
       "  #altair-viz-d4899d9b385b4b11a4681258280280e3.vega-embed details,\n",
       "  #altair-viz-d4899d9b385b4b11a4681258280280e3.vega-embed details summary {\n",
       "    position: relative;\n",
       "  }\n",
       "</style>\n",
       "<div id=\"altair-viz-d4899d9b385b4b11a4681258280280e3\"></div>\n",
       "<script type=\"text/javascript\">\n",
       "  var VEGA_DEBUG = (typeof VEGA_DEBUG == \"undefined\") ? {} : VEGA_DEBUG;\n",
       "  (function(spec, embedOpt){\n",
       "    let outputDiv = document.currentScript.previousElementSibling;\n",
       "    if (outputDiv.id !== \"altair-viz-d4899d9b385b4b11a4681258280280e3\") {\n",
       "      outputDiv = document.getElementById(\"altair-viz-d4899d9b385b4b11a4681258280280e3\");\n",
       "    }\n",
       "    const paths = {\n",
       "      \"vega\": \"https://cdn.jsdelivr.net/npm/vega@5?noext\",\n",
       "      \"vega-lib\": \"https://cdn.jsdelivr.net/npm/vega-lib?noext\",\n",
       "      \"vega-lite\": \"https://cdn.jsdelivr.net/npm/vega-lite@5.16.3?noext\",\n",
       "      \"vega-embed\": \"https://cdn.jsdelivr.net/npm/vega-embed@6?noext\",\n",
       "    };\n",
       "\n",
       "    function maybeLoadScript(lib, version) {\n",
       "      var key = `${lib.replace(\"-\", \"\")}_version`;\n",
       "      return (VEGA_DEBUG[key] == version) ?\n",
       "        Promise.resolve(paths[lib]) :\n",
       "        new Promise(function(resolve, reject) {\n",
       "          var s = document.createElement('script');\n",
       "          document.getElementsByTagName(\"head\")[0].appendChild(s);\n",
       "          s.async = true;\n",
       "          s.onload = () => {\n",
       "            VEGA_DEBUG[key] = version;\n",
       "            return resolve(paths[lib]);\n",
       "          };\n",
       "          s.onerror = () => reject(`Error loading script: ${paths[lib]}`);\n",
       "          s.src = paths[lib];\n",
       "        });\n",
       "    }\n",
       "\n",
       "    function showError(err) {\n",
       "      outputDiv.innerHTML = `<div class=\"error\" style=\"color:red;\">${err}</div>`;\n",
       "      throw err;\n",
       "    }\n",
       "\n",
       "    function displayChart(vegaEmbed) {\n",
       "      vegaEmbed(outputDiv, spec, embedOpt)\n",
       "        .catch(err => showError(`Javascript Error: ${err.message}<br>This usually means there's a typo in your chart specification. See the javascript console for the full traceback.`));\n",
       "    }\n",
       "\n",
       "    if(typeof define === \"function\" && define.amd) {\n",
       "      requirejs.config({paths});\n",
       "      require([\"vega-embed\"], displayChart, err => showError(`Error loading script: ${err.message}`));\n",
       "    } else {\n",
       "      maybeLoadScript(\"vega\", \"5\")\n",
       "        .then(() => maybeLoadScript(\"vega-lite\", \"5.16.3\"))\n",
       "        .then(() => maybeLoadScript(\"vega-embed\", \"6\"))\n",
       "        .catch(showError)\n",
       "        .then(() => displayChart(vegaEmbed));\n",
       "    }\n",
       "  })({\"config\": {\"view\": {\"continuousWidth\": 300, \"continuousHeight\": 300}}, \"layer\": [{\"mark\": {\"type\": \"area\", \"color\": \"lightgray\"}, \"encoding\": {\"x\": {\"axis\": {\"title\": \"Population Distribution of Pickups\"}, \"field\": \"tests\", \"scale\": {\"domain\": [-58.3, -33.5]}, \"type\": \"quantitative\"}, \"y\": {\"axis\": {\"title\": \"Density\"}, \"field\": \"density\", \"type\": \"quantitative\"}}, \"transform\": [{\"density\": \"tests\", \"as\": [\"tests\", \"density\"]}]}, {\"mark\": {\"type\": \"rule\", \"color\": \"black\", \"strokeDash\": [1, 1]}, \"encoding\": {\"x\": {\"aggregate\": \"mean\", \"field\": \"tests\", \"type\": \"quantitative\"}}}], \"data\": {\"name\": \"data-10ebbec1c068ae97efbd987d8fee8f9a\"}, \"$schema\": \"https://vega.github.io/schema/vega-lite/v5.16.3.json\", \"datasets\": {\"data-10ebbec1c068ae97efbd987d8fee8f9a\": [{\"tests\": -46.7}, {\"tests\": -44.4}, {\"tests\": -46.8}, {\"tests\": -46.6}, {\"tests\": -46.8}, {\"tests\": -45.3}, {\"tests\": -45.8}, {\"tests\": -46.4}, {\"tests\": -45.7}, {\"tests\": -46.6}, {\"tests\": -46.3}, {\"tests\": -45.5}, {\"tests\": -46.2}, {\"tests\": -46.3}, {\"tests\": -45.8}, {\"tests\": -45.1}, {\"tests\": -45.3}, {\"tests\": -45.4}, {\"tests\": -46.4}, {\"tests\": -46.0}, {\"tests\": -46.6}, {\"tests\": -45.5}, {\"tests\": -47.4}, {\"tests\": -46.2}, {\"tests\": -46.0}, {\"tests\": -46.2}, {\"tests\": -47.3}, {\"tests\": -46.8}, {\"tests\": -45.8}, {\"tests\": -45.8}, {\"tests\": -48.1}, {\"tests\": -45.9}, {\"tests\": -47.6}, {\"tests\": -45.7}, {\"tests\": -46.5}, {\"tests\": -46.2}, {\"tests\": -47.0}, {\"tests\": -46.5}, {\"tests\": -47.3}, {\"tests\": -46.4}, {\"tests\": -47.2}, {\"tests\": -45.9}, {\"tests\": -45.5}, {\"tests\": -46.8}, {\"tests\": -46.7}, {\"tests\": -45.8}, {\"tests\": -46.2}, {\"tests\": -45.1}, {\"tests\": -47.0}, {\"tests\": -46.2}, {\"tests\": -46.1}, {\"tests\": -45.0}, {\"tests\": -44.6}, {\"tests\": -46.3}, {\"tests\": -46.7}, {\"tests\": -48.1}, {\"tests\": -45.7}, {\"tests\": -43.8}, {\"tests\": -46.6}, {\"tests\": -46.7}, {\"tests\": -44.1}, {\"tests\": -46.1}, {\"tests\": -46.4}, {\"tests\": -46.3}, {\"tests\": -45.8}, {\"tests\": -45.3}, {\"tests\": -45.7}, {\"tests\": -46.9}, {\"tests\": -46.7}, {\"tests\": -46.4}, {\"tests\": -47.0}, {\"tests\": -45.4}, {\"tests\": -46.2}, {\"tests\": -47.0}, {\"tests\": -45.4}, {\"tests\": -45.9}, {\"tests\": -45.7}, {\"tests\": -47.0}, {\"tests\": -47.1}, {\"tests\": -46.0}, {\"tests\": -45.6}, {\"tests\": -45.9}, {\"tests\": -47.5}, {\"tests\": -46.3}, {\"tests\": -47.1}, {\"tests\": -45.2}, {\"tests\": -46.1}, {\"tests\": -47.2}, {\"tests\": -45.5}, {\"tests\": -46.1}, {\"tests\": -46.0}, {\"tests\": -46.1}, {\"tests\": -45.7}, {\"tests\": -45.5}, {\"tests\": -46.2}, {\"tests\": -46.3}, {\"tests\": -44.0}, {\"tests\": -45.5}, {\"tests\": -46.6}, {\"tests\": -46.5}, {\"tests\": -45.9}, {\"tests\": -45.6}, {\"tests\": -45.0}, {\"tests\": -44.8}, {\"tests\": -44.5}, {\"tests\": -46.0}, {\"tests\": -45.3}, {\"tests\": -44.7}, {\"tests\": -46.3}, {\"tests\": -46.4}, {\"tests\": -45.4}, {\"tests\": -46.2}, {\"tests\": -45.0}, {\"tests\": -46.4}, {\"tests\": -46.5}, {\"tests\": -45.9}, {\"tests\": -45.6}, {\"tests\": -45.3}, {\"tests\": -45.2}, {\"tests\": -45.5}, {\"tests\": -47.6}, {\"tests\": -47.0}, {\"tests\": -46.7}, {\"tests\": -47.0}, {\"tests\": -47.4}, {\"tests\": -45.6}, {\"tests\": -47.4}, {\"tests\": -46.1}, {\"tests\": -45.9}, {\"tests\": -45.3}, {\"tests\": -46.3}, {\"tests\": -45.5}, {\"tests\": -46.3}, {\"tests\": -47.0}, {\"tests\": -46.2}, {\"tests\": -46.9}, {\"tests\": -46.0}, {\"tests\": -44.9}, {\"tests\": -45.3}, {\"tests\": -47.0}, {\"tests\": -45.9}, {\"tests\": -46.5}, {\"tests\": -45.7}, {\"tests\": -46.5}, {\"tests\": -47.6}, {\"tests\": -45.5}, {\"tests\": -45.5}, {\"tests\": -47.0}, {\"tests\": -46.7}, {\"tests\": -44.9}, {\"tests\": -46.2}, {\"tests\": -47.4}, {\"tests\": -47.2}, {\"tests\": -44.4}, {\"tests\": -46.2}, {\"tests\": -45.5}, {\"tests\": -45.6}, {\"tests\": -45.0}, {\"tests\": -48.0}, {\"tests\": -47.1}, {\"tests\": -45.8}, {\"tests\": -46.6}, {\"tests\": -43.9}, {\"tests\": -46.2}, {\"tests\": -46.2}, {\"tests\": -44.6}, {\"tests\": -46.3}, {\"tests\": -45.2}, {\"tests\": -46.1}, {\"tests\": -45.5}, {\"tests\": -46.4}, {\"tests\": -45.7}, {\"tests\": -46.7}, {\"tests\": -44.8}, {\"tests\": -46.2}, {\"tests\": -46.1}, {\"tests\": -46.8}, {\"tests\": -45.5}, {\"tests\": -45.2}, {\"tests\": -46.5}, {\"tests\": -45.6}, {\"tests\": -46.1}, {\"tests\": -44.6}, {\"tests\": -45.3}, {\"tests\": -45.8}, {\"tests\": -45.5}, {\"tests\": -48.1}, {\"tests\": -46.4}, {\"tests\": -46.6}, {\"tests\": -45.6}, {\"tests\": -47.5}, {\"tests\": -46.0}, {\"tests\": -44.4}, {\"tests\": -45.3}, {\"tests\": -45.8}, {\"tests\": -47.3}, {\"tests\": -46.4}, {\"tests\": -47.3}, {\"tests\": -45.1}, {\"tests\": -46.5}, {\"tests\": -46.1}, {\"tests\": -46.8}, {\"tests\": -44.3}, {\"tests\": -44.2}, {\"tests\": -46.2}, {\"tests\": -45.4}, {\"tests\": -46.3}, {\"tests\": -45.7}, {\"tests\": -47.1}, {\"tests\": -46.5}, {\"tests\": -45.9}, {\"tests\": -45.2}, {\"tests\": -47.5}, {\"tests\": -45.6}, {\"tests\": -45.5}, {\"tests\": -47.4}, {\"tests\": -46.0}, {\"tests\": -47.0}, {\"tests\": -45.5}, {\"tests\": -46.6}, {\"tests\": -45.3}, {\"tests\": -45.9}, {\"tests\": -45.7}, {\"tests\": -44.6}, {\"tests\": -45.6}, {\"tests\": -44.3}, {\"tests\": -44.7}, {\"tests\": -44.7}, {\"tests\": -46.3}, {\"tests\": -45.0}, {\"tests\": -46.2}, {\"tests\": -46.5}, {\"tests\": -46.8}, {\"tests\": -47.4}, {\"tests\": -46.0}, {\"tests\": -45.3}, {\"tests\": -45.2}, {\"tests\": -46.7}, {\"tests\": -46.4}, {\"tests\": -45.3}, {\"tests\": -45.9}, {\"tests\": -44.8}, {\"tests\": -46.8}, {\"tests\": -47.8}, {\"tests\": -46.9}, {\"tests\": -46.3}, {\"tests\": -46.3}, {\"tests\": -45.2}, {\"tests\": -46.5}, {\"tests\": -46.1}, {\"tests\": -44.9}, {\"tests\": -48.2}, {\"tests\": -47.2}, {\"tests\": -45.8}, {\"tests\": -44.9}, {\"tests\": -45.1}, {\"tests\": -45.7}, {\"tests\": -47.0}, {\"tests\": -46.2}, {\"tests\": -46.6}, {\"tests\": -46.2}, {\"tests\": -44.9}, {\"tests\": -44.5}, {\"tests\": -47.3}, {\"tests\": -46.4}, {\"tests\": -45.2}, {\"tests\": -45.6}, {\"tests\": -45.5}, {\"tests\": -48.3}, {\"tests\": -47.1}, {\"tests\": -45.3}, {\"tests\": -45.7}, {\"tests\": -45.4}, {\"tests\": -45.7}, {\"tests\": -45.1}, {\"tests\": -47.0}, {\"tests\": -45.8}, {\"tests\": -45.7}, {\"tests\": -45.5}, {\"tests\": -46.6}, {\"tests\": -45.6}, {\"tests\": -46.7}, {\"tests\": -46.7}, {\"tests\": -46.2}, {\"tests\": -44.9}, {\"tests\": -45.4}, {\"tests\": -46.8}, {\"tests\": -46.1}, {\"tests\": -45.2}, {\"tests\": -45.4}, {\"tests\": -45.9}, {\"tests\": -45.6}, {\"tests\": -47.0}, {\"tests\": -45.9}, {\"tests\": -45.9}, {\"tests\": -47.0}, {\"tests\": -44.2}, {\"tests\": -46.5}, {\"tests\": -45.4}, {\"tests\": -45.3}, {\"tests\": -45.8}, {\"tests\": -46.9}, {\"tests\": -46.4}, {\"tests\": -45.9}, {\"tests\": -47.2}, {\"tests\": -46.0}, {\"tests\": -46.1}, {\"tests\": -46.6}, {\"tests\": -46.3}, {\"tests\": -46.3}, {\"tests\": -45.2}, {\"tests\": -45.8}, {\"tests\": -45.5}, {\"tests\": -45.4}, {\"tests\": -47.2}, {\"tests\": -45.5}, {\"tests\": -46.1}, {\"tests\": -46.1}, {\"tests\": -46.0}, {\"tests\": -47.4}, {\"tests\": -46.3}, {\"tests\": -45.6}, {\"tests\": -46.2}, {\"tests\": -45.8}, {\"tests\": -45.1}, {\"tests\": -45.8}, {\"tests\": -45.3}, {\"tests\": -46.8}, {\"tests\": -45.8}, {\"tests\": -46.4}, {\"tests\": -45.4}, {\"tests\": -45.9}, {\"tests\": -46.0}, {\"tests\": -45.9}, {\"tests\": -45.2}, {\"tests\": -45.2}, {\"tests\": -46.6}, {\"tests\": -46.3}, {\"tests\": -44.4}, {\"tests\": -45.9}, {\"tests\": -46.1}, {\"tests\": -46.6}, {\"tests\": -45.3}, {\"tests\": -45.3}, {\"tests\": -46.3}, {\"tests\": -46.1}, {\"tests\": -47.0}, {\"tests\": -45.6}, {\"tests\": -46.4}, {\"tests\": -46.3}, {\"tests\": -44.2}, {\"tests\": -46.2}, {\"tests\": -46.0}, {\"tests\": -46.4}, {\"tests\": -45.2}, {\"tests\": -45.4}, {\"tests\": -46.5}, {\"tests\": -45.6}, {\"tests\": -46.9}, {\"tests\": -46.0}, {\"tests\": -46.9}, {\"tests\": -45.7}, {\"tests\": -46.2}, {\"tests\": -44.1}, {\"tests\": -46.2}, {\"tests\": -45.8}, {\"tests\": -46.2}, {\"tests\": -45.8}, {\"tests\": -46.4}, {\"tests\": -45.6}, {\"tests\": -46.4}, {\"tests\": -45.9}, {\"tests\": -46.1}, {\"tests\": -45.8}, {\"tests\": -47.0}, {\"tests\": -46.2}, {\"tests\": -46.7}, {\"tests\": -45.3}, {\"tests\": -45.0}, {\"tests\": -46.8}, {\"tests\": -46.4}, {\"tests\": -46.0}, {\"tests\": -45.6}, {\"tests\": -43.8}, {\"tests\": -46.2}, {\"tests\": -46.0}, {\"tests\": -46.6}, {\"tests\": -45.3}, {\"tests\": -45.9}, {\"tests\": -45.7}, {\"tests\": -46.0}, {\"tests\": -47.5}, {\"tests\": -46.4}, {\"tests\": -45.5}, {\"tests\": -45.0}, {\"tests\": -46.8}, {\"tests\": -46.2}, {\"tests\": -45.2}, {\"tests\": -45.7}, {\"tests\": -45.4}, {\"tests\": -45.3}, {\"tests\": -46.4}, {\"tests\": -47.6}, {\"tests\": -45.1}, {\"tests\": -45.1}, {\"tests\": -45.5}, {\"tests\": -46.6}, {\"tests\": -46.7}, {\"tests\": -45.8}, {\"tests\": -46.4}, {\"tests\": -45.5}, {\"tests\": -45.9}, {\"tests\": -44.7}, {\"tests\": -45.8}, {\"tests\": -45.5}, {\"tests\": -47.1}, {\"tests\": -46.2}, {\"tests\": -45.3}, {\"tests\": -46.1}, {\"tests\": -45.2}, {\"tests\": -46.1}, {\"tests\": -44.9}, {\"tests\": -45.7}, {\"tests\": -45.3}, {\"tests\": -45.7}, {\"tests\": -46.1}, {\"tests\": -46.9}, {\"tests\": -45.9}, {\"tests\": -45.1}, {\"tests\": -46.8}, {\"tests\": -45.3}, {\"tests\": -45.6}, {\"tests\": -46.6}, {\"tests\": -45.9}, {\"tests\": -45.8}, {\"tests\": -44.9}, {\"tests\": -46.1}, {\"tests\": -46.0}, {\"tests\": -45.7}, {\"tests\": -45.1}, {\"tests\": -45.4}, {\"tests\": -45.6}, {\"tests\": -45.7}, {\"tests\": -46.9}, {\"tests\": -45.6}, {\"tests\": -45.1}, {\"tests\": -44.5}, {\"tests\": -45.4}, {\"tests\": -46.1}, {\"tests\": -45.7}, {\"tests\": -47.3}, {\"tests\": -46.0}, {\"tests\": -46.0}, {\"tests\": -46.6}, {\"tests\": -46.1}, {\"tests\": -44.9}, {\"tests\": -45.7}, {\"tests\": -45.9}, {\"tests\": -46.2}, {\"tests\": -46.1}, {\"tests\": -47.6}, {\"tests\": -45.2}, {\"tests\": -46.4}, {\"tests\": -45.0}, {\"tests\": -46.5}, {\"tests\": -44.7}, {\"tests\": -44.8}, {\"tests\": -45.7}, {\"tests\": -47.0}, {\"tests\": -45.2}, {\"tests\": -46.9}, {\"tests\": -46.3}, {\"tests\": -46.0}, {\"tests\": -46.4}, {\"tests\": -46.1}, {\"tests\": -46.1}, {\"tests\": -46.2}, {\"tests\": -47.5}, {\"tests\": -46.9}, {\"tests\": -44.5}, {\"tests\": -44.9}, {\"tests\": -45.1}, {\"tests\": -45.5}, {\"tests\": -46.1}, {\"tests\": -46.8}, {\"tests\": -47.5}, {\"tests\": -45.4}, {\"tests\": -45.5}, {\"tests\": -47.0}, {\"tests\": -46.1}, {\"tests\": -45.8}, {\"tests\": -45.6}, {\"tests\": -46.7}, {\"tests\": -46.9}, {\"tests\": -45.3}, {\"tests\": -46.0}, {\"tests\": -47.0}, {\"tests\": -46.4}, {\"tests\": -46.8}, {\"tests\": -48.3}, {\"tests\": -46.0}, {\"tests\": -47.4}, {\"tests\": -45.8}, {\"tests\": -47.0}, {\"tests\": -46.1}, {\"tests\": -46.1}, {\"tests\": -44.7}, {\"tests\": -47.4}, {\"tests\": -46.3}, {\"tests\": -45.2}, {\"tests\": -46.8}, {\"tests\": -45.6}, {\"tests\": -46.6}, {\"tests\": -47.4}, {\"tests\": -46.3}, {\"tests\": -45.1}, {\"tests\": -45.6}, {\"tests\": -46.0}, {\"tests\": -46.5}, {\"tests\": -46.4}, {\"tests\": -44.8}, {\"tests\": -46.1}, {\"tests\": -46.0}, {\"tests\": -45.6}, {\"tests\": -46.0}, {\"tests\": -46.9}, {\"tests\": -46.5}, {\"tests\": -45.8}, {\"tests\": -44.9}, {\"tests\": -46.8}, {\"tests\": -43.8}, {\"tests\": -46.4}, {\"tests\": -44.9}, {\"tests\": -45.6}, {\"tests\": -45.9}, {\"tests\": -46.9}, {\"tests\": -47.1}, {\"tests\": -47.2}, {\"tests\": -46.3}, {\"tests\": -47.1}, {\"tests\": -47.0}, {\"tests\": -45.5}, {\"tests\": -45.2}, {\"tests\": -44.9}, {\"tests\": -46.1}, {\"tests\": -45.3}, {\"tests\": -47.0}, {\"tests\": -46.4}, {\"tests\": -46.2}, {\"tests\": -46.0}, {\"tests\": -45.7}, {\"tests\": -45.0}, {\"tests\": -46.7}, {\"tests\": -46.6}, {\"tests\": -45.4}, {\"tests\": -45.5}, {\"tests\": -45.4}, {\"tests\": -46.4}, {\"tests\": -44.8}, {\"tests\": -45.3}, {\"tests\": -46.4}, {\"tests\": -45.7}, {\"tests\": -45.7}, {\"tests\": -46.8}, {\"tests\": -47.7}, {\"tests\": -45.8}, {\"tests\": -45.0}, {\"tests\": -45.9}, {\"tests\": -45.7}, {\"tests\": -46.4}, {\"tests\": -46.9}, {\"tests\": -46.0}, {\"tests\": -46.1}, {\"tests\": -46.6}, {\"tests\": -45.3}, {\"tests\": -46.2}, {\"tests\": -46.1}, {\"tests\": -46.4}, {\"tests\": -47.4}, {\"tests\": -45.0}, {\"tests\": -45.6}, {\"tests\": -45.7}, {\"tests\": -47.6}, {\"tests\": -45.4}, {\"tests\": -47.1}, {\"tests\": -47.3}, {\"tests\": -46.8}, {\"tests\": -46.4}, {\"tests\": -44.9}, {\"tests\": -46.1}, {\"tests\": -44.6}, {\"tests\": -45.8}, {\"tests\": -45.8}, {\"tests\": -47.4}, {\"tests\": -46.8}, {\"tests\": -45.9}, {\"tests\": -45.8}, {\"tests\": -45.1}, {\"tests\": -46.7}, {\"tests\": -45.8}, {\"tests\": -46.5}, {\"tests\": -45.9}, {\"tests\": -45.3}, {\"tests\": -45.5}, {\"tests\": -46.2}, {\"tests\": -47.6}, {\"tests\": -47.0}, {\"tests\": -45.7}, {\"tests\": -46.3}, {\"tests\": -46.7}, {\"tests\": -46.2}, {\"tests\": -44.9}, {\"tests\": -46.0}, {\"tests\": -45.4}, {\"tests\": -45.8}, {\"tests\": -45.1}, {\"tests\": -46.7}, {\"tests\": -45.6}, {\"tests\": -47.1}, {\"tests\": -46.1}, {\"tests\": -45.6}, {\"tests\": -45.6}, {\"tests\": -46.2}, {\"tests\": -45.4}, {\"tests\": -47.0}, {\"tests\": -47.3}, {\"tests\": -44.6}, {\"tests\": -45.6}, {\"tests\": -47.1}, {\"tests\": -45.1}, {\"tests\": -44.9}, {\"tests\": -45.9}, {\"tests\": -46.9}, {\"tests\": -46.2}, {\"tests\": -46.3}, {\"tests\": -45.5}, {\"tests\": -47.5}, {\"tests\": -44.5}, {\"tests\": -46.3}, {\"tests\": -45.9}, {\"tests\": -45.8}, {\"tests\": -45.3}, {\"tests\": -44.1}, {\"tests\": -46.1}, {\"tests\": -45.5}, {\"tests\": -44.8}, {\"tests\": -45.3}, {\"tests\": -46.8}, {\"tests\": -44.5}, {\"tests\": -44.3}, {\"tests\": -45.8}, {\"tests\": -45.3}, {\"tests\": -45.6}, {\"tests\": -44.9}, {\"tests\": -46.1}, {\"tests\": -47.2}, {\"tests\": -47.0}, {\"tests\": -46.2}, {\"tests\": -45.4}, {\"tests\": -46.3}, {\"tests\": -44.4}, {\"tests\": -45.5}, {\"tests\": -45.5}, {\"tests\": -46.6}, {\"tests\": -46.1}, {\"tests\": -45.9}, {\"tests\": -44.9}, {\"tests\": -45.5}, {\"tests\": -46.7}, {\"tests\": -46.2}, {\"tests\": -46.1}, {\"tests\": -46.1}, {\"tests\": -45.6}, {\"tests\": -46.0}, {\"tests\": -45.7}, {\"tests\": -46.2}, {\"tests\": -45.5}, {\"tests\": -45.7}, {\"tests\": -46.3}, {\"tests\": -46.3}, {\"tests\": -46.5}, {\"tests\": -46.1}, {\"tests\": -46.8}, {\"tests\": -46.0}, {\"tests\": -43.5}, {\"tests\": -46.2}, {\"tests\": -45.1}, {\"tests\": -44.5}, {\"tests\": -46.4}, {\"tests\": -46.2}, {\"tests\": -44.6}, {\"tests\": -45.2}, {\"tests\": -46.9}, {\"tests\": -46.5}, {\"tests\": -45.5}, {\"tests\": -45.4}, {\"tests\": -45.5}, {\"tests\": -45.6}, {\"tests\": -45.1}, {\"tests\": -47.1}, {\"tests\": -46.7}, {\"tests\": -46.6}, {\"tests\": -46.4}, {\"tests\": -46.8}, {\"tests\": -46.8}, {\"tests\": -45.7}, {\"tests\": -45.9}, {\"tests\": -47.1}, {\"tests\": -45.2}, {\"tests\": -45.3}, {\"tests\": -45.6}, {\"tests\": -45.6}, {\"tests\": -44.8}, {\"tests\": -45.9}, {\"tests\": -46.4}, {\"tests\": -46.2}, {\"tests\": -48.1}, {\"tests\": -45.7}, {\"tests\": -46.2}, {\"tests\": -47.0}, {\"tests\": -47.1}, {\"tests\": -46.6}, {\"tests\": -46.1}, {\"tests\": -45.6}, {\"tests\": -46.1}, {\"tests\": -45.6}, {\"tests\": -45.7}, {\"tests\": -46.5}, {\"tests\": -46.4}, {\"tests\": -46.0}, {\"tests\": -46.1}, {\"tests\": -44.4}, {\"tests\": -45.8}, {\"tests\": -45.0}, {\"tests\": -45.1}, {\"tests\": -45.3}, {\"tests\": -45.9}, {\"tests\": -45.8}, {\"tests\": -45.6}, {\"tests\": -46.0}, {\"tests\": -46.0}, {\"tests\": -46.3}, {\"tests\": -46.5}, {\"tests\": -46.1}, {\"tests\": -44.5}, {\"tests\": -45.1}, {\"tests\": -46.1}, {\"tests\": -44.9}, {\"tests\": -45.6}, {\"tests\": -46.6}, {\"tests\": -45.5}, {\"tests\": -46.0}, {\"tests\": -46.8}, {\"tests\": -45.7}, {\"tests\": -44.9}, {\"tests\": -46.3}, {\"tests\": -45.3}, {\"tests\": -45.9}, {\"tests\": -45.1}, {\"tests\": -45.5}, {\"tests\": -46.2}, {\"tests\": -45.7}, {\"tests\": -46.0}, {\"tests\": -46.3}, {\"tests\": -47.0}, {\"tests\": -45.1}, {\"tests\": -45.4}, {\"tests\": -46.9}, {\"tests\": -47.0}, {\"tests\": -47.0}, {\"tests\": -46.2}, {\"tests\": -46.2}, {\"tests\": -46.0}, {\"tests\": -44.3}, {\"tests\": -45.7}, {\"tests\": -46.2}, {\"tests\": -45.6}, {\"tests\": -47.0}, {\"tests\": -45.8}, {\"tests\": -46.4}, {\"tests\": -45.7}, {\"tests\": -46.4}, {\"tests\": -45.9}, {\"tests\": -46.3}, {\"tests\": -45.1}, {\"tests\": -46.0}, {\"tests\": -46.7}, {\"tests\": -46.4}, {\"tests\": -46.0}, {\"tests\": -46.1}, {\"tests\": -45.4}, {\"tests\": -46.0}, {\"tests\": -46.2}, {\"tests\": -45.5}, {\"tests\": -46.7}, {\"tests\": -46.9}, {\"tests\": -46.4}, {\"tests\": -46.6}, {\"tests\": -45.1}, {\"tests\": -46.5}, {\"tests\": -46.6}, {\"tests\": -45.7}, {\"tests\": -45.2}, {\"tests\": -45.2}, {\"tests\": -44.4}, {\"tests\": -45.8}, {\"tests\": -46.2}, {\"tests\": -45.2}, {\"tests\": -46.1}, {\"tests\": -45.8}, {\"tests\": -45.5}, {\"tests\": -47.9}, {\"tests\": -46.3}, {\"tests\": -47.1}, {\"tests\": -47.0}, {\"tests\": -45.8}, {\"tests\": -46.9}, {\"tests\": -46.4}, {\"tests\": -46.8}, {\"tests\": -46.5}, {\"tests\": -46.9}, {\"tests\": -46.3}, {\"tests\": -46.7}, {\"tests\": -46.6}, {\"tests\": -46.7}, {\"tests\": -45.5}, {\"tests\": -45.9}, {\"tests\": -46.1}, {\"tests\": -46.5}, {\"tests\": -47.9}, {\"tests\": -46.6}, {\"tests\": -47.3}, {\"tests\": -47.1}, {\"tests\": -46.6}, {\"tests\": -45.8}, {\"tests\": -45.8}, {\"tests\": -46.7}, {\"tests\": -47.7}, {\"tests\": -45.5}, {\"tests\": -44.9}, {\"tests\": -46.8}, {\"tests\": -45.1}, {\"tests\": -45.2}, {\"tests\": -45.3}, {\"tests\": -46.2}, {\"tests\": -45.1}, {\"tests\": -46.8}, {\"tests\": -47.4}, {\"tests\": -45.0}, {\"tests\": -44.3}, {\"tests\": -45.9}, {\"tests\": -45.4}, {\"tests\": -46.1}, {\"tests\": -44.4}, {\"tests\": -46.3}, {\"tests\": -45.7}, {\"tests\": -45.8}, {\"tests\": -45.7}, {\"tests\": -45.5}, {\"tests\": -46.0}, {\"tests\": -46.3}, {\"tests\": -45.5}, {\"tests\": -47.0}, {\"tests\": -44.8}, {\"tests\": -46.1}, {\"tests\": -46.0}, {\"tests\": -46.8}, {\"tests\": -46.3}, {\"tests\": -45.9}, {\"tests\": -46.5}, {\"tests\": -45.6}, {\"tests\": -46.2}, {\"tests\": -46.0}, {\"tests\": -46.0}, {\"tests\": -46.3}, {\"tests\": -47.4}, {\"tests\": -44.7}, {\"tests\": -45.6}, {\"tests\": -45.1}, {\"tests\": -45.4}, {\"tests\": -46.6}, {\"tests\": -45.6}, {\"tests\": -46.5}, {\"tests\": -45.9}, {\"tests\": -45.5}, {\"tests\": -46.6}, {\"tests\": -45.5}, {\"tests\": -46.5}, {\"tests\": -45.2}, {\"tests\": -46.8}, {\"tests\": -45.9}, {\"tests\": -46.2}, {\"tests\": -46.0}, {\"tests\": -45.0}, {\"tests\": -45.2}, {\"tests\": -45.4}, {\"tests\": -46.0}, {\"tests\": -45.4}, {\"tests\": -46.4}, {\"tests\": -46.1}, {\"tests\": -47.1}, {\"tests\": -44.9}, {\"tests\": -45.6}, {\"tests\": -45.4}, {\"tests\": -47.0}, {\"tests\": -45.3}, {\"tests\": -46.4}, {\"tests\": -46.1}, {\"tests\": -45.8}, {\"tests\": -46.5}, {\"tests\": -45.4}, {\"tests\": -46.5}, {\"tests\": -45.7}, {\"tests\": -46.1}, {\"tests\": -47.8}, {\"tests\": -46.6}, {\"tests\": -46.2}, {\"tests\": -45.3}, {\"tests\": -46.1}, {\"tests\": -45.6}, {\"tests\": -45.2}, {\"tests\": -45.3}, {\"tests\": -44.9}, {\"tests\": -46.4}, {\"tests\": -46.1}, {\"tests\": -45.3}, {\"tests\": -45.6}, {\"tests\": -45.9}, {\"tests\": -47.1}, {\"tests\": -46.2}, {\"tests\": -46.2}, {\"tests\": -46.1}, {\"tests\": -45.8}, {\"tests\": -45.7}, {\"tests\": -47.2}, {\"tests\": -44.8}, {\"tests\": -47.2}, {\"tests\": -46.1}, {\"tests\": -45.4}, {\"tests\": -46.5}, {\"tests\": -46.2}, {\"tests\": -45.8}, {\"tests\": -46.8}, {\"tests\": -46.6}, {\"tests\": -45.0}, {\"tests\": -46.3}, {\"tests\": -46.0}, {\"tests\": -45.4}, {\"tests\": -45.1}, {\"tests\": -46.9}, {\"tests\": -45.7}, {\"tests\": -45.4}, {\"tests\": -46.2}, {\"tests\": -44.6}, {\"tests\": -47.2}, {\"tests\": -47.8}, {\"tests\": -46.1}, {\"tests\": -46.2}, {\"tests\": -45.8}, {\"tests\": -47.3}, {\"tests\": -45.1}, {\"tests\": -46.3}, {\"tests\": -47.0}, {\"tests\": -46.5}, {\"tests\": -47.0}, {\"tests\": -46.6}, {\"tests\": -47.5}, {\"tests\": -45.0}, {\"tests\": -45.2}, {\"tests\": -46.4}, {\"tests\": -45.1}, {\"tests\": -45.9}, {\"tests\": -44.5}, {\"tests\": -46.5}, {\"tests\": -47.0}, {\"tests\": -46.8}, {\"tests\": -46.2}, {\"tests\": -45.7}, {\"tests\": -46.0}, {\"tests\": -46.0}, {\"tests\": -46.4}, {\"tests\": -46.1}, {\"tests\": -45.6}, {\"tests\": -46.5}, {\"tests\": -45.4}, {\"tests\": -45.7}, {\"tests\": -44.8}, {\"tests\": -45.4}, {\"tests\": -46.5}, {\"tests\": -46.0}, {\"tests\": -45.7}, {\"tests\": -46.9}, {\"tests\": -46.2}, {\"tests\": -45.9}, {\"tests\": -45.5}, {\"tests\": -45.0}, {\"tests\": -47.2}, {\"tests\": -46.3}, {\"tests\": -45.8}, {\"tests\": -45.8}]}}, {\"mode\": \"vega-lite\"});\n",
       "</script>"
      ],
      "text/plain": [
       "alt.LayerChart(...)"
      ]
     },
     "execution_count": 241,
     "metadata": {},
     "output_type": "execute_result"
    }
   ],
   "source": [
    "b_10k_1k = NPS_bootstrap(responses_10k, 1000)\n",
    "print(CI_95(b_10k_1k))\n",
    "NPS_density(b_10k_1k)"
   ]
  },
  {
   "cell_type": "markdown",
   "metadata": {},
   "source": [
    "# Generating sample NPS data"
   ]
  },
  {
   "cell_type": "code",
   "execution_count": 33,
   "metadata": {},
   "outputs": [],
   "source": [
    "def sample_NPS_data(size, promoter_prop, detractor_prop):\n",
    "    assert promoter_prop + detractor_prop <= 1\n",
    "    assert promoter_prop >= 0\n",
    "    assert detractor_prop >= 0\n",
    "    assert size > 0\n",
    "    promoters = np.random.choice([10,9], int(round(size*promoter_prop,0)), p=[0.5,0.5])\n",
    "    detractors = np.random.choice([6,5,4,3,2,1,0], int(round(size*detractor_prop,0)), p=[1/7,1/7,1/7,1/7,1/7,1/7,1/7])\n",
    "    passives = np.random.choice([8,7], int(round(size*(1-promoter_prop-detractor_prop),0)), p=[0.5,0.5])\n",
    "    responses = np.concatenate((promoters, detractors, passives))\n",
    "    return responses"
   ]
  },
  {
   "cell_type": "code",
   "execution_count": 35,
   "metadata": {},
   "outputs": [
    {
     "ename": "AssertionError",
     "evalue": "",
     "output_type": "error",
     "traceback": [
      "\u001b[1;31m---------------------------------------------------------------------------\u001b[0m",
      "\u001b[1;31mAssertionError\u001b[0m                            Traceback (most recent call last)",
      "Cell \u001b[1;32mIn[35], line 1\u001b[0m\n\u001b[1;32m----> 1\u001b[0m test \u001b[38;5;241m=\u001b[39m \u001b[43msample_NPS_data\u001b[49m\u001b[43m(\u001b[49m\u001b[38;5;241;43m-\u001b[39;49m\u001b[38;5;241;43m1\u001b[39;49m\u001b[43m,\u001b[49m\u001b[43m \u001b[49m\u001b[38;5;241;43m0.9\u001b[39;49m\u001b[43m,\u001b[49m\u001b[43m \u001b[49m\u001b[38;5;241;43m0.1\u001b[39;49m\u001b[43m)\u001b[49m\n\u001b[0;32m      2\u001b[0m \u001b[38;5;28mprint\u001b[39m(test)\n",
      "Cell \u001b[1;32mIn[33], line 5\u001b[0m, in \u001b[0;36msample_NPS_data\u001b[1;34m(size, promoter_prop, detractor_prop)\u001b[0m\n\u001b[0;32m      3\u001b[0m \u001b[38;5;28;01massert\u001b[39;00m promoter_prop \u001b[38;5;241m>\u001b[39m\u001b[38;5;241m=\u001b[39m \u001b[38;5;241m0\u001b[39m\n\u001b[0;32m      4\u001b[0m \u001b[38;5;28;01massert\u001b[39;00m detractor_prop \u001b[38;5;241m>\u001b[39m\u001b[38;5;241m=\u001b[39m \u001b[38;5;241m0\u001b[39m\n\u001b[1;32m----> 5\u001b[0m \u001b[38;5;28;01massert\u001b[39;00m size \u001b[38;5;241m>\u001b[39m \u001b[38;5;241m0\u001b[39m\n\u001b[0;32m      6\u001b[0m promoters \u001b[38;5;241m=\u001b[39m np\u001b[38;5;241m.\u001b[39mrandom\u001b[38;5;241m.\u001b[39mchoice([\u001b[38;5;241m10\u001b[39m,\u001b[38;5;241m9\u001b[39m], \u001b[38;5;28mint\u001b[39m(\u001b[38;5;28mround\u001b[39m(size\u001b[38;5;241m*\u001b[39mpromoter_prop,\u001b[38;5;241m0\u001b[39m)), p\u001b[38;5;241m=\u001b[39m[\u001b[38;5;241m0.5\u001b[39m,\u001b[38;5;241m0.5\u001b[39m])\n\u001b[0;32m      7\u001b[0m detractors \u001b[38;5;241m=\u001b[39m np\u001b[38;5;241m.\u001b[39mrandom\u001b[38;5;241m.\u001b[39mchoice([\u001b[38;5;241m6\u001b[39m,\u001b[38;5;241m5\u001b[39m,\u001b[38;5;241m4\u001b[39m,\u001b[38;5;241m3\u001b[39m,\u001b[38;5;241m2\u001b[39m,\u001b[38;5;241m1\u001b[39m,\u001b[38;5;241m0\u001b[39m], \u001b[38;5;28mint\u001b[39m(\u001b[38;5;28mround\u001b[39m(size\u001b[38;5;241m*\u001b[39mdetractor_prop,\u001b[38;5;241m0\u001b[39m)), p\u001b[38;5;241m=\u001b[39m[\u001b[38;5;241m1\u001b[39m\u001b[38;5;241m/\u001b[39m\u001b[38;5;241m7\u001b[39m,\u001b[38;5;241m1\u001b[39m\u001b[38;5;241m/\u001b[39m\u001b[38;5;241m7\u001b[39m,\u001b[38;5;241m1\u001b[39m\u001b[38;5;241m/\u001b[39m\u001b[38;5;241m7\u001b[39m,\u001b[38;5;241m1\u001b[39m\u001b[38;5;241m/\u001b[39m\u001b[38;5;241m7\u001b[39m,\u001b[38;5;241m1\u001b[39m\u001b[38;5;241m/\u001b[39m\u001b[38;5;241m7\u001b[39m,\u001b[38;5;241m1\u001b[39m\u001b[38;5;241m/\u001b[39m\u001b[38;5;241m7\u001b[39m,\u001b[38;5;241m1\u001b[39m\u001b[38;5;241m/\u001b[39m\u001b[38;5;241m7\u001b[39m])\n",
      "\u001b[1;31mAssertionError\u001b[0m: "
     ]
    }
   ],
   "source": [
    "test = sample_NPS_data(-1, 0.9, 0.1)\n",
    "print(test)"
   ]
  }
 ],
 "metadata": {
  "kernelspec": {
   "display_name": "Python 3",
   "language": "python",
   "name": "python3"
  },
  "language_info": {
   "codemirror_mode": {
    "name": "ipython",
    "version": 3
   },
   "file_extension": ".py",
   "mimetype": "text/x-python",
   "name": "python",
   "nbconvert_exporter": "python",
   "pygments_lexer": "ipython3",
   "version": "3.12.0"
  }
 },
 "nbformat": 4,
 "nbformat_minor": 2
}
